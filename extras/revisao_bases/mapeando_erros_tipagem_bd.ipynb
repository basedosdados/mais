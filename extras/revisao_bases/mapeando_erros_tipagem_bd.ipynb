{
  "nbformat": 4,
  "nbformat_minor": 0,
  "metadata": {
    "colab": {
      "name": "coisas bizarras da basedosdados-matheus.ipynb",
      "provenance": [],
      "collapsed_sections": [
        "s3m2w9lqETam"
      ]
    },
    "kernelspec": {
      "display_name": "Python 3",
      "name": "python3"
    },
    "language_info": {
      "name": "python"
    }
  },
  "cells": [
    {
      "cell_type": "markdown",
      "metadata": {
        "id": "Ed0qC5U9SFgI"
      },
      "source": [
        "Fase 1: Pacotes"
      ]
    },
    {
      "cell_type": "code",
      "metadata": {
        "id": "_nhzo7yggtD0",
        "colab": {
          "base_uri": "https://localhost:8080/"
        },
        "outputId": "220574e0-41fe-418c-fe96-ef39452711c9"
      },
      "source": [
        "!pip install ipython-autotime\n",
        "%load_ext autotime\n",
        "!pip install schema\n",
        "\n",
        "#--------------\n",
        "import os\n",
        "from google.colab import drive\n",
        "import schema\n",
        "import glob\n",
        "import pandas as pd\n",
        "\n",
        "#--------------\n",
        "drive.mount('/content/drive')"
      ],
      "execution_count": 59,
      "outputs": [
        {
          "output_type": "stream",
          "text": [
            "Requirement already satisfied: ipython-autotime in /usr/local/lib/python3.7/dist-packages (0.3.1)\n",
            "Requirement already satisfied: ipython in /usr/local/lib/python3.7/dist-packages (from ipython-autotime) (5.5.0)\n",
            "Requirement already satisfied: pygments in /usr/local/lib/python3.7/dist-packages (from ipython->ipython-autotime) (2.6.1)\n",
            "Requirement already satisfied: prompt-toolkit<2.0.0,>=1.0.4 in /usr/local/lib/python3.7/dist-packages (from ipython->ipython-autotime) (1.0.18)\n",
            "Requirement already satisfied: pickleshare in /usr/local/lib/python3.7/dist-packages (from ipython->ipython-autotime) (0.7.5)\n",
            "Requirement already satisfied: decorator in /usr/local/lib/python3.7/dist-packages (from ipython->ipython-autotime) (4.4.2)\n",
            "Requirement already satisfied: traitlets>=4.2 in /usr/local/lib/python3.7/dist-packages (from ipython->ipython-autotime) (5.0.5)\n",
            "Requirement already satisfied: pexpect; sys_platform != \"win32\" in /usr/local/lib/python3.7/dist-packages (from ipython->ipython-autotime) (4.8.0)\n",
            "Requirement already satisfied: setuptools>=18.5 in /usr/local/lib/python3.7/dist-packages (from ipython->ipython-autotime) (57.0.0)\n",
            "Requirement already satisfied: simplegeneric>0.8 in /usr/local/lib/python3.7/dist-packages (from ipython->ipython-autotime) (0.8.1)\n",
            "Requirement already satisfied: wcwidth in /usr/local/lib/python3.7/dist-packages (from prompt-toolkit<2.0.0,>=1.0.4->ipython->ipython-autotime) (0.2.5)\n",
            "Requirement already satisfied: six>=1.9.0 in /usr/local/lib/python3.7/dist-packages (from prompt-toolkit<2.0.0,>=1.0.4->ipython->ipython-autotime) (1.15.0)\n",
            "Requirement already satisfied: ipython-genutils in /usr/local/lib/python3.7/dist-packages (from traitlets>=4.2->ipython->ipython-autotime) (0.2.0)\n",
            "Requirement already satisfied: ptyprocess>=0.5 in /usr/local/lib/python3.7/dist-packages (from pexpect; sys_platform != \"win32\"->ipython->ipython-autotime) (0.7.0)\n",
            "The autotime extension is already loaded. To reload it, use:\n",
            "  %reload_ext autotime\n",
            "Requirement already satisfied: schema in /usr/local/lib/python3.7/dist-packages (0.7.4)\n",
            "Requirement already satisfied: contextlib2>=0.5.5 in /usr/local/lib/python3.7/dist-packages (from schema) (0.5.5)\n",
            "Drive already mounted at /content/drive; to attempt to forcibly remount, call drive.mount(\"/content/drive\", force_remount=True).\n",
            "time: 5.47 s (started: 2021-07-05 22:40:10 +00:00)\n"
          ],
          "name": "stdout"
        }
      ]
    },
    {
      "cell_type": "markdown",
      "metadata": {
        "id": "yj2DBjWDwhZK"
      },
      "source": [
        "Fase 2: Clonando a pasta mais e os documentos atualizados dentro dela"
      ]
    },
    {
      "cell_type": "code",
      "metadata": {
        "id": "6v4ZndYp_tey",
        "colab": {
          "base_uri": "https://localhost:8080/"
        },
        "outputId": "a207b7de-aaa4-4c98-b267-f65855297603"
      },
      "source": [
        "!mkdir /home/bdd\n",
        "!git clone https://{github_token}@github.com/basedosdados/mais.git /home/bdd\n",
        "%cd /home/bdd\n",
        "\n",
        "#---------------\n",
        "#podem ser uteis depois\n",
        "\n",
        "#branch_name = \"br_ms_vacinacao_covid19_{}\".format(underscore(today))\n",
        "#!git checkout -b {branch_name}\n",
        "#!gsutil -m cp input/*.csv gs://basedosdados-dev/raw/br_ms_vacinacao_covid19/\n",
        "#drive.mount('/content/gdrive')\n",
        "#!cp -r \"/content/gdrive/MyDrive/Base dos Dados/Infraestrutura/Credenciais/basedosdados-colab\" \"/root/.basedosdados\"\n",
        "#!mkdir -p \"/content/data\""
      ],
      "execution_count": 60,
      "outputs": [
        {
          "output_type": "stream",
          "text": [
            "mkdir: cannot create directory ‘/home/bdd’: File exists\n",
            "fatal: destination path '/home/bdd' already exists and is not an empty directory.\n",
            "/home/bdd\n",
            "time: 244 ms (started: 2021-07-05 22:40:15 +00:00)\n"
          ],
          "name": "stdout"
        }
      ]
    },
    {
      "cell_type": "markdown",
      "metadata": {
        "id": "4dgLixOAUAjK"
      },
      "source": [
        "Fase 3: Checando tudo dentro de mais"
      ]
    },
    {
      "cell_type": "code",
      "metadata": {
        "colab": {
          "base_uri": "https://localhost:8080/"
        },
        "id": "fhs_P_vfUFmb",
        "outputId": "af69508b-9a7c-4253-b9ca-f0f579e5caaf"
      },
      "source": [
        "%cd /home/bdd/\n",
        "#bases = os.listdir()\n",
        "\n",
        "lista = glob.glob('bases/*/*')\n",
        "lista_read = glob.glob('bases/*/*.yaml')\n",
        "lista_yaml = glob.glob(('bases/*/*.md'))\n",
        "lista_code = glob.glob('bases/*/code')\n",
        "lista_dic = glob.glob('bases/*/dictionaries')\n",
        "lista_dic2 = glob.glob('bases/*/dicionario')\n",
        "\n",
        "lista_top = []"
      ],
      "execution_count": 61,
      "outputs": [
        {
          "output_type": "stream",
          "text": [
            "/home/bdd\n",
            "time: 17.7 ms (started: 2021-07-05 22:40:15 +00:00)\n"
          ],
          "name": "stdout"
        }
      ]
    },
    {
      "cell_type": "code",
      "metadata": {
        "colab": {
          "base_uri": "https://localhost:8080/"
        },
        "id": "SqHObmtFq5y_",
        "outputId": "00b0c8f6-67c7-4a6d-dc06-eab4e66ee58d"
      },
      "source": [
        "for i in lista:\n",
        "  if (i not in lista_read) and (i not in lista_yaml) and (i not in lista_code) and (i not in lista_dic) and (i not in lista_dic2):\n",
        "    lista_top.append(i+'/publish.sql')\n"
      ],
      "execution_count": 62,
      "outputs": [
        {
          "output_type": "stream",
          "text": [
            "time: 3.9 ms (started: 2021-07-05 22:40:15 +00:00)\n"
          ],
          "name": "stdout"
        }
      ]
    },
    {
      "cell_type": "markdown",
      "metadata": {
        "id": "-7zjwaYxEe3x"
      },
      "source": [
        "Criando, para cada tabela nessa lista, um confere na forma de valor para caso tenha id_municipio e para caso tenha id municipio tipado da maneira errada"
      ]
    },
    {
      "cell_type": "code",
      "metadata": {
        "id": "t4hmW9S4sXUQ",
        "colab": {
          "base_uri": "https://localhost:8080/"
        },
        "outputId": "52d01ce4-2a0c-434a-e642-fe2063e9fb48"
      },
      "source": [
        "lista_existe_munic = []\n",
        "lista_munic_ta_certo = [] \n",
        "\n",
        "for i in lista_top:\n",
        "  data = open(i, mode = 'r')\n",
        "  data_pronta = data.read()\n",
        "  id_munic_value = data_pronta.find('id_municipio')\n",
        "  posicao_value = data_pronta.find('id_municipio AS INT64')\n",
        "\n",
        "  lista_existe_munic.append(id_munic_value)\n",
        "  lista_munic_ta_certo.append(posicao_value)"
      ],
      "execution_count": 70,
      "outputs": [
        {
          "output_type": "stream",
          "text": [
            "time: 15.2 ms (started: 2021-07-05 22:40:42 +00:00)\n"
          ],
          "name": "stdout"
        }
      ]
    },
    {
      "cell_type": "code",
      "metadata": {
        "colab": {
          "base_uri": "https://localhost:8080/"
        },
        "id": "q3GGeDbcRbMf",
        "outputId": "acc13daf-e2e3-4dcc-aa8b-085b7edf8b0d"
      },
      "source": [
        "a_tabela = pd.DataFrame({'nome_base' : lista_top,\n",
        "             'tem_id_municipio' : lista_existe_munic,\n",
        "              'id_municipio_ta_errado' : lista_munic_ta_certo})\n",
        "\n",
        "#\n",
        "\n",
        "#adaptando para ficar mais legível\n",
        "a_tabela.loc[a_tabela['tem_id_municipio'] != -1, 'tem_id_municipio'] = 'tem'\n",
        "a_tabela.loc[a_tabela['tem_id_municipio'] == -1, 'tem_id_municipio'] = 'não tem'\n",
        "\n",
        "a_tabela.loc[a_tabela['id_municipio_ta_errado'] != -1, 'id_municipio_ta_errado'] = 'está errado'\n",
        "a_tabela.loc[a_tabela['id_municipio_ta_errado'] == -1, 'id_municipio_ta_errado'] = 'está certo'\n",
        "\n",
        "#a_tabela\n",
        "a_tabela.to_csv(path_or_buf = '/content/drive/MyDrive/Dados/Revisão Bases/Erros id_municipio.csv', sep = ',')"
      ],
      "execution_count": 99,
      "outputs": [
        {
          "output_type": "stream",
          "text": [
            "time: 26.7 ms (started: 2021-07-06 00:11:55 +00:00)\n"
          ],
          "name": "stdout"
        }
      ]
    },
    {
      "cell_type": "markdown",
      "metadata": {
        "id": "TwMhrRk_LTt8"
      },
      "source": [
        "O mesmo para id_escola"
      ]
    },
    {
      "cell_type": "code",
      "metadata": {
        "id": "9nD6EAAiHH92",
        "colab": {
          "base_uri": "https://localhost:8080/"
        },
        "outputId": "f712566e-a680-497c-ba44-2f0b4a0a5b60"
      },
      "source": [
        "lista_existe_escola = []\n",
        "lista_escola_ta_certo = [] \n",
        "\n",
        "for i in lista_top:\n",
        "  data = open(i, mode = 'r')\n",
        "  data_pronta = data.read()\n",
        "  id_munic_value = data_pronta.find('id_escola')\n",
        "  posicao_value = data_pronta.find('id_escola AS INT64')\n",
        "\n",
        "  lista_existe_escola.append(id_munic_value)\n",
        "  lista_escola_ta_certo.append(posicao_value)"
      ],
      "execution_count": 77,
      "outputs": [
        {
          "output_type": "stream",
          "text": [
            "time: 27.4 ms (started: 2021-07-05 23:29:05 +00:00)\n"
          ],
          "name": "stdout"
        }
      ]
    },
    {
      "cell_type": "code",
      "metadata": {
        "colab": {
          "base_uri": "https://localhost:8080/"
        },
        "id": "Qp_1LmAr1xBK",
        "outputId": "de3cabe6-0751-47ba-b617-b7ec3b36151e"
      },
      "source": [
        "a_tabela_escola = pd.DataFrame({'nome_base' : lista_top,\n",
        "             'tem_id_escola' : lista_existe_escola,\n",
        "              'id_escola_ta_errado' : lista_escola_ta_certo})\n",
        "\n",
        "#\n",
        "\n",
        "#adaptando para ficar mais legível\n",
        "a_tabela_escola.loc[a_tabela_escola['tem_id_escola'] != -1, 'tem_id_escola'] = 'tem'\n",
        "a_tabela_escola.loc[a_tabela_escola['tem_id_escola'] == -1, 'tem_id_escola'] = 'não tem'\n",
        "\n",
        "a_tabela_escola.loc[a_tabela_escola['id_escola_ta_errado'] != -1, 'id_escola_ta_errado'] = 'está errado'\n",
        "a_tabela_escola.loc[a_tabela_escola['id_escola_ta_errado'] == -1, 'id_escola_ta_errado'] = 'está certo'\n",
        "\n",
        "#a_tabela\n",
        "a_tabela_escola.to_csv(path_or_buf = '/content/drive/MyDrive/Dados/Revisão Bases/Erros id_escola.csv', sep = ',')"
      ],
      "execution_count": 100,
      "outputs": [
        {
          "output_type": "stream",
          "text": [
            "time: 22.9 ms (started: 2021-07-06 00:12:16 +00:00)\n"
          ],
          "name": "stdout"
        }
      ]
    },
    {
      "cell_type": "markdown",
      "metadata": {
        "id": "FU_gSs8l7h9t"
      },
      "source": [
        "O mesmo para quando a tabela tiver \"estado_abrev\""
      ]
    },
    {
      "cell_type": "code",
      "metadata": {
        "colab": {
          "base_uri": "https://localhost:8080/"
        },
        "id": "Jf8y7Axi7waL",
        "outputId": "6c157ac1-e4d1-4051-aa29-ff114b5232fe"
      },
      "source": [
        "lista_existe_estado_abrev = [] \n",
        "\n",
        "for i in lista_top:\n",
        "  data = open(i, mode = 'r')\n",
        "  data_pronta = data.read()\n",
        "  id_munic_value = data_pronta.find('estado_abrev')\n",
        "\n",
        "  lista_existe_estado_abrev.append(id_munic_value)"
      ],
      "execution_count": 79,
      "outputs": [
        {
          "output_type": "stream",
          "text": [
            "time: 18.2 ms (started: 2021-07-05 23:29:16 +00:00)\n"
          ],
          "name": "stdout"
        }
      ]
    },
    {
      "cell_type": "code",
      "metadata": {
        "colab": {
          "base_uri": "https://localhost:8080/"
        },
        "id": "AgDpHQ0C9g2c",
        "outputId": "e8f544f6-8aa2-4758-8d57-7578ac86c505"
      },
      "source": [
        "a_tabela_abrev = pd.DataFrame({'nome_base' : lista_top,\n",
        "             'tem_estado_abrev' : lista_existe_estado_abrev})\n",
        "\n",
        "#adaptando para ficar mais legível\n",
        "a_tabela_abrev.loc[a_tabela_abrev['tem_estado_abrev'] != -1, 'tem_estado_abrev'] = 'tem'\n",
        "a_tabela_abrev.loc[a_tabela_abrev['tem_estado_abrev'] == -1, 'tem_estado_abrev'] = 'não tem'\n",
        "\n",
        "#a_tabela\n",
        "a_tabela_abrev.to_csv(path_or_buf = '/content/drive/MyDrive/Dados/Revisão Bases/Erros estado_abrev.csv', sep = ',')"
      ],
      "execution_count": 101,
      "outputs": [
        {
          "output_type": "stream",
          "text": [
            "time: 18.8 ms (started: 2021-07-06 00:12:45 +00:00)\n"
          ],
          "name": "stdout"
        }
      ]
    },
    {
      "cell_type": "markdown",
      "metadata": {
        "id": "OMg7syld9hxA"
      },
      "source": [
        "Juntando tudo para também termos esse recurso"
      ]
    },
    {
      "cell_type": "code",
      "metadata": {
        "colab": {
          "base_uri": "https://localhost:8080/"
        },
        "id": "Lg_8m8eh8JZS",
        "outputId": "35e4de76-2cb9-47ae-edb7-151c7275ccb1"
      },
      "source": [
        "#a_tabela = pd.DataFrame({'nome_base' : lista_top,\n",
        "#             'tem_id_escola' : lista_existe_escola,\n",
        "#              'id_escola_ta_errado' : lista_escola_ta_certo,\n",
        "#              'tem_id_municipio': lista_existe_munic,\n",
        "#              'id_municipio_ta_certo': lista_munic_ta_certo,\n",
        "#              'tem_estado_abrev'})\n",
        "\n",
        "tabela_unica = a_tabela.merge(a_tabela_escola, on = 'nome_base').merge(a_tabela_abrev, on= 'nome_base')"
      ],
      "execution_count": 92,
      "outputs": [
        {
          "output_type": "stream",
          "text": [
            "time: 13.9 ms (started: 2021-07-05 23:41:40 +00:00)\n"
          ],
          "name": "stdout"
        }
      ]
    },
    {
      "cell_type": "code",
      "metadata": {
        "colab": {
          "base_uri": "https://localhost:8080/"
        },
        "id": "uouvmDP68El7",
        "outputId": "2bee9aa9-5b6f-4c89-a2de-bda57849e701"
      },
      "source": [
        "tabela_unica.to_csv('/content/drive/MyDrive/Dados/Revisão Bases/Todos os erros.csv', sep = ',')"
      ],
      "execution_count": 102,
      "outputs": [
        {
          "output_type": "stream",
          "text": [
            "time: 13.8 ms (started: 2021-07-06 00:14:04 +00:00)\n"
          ],
          "name": "stdout"
        }
      ]
    },
    {
      "cell_type": "markdown",
      "metadata": {
        "id": "s3m2w9lqETam"
      },
      "source": [
        "# Por enquanto, é isso, daqui para baixo temos empreitadas futuras"
      ]
    },
    {
      "cell_type": "markdown",
      "metadata": {
        "id": "TlCclaIC1wvi"
      },
      "source": [
        ""
      ]
    },
    {
      "cell_type": "markdown",
      "metadata": {
        "id": "Zvwc0Nz5RkAY"
      },
      "source": [
        "Fase ?: Futuro disso aqui"
      ]
    },
    {
      "cell_type": "code",
      "metadata": {
        "id": "aAf547wqPS5f"
      },
      "source": [
        "#-----------------------#\n",
        "# create and\n",
        "# publish tables\n",
        "#-----------------------#\n",
        "\n",
        "!pip install ruamel.yaml\n",
        "\n",
        "def update_table_config(table_id):\n",
        "\n",
        "  import sys\n",
        "  import ruamel.yaml\n",
        "\n",
        "  yaml = ruamel.yaml.YAML()\n",
        "  yaml.preserve_quotes = True\n",
        "  yaml.indent(mapping=4, sequence=6, offset=4)\n",
        "  \n",
        "  config_file = '/content/mais/bases/br_ms_vacinacao_covid19/{}/table_config.yaml'.format(table_id)\n",
        "\n",
        "  with open(config_file) as fp:\n",
        "    data = yaml.load(fp)\n",
        "  \n",
        "  data['last_updated'] = date.today()\n",
        "\n",
        "  with open(config_file, 'w') as fp:\n",
        "    yaml.dump(data, fp)\n",
        "\n",
        "table_ids = ['microdados_vacinacao',\n",
        "             'microdados_paciente',\n",
        "             'microdados_estabelecimento']\n",
        "\n",
        "for table_id in table_ids:\n",
        "\n",
        "  tb = bd.Table(dataset_id='br_ms_vacinacao_covid19',\n",
        "                table_id=table_id)\n",
        "  tb.create(path='/content/data/br_ms_vacinacao_covid19/output/{}'.format(table_id),\n",
        "            if_storage_data_exists='replace',\n",
        "            if_table_config_exists='pass',\n",
        "            if_table_exists='replace')\n",
        "\n",
        "  update_table_config(table_id)\n",
        "  tb.publish(if_exists='replace')"
      ],
      "execution_count": null,
      "outputs": []
    },
    {
      "cell_type": "code",
      "metadata": {
        "id": "PfMzh3u0_1qH"
      },
      "source": [
        "#-----------------------#\n",
        "# commit and push\n",
        "#-----------------------#\n",
        "\n",
        "!git config --global user.email github_email\n",
        "!git config --global user.name terminal_name\n",
        "\n",
        "!git add .\n",
        "\n",
        "commit_message = \"[dados-bot] br_ms_vacinacao_covid19 ({})\".format(today)\n",
        "!git commit -m \"{commit_message}\"\n",
        "\n",
        "#!git push origin {branch_name}\n",
        "!git push origin master\n",
        "\n",
        "# arquitetura Drive\n",
        "# https://docs.google.com/spreadsheets/d/1OAIdk_jjNjUy60HnKAEgB3vUq4IHG1ecWxWnnkIG47s/edit#gid=0\n",
        "# 1OAIdk_jjNjUy60HnKAEgB3vUq4IHG1ecWxWnnkIG47s"
      ],
      "execution_count": null,
      "outputs": []
    }
  ]
}