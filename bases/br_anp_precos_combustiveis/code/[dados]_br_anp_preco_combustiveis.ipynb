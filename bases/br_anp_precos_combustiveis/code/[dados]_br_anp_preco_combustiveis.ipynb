{
  "nbformat": 4,
  "nbformat_minor": 0,
  "metadata": {
    "colab": {
      "name": "[dados] br_anp_preco_combustiveis.ipynb",
      "provenance": [],
      "collapsed_sections": [
        "j-La4frqj2aR",
        "XwXrnHcDxxLI",
        "9lcvB9TvyzZP",
        "R82BCyfi04iF",
        "UHjfWH7D1XeE",
        "44aQKstk1udF",
        "X2wUZK2Y2QyX",
        "t02SDLNf20xx",
        "-xxJt9id-2Bn",
        "4unc9k5v_TXO",
        "sthOcyJh_rm-",
        "4AcB70TNAZb9",
        "PZ2-jeeyA1Od",
        "8AtipkM3BxrU",
        "JwGIMLLMCUjE",
        "14xOUOloCv3-",
        "kZeWJTOADL5c"
      ]
    },
    "kernelspec": {
      "name": "python3",
      "display_name": "Python 3"
    },
    "language_info": {
      "name": "python"
    }
  },
  "cells": [
    {
      "cell_type": "code",
      "metadata": {
        "colab": {
          "base_uri": "https://localhost:8080/"
        },
        "id": "sfJ8m281HA9n",
        "outputId": "a499658d-3c58-4826-c61e-bbdfb8076884"
      },
      "source": [
        "!pip install unidecode"
      ],
      "execution_count": 1,
      "outputs": [
        {
          "output_type": "stream",
          "name": "stdout",
          "text": [
            "Collecting unidecode\n",
            "  Downloading Unidecode-1.2.0-py2.py3-none-any.whl (241 kB)\n",
            "\u001b[?25l\r\u001b[K     |█▍                              | 10 kB 2.5 MB/s eta 0:00:01\r\u001b[K     |██▊                             | 20 kB 4.6 MB/s eta 0:00:01\r\u001b[K     |████                            | 30 kB 6.5 MB/s eta 0:00:01\r\u001b[K     |█████▍                          | 40 kB 8.3 MB/s eta 0:00:01\r\u001b[K     |██████▉                         | 51 kB 5.7 MB/s eta 0:00:01\r\u001b[K     |████████▏                       | 61 kB 6.1 MB/s eta 0:00:01\r\u001b[K     |█████████▌                      | 71 kB 3.9 MB/s eta 0:00:01\r\u001b[K     |██████████▉                     | 81 kB 4.4 MB/s eta 0:00:01\r\u001b[K     |████████████▏                   | 92 kB 4.9 MB/s eta 0:00:01\r\u001b[K     |█████████████▋                  | 102 kB 5.2 MB/s eta 0:00:01\r\u001b[K     |███████████████                 | 112 kB 5.2 MB/s eta 0:00:01\r\u001b[K     |████████████████▎               | 122 kB 5.2 MB/s eta 0:00:01\r\u001b[K     |█████████████████▋              | 133 kB 5.2 MB/s eta 0:00:01\r\u001b[K     |███████████████████             | 143 kB 5.2 MB/s eta 0:00:01\r\u001b[K     |████████████████████▍           | 153 kB 5.2 MB/s eta 0:00:01\r\u001b[K     |█████████████████████▊          | 163 kB 5.2 MB/s eta 0:00:01\r\u001b[K     |███████████████████████         | 174 kB 5.2 MB/s eta 0:00:01\r\u001b[K     |████████████████████████▍       | 184 kB 5.2 MB/s eta 0:00:01\r\u001b[K     |█████████████████████████▊      | 194 kB 5.2 MB/s eta 0:00:01\r\u001b[K     |███████████████████████████▏    | 204 kB 5.2 MB/s eta 0:00:01\r\u001b[K     |████████████████████████████▌   | 215 kB 5.2 MB/s eta 0:00:01\r\u001b[K     |█████████████████████████████▉  | 225 kB 5.2 MB/s eta 0:00:01\r\u001b[K     |███████████████████████████████▏| 235 kB 5.2 MB/s eta 0:00:01\r\u001b[K     |████████████████████████████████| 241 kB 5.2 MB/s \n",
            "\u001b[?25hInstalling collected packages: unidecode\n",
            "Successfully installed unidecode-1.2.0\n"
          ]
        }
      ]
    },
    {
      "cell_type": "code",
      "metadata": {
        "colab": {
          "base_uri": "https://localhost:8080/"
        },
        "id": "lOic32Bmf-1D",
        "outputId": "f89c3a07-178e-4647-a9bd-a45e6b3b904e"
      },
      "source": [
        "from google.colab import drive\n",
        "drive.mount('/content/drive')"
      ],
      "execution_count": 2,
      "outputs": [
        {
          "output_type": "stream",
          "name": "stdout",
          "text": [
            "Mounted at /content/drive\n"
          ]
        }
      ]
    },
    {
      "cell_type": "code",
      "metadata": {
        "id": "6mI3ljkSgBOq"
      },
      "source": [
        "from unidecode import unidecode\n",
        "import pandas as pd\n",
        "import numpy as np\n",
        "import glob"
      ],
      "execution_count": 3,
      "outputs": []
    },
    {
      "cell_type": "code",
      "metadata": {
        "id": "RMTq9t4t51sm"
      },
      "source": [
        "id_mun = pd.read_csv('/content/drive/MyDrive/br_anp_precos/id_municipio.csv', dtype='string')\n",
        "id_mun['nome'] = id_mun['nome'].str.upper()\n",
        "id_mun['nome'] = id_mun['nome'].apply(unidecode)\n",
        "id_mun['nome'] = id_mun['nome'].replace(\"ESPIGAO D'OESTE\", \"ESPIGAO DO OESTE\")\n",
        "id_mun['nome'] = id_mun['nome'].replace(\"SANT'ANA DO LIVRAMENTO\", \"SANTANA DO LIVRAMENTO\")"
      ],
      "execution_count": 4,
      "outputs": []
    },
    {
      "cell_type": "code",
      "metadata": {
        "id": "rZUaZ3L2NPf5"
      },
      "source": [
        "rename = {'Revenda': 'nome_estabelecimento', 'CNPJ da Revenda':'cnpj_revenda', 'Bairro':'bairro_revenda', 'Cep':'cep_revenda', 'Produto':'produto',\n",
        "          'Valor de Venda':'preco_venda', 'Valor de Compra':'preco_compra', 'Unidade de Medida':'unidade_medida', 'Bandeira':'bandeira_revenda'}"
      ],
      "execution_count": 5,
      "outputs": []
    },
    {
      "cell_type": "code",
      "metadata": {
        "id": "tx543H7mOfLg"
      },
      "source": [
        "ordem = ['sigla_uf', 'id_municipio', 'bairro_revenda', 'cep_revenda', 'endereco_revenda', 'cnpj_revenda', 'nome_estabelecimento', 'bandeira_revenda', \n",
        "         'data_coleta', 'produto', 'unidade_medida', 'preco_compra', 'preco_venda']"
      ],
      "execution_count": 6,
      "outputs": []
    },
    {
      "cell_type": "code",
      "metadata": {
        "id": "HcevxN5koUVf"
      },
      "source": [
        "drop = ['nome', 'Regiao - Sigla', 'Estado - Sigla', 'Municipio', 'Nome da Rua', 'Numero Rua', 'Complemento', 'Data da Coleta']"
      ],
      "execution_count": 7,
      "outputs": []
    },
    {
      "cell_type": "markdown",
      "metadata": {
        "id": "j-La4frqj2aR"
      },
      "source": [
        "#### **2004**"
      ]
    },
    {
      "cell_type": "code",
      "metadata": {
        "id": "O4Vb5TSUEgqt"
      },
      "source": [
        "ca1_2004 = pd.read_csv('/content/drive/MyDrive/br_anp_precos/input/combustiveis_automotivos/ca-2004-01.csv', sep=';', encoding='utf-8')\n",
        "ca2_2004 = pd.read_csv('/content/drive/MyDrive/br_anp_precos/input/combustiveis_automotivos/ca-2004-02.csv', sep=';', encoding='utf-8')\n",
        "glp1_2004 = pd.read_csv('/content/drive/MyDrive/br_anp_precos/input/glp/glp-2004-01.csv', sep=';', encoding='utf-8')\n",
        "glp2_2004 = pd.read_csv('/content/drive/MyDrive/br_anp_precos/input/glp/glp-2004-02.csv', sep=';', encoding='utf-8')\n",
        "ca_2004 = ca1_2004.append([ca2_2004,  glp1_2004, glp2_2004], ignore_index=True)"
      ],
      "execution_count": 8,
      "outputs": []
    },
    {
      "cell_type": "code",
      "metadata": {
        "id": "-6kW68XBBeFY"
      },
      "source": [
        "ca_2004 = pd.merge(id_mun, ca_2004,\n",
        "                   how='right', left_on=['sigla_uf', 'nome'], right_on=['Estado - Sigla', 'Municipio'])"
      ],
      "execution_count": 9,
      "outputs": []
    },
    {
      "cell_type": "code",
      "metadata": {
        "id": "fTuUyVKwA6r0"
      },
      "source": [
        "ca_2004['endereco_revenda'] = ca_2004['Nome da Rua'].fillna('') + ',' + ca_2004['Numero Rua'].fillna('') + ' ' + ca_2004['Complemento'].fillna('')"
      ],
      "execution_count": 10,
      "outputs": []
    },
    {
      "cell_type": "code",
      "metadata": {
        "id": "DQPhJ415KW8Q"
      },
      "source": [
        "data = ca_2004['Data da Coleta'].str.split('/', expand=True)\n",
        "data.columns = ['dia', 'mes', 'ano']\n",
        "data['data_coleta'] = data['ano'] + '-' + data['mes'] + '-' + data['dia']\n",
        "ca_2004 = pd.concat([ca_2004, data['data_coleta']], axis=1)"
      ],
      "execution_count": 11,
      "outputs": []
    },
    {
      "cell_type": "code",
      "metadata": {
        "id": "nVUAPp6e_yzT"
      },
      "source": [
        "ca_2004.drop(drop, axis=1, inplace=True)\n",
        "ca_2004.rename(columns=rename, inplace=True)\n",
        "ca_2004['produto'] = ca_2004['produto'].str.lower()\n",
        "ca_2004['preco_compra'] = ca_2004['preco_compra'].fillna('')\n",
        "ca_2004['preco_venda'] = ca_2004['preco_venda'].fillna('')\n",
        "ca_2004.sort_values('data_coleta', inplace=True)\n",
        "ca_2004 = ca_2004[ordem]"
      ],
      "execution_count": 12,
      "outputs": []
    },
    {
      "cell_type": "code",
      "metadata": {
        "id": "YebQt7ByQn4g"
      },
      "source": [
        "ca_2004['unidade_medida'] = ca_2004['unidade_medida'].map({'R$ / litro': 'R$/litro', 'R$ / m³':'R$/m3', 'R$ / 13 kg':'R$/13kg'})\n",
        "ca_2004['nome_estabelecimento'] = ca_2004['nome_estabelecimento'].apply(lambda x: str(x).replace(',',''))\n",
        "ca_2004['preco_compra'] = ca_2004['preco_compra'].apply(lambda x: str(x).replace(',','.'))\n",
        "ca_2004['preco_venda'] = ca_2004['preco_venda'].apply(lambda x: str(x).replace(',','.'))"
      ],
      "execution_count": 13,
      "outputs": []
    },
    {
      "cell_type": "code",
      "metadata": {
        "id": "ssdmJGcVtiv5"
      },
      "source": [
        "ca_2004.drop_duplicates(subset=['cnpj_revenda', 'data_coleta', 'produto', 'preco_venda'], keep ='first', inplace = True)\n",
        "ca_2004.to_csv('/content/drive/MyDrive/br_anp_precos/output/combustiveis_2004.csv', index=False, encoding=\"utf-8\", na_rep=\"\")\n",
        "del ca_2004, ca1_2004, ca2_2004, glp1_2004, glp2_2004"
      ],
      "execution_count": 14,
      "outputs": []
    },
    {
      "cell_type": "markdown",
      "metadata": {
        "id": "XwXrnHcDxxLI"
      },
      "source": [
        "#### **2005**"
      ]
    },
    {
      "cell_type": "code",
      "metadata": {
        "id": "JbhfWJiAxzww"
      },
      "source": [
        "ca1_2005 = pd.read_csv('/content/drive/MyDrive/br_anp_precos/input/combustiveis_automotivos/ca-2005-01.csv', sep=';', encoding='utf-8')\n",
        "ca2_2005 = pd.read_csv('/content/drive/MyDrive/br_anp_precos/input/combustiveis_automotivos/ca-2005-02.csv', sep=';', encoding='utf-8')\n",
        "glp1_2005 = pd.read_csv('/content/drive/MyDrive/br_anp_precos/input/glp/glp-2005-01.csv', sep=';', encoding='utf-8')\n",
        "glp2_2005 = pd.read_csv('/content/drive/MyDrive/br_anp_precos/input/glp/glp-2005-02.csv', sep=';', encoding='utf-8')\n",
        "ca_2005 = ca1_2005.append([ca2_2005,  glp1_2005, glp2_2005], ignore_index=True)"
      ],
      "execution_count": 21,
      "outputs": []
    },
    {
      "cell_type": "code",
      "metadata": {
        "id": "HZuDBi6LyOKo"
      },
      "source": [
        "ca_2005 = pd.merge(id_mun, ca_2005,\n",
        "                   how='right', left_on=['sigla_uf', 'nome'], right_on=['Estado - Sigla', 'Municipio'])"
      ],
      "execution_count": 22,
      "outputs": []
    },
    {
      "cell_type": "code",
      "metadata": {
        "id": "Jk8r_ZdCyZBq"
      },
      "source": [
        "ca_2005['endereco_revenda'] = ca_2005['Nome da Rua'].fillna('') + ',' + ca_2005['Numero Rua'].fillna('') + ' ' + ca_2005['Complemento'].fillna('')"
      ],
      "execution_count": 23,
      "outputs": []
    },
    {
      "cell_type": "code",
      "metadata": {
        "id": "a0wbYmuZRBCe"
      },
      "source": [
        "data = ca_2005['Data da Coleta'].str.split('/', expand=True)\n",
        "data.columns = ['dia', 'mes', 'ano']\n",
        "data['data_coleta'] = data['ano'] + '-' + data['mes'] + '-' + data['dia']\n",
        "ca_2005 = pd.concat([ca_2005, data['data_coleta']], axis=1)"
      ],
      "execution_count": 24,
      "outputs": []
    },
    {
      "cell_type": "code",
      "metadata": {
        "id": "9DtfZUH5yZBr"
      },
      "source": [
        "ca_2005.drop(drop, axis=1, inplace=True)\n",
        "ca_2005.rename(columns=rename, inplace=True)\n",
        "ca_2005['produto'] = ca_2005['produto'].str.lower()\n",
        "ca_2005['preco_compra'] = ca_2005['preco_compra'].fillna('')\n",
        "ca_2005['preco_venda'] = ca_2005['preco_venda'].fillna('')\n",
        "ca_2005.sort_values('data_coleta', inplace=True)\n",
        "ca_2005 = ca_2005[ordem]"
      ],
      "execution_count": 25,
      "outputs": []
    },
    {
      "cell_type": "code",
      "metadata": {
        "id": "iOf93RoKyZBr"
      },
      "source": [
        "ca_2005['unidade_medida'] = ca_2005['unidade_medida'].map({'R$ / litro': 'R$/litro', 'R$ / m³':'R$/m3', 'R$ / 13 kg':'R$/13kg'})\n",
        "ca_2005['nome_estabelecimento'] = ca_2005['nome_estabelecimento'].apply(lambda x: str(x).replace(',',''))\n",
        "ca_2005['preco_compra'] = ca_2005['preco_compra'].apply(lambda x: str(x).replace(',','.'))\n",
        "ca_2005['preco_venda'] = ca_2005['preco_venda'].apply(lambda x: str(x).replace(',','.'))"
      ],
      "execution_count": 26,
      "outputs": []
    },
    {
      "cell_type": "code",
      "metadata": {
        "id": "c5cRP31UyZBr"
      },
      "source": [
        "ca_2005.drop_duplicates(subset=['cnpj_revenda', 'data_coleta', 'produto', 'preco_venda'], keep ='first', inplace = True)\n",
        "ca_2005.to_csv('/content/drive/MyDrive/br_anp_precos/output/combustiveis_2005.csv', index=False, encoding=\"utf-8\", na_rep=\"\")\n",
        "del ca_2005, ca1_2005, ca2_2005, glp1_2005, glp2_2005, data"
      ],
      "execution_count": 27,
      "outputs": []
    },
    {
      "cell_type": "markdown",
      "metadata": {
        "id": "9lcvB9TvyzZP"
      },
      "source": [
        "#### **2006**"
      ]
    },
    {
      "cell_type": "code",
      "metadata": {
        "id": "OheWcrCyy60A"
      },
      "source": [
        "ca1_2006 = pd.read_csv('/content/drive/MyDrive/br_anp_precos/input/combustiveis_automotivos/ca-2006-01.csv', sep=';', encoding='utf-8')\n",
        "ca2_2006 = pd.read_csv('/content/drive/MyDrive/br_anp_precos/input/combustiveis_automotivos/ca-2006-02.csv', sep=';', encoding='utf-8')\n",
        "glp1_2006 = pd.read_csv('/content/drive/MyDrive/br_anp_precos/input/glp/glp-2006-01.csv', sep=';', encoding='utf-8')\n",
        "glp2_2006 = pd.read_csv('/content/drive/MyDrive/br_anp_precos/input/glp/glp-2006-02.csv', sep=';', encoding='utf-8')\n",
        "ca_2006 = ca1_2006.append([ca2_2006,  glp1_2006, glp2_2006], ignore_index=True)"
      ],
      "execution_count": 28,
      "outputs": []
    },
    {
      "cell_type": "code",
      "metadata": {
        "id": "bWRgDYDxy60C"
      },
      "source": [
        "ca_2006 = pd.merge(id_mun, ca_2006,\n",
        "                   how='right', left_on=['sigla_uf', 'nome'], right_on=['Estado - Sigla', 'Municipio'])"
      ],
      "execution_count": 29,
      "outputs": []
    },
    {
      "cell_type": "code",
      "metadata": {
        "id": "BUWGkioly60D"
      },
      "source": [
        "ca_2006['endereco_revenda'] = ca_2006['Nome da Rua'].fillna('') + ',' + ca_2006['Numero Rua'].fillna('') + ' ' + ca_2006['Complemento'].fillna('')"
      ],
      "execution_count": 30,
      "outputs": []
    },
    {
      "cell_type": "code",
      "metadata": {
        "id": "fsK3S1HjRiCZ"
      },
      "source": [
        "data = ca_2006['Data da Coleta'].str.split('/', expand=True)\n",
        "data.columns = ['dia', 'mes', 'ano']\n",
        "data['data_coleta'] = data['ano'] + '-' + data['mes'] + '-' + data['dia']\n",
        "ca_2006 = pd.concat([ca_2006, data['data_coleta']], axis=1)"
      ],
      "execution_count": 31,
      "outputs": []
    },
    {
      "cell_type": "code",
      "metadata": {
        "id": "zTCAOmqLy60E"
      },
      "source": [
        "ca_2006.drop(drop, axis=1, inplace=True)\n",
        "ca_2006.rename(columns=rename, inplace=True)\n",
        "ca_2006['produto'] = ca_2006['produto'].str.lower()\n",
        "ca_2006['preco_compra'] = ca_2006['preco_compra'].fillna('')\n",
        "ca_2006['preco_venda'] = ca_2006['preco_venda'].fillna('')\n",
        "ca_2006.sort_values('data_coleta', inplace=True)\n",
        "ca_2006 = ca_2006[ordem]"
      ],
      "execution_count": 32,
      "outputs": []
    },
    {
      "cell_type": "code",
      "metadata": {
        "id": "z8sUUmqHy60E"
      },
      "source": [
        "ca_2006['unidade_medida'] = ca_2006['unidade_medida'].map({'R$ / litro': 'R$/litro', 'R$ / m³':'R$/m3', 'R$ / 13 kg':'R$/13kg'})\n",
        "ca_2006['nome_estabelecimento'] = ca_2006['nome_estabelecimento'].apply(lambda x: str(x).replace(',',''))\n",
        "ca_2006['preco_compra'] = ca_2006['preco_compra'].apply(lambda x: str(x).replace(',','.'))\n",
        "ca_2006['preco_venda'] = ca_2006['preco_venda'].apply(lambda x: str(x).replace(',','.'))"
      ],
      "execution_count": 33,
      "outputs": []
    },
    {
      "cell_type": "code",
      "metadata": {
        "id": "m3C8QnVyy60F"
      },
      "source": [
        "ca_2006.drop_duplicates(subset=['cnpj_revenda', 'data_coleta', 'produto', 'preco_venda'], keep ='first', inplace = True)\n",
        "ca_2006.to_csv('/content/drive/MyDrive/br_anp_precos/output/combustiveis_2006.csv', index=False, encoding=\"utf-8\", na_rep=\"\")\n",
        "del ca_2006, ca1_2006, ca2_2006, glp1_2006, glp2_2006, data"
      ],
      "execution_count": 34,
      "outputs": []
    },
    {
      "cell_type": "markdown",
      "metadata": {
        "id": "R82BCyfi04iF"
      },
      "source": [
        "#### **2007**"
      ]
    },
    {
      "cell_type": "code",
      "metadata": {
        "id": "WI2wdxTd07sN"
      },
      "source": [
        "ca1_2007 = pd.read_csv('/content/drive/MyDrive/br_anp_precos/input/combustiveis_automotivos/ca-2007-01.csv', sep=';', encoding='utf-8')\n",
        "ca2_2007 = pd.read_csv('/content/drive/MyDrive/br_anp_precos/input/combustiveis_automotivos/ca-2007-02.csv', sep=';', encoding='utf-8')\n",
        "glp1_2007 = pd.read_csv('/content/drive/MyDrive/br_anp_precos/input/glp/glp-2007-01.csv', sep=';', encoding='utf-8')\n",
        "glp2_2007 = pd.read_csv('/content/drive/MyDrive/br_anp_precos/input/glp/glp-2007-02.csv', sep=';', encoding='utf-8')\n",
        "ca_2007 = ca1_2007.append([ca2_2007,  glp1_2007, glp2_2007], ignore_index=True)"
      ],
      "execution_count": null,
      "outputs": []
    },
    {
      "cell_type": "code",
      "metadata": {
        "id": "Rq0tqBao07sP"
      },
      "source": [
        "ca_2007 = pd.merge(id_mun, ca_2007,\n",
        "                   how='right', left_on=['sigla_uf', 'nome'], right_on=['Estado - Sigla', 'Municipio'])"
      ],
      "execution_count": null,
      "outputs": []
    },
    {
      "cell_type": "code",
      "metadata": {
        "id": "z2grHcr907sQ"
      },
      "source": [
        "ca_2007['endereco_revenda'] = ca_2007['Nome da Rua'].fillna('') + ',' + ca_2007['Numero Rua'].fillna('') + ' ' + ca_2007['Complemento'].fillna('')"
      ],
      "execution_count": null,
      "outputs": []
    },
    {
      "cell_type": "code",
      "metadata": {
        "id": "9k-q7d7LSA2h"
      },
      "source": [
        "data = ca_2007['Data da Coleta'].str.split('/', expand=True)\n",
        "data.columns = ['dia', 'mes', 'ano']\n",
        "data['data_coleta'] = data['ano'] + '-' + data['mes'] + '-' + data['dia']\n",
        "ca_2007 = pd.concat([ca_2007, data['data_coleta']], axis=1)"
      ],
      "execution_count": null,
      "outputs": []
    },
    {
      "cell_type": "code",
      "metadata": {
        "id": "EFXPuyw807sR"
      },
      "source": [
        "ca_2007.drop(drop, axis=1, inplace=True)\n",
        "ca_2007.rename(columns=rename, inplace=True)\n",
        "ca_2007['produto'] = ca_2007['produto'].str.lower()\n",
        "ca_2007['preco_compra'] = ca_2007['preco_compra'].fillna('')\n",
        "ca_2007['preco_venda'] = ca_2007['preco_venda'].fillna('')\n",
        "ca_2007.sort_values('data_coleta', inplace=True)\n",
        "ca_2007 = ca_2007[ordem]"
      ],
      "execution_count": null,
      "outputs": []
    },
    {
      "cell_type": "code",
      "metadata": {
        "id": "M2rfAV9G07sR"
      },
      "source": [
        "ca_2007['unidade_medida'] = ca_2007['unidade_medida'].map({'R$ / litro': 'R$/litro', 'R$ / m³':'R$/m3', 'R$ / 13 kg':'R$/13kg'})\n",
        "ca_2007['nome_estabelecimento'] = ca_2007['nome_estabelecimento'].apply(lambda x: str(x).replace(',',''))\n",
        "ca_2007['preco_compra'] = ca_2007['preco_compra'].apply(lambda x: str(x).replace(',','.'))\n",
        "ca_2007['preco_venda'] = ca_2007['preco_venda'].apply(lambda x: str(x).replace(',','.'))"
      ],
      "execution_count": null,
      "outputs": []
    },
    {
      "cell_type": "code",
      "metadata": {
        "id": "KRKw0zSM07sS"
      },
      "source": [
        "ca_2007.drop_duplicates(subset=['cnpj_revenda', 'data_coleta', 'produto', 'preco_venda'], keep ='first', inplace = True)\n",
        "ca_2007.to_csv('/content/drive/MyDrive/br_anp_precos/output/combustiveis_2007.csv', index=False, encoding=\"utf-8\", na_rep=\"\")\n",
        "del ca_2007, ca1_2007, ca2_2007, glp1_2007, glp2_2007, data"
      ],
      "execution_count": null,
      "outputs": []
    },
    {
      "cell_type": "markdown",
      "metadata": {
        "id": "UHjfWH7D1XeE"
      },
      "source": [
        "#### **2008**"
      ]
    },
    {
      "cell_type": "code",
      "metadata": {
        "id": "ycuKaifZ1Zh4"
      },
      "source": [
        "ca1_2008 = pd.read_csv('/content/drive/MyDrive/br_anp_precos/input/combustiveis_automotivos/ca-2008-01.csv', sep=';', encoding='utf-8')\n",
        "ca2_2008 = pd.read_csv('/content/drive/MyDrive/br_anp_precos/input/combustiveis_automotivos/ca-2008-02.csv', sep=';', encoding='utf-8')\n",
        "glp1_2008 = pd.read_csv('/content/drive/MyDrive/br_anp_precos/input/glp/glp-2008-01.csv', sep=';', encoding='utf-8')\n",
        "glp2_2008 = pd.read_csv('/content/drive/MyDrive/br_anp_precos/input/glp/glp-2008-02.csv', sep=';', encoding='utf-8')\n",
        "ca_2008 = ca1_2008.append([ca2_2008,  glp1_2008, glp2_2008], ignore_index=True)"
      ],
      "execution_count": 35,
      "outputs": []
    },
    {
      "cell_type": "code",
      "metadata": {
        "id": "xS4Z56qz1Zh5"
      },
      "source": [
        "ca_2008 = pd.merge(id_mun, ca_2008,\n",
        "                   how='right', left_on=['sigla_uf', 'nome'], right_on=['Estado - Sigla', 'Municipio'])"
      ],
      "execution_count": 36,
      "outputs": []
    },
    {
      "cell_type": "code",
      "metadata": {
        "id": "uPTl72Da1Zh6"
      },
      "source": [
        "ca_2008['endereco_revenda'] = ca_2008['Nome da Rua'].fillna('') + ',' + ca_2008['Numero Rua'].fillna('') + ' ' + ca_2008['Complemento'].fillna('')"
      ],
      "execution_count": 37,
      "outputs": []
    },
    {
      "cell_type": "code",
      "metadata": {
        "id": "5iE4bgY9SXjv"
      },
      "source": [
        "data = ca_2008['Data da Coleta'].str.split('/', expand=True)\n",
        "data.columns = ['dia', 'mes', 'ano']\n",
        "data['data_coleta'] = data['ano'] + '-' + data['mes'] + '-' + data['dia']\n",
        "ca_2008 = pd.concat([ca_2008, data['data_coleta']], axis=1)"
      ],
      "execution_count": 38,
      "outputs": []
    },
    {
      "cell_type": "code",
      "metadata": {
        "id": "vYH4oi8N1Zh7"
      },
      "source": [
        "ca_2008.drop(drop, axis=1, inplace=True)\n",
        "ca_2008.rename(columns=rename, inplace=True)\n",
        "ca_2008['produto'] = ca_2008['produto'].str.lower()\n",
        "ca_2008['preco_compra'] = ca_2008['preco_compra'].fillna('')\n",
        "ca_2008['preco_venda'] = ca_2008['preco_venda'].fillna('')\n",
        "ca_2008.sort_values('data_coleta', inplace=True)\n",
        "ca_2008 = ca_2008[ordem]"
      ],
      "execution_count": 39,
      "outputs": []
    },
    {
      "cell_type": "code",
      "metadata": {
        "id": "XDuCvBg81Zh7"
      },
      "source": [
        "ca_2008['unidade_medida'] = ca_2008['unidade_medida'].map({'R$ / litro': 'R$/litro', 'R$ / m³':'R$/m3', 'R$ / 13 kg':'R$/13kg'})\n",
        "ca_2008['nome_estabelecimento'] = ca_2008['nome_estabelecimento'].apply(lambda x: str(x).replace(',',''))\n",
        "ca_2008['preco_compra'] = ca_2008['preco_compra'].apply(lambda x: str(x).replace(',','.'))\n",
        "ca_2008['preco_venda'] = ca_2008['preco_venda'].apply(lambda x: str(x).replace(',','.'))"
      ],
      "execution_count": 40,
      "outputs": []
    },
    {
      "cell_type": "code",
      "metadata": {
        "id": "vr0KbTon1Zh8"
      },
      "source": [
        "ca_2008.drop_duplicates(subset=['cnpj_revenda', 'data_coleta', 'produto', 'preco_venda'], keep ='first', inplace = True)\n",
        "ca_2008.to_csv('/content/drive/MyDrive/br_anp_precos/output/combustiveis_2008.csv', index=False, encoding=\"utf-8\", na_rep=\"\")\n",
        "del ca_2008, ca1_2008, ca2_2008, glp1_2008, glp2_2008, data"
      ],
      "execution_count": 41,
      "outputs": []
    },
    {
      "cell_type": "markdown",
      "metadata": {
        "id": "44aQKstk1udF"
      },
      "source": [
        "#### **2009**"
      ]
    },
    {
      "cell_type": "code",
      "metadata": {
        "id": "zRc74xyV143q"
      },
      "source": [
        "ca1_2009 = pd.read_csv('/content/drive/MyDrive/br_anp_precos/input/combustiveis_automotivos/ca-2009-01.csv', sep=';', encoding='utf-8')\n",
        "ca2_2009 = pd.read_csv('/content/drive/MyDrive/br_anp_precos/input/combustiveis_automotivos/ca-2009-02.csv', sep=';', encoding='utf-8')\n",
        "glp1_2009 = pd.read_csv('/content/drive/MyDrive/br_anp_precos/input/glp/glp-2009-01.csv', sep=';', encoding='utf-8')\n",
        "glp2_2009 = pd.read_csv('/content/drive/MyDrive/br_anp_precos/input/glp/glp-2009-01.csv', sep=';', encoding='utf-8')\n",
        "ca_2009 = ca1_2009.append([ca2_2009,  glp1_2009, glp2_2009], ignore_index=True)"
      ],
      "execution_count": 42,
      "outputs": []
    },
    {
      "cell_type": "code",
      "metadata": {
        "id": "shS99MfT143r"
      },
      "source": [
        "ca_2009 = pd.merge(id_mun, ca_2009,\n",
        "                   how='right', left_on=['sigla_uf', 'nome'], right_on=['Estado - Sigla', 'Municipio'])"
      ],
      "execution_count": 43,
      "outputs": []
    },
    {
      "cell_type": "code",
      "metadata": {
        "id": "zIWLb03k143r"
      },
      "source": [
        "ca_2009['endereco_revenda'] = ca_2009['Nome da Rua'].fillna('') + ',' + ca_2009['Numero Rua'].fillna('') + ' ' + ca_2009['Complemento'].fillna('')"
      ],
      "execution_count": 44,
      "outputs": []
    },
    {
      "cell_type": "code",
      "metadata": {
        "id": "FxfohigTSsGa"
      },
      "source": [
        "data = ca_2009['Data da Coleta'].str.split('/', expand=True)\n",
        "data.columns = ['dia', 'mes', 'ano']\n",
        "data['data_coleta'] = data['ano'] + '-' + data['mes'] + '-' + data['dia']\n",
        "ca_2009 = pd.concat([ca_2009, data['data_coleta']], axis=1)"
      ],
      "execution_count": 45,
      "outputs": []
    },
    {
      "cell_type": "code",
      "metadata": {
        "id": "teKp8QKl143r"
      },
      "source": [
        "ca_2009.drop(drop, axis=1, inplace=True)\n",
        "ca_2009.rename(columns=rename, inplace=True)\n",
        "ca_2009['produto'] = ca_2009['produto'].str.lower()\n",
        "ca_2009['preco_compra'] = ca_2009['preco_compra'].fillna('')\n",
        "ca_2009['preco_venda'] = ca_2009['preco_venda'].fillna('')\n",
        "ca_2009.sort_values('data_coleta', inplace=True)\n",
        "ca_2009 = ca_2009[ordem]"
      ],
      "execution_count": 46,
      "outputs": []
    },
    {
      "cell_type": "code",
      "metadata": {
        "id": "IcPMPxhu143r"
      },
      "source": [
        "ca_2009['unidade_medida'] = ca_2009['unidade_medida'].map({'R$ / litro': 'R$/litro', 'R$ / m³':'R$/m3', 'R$ / 13 kg':'R$/13kg'})\n",
        "ca_2009['nome_estabelecimento'] = ca_2009['nome_estabelecimento'].apply(lambda x: str(x).replace(',',''))\n",
        "ca_2009['preco_compra'] = ca_2009['preco_compra'].apply(lambda x: str(x).replace(',','.'))\n",
        "ca_2009['preco_venda'] = ca_2009['preco_venda'].apply(lambda x: str(x).replace(',','.'))"
      ],
      "execution_count": 47,
      "outputs": []
    },
    {
      "cell_type": "code",
      "metadata": {
        "id": "-bAfk3oQ143s"
      },
      "source": [
        "ca_2009.drop_duplicates(subset=['cnpj_revenda', 'data_coleta', 'produto', 'preco_venda'], keep ='first', inplace = True)\n",
        "ca_2009.to_csv('/content/drive/MyDrive/br_anp_precos/output/combustiveis_2009.csv', index=False, encoding=\"utf-8\", na_rep=\"\")\n",
        "del ca_2009, ca1_2009, ca2_2009, glp1_2009, glp2_2009, data"
      ],
      "execution_count": 48,
      "outputs": []
    },
    {
      "cell_type": "markdown",
      "metadata": {
        "id": "X2wUZK2Y2QyX"
      },
      "source": [
        "#### **2010**"
      ]
    },
    {
      "cell_type": "code",
      "metadata": {
        "id": "X4y6ZiP02TvK"
      },
      "source": [
        "ca1_2010 = pd.read_csv('/content/drive/MyDrive/br_anp_precos/input/combustiveis_automotivos/ca-2010-01.csv', sep=';', encoding='utf-8')\n",
        "ca2_2010 = pd.read_csv('/content/drive/MyDrive/br_anp_precos/input/combustiveis_automotivos/ca-2010-02.csv', sep=';', encoding='utf-8')\n",
        "glp1_2010 = pd.read_csv('/content/drive/MyDrive/br_anp_precos/input/glp/glp-2010-01.csv', sep=';', encoding='utf-8')\n",
        "glp2_2010 = pd.read_csv('/content/drive/MyDrive/br_anp_precos/input/glp/glp-2010-02.csv', sep=';', encoding='utf-8')\n",
        "ca_2010 = ca1_2010.append([ca2_2010,  glp1_2010, glp2_2010], ignore_index=True)"
      ],
      "execution_count": 49,
      "outputs": []
    },
    {
      "cell_type": "code",
      "metadata": {
        "id": "f1EZzVB42TvK"
      },
      "source": [
        "ca_2010 = pd.merge(id_mun, ca_2010,\n",
        "                   how='right', left_on=['sigla_uf', 'nome'], right_on=['Estado - Sigla', 'Municipio'])"
      ],
      "execution_count": 50,
      "outputs": []
    },
    {
      "cell_type": "code",
      "metadata": {
        "id": "fPe4LdtO2TvL"
      },
      "source": [
        "ca_2010['endereco_revenda'] = ca_2010['Nome da Rua'].fillna('') + ',' + ca_2010['Numero Rua'].fillna('') + ' ' + ca_2010['Complemento'].fillna('')"
      ],
      "execution_count": 51,
      "outputs": []
    },
    {
      "cell_type": "code",
      "metadata": {
        "id": "7jZpy1QRS_yn"
      },
      "source": [
        "data = ca_2010['Data da Coleta'].str.split('/', expand=True)\n",
        "data.columns = ['dia', 'mes', 'ano']\n",
        "data['data_coleta'] = data['ano'] + '-' + data['mes'] + '-' + data['dia']\n",
        "ca_2010 = pd.concat([ca_2010, data['data_coleta']], axis=1)"
      ],
      "execution_count": 52,
      "outputs": []
    },
    {
      "cell_type": "code",
      "metadata": {
        "id": "y-YG8pny2TvL"
      },
      "source": [
        "ca_2010.drop(drop, axis=1, inplace=True)\n",
        "ca_2010.rename(columns=rename, inplace=True)\n",
        "ca_2010['produto'] = ca_2010['produto'].str.lower()\n",
        "ca_2010['preco_compra'] = ca_2010['preco_compra'].fillna('')\n",
        "ca_2010['preco_venda'] = ca_2010['preco_venda'].fillna('')\n",
        "ca_2010.sort_values('data_coleta', inplace=True)\n",
        "ca_2010 = ca_2010[ordem]"
      ],
      "execution_count": 53,
      "outputs": []
    },
    {
      "cell_type": "code",
      "metadata": {
        "id": "Gfg7LdI62TvL"
      },
      "source": [
        "ca_2010['unidade_medida'] = ca_2010['unidade_medida'].map({'R$ / litro': 'R$/litro', 'R$ / m³':'R$/m3', 'R$ / 13 kg':'R$/13kg'})\n",
        "ca_2010['nome_estabelecimento'] = ca_2010['nome_estabelecimento'].apply(lambda x: str(x).replace(',',''))\n",
        "ca_2010['preco_compra'] = ca_2010['preco_compra'].apply(lambda x: str(x).replace(',','.'))\n",
        "ca_2010['preco_venda'] = ca_2010['preco_venda'].apply(lambda x: str(x).replace(',','.'))"
      ],
      "execution_count": 54,
      "outputs": []
    },
    {
      "cell_type": "code",
      "metadata": {
        "id": "JxPXkoxS2TvM"
      },
      "source": [
        "ca_2010.drop_duplicates(subset=['cnpj_revenda', 'data_coleta', 'produto', 'preco_venda'], keep ='first', inplace = True)\n",
        "ca_2010.to_csv('/content/drive/MyDrive/br_anp_precos/output/combustiveis_2010.csv', index=False, encoding=\"utf-8\", na_rep=\"\")\n",
        "del ca_2010, ca1_2010, ca2_2010, glp1_2010, glp2_2010, data"
      ],
      "execution_count": 55,
      "outputs": []
    },
    {
      "cell_type": "markdown",
      "metadata": {
        "id": "t02SDLNf20xx"
      },
      "source": [
        "#### **2011**"
      ]
    },
    {
      "cell_type": "code",
      "metadata": {
        "id": "wpyW6UgW22nH"
      },
      "source": [
        "ca1_2011 = pd.read_csv('/content/drive/MyDrive/br_anp_precos/input/combustiveis_automotivos/ca-2011-01.csv', sep=';', encoding='utf-8')\n",
        "ca2_2011 = pd.read_csv('/content/drive/MyDrive/br_anp_precos/input/combustiveis_automotivos/ca-2011-02.csv', sep=';', encoding='utf-8')\n",
        "glp1_2011 = pd.read_csv('/content/drive/MyDrive/br_anp_precos/input/glp/glp-2011-01.csv', sep=';', encoding='utf-8')\n",
        "glp2_2011 = pd.read_csv('/content/drive/MyDrive/br_anp_precos/input/glp/glp-2011-02.csv', sep=';', encoding='utf-8')\n",
        "ca_2011 = ca1_2011.append([ca2_2011,  glp1_2011, glp2_2011], ignore_index=True)"
      ],
      "execution_count": 56,
      "outputs": []
    },
    {
      "cell_type": "code",
      "metadata": {
        "id": "qeQjwv4922nI"
      },
      "source": [
        "ca_2011 = pd.merge(id_mun, ca_2011,\n",
        "                   how='right', left_on=['sigla_uf', 'nome'], right_on=['Estado - Sigla', 'Municipio'])"
      ],
      "execution_count": 57,
      "outputs": []
    },
    {
      "cell_type": "code",
      "metadata": {
        "id": "MjpKjCEo22nI"
      },
      "source": [
        "ca_2011['endereco_revenda'] = ca_2011['Nome da Rua'].fillna('') + ',' + ca_2011['Numero Rua'].fillna('') + ' ' + ca_2011['Complemento'].fillna('')"
      ],
      "execution_count": 58,
      "outputs": []
    },
    {
      "cell_type": "code",
      "metadata": {
        "id": "guFr2hKjTupu"
      },
      "source": [
        "data = ca_2011['Data da Coleta'].str.split('/', expand=True)\n",
        "data.columns = ['dia', 'mes', 'ano']\n",
        "data['data_coleta'] = data['ano'] + '-' + data['mes'] + '-' + data['dia']\n",
        "ca_2011 = pd.concat([ca_2011, data['data_coleta']], axis=1)"
      ],
      "execution_count": 59,
      "outputs": []
    },
    {
      "cell_type": "code",
      "metadata": {
        "id": "F4hZC74a22nI"
      },
      "source": [
        "ca_2011.drop(drop, axis=1, inplace=True)\n",
        "ca_2011.rename(columns=rename, inplace=True)\n",
        "ca_2011['produto'] = ca_2011['produto'].str.lower()\n",
        "ca_2011['preco_compra'] = ca_2011['preco_compra'].fillna('')\n",
        "ca_2011['preco_venda'] = ca_2011['preco_venda'].fillna('')\n",
        "ca_2011.sort_values('data_coleta', inplace=True)\n",
        "ca_2011 = ca_2011[ordem]"
      ],
      "execution_count": 60,
      "outputs": []
    },
    {
      "cell_type": "code",
      "metadata": {
        "id": "-7wK4aHP22nI"
      },
      "source": [
        "ca_2011['unidade_medida'] = ca_2011['unidade_medida'].map({'R$ / litro': 'R$/litro', 'R$ / m³':'R$/m3', 'R$ / 13 kg':'R$/13kg'})\n",
        "ca_2011['nome_estabelecimento'] = ca_2011['nome_estabelecimento'].apply(lambda x: str(x).replace(',',''))\n",
        "ca_2011['preco_compra'] = ca_2011['preco_compra'].apply(lambda x: str(x).replace(',','.'))\n",
        "ca_2011['preco_venda'] = ca_2011['preco_venda'].apply(lambda x: str(x).replace(',','.'))"
      ],
      "execution_count": 61,
      "outputs": []
    },
    {
      "cell_type": "code",
      "metadata": {
        "id": "X9bHy9CR22nJ"
      },
      "source": [
        "ca_2011.drop_duplicates(subset=['cnpj_revenda', 'data_coleta', 'produto', 'preco_venda'], keep ='first', inplace = True)\n",
        "ca_2011.to_csv('/content/drive/MyDrive/br_anp_precos/output/combustiveis_2011.csv', index=False, encoding=\"utf-8\", na_rep=\"\")\n",
        "del ca_2011, ca1_2011, ca2_2011, glp1_2011, glp2_2011, data"
      ],
      "execution_count": 62,
      "outputs": []
    },
    {
      "cell_type": "markdown",
      "metadata": {
        "id": "-xxJt9id-2Bn"
      },
      "source": [
        "#### **2012**"
      ]
    },
    {
      "cell_type": "code",
      "metadata": {
        "id": "vow7z00B-5dG"
      },
      "source": [
        "ca1_2012 = pd.read_csv('/content/drive/MyDrive/br_anp_precos/input/combustiveis_automotivos/ca-2012-01.csv', sep=';', encoding='utf-8')\n",
        "ca2_2012 = pd.read_csv('/content/drive/MyDrive/br_anp_precos/input/combustiveis_automotivos/ca-2012-02.csv', sep=';', encoding='utf-8')\n",
        "glp1_2012 = pd.read_csv('/content/drive/MyDrive/br_anp_precos/input/glp/glp-2012-01.csv', sep=';', encoding='utf-8')\n",
        "glp2_2012 = pd.read_csv('/content/drive/MyDrive/br_anp_precos/input/glp/glp-2012-02.csv', sep=';', encoding='utf-8')\n",
        "ca_2012 = ca1_2012.append([ca2_2012,  glp1_2012, glp2_2012], ignore_index=True)"
      ],
      "execution_count": 63,
      "outputs": []
    },
    {
      "cell_type": "code",
      "metadata": {
        "id": "U1qgdceO-5dH"
      },
      "source": [
        "ca_2012 = pd.merge(id_mun, ca_2012,\n",
        "                   how='right', left_on=['sigla_uf', 'nome'], right_on=['Estado - Sigla', 'Municipio'])"
      ],
      "execution_count": 64,
      "outputs": []
    },
    {
      "cell_type": "code",
      "metadata": {
        "id": "nTS-TNaX-5dI"
      },
      "source": [
        "ca_2012['endereco_revenda'] = ca_2012['Nome da Rua'].fillna('') + ',' + ca_2012['Numero Rua'].fillna('') + ' ' + ca_2012['Complemento'].fillna('')"
      ],
      "execution_count": 65,
      "outputs": []
    },
    {
      "cell_type": "code",
      "metadata": {
        "id": "N5flgrTyT-4p"
      },
      "source": [
        "data = ca_2012['Data da Coleta'].str.split('/', expand=True)\n",
        "data.columns = ['dia', 'mes', 'ano']\n",
        "data['data_coleta'] = data['ano'] + '-' + data['mes'] + '-' + data['dia']\n",
        "ca_2012 = pd.concat([ca_2012, data['data_coleta']], axis=1)"
      ],
      "execution_count": 66,
      "outputs": []
    },
    {
      "cell_type": "code",
      "metadata": {
        "id": "XeAP-Iy--5dJ"
      },
      "source": [
        "ca_2012.drop(drop, axis=1, inplace=True)\n",
        "ca_2012.rename(columns=rename, inplace=True)\n",
        "ca_2012['produto'] = ca_2012['produto'].str.lower()\n",
        "ca_2012['preco_compra'] = ca_2012['preco_compra'].fillna('')\n",
        "ca_2012['preco_venda'] = ca_2012['preco_venda'].fillna('')\n",
        "ca_2012.sort_values('data_coleta', inplace=True)\n",
        "ca_2012 = ca_2012[ordem]"
      ],
      "execution_count": 67,
      "outputs": []
    },
    {
      "cell_type": "code",
      "metadata": {
        "id": "p72idtam-5dK"
      },
      "source": [
        "ca_2012['unidade_medida'] = ca_2012['unidade_medida'].map({'R$ / litro': 'R$/litro', 'R$ / m³':'R$/m3', 'R$ / 13 kg':'R$/13kg'})\n",
        "ca_2012['nome_estabelecimento'] = ca_2012['nome_estabelecimento'].apply(lambda x: str(x).replace(',',''))\n",
        "ca_2012['preco_compra'] = ca_2012['preco_compra'].apply(lambda x: str(x).replace(',','.'))\n",
        "ca_2012['preco_venda'] = ca_2012['preco_venda'].apply(lambda x: str(x).replace(',','.'))"
      ],
      "execution_count": 68,
      "outputs": []
    },
    {
      "cell_type": "code",
      "metadata": {
        "id": "TFtWjvlM-5dL"
      },
      "source": [
        "ca_2012.drop_duplicates(subset=['cnpj_revenda', 'data_coleta', 'produto', 'preco_venda'], keep ='first', inplace = True)\n",
        "ca_2012.to_csv('/content/drive/MyDrive/br_anp_precos/output/combustiveis_2012.csv', index=False, encoding=\"utf-8\", na_rep=\"\")\n",
        "del ca_2012, ca1_2012, ca2_2012, glp1_2012, glp2_2012, data"
      ],
      "execution_count": 69,
      "outputs": []
    },
    {
      "cell_type": "markdown",
      "metadata": {
        "id": "4unc9k5v_TXO"
      },
      "source": [
        "#### **2013**"
      ]
    },
    {
      "cell_type": "code",
      "metadata": {
        "id": "VeaXkUZK_VSq"
      },
      "source": [
        "ca1_2013 = pd.read_csv('/content/drive/MyDrive/br_anp_precos/input/combustiveis_automotivos/ca-2013-01.csv', sep=';', encoding='utf-8')\n",
        "ca2_2013 = pd.read_csv('/content/drive/MyDrive/br_anp_precos/input/combustiveis_automotivos/ca-2013-02.csv', sep=';', encoding='utf-8')\n",
        "glp1_2013 = pd.read_csv('/content/drive/MyDrive/br_anp_precos/input/glp/glp-2013-01.csv', sep=';', encoding='utf-8')\n",
        "glp2_2013 = pd.read_csv('/content/drive/MyDrive/br_anp_precos/input/glp/glp-2013-02.csv', sep=';', encoding='utf-8')\n",
        "ca_2013 = ca1_2013.append([ca2_2013, glp1_2013, glp2_2013], ignore_index=True)"
      ],
      "execution_count": 70,
      "outputs": []
    },
    {
      "cell_type": "code",
      "metadata": {
        "id": "Wmld0DEd_VSr"
      },
      "source": [
        "ca_2013 = pd.merge(id_mun, ca_2013,\n",
        "                   how='right', left_on=['sigla_uf', 'nome'], right_on=['Estado - Sigla', 'Municipio'])"
      ],
      "execution_count": 71,
      "outputs": []
    },
    {
      "cell_type": "code",
      "metadata": {
        "id": "AbsD2SC7_VSr"
      },
      "source": [
        "ca_2013['endereco_revenda'] = ca_2013['Nome da Rua'].fillna('') + ',' + ca_2013['Numero Rua'].fillna('') + ' ' + ca_2013['Complemento'].fillna('')"
      ],
      "execution_count": 72,
      "outputs": []
    },
    {
      "cell_type": "code",
      "metadata": {
        "id": "fBNfBcaQUNeU"
      },
      "source": [
        "data = ca_2013['Data da Coleta'].str.split('/', expand=True)\n",
        "data.columns = ['dia', 'mes', 'ano']\n",
        "data['data_coleta'] = data['ano'] + '-' + data['mes'] + '-' + data['dia']\n",
        "ca_2013 = pd.concat([ca_2013, data['data_coleta']], axis=1)"
      ],
      "execution_count": 73,
      "outputs": []
    },
    {
      "cell_type": "code",
      "metadata": {
        "id": "QsxQ617D_VSr"
      },
      "source": [
        "ca_2013.drop(drop, axis=1, inplace=True)\n",
        "ca_2013.rename(columns=rename, inplace=True)\n",
        "ca_2013['produto'] = ca_2013['produto'].str.lower()\n",
        "ca_2013['preco_compra'] = ca_2013['preco_compra'].fillna('')\n",
        "ca_2013['preco_venda'] = ca_2013['preco_venda'].fillna('')\n",
        "ca_2013.sort_values('data_coleta', inplace=True)\n",
        "ca_2013 = ca_2013[ordem]"
      ],
      "execution_count": 74,
      "outputs": []
    },
    {
      "cell_type": "code",
      "metadata": {
        "id": "BpDZOuk2_VSs"
      },
      "source": [
        "ca_2013['unidade_medida'] = ca_2013['unidade_medida'].map({'R$ / litro': 'R$/litro', 'R$ / m³':'R$/m3', 'R$ / 13 kg':'R$/13kg'})\n",
        "ca_2013['nome_estabelecimento'] = ca_2013['nome_estabelecimento'].apply(lambda x: str(x).replace(',',''))\n",
        "ca_2013['preco_compra'] = ca_2013['preco_compra'].apply(lambda x: str(x).replace(',','.'))\n",
        "ca_2013['preco_venda'] = ca_2013['preco_venda'].apply(lambda x: str(x).replace(',','.'))"
      ],
      "execution_count": 75,
      "outputs": []
    },
    {
      "cell_type": "code",
      "metadata": {
        "id": "-lnbhUt4_VSs"
      },
      "source": [
        "ca_2013.drop_duplicates(subset=['cnpj_revenda', 'data_coleta', 'produto', 'preco_venda'], keep ='first', inplace = True)\n",
        "ca_2013.to_csv('/content/drive/MyDrive/br_anp_precos/output/combustiveis_2013.csv', index=False, encoding=\"utf-8\", na_rep=\"\")\n",
        "del ca_2013, ca1_2013, ca2_2013, glp1_2013, glp2_2013, data"
      ],
      "execution_count": 76,
      "outputs": []
    },
    {
      "cell_type": "markdown",
      "metadata": {
        "id": "sthOcyJh_rm-"
      },
      "source": [
        "#### **2014**"
      ]
    },
    {
      "cell_type": "code",
      "metadata": {
        "id": "ha4PajXH_uaQ"
      },
      "source": [
        "ca1_2014 = pd.read_csv('/content/drive/MyDrive/br_anp_precos/input/combustiveis_automotivos/ca-2014-01.csv', sep=';', encoding='utf-8')\n",
        "ca2_2014 = pd.read_csv('/content/drive/MyDrive/br_anp_precos/input/combustiveis_automotivos/ca-2014-02.csv', sep=';', encoding='utf-8')\n",
        "glp1_2014 = pd.read_csv('/content/drive/MyDrive/br_anp_precos/input/glp/glp-2014-01.csv', sep=';', encoding='utf-8')\n",
        "glp2_2014 = pd.read_csv('/content/drive/MyDrive/br_anp_precos/input/glp/glp-2014-02.csv', sep=';', encoding='utf-8')\n",
        "ca_2014 = ca1_2014.append([ca2_2014, glp1_2014, glp2_2014], ignore_index=True)"
      ],
      "execution_count": 77,
      "outputs": []
    },
    {
      "cell_type": "code",
      "metadata": {
        "id": "N8VLpxUS_uaQ"
      },
      "source": [
        "ca_2014 = pd.merge(id_mun, ca_2014,\n",
        "                   how='right', left_on=['sigla_uf', 'nome'], right_on=['Estado - Sigla', 'Municipio'])"
      ],
      "execution_count": 78,
      "outputs": []
    },
    {
      "cell_type": "code",
      "metadata": {
        "id": "3Y3qF9t8_uaR"
      },
      "source": [
        "ca_2014['endereco_revenda'] = ca_2014['Nome da Rua'].fillna('') + ',' + ca_2014['Numero Rua'].fillna('') + ' ' + ca_2014['Complemento'].fillna('')"
      ],
      "execution_count": 79,
      "outputs": []
    },
    {
      "cell_type": "code",
      "metadata": {
        "id": "-QDK4AY7UhBq"
      },
      "source": [
        "data = ca_2014['Data da Coleta'].str.split('/', expand=True)\n",
        "data.columns = ['dia', 'mes', 'ano']\n",
        "data['data_coleta'] = data['ano'] + '-' + data['mes'] + '-' + data['dia']\n",
        "ca_2014 = pd.concat([ca_2014, data['data_coleta']], axis=1)"
      ],
      "execution_count": 80,
      "outputs": []
    },
    {
      "cell_type": "code",
      "metadata": {
        "id": "vDe3Frnt_uaR"
      },
      "source": [
        "ca_2014.drop(drop, axis=1, inplace=True)\n",
        "ca_2014.rename(columns=rename, inplace=True)\n",
        "ca_2014['produto'] = ca_2014['produto'].str.lower()\n",
        "ca_2014['preco_compra'] = ca_2014['preco_compra'].fillna('')\n",
        "ca_2014['preco_venda'] = ca_2014['preco_venda'].fillna('')\n",
        "ca_2014.sort_values('data_coleta', inplace=True)\n",
        "ca_2014 = ca_2014[ordem]"
      ],
      "execution_count": 81,
      "outputs": []
    },
    {
      "cell_type": "code",
      "metadata": {
        "id": "wSm8jntI_uaR"
      },
      "source": [
        "ca_2014['unidade_medida'] = ca_2014['unidade_medida'].map({'R$ / litro': 'R$/litro', 'R$ / m³':'R$/m3', 'R$ / 13 kg':'R$/13kg'})\n",
        "ca_2014['nome_estabelecimento'] = ca_2014['nome_estabelecimento'].apply(lambda x: str(x).replace(',',''))\n",
        "ca_2014['preco_compra'] = ca_2014['preco_compra'].apply(lambda x: str(x).replace(',','.'))\n",
        "ca_2014['preco_venda'] = ca_2014['preco_venda'].apply(lambda x: str(x).replace(',','.'))"
      ],
      "execution_count": 82,
      "outputs": []
    },
    {
      "cell_type": "code",
      "metadata": {
        "id": "ayOf3QvX_uaS"
      },
      "source": [
        "ca_2014.drop_duplicates(subset=['cnpj_revenda', 'data_coleta', 'produto', 'preco_venda'], keep ='first', inplace = True)\n",
        "ca_2014.to_csv('/content/drive/MyDrive/br_anp_precos/output/combustiveis_2014.csv', index=False, encoding=\"utf-8\", na_rep=\"\")\n",
        "del ca_2014, ca1_2014, ca2_2014, glp1_2014, glp2_2014, data"
      ],
      "execution_count": 83,
      "outputs": []
    },
    {
      "cell_type": "markdown",
      "metadata": {
        "id": "4AcB70TNAZb9"
      },
      "source": [
        "#### **2015**"
      ]
    },
    {
      "cell_type": "code",
      "metadata": {
        "id": "lXkG76URAcaM"
      },
      "source": [
        "ca1_2015 = pd.read_csv('/content/drive/MyDrive/br_anp_precos/input/combustiveis_automotivos/ca-2015-01.csv', sep=';', encoding='utf-8')\n",
        "ca2_2015 = pd.read_csv('/content/drive/MyDrive/br_anp_precos/input/combustiveis_automotivos/ca-2015-02.csv', sep=';', encoding='utf-8')\n",
        "glp1_2015 = pd.read_csv('/content/drive/MyDrive/br_anp_precos/input/glp/glp-2015-01.csv', sep=';', encoding='utf-8')\n",
        "glp2_2015 = pd.read_csv('/content/drive/MyDrive/br_anp_precos/input/glp/glp-2015-02.csv', sep=';', encoding='utf-8')\n",
        "ca_2015 = ca1_2015.append([ca2_2015, glp1_2015, glp2_2015], ignore_index=True)"
      ],
      "execution_count": 84,
      "outputs": []
    },
    {
      "cell_type": "code",
      "metadata": {
        "id": "Eu4DNY5wAcaN"
      },
      "source": [
        "ca_2015 = pd.merge(id_mun, ca_2015,\n",
        "                   how='right', left_on=['sigla_uf', 'nome'], right_on=['Estado - Sigla', 'Municipio'])"
      ],
      "execution_count": 85,
      "outputs": []
    },
    {
      "cell_type": "code",
      "metadata": {
        "id": "7OVB6JvpAcaN"
      },
      "source": [
        "ca_2015['endereco_revenda'] = ca_2015['Nome da Rua'].fillna('') + ',' + ca_2015['Numero Rua'].fillna('') + ' ' + ca_2015['Complemento'].fillna('')"
      ],
      "execution_count": 86,
      "outputs": []
    },
    {
      "cell_type": "code",
      "metadata": {
        "id": "Z8Nwip1UUvUx"
      },
      "source": [
        "data = ca_2015['Data da Coleta'].str.split('/', expand=True)\n",
        "data.columns = ['dia', 'mes', 'ano']\n",
        "data['data_coleta'] = data['ano'] + '-' + data['mes'] + '-' + data['dia']\n",
        "ca_2015 = pd.concat([ca_2015, data['data_coleta']], axis=1)"
      ],
      "execution_count": 87,
      "outputs": []
    },
    {
      "cell_type": "code",
      "metadata": {
        "id": "zs3JZ-dyAcaN"
      },
      "source": [
        "ca_2015.drop(drop, axis=1, inplace=True)\n",
        "ca_2015.rename(columns=rename, inplace=True)\n",
        "ca_2015['produto'] = ca_2015['produto'].str.lower()\n",
        "ca_2015['preco_compra'] = ca_2015['preco_compra'].fillna('')\n",
        "ca_2015['preco_venda'] = ca_2015['preco_venda'].fillna('')\n",
        "ca_2015.sort_values('data_coleta', inplace=True)\n",
        "ca_2015 = ca_2015[ordem]"
      ],
      "execution_count": 88,
      "outputs": []
    },
    {
      "cell_type": "code",
      "metadata": {
        "id": "dc18V2Y4AcaN"
      },
      "source": [
        "ca_2015['unidade_medida'] = ca_2015['unidade_medida'].map({'R$ / litro': 'R$/litro', 'R$ / m³':'R$/m3', 'R$ / 13 kg':'R$/13kg'})\n",
        "ca_2015['nome_estabelecimento'] = ca_2015['nome_estabelecimento'].apply(lambda x: str(x).replace(',',''))\n",
        "ca_2015['preco_compra'] = ca_2015['preco_compra'].apply(lambda x: str(x).replace(',','.'))\n",
        "ca_2015['preco_venda'] = ca_2015['preco_venda'].apply(lambda x: str(x).replace(',','.'))"
      ],
      "execution_count": 89,
      "outputs": []
    },
    {
      "cell_type": "code",
      "metadata": {
        "id": "V3gq3oB5AcaO"
      },
      "source": [
        "ca_2015.drop_duplicates(subset=['cnpj_revenda', 'data_coleta', 'produto', 'preco_venda'], keep ='first', inplace = True)\n",
        "ca_2015.to_csv('/content/drive/MyDrive/br_anp_precos/output/combustiveis_2015.csv', index=False, encoding=\"utf-8\", na_rep=\"\")\n",
        "del ca_2015, ca1_2015, ca2_2015, glp1_2015, glp2_2015, data"
      ],
      "execution_count": 90,
      "outputs": []
    },
    {
      "cell_type": "markdown",
      "metadata": {
        "id": "PZ2-jeeyA1Od"
      },
      "source": [
        "#### **2016**"
      ]
    },
    {
      "cell_type": "code",
      "metadata": {
        "id": "wKxp-QMkBA-v"
      },
      "source": [
        "ca1_2016 = pd.read_csv('/content/drive/MyDrive/br_anp_precos/input/combustiveis_automotivos/ca-2016-01.csv', sep=';', encoding='utf-8')\n",
        "ca2_2016 = pd.read_csv('/content/drive/MyDrive/br_anp_precos/input/combustiveis_automotivos/ca-2016-02.csv', sep=';', encoding='utf-8')\n",
        "glp1_2016 = pd.read_csv('/content/drive/MyDrive/br_anp_precos/input/glp/glp-2016-01.csv', sep=';', encoding='utf-8')\n",
        "glp2_2016 = pd.read_csv('/content/drive/MyDrive/br_anp_precos/input/glp/glp-2016-02.csv', sep=';', encoding='utf-8')\n",
        "ca_2016 = ca1_2016.append([ca2_2016, glp1_2016, glp2_2016], ignore_index=True)"
      ],
      "execution_count": 91,
      "outputs": []
    },
    {
      "cell_type": "code",
      "metadata": {
        "id": "powjqlbjBA-w"
      },
      "source": [
        "ca_2016 = pd.merge(id_mun, ca_2016,\n",
        "                   how='right', left_on=['sigla_uf', 'nome'], right_on=['Estado - Sigla', 'Municipio'])"
      ],
      "execution_count": 92,
      "outputs": []
    },
    {
      "cell_type": "code",
      "metadata": {
        "id": "-oLiBSYvBA-w"
      },
      "source": [
        "ca_2016['endereco_revenda'] = ca_2016['Nome da Rua'].fillna('') + ',' + ca_2016['Numero Rua'].fillna('') + ' ' + ca_2016['Complemento'].fillna('')"
      ],
      "execution_count": 93,
      "outputs": []
    },
    {
      "cell_type": "code",
      "metadata": {
        "id": "gwAblRTQU-_z"
      },
      "source": [
        "data = ca_2016['Data da Coleta'].str.split('/', expand=True)\n",
        "data.columns = ['dia', 'mes', 'ano']\n",
        "data['data_coleta'] = data['ano'] + '-' + data['mes'] + '-' + data['dia']\n",
        "ca_2016 = pd.concat([ca_2016, data['data_coleta']], axis=1)"
      ],
      "execution_count": 94,
      "outputs": []
    },
    {
      "cell_type": "code",
      "metadata": {
        "id": "QSi5ApolBA-w"
      },
      "source": [
        "ca_2016.drop(drop, axis=1, inplace=True)\n",
        "ca_2016.rename(columns=rename, inplace=True)\n",
        "ca_2016['produto'] = ca_2016['produto'].str.lower()\n",
        "ca_2016['preco_compra'] = ca_2016['preco_compra'].fillna('')\n",
        "ca_2016['preco_venda'] = ca_2016['preco_venda'].fillna('')\n",
        "ca_2016.sort_values('data_coleta', inplace=True)\n",
        "ca_2016 = ca_2016[ordem]"
      ],
      "execution_count": 95,
      "outputs": []
    },
    {
      "cell_type": "code",
      "metadata": {
        "id": "9Nbr8_ftBA-w"
      },
      "source": [
        "ca_2016['unidade_medida'] = ca_2016['unidade_medida'].map({'R$ / litro': 'R$/litro', 'R$ / m³':'R$/m3', 'R$ / 13 kg':'R$/13kg'})\n",
        "ca_2016['nome_estabelecimento'] = ca_2016['nome_estabelecimento'].apply(lambda x: str(x).replace(',',''))\n",
        "ca_2016['preco_compra'] = ca_2016['preco_compra'].apply(lambda x: str(x).replace(',','.'))\n",
        "ca_2016['preco_venda'] = ca_2016['preco_venda'].apply(lambda x: str(x).replace(',','.'))"
      ],
      "execution_count": 96,
      "outputs": []
    },
    {
      "cell_type": "code",
      "metadata": {
        "id": "DS-nXovgBA-x"
      },
      "source": [
        "ca_2016.drop_duplicates(subset=['cnpj_revenda', 'data_coleta', 'produto', 'preco_venda'], keep ='first', inplace = True)\n",
        "ca_2016.to_csv('/content/drive/MyDrive/br_anp_precos/output/combustiveis_2016.csv', index=False, encoding=\"utf-8\", na_rep=\"\")\n",
        "del ca_2016, ca1_2016, ca2_2016, glp1_2016, glp2_2016, data"
      ],
      "execution_count": 97,
      "outputs": []
    },
    {
      "cell_type": "markdown",
      "metadata": {
        "id": "8AtipkM3BxrU"
      },
      "source": [
        "#### **2017**"
      ]
    },
    {
      "cell_type": "code",
      "metadata": {
        "id": "H_DAPXf0B0Us"
      },
      "source": [
        "ca1_2017 = pd.read_csv('/content/drive/MyDrive/br_anp_precos/input/combustiveis_automotivos/ca-2017-01.csv', sep=';', encoding='utf-8')\n",
        "ca2_2017 = pd.read_csv('/content/drive/MyDrive/br_anp_precos/input/combustiveis_automotivos/ca-2017-02.csv', sep=';', encoding='utf-8')\n",
        "glp1_2017 = pd.read_csv('/content/drive/MyDrive/br_anp_precos/input/glp/glp-2017-01.csv', sep=';', encoding='utf-8')\n",
        "glp2_2017 = pd.read_csv('/content/drive/MyDrive/br_anp_precos/input/glp/glp-2017-02.csv', sep=';', encoding='utf-8')\n",
        "ca_2017 = ca1_2017.append([ca2_2017, glp1_2017, glp2_2017], ignore_index=True)"
      ],
      "execution_count": 98,
      "outputs": []
    },
    {
      "cell_type": "code",
      "metadata": {
        "id": "rpBqgoFhB0Ut"
      },
      "source": [
        "ca_2017 = pd.merge(id_mun, ca_2017,\n",
        "                   how='right', left_on=['sigla_uf', 'nome'], right_on=['Estado - Sigla', 'Municipio'])"
      ],
      "execution_count": 99,
      "outputs": []
    },
    {
      "cell_type": "code",
      "metadata": {
        "id": "Fe398ODyB0Uu"
      },
      "source": [
        "ca_2017['endereco_revenda'] = ca_2017['Nome da Rua'].fillna('') + ',' + ca_2017['Numero Rua'].fillna('') + ' ' + ca_2017['Complemento'].fillna('')"
      ],
      "execution_count": 100,
      "outputs": []
    },
    {
      "cell_type": "code",
      "metadata": {
        "id": "kjjU_I3-VNJc"
      },
      "source": [
        "data = ca_2017['Data da Coleta'].str.split('/', expand=True)\n",
        "data.columns = ['dia', 'mes', 'ano']\n",
        "data['data_coleta'] = data['ano'] + '-' + data['mes'] + '-' + data['dia']\n",
        "ca_2017 = pd.concat([ca_2017, data['data_coleta']], axis=1)"
      ],
      "execution_count": 101,
      "outputs": []
    },
    {
      "cell_type": "code",
      "metadata": {
        "id": "aFOvDYv0B0Uv"
      },
      "source": [
        "ca_2017.drop(drop, axis=1, inplace=True)\n",
        "ca_2017.rename(columns=rename, inplace=True)\n",
        "ca_2017['produto'] = ca_2017['produto'].str.lower()\n",
        "ca_2017['preco_compra'] = ca_2017['preco_compra'].fillna('')\n",
        "ca_2017['preco_venda'] = ca_2017['preco_venda'].fillna('')\n",
        "ca_2017.sort_values('data_coleta', inplace=True)\n",
        "ca_2017 = ca_2017[ordem]"
      ],
      "execution_count": 102,
      "outputs": []
    },
    {
      "cell_type": "code",
      "metadata": {
        "id": "73GHCjxsB0Uw"
      },
      "source": [
        "ca_2017['unidade_medida'] = ca_2017['unidade_medida'].map({'R$ / litro': 'R$/litro', 'R$ / m³':'R$/m3', 'R$ / 13 kg':'R$/13kg'})\n",
        "ca_2017['nome_estabelecimento'] = ca_2017['nome_estabelecimento'].apply(lambda x: str(x).replace(',',''))\n",
        "ca_2017['preco_compra'] = ca_2017['preco_compra'].apply(lambda x: str(x).replace(',','.'))\n",
        "ca_2017['preco_venda'] = ca_2017['preco_venda'].apply(lambda x: str(x).replace(',','.'))"
      ],
      "execution_count": 103,
      "outputs": []
    },
    {
      "cell_type": "code",
      "metadata": {
        "id": "3BWzhiPcB0Uw"
      },
      "source": [
        "ca_2017.drop_duplicates(subset=['cnpj_revenda', 'data_coleta', 'produto', 'preco_venda'], keep ='first', inplace = True)\n",
        "ca_2017.to_csv('/content/drive/MyDrive/br_anp_precos/output/combustiveis_2017.csv', index=False, encoding=\"utf-8\", na_rep=\"\")\n",
        "del ca_2017, ca1_2017, ca2_2017, glp1_2017, glp2_2017, data"
      ],
      "execution_count": 104,
      "outputs": []
    },
    {
      "cell_type": "markdown",
      "metadata": {
        "id": "JwGIMLLMCUjE"
      },
      "source": [
        "#### **2018**"
      ]
    },
    {
      "cell_type": "code",
      "metadata": {
        "id": "nl4x-ecfCX8m"
      },
      "source": [
        "ca1_2018 = pd.read_csv('/content/drive/MyDrive/br_anp_precos/input/combustiveis_automotivos/ca-2018-01.csv', sep=';', encoding='utf-8')\n",
        "ca2_2018 = pd.read_csv('/content/drive/MyDrive/br_anp_precos/input/combustiveis_automotivos/ca-2018-02.csv', sep=';', encoding='utf-8')\n",
        "glp1_2018 = pd.read_csv('/content/drive/MyDrive/br_anp_precos/input/glp/glp-2018-01.csv', sep=';', encoding='utf-8')\n",
        "glp2_2018 = pd.read_csv('/content/drive/MyDrive/br_anp_precos/input/glp/glp-2018-02.csv', sep=';', encoding='utf-8')\n",
        "ca_2018 = ca1_2018.append([ca2_2018, glp1_2018, glp2_2018], ignore_index=True)"
      ],
      "execution_count": 105,
      "outputs": []
    },
    {
      "cell_type": "code",
      "metadata": {
        "id": "0yJoYPpvCX8n"
      },
      "source": [
        "ca_2018 = pd.merge(id_mun, ca_2018,\n",
        "                   how='right', left_on=['sigla_uf', 'nome'], right_on=['Estado - Sigla', 'Municipio'])"
      ],
      "execution_count": 106,
      "outputs": []
    },
    {
      "cell_type": "code",
      "metadata": {
        "id": "I7_qB33RCX8o"
      },
      "source": [
        "ca_2018['endereco_revenda'] = ca_2018['Nome da Rua'].fillna('') + ',' + ca_2018['Numero Rua'].fillna('') + ' ' + ca_2018['Complemento'].fillna('')"
      ],
      "execution_count": 107,
      "outputs": []
    },
    {
      "cell_type": "code",
      "metadata": {
        "id": "IRWtiA6YVbLX"
      },
      "source": [
        "data = ca_2018['Data da Coleta'].str.split('/', expand=True)\n",
        "data.columns = ['dia', 'mes', 'ano']\n",
        "data['data_coleta'] = data['ano'] + '-' + data['mes'] + '-' + data['dia']\n",
        "ca_2018 = pd.concat([ca_2018, data['data_coleta']], axis=1)"
      ],
      "execution_count": 108,
      "outputs": []
    },
    {
      "cell_type": "code",
      "metadata": {
        "id": "pxqVSQSpCX8p"
      },
      "source": [
        "ca_2018.drop(drop, axis=1, inplace=True)\n",
        "ca_2018.rename(columns=rename, inplace=True)\n",
        "ca_2018['produto'] = ca_2018['produto'].str.lower()\n",
        "ca_2018['preco_compra'] = ca_2018['preco_compra'].fillna('')\n",
        "ca_2018['preco_venda'] = ca_2018['preco_venda'].fillna('')\n",
        "ca_2018.sort_values('data_coleta', inplace=True)\n",
        "ca_2018 = ca_2018[ordem]"
      ],
      "execution_count": 109,
      "outputs": []
    },
    {
      "cell_type": "code",
      "metadata": {
        "id": "eCrnBPvTCX8t"
      },
      "source": [
        "ca_2018['unidade_medida'] = ca_2018['unidade_medida'].map({'R$ / litro': 'R$/litro', 'R$ / m³':'R$/m3', 'R$ / 13 kg':'R$/13kg'})\n",
        "ca_2018['nome_estabelecimento'] = ca_2018['nome_estabelecimento'].apply(lambda x: str(x).replace(',',''))\n",
        "ca_2018['preco_compra'] = ca_2018['preco_compra'].apply(lambda x: str(x).replace(',','.'))\n",
        "ca_2018['preco_venda'] = ca_2018['preco_venda'].apply(lambda x: str(x).replace(',','.'))"
      ],
      "execution_count": 110,
      "outputs": []
    },
    {
      "cell_type": "code",
      "metadata": {
        "id": "m_O1XwSRCX8u"
      },
      "source": [
        "ca_2018.drop_duplicates(subset=['cnpj_revenda', 'data_coleta', 'produto', 'preco_venda'], keep ='first', inplace = True)\n",
        "ca_2018.to_csv('/content/drive/MyDrive/br_anp_precos/output/combustiveis_2018.csv', index=False, encoding=\"utf-8\", na_rep=\"\")\n",
        "del ca_2018, ca1_2018, ca2_2018, glp1_2018, glp2_2018, data"
      ],
      "execution_count": 111,
      "outputs": []
    },
    {
      "cell_type": "markdown",
      "metadata": {
        "id": "14xOUOloCv3-"
      },
      "source": [
        "#### **2019**"
      ]
    },
    {
      "cell_type": "code",
      "metadata": {
        "id": "tqFYg9RRC2B3"
      },
      "source": [
        "ca1_2019 = pd.read_csv('/content/drive/MyDrive/br_anp_precos/input/combustiveis_automotivos/ca-2019-01.csv', sep=';', encoding='utf-8')\n",
        "ca2_2019 = pd.read_csv('/content/drive/MyDrive/br_anp_precos/input/combustiveis_automotivos/ca-2019-02.csv', sep=';', encoding='utf-8')\n",
        "glp1_2019 = pd.read_csv('/content/drive/MyDrive/br_anp_precos/input/glp/glp-2019-01.csv', sep=';', encoding='utf-8')\n",
        "glp2_2019 = pd.read_csv('/content/drive/MyDrive/br_anp_precos/input/glp/glp-2019-02.csv', sep=';', encoding='utf-8')\n",
        "ca_2019 = ca1_2019.append([ca2_2019, glp1_2019, glp2_2019], ignore_index=True)"
      ],
      "execution_count": 112,
      "outputs": []
    },
    {
      "cell_type": "code",
      "metadata": {
        "id": "fWs-D2M3C2B4"
      },
      "source": [
        "ca_2019 = pd.merge(id_mun, ca_2019,\n",
        "                   how='right', left_on=['sigla_uf', 'nome'], right_on=['Estado - Sigla', 'Municipio'])"
      ],
      "execution_count": 113,
      "outputs": []
    },
    {
      "cell_type": "code",
      "metadata": {
        "id": "gnJwsXbuC2B5"
      },
      "source": [
        "ca_2019['endereco_revenda'] = ca_2019['Nome da Rua'].fillna('') + ',' + ca_2019['Numero Rua'].fillna('') + ' ' + ca_2019['Complemento'].fillna('')"
      ],
      "execution_count": 114,
      "outputs": []
    },
    {
      "cell_type": "code",
      "metadata": {
        "id": "VDN5cZ06VpL8"
      },
      "source": [
        "data = ca_2019['Data da Coleta'].str.split('/', expand=True)\n",
        "data.columns = ['dia', 'mes', 'ano']\n",
        "data['data_coleta'] = data['ano'] + '-' + data['mes'] + '-' + data['dia']\n",
        "ca_2019 = pd.concat([ca_2019, data['data_coleta']], axis=1)"
      ],
      "execution_count": 115,
      "outputs": []
    },
    {
      "cell_type": "code",
      "metadata": {
        "id": "3p-PdI3EC2B5"
      },
      "source": [
        "ca_2019.drop(drop, axis=1, inplace=True)\n",
        "ca_2019.rename(columns=rename, inplace=True)\n",
        "ca_2019['produto'] = ca_2019['produto'].str.lower()\n",
        "ca_2019['preco_compra'] = ca_2019['preco_compra'].fillna('')\n",
        "ca_2019['preco_venda'] = ca_2019['preco_venda'].fillna('')\n",
        "ca_2019.sort_values('data_coleta', inplace=True)\n",
        "ca_2019 = ca_2019[ordem]"
      ],
      "execution_count": 116,
      "outputs": []
    },
    {
      "cell_type": "code",
      "metadata": {
        "id": "8vUjnkHHC2B_"
      },
      "source": [
        "ca_2019['unidade_medida'] = ca_2019['unidade_medida'].map({'R$ / litro': 'R$/litro', 'R$ / m³':'R$/m3', 'R$ / 13 kg':'R$/13kg'})\n",
        "ca_2019['nome_estabelecimento'] = ca_2019['nome_estabelecimento'].apply(lambda x: str(x).replace(',',''))\n",
        "ca_2019['preco_compra'] = ca_2019['preco_compra'].apply(lambda x: str(x).replace(',','.'))\n",
        "ca_2019['preco_venda'] = ca_2019['preco_venda'].apply(lambda x: str(x).replace(',','.'))"
      ],
      "execution_count": 117,
      "outputs": []
    },
    {
      "cell_type": "code",
      "metadata": {
        "id": "mgHJCQ_JC2CA"
      },
      "source": [
        "ca_2019.drop_duplicates(subset=['cnpj_revenda', 'data_coleta', 'produto', 'preco_venda'], keep ='first', inplace = True)\n",
        "ca_2019.to_csv('/content/drive/MyDrive/br_anp_precos/output/combustiveis_2019.csv', index=False, encoding=\"utf-8\", na_rep=\"\")\n",
        "del ca_2019, ca1_2019, ca2_2019, glp1_2019, glp2_2019, data"
      ],
      "execution_count": 118,
      "outputs": []
    },
    {
      "cell_type": "markdown",
      "metadata": {
        "id": "kZeWJTOADL5c"
      },
      "source": [
        "#### **2020**"
      ]
    },
    {
      "cell_type": "code",
      "metadata": {
        "colab": {
          "base_uri": "https://localhost:8080/"
        },
        "id": "zVPQ4dz6DQpX",
        "outputId": "b4b96591-8f7b-49ff-92ab-c1b7e65c33c0"
      },
      "source": [
        "ca1_2020 = pd.read_csv('/content/drive/MyDrive/br_anp_precos/input/combustiveis_automotivos/ca-2020-01.csv', sep=';', encoding='utf-8')\n",
        "ca2_2020 = pd.read_csv('/content/drive/MyDrive/br_anp_precos/input/combustiveis_automotivos/ca-2020-02.csv', sep=';', encoding='utf-8')\n",
        "glp1_2020 = pd.read_csv('/content/drive/MyDrive/br_anp_precos/input/glp/glp-2020-01.csv', sep=';', encoding='utf-8')\n",
        "glp2_2020 = pd.read_csv('/content/drive/MyDrive/br_anp_precos/input/glp/glp-2020-02.csv', sep=';', encoding='utf-8')\n",
        "ca_2020 = ca1_2020.append([ca2_2020, glp1_2020, glp2_2020], ignore_index=True)"
      ],
      "execution_count": 119,
      "outputs": [
        {
          "output_type": "stream",
          "name": "stderr",
          "text": [
            "/usr/local/lib/python3.7/dist-packages/IPython/core/interactiveshell.py:2718: DtypeWarning: Columns (13) have mixed types.Specify dtype option on import or set low_memory=False.\n",
            "  interactivity=interactivity, compiler=compiler, result=result)\n"
          ]
        }
      ]
    },
    {
      "cell_type": "code",
      "metadata": {
        "id": "KrRf44OYDQpY"
      },
      "source": [
        "ca_2020 = pd.merge(id_mun, ca_2020,\n",
        "                   how='right', left_on=['sigla_uf', 'nome'], right_on=['Estado - Sigla', 'Municipio'])"
      ],
      "execution_count": 120,
      "outputs": []
    },
    {
      "cell_type": "code",
      "metadata": {
        "id": "G0ustVGsDQpY"
      },
      "source": [
        "ca_2020['endereco_revenda'] = ca_2020['Nome da Rua'].fillna('') + ',' + ca_2020['Numero Rua'].fillna('') + ' ' + ca_2020['Complemento'].fillna('')"
      ],
      "execution_count": 121,
      "outputs": []
    },
    {
      "cell_type": "code",
      "metadata": {
        "id": "-2yJ5FrsV5CK"
      },
      "source": [
        "data = ca_2020['Data da Coleta'].str.split('/', expand=True)\n",
        "data.columns = ['dia', 'mes', 'ano']\n",
        "data['data_coleta'] = data['ano'] + '-' + data['mes'] + '-' + data['dia']\n",
        "ca_2020 = pd.concat([ca_2020, data['data_coleta']], axis=1)"
      ],
      "execution_count": 122,
      "outputs": []
    },
    {
      "cell_type": "code",
      "metadata": {
        "id": "-KmCkK9QDQpZ"
      },
      "source": [
        "ca_2020.drop(drop, axis=1, inplace=True)\n",
        "ca_2020.rename(columns=rename, inplace=True)\n",
        "ca_2020['produto'] = ca_2020['produto'].str.lower()\n",
        "ca_2020['preco_compra'] = ca_2020['preco_compra'].fillna('')\n",
        "ca_2020['preco_venda'] = ca_2020['preco_venda'].fillna('')\n",
        "ca_2020.sort_values('data_coleta', inplace=True)\n",
        "ca_2020 = ca_2020[ordem]"
      ],
      "execution_count": 123,
      "outputs": []
    },
    {
      "cell_type": "code",
      "metadata": {
        "id": "eBjMoLXkDQpZ"
      },
      "source": [
        "ca_2020['unidade_medida'] = ca_2020['unidade_medida'].map({'R$ / litro': 'R$/litro', 'R$ / m³':'R$/m3', 'R$ / 13 kg':'R$/13kg'})\n",
        "ca_2020['nome_estabelecimento'] = ca_2020['nome_estabelecimento'].apply(lambda x: str(x).replace(',',''))\n",
        "ca_2020['preco_compra'] = ca_2020['preco_compra'].apply(lambda x: str(x).replace(',','.'))\n",
        "ca_2020['preco_venda'] = ca_2020['preco_venda'].apply(lambda x: str(x).replace(',','.'))"
      ],
      "execution_count": 124,
      "outputs": []
    },
    {
      "cell_type": "code",
      "metadata": {
        "id": "eC79uabWDQpa"
      },
      "source": [
        "ca_2020.drop_duplicates(subset=['cnpj_revenda', 'data_coleta', 'produto', 'preco_venda'], keep ='first', inplace = True)\n",
        "ca_2020.to_csv('/content/drive/MyDrive/br_anp_precos/output/combustiveis_2020.csv', index=False, encoding=\"utf-8\", na_rep=\"\")\n",
        "del ca_2020, ca1_2020, ca2_2020, glp1_2020, glp2_2020, data"
      ],
      "execution_count": 125,
      "outputs": []
    },
    {
      "cell_type": "markdown",
      "metadata": {
        "id": "FziHbx33D_DI"
      },
      "source": [
        "#### **2021**"
      ]
    },
    {
      "cell_type": "code",
      "metadata": {
        "id": "oZYO4ItSEMY0"
      },
      "source": [
        "#janeiro\n",
        "ca1j_2021 = pd.read_csv('/content/drive/MyDrive/br_anp_precos/input/combustiveis_automotivos/2021-01-diesel-gnv.csv', sep=';', encoding='utf-8')\n",
        "ca2j_2021 = pd.read_csv('/content/drive/MyDrive/br_anp_precos/input/combustiveis_automotivos/2021-01-gasolina-etanol.csv', sep=';', encoding='utf-8')\n",
        "glpj_2021 = pd.read_csv('/content/drive/MyDrive/br_anp_precos/input/glp/2021-01-glp.csv', sep=';', encoding='utf-8')\n",
        "#fevereiro\n",
        "ca1f_2021 = pd.read_csv('/content/drive/MyDrive/br_anp_precos/input/combustiveis_automotivos/2021-02-diesel-gnv.csv', sep=';', encoding='utf-8')\n",
        "ca2f_2021 = pd.read_csv('/content/drive/MyDrive/br_anp_precos/input/combustiveis_automotivos/2021-02-gasolina-etanol.csv', sep=';', encoding='utf-8')\n",
        "glpf_2021 = pd.read_csv('/content/drive/MyDrive/br_anp_precos/input/glp/2021-02-glp.csv', sep=';', encoding='utf-8')\n",
        "#março\n",
        "ca1m_2021 = pd.read_csv('/content/drive/MyDrive/br_anp_precos/input/combustiveis_automotivos/2021-03-diesel-gnv.csv', sep=';', encoding='utf-8')\n",
        "ca2m_2021 = pd.read_csv('/content/drive/MyDrive/br_anp_precos/input/combustiveis_automotivos/2021-03-gasolina-etanol.csv', sep=';', encoding='utf-8')\n",
        "glpm_2021 = pd.read_csv('/content/drive/MyDrive/br_anp_precos/input/glp/2021-03-glp.csv', sep=';', encoding='utf-8')\n",
        "#abril\n",
        "ca1a_2021 = pd.read_csv('/content/drive/MyDrive/br_anp_precos/input/combustiveis_automotivos/2021-04-diesel-gnv.csv', sep=';', encoding='utf-8')\n",
        "ca2a_2021 = pd.read_csv('/content/drive/MyDrive/br_anp_precos/input/combustiveis_automotivos/2021-04-gasolina-etanol.csv', sep=';', encoding='utf-8')\n",
        "glpa_2021 = pd.read_csv('/content/drive/MyDrive/br_anp_precos/input/glp/2021-04-glp.csv', sep=';', encoding='utf-8')\n",
        "#maio\n",
        "ca1ma_2021 = pd.read_csv('/content/drive/MyDrive/br_anp_precos/input/combustiveis_automotivos/2021-05-diesel-gnv-1.csv', sep=';', encoding='utf-8')\n",
        "ca2ma_2021 = pd.read_csv('/content/drive/MyDrive/br_anp_precos/input/combustiveis_automotivos/2021-05-gasolina-etanol-1.csv', sep=';', encoding='utf-8')\n",
        "glpma_2021 = pd.read_csv('/content/drive/MyDrive/br_anp_precos/input/glp/2021-05-glp-1.csv', sep=';', encoding='utf-8')\n",
        "#junho\n",
        "ca1jun_2021 = pd.read_csv('/content/drive/MyDrive/br_anp_precos/input/combustiveis_automotivos/2021-06-diesel-gnv.csv', sep=';', encoding='utf-8')\n",
        "ca2jun_2021 = pd.read_csv('/content/drive/MyDrive/br_anp_precos/input/combustiveis_automotivos/2021-06-gasolina-etanol.csv', sep=';', encoding='utf-8')\n",
        "glpjun_2021 = pd.read_csv('/content/drive/MyDrive/br_anp_precos/input/glp/2021-06-glp.csv', sep=';', encoding='utf-8')\n",
        "#julho\n",
        "ca1jul_2021 = pd.read_csv('/content/drive/MyDrive/br_anp_precos/input/combustiveis_automotivos/2021-07-diesel-gnv.csv', sep=';', encoding='utf-8')\n",
        "ca2jul_2021 = pd.read_csv('/content/drive/MyDrive/br_anp_precos/input/combustiveis_automotivos/2021-07-gasolina-etanol.csv', sep=';', encoding='utf-8')\n",
        "glpjul_2021 = pd.read_csv('/content/drive/MyDrive/br_anp_precos/input/glp/2021-07-glp.csv', sep=';', encoding='utf-8')"
      ],
      "execution_count": 126,
      "outputs": []
    },
    {
      "cell_type": "code",
      "metadata": {
        "id": "M9N7LOWIsZ7i"
      },
      "source": [
        "ca1_2021 = ca1j_2021.append([ca2j_2021, glpj_2021, ca1f_2021, ca2f_2021, glpf_2021, ca1m_2021, ca2m_2021,\n",
        "                           glpm_2021, ca1a_2021, ca2a_2021, glpa_2021, ca1ma_2021, ca2ma_2021, glpma_2021,\n",
        "                           ca1jun_2021, ca2jun_2021, glpjun_2021, ca1jul_2021, ca2jul_2021, glpjul_2021], ignore_index=True)"
      ],
      "execution_count": 127,
      "outputs": []
    },
    {
      "cell_type": "code",
      "metadata": {
        "id": "ig1URoG4tDL4"
      },
      "source": [
        "#junta 1º semestre e cria arquivo no input\n",
        "ca1_2021.to_csv('/content/drive/MyDrive/br_anp_precos/input/combustiveis_2021-01.csv', index=False, encoding=\"utf-8\", na_rep=\"\")\n",
        "del ca1j_2021, ca2j_2021, glpj_2021, ca1f_2021, ca2f_2021, glpf_2021, ca1m_2021, ca2m_2021, glpm_2021, ca1a_2021, ca2a_2021, glpa_2021, ca1ma_2021, ca2ma_2021, glpma_2021, ca1jun_2021, ca2jun_2021, glpjun_2021, ca1jul_2021, ca2jul_2021, glpjul_2021"
      ],
      "execution_count": 128,
      "outputs": []
    },
    {
      "cell_type": "code",
      "metadata": {
        "id": "4jPLEmYbteJT"
      },
      "source": [
        "#agosto\n",
        "ca1ag_2021 = pd.read_csv('/content/drive/MyDrive/br_anp_precos/input/combustiveis_automotivos/ultimas-4-semanas-diesel-gnv-2021.csv', sep=';', encoding='utf-8')\n",
        "ca2ag_2021 = pd.read_csv('/content/drive/MyDrive/br_anp_precos/input/combustiveis_automotivos/ultimas-4-semanas-gasolina-etanol-2021.csv', sep=';', encoding='utf-8')\n",
        "glpag_2021 = pd.read_csv('/content/drive/MyDrive/br_anp_precos/input/glp/ultimas-4-semanas-glp-2021.csv', sep=';', encoding='utf-8')\n",
        "ca_2021 = ca1_2021.append([ca1ag_2021, ca2ag_2021, glpag_2021], ignore_index=True)"
      ],
      "execution_count": 129,
      "outputs": []
    },
    {
      "cell_type": "code",
      "metadata": {
        "id": "NQ-xTXUCuUjo"
      },
      "source": [
        "ca_2021 = pd.merge(id_mun, ca_2021,\n",
        "                   how='right', left_on=['sigla_uf', 'nome'], right_on=['Estado - Sigla', 'Município'])"
      ],
      "execution_count": 130,
      "outputs": []
    },
    {
      "cell_type": "code",
      "metadata": {
        "id": "4qHpDC44vC6a"
      },
      "source": [
        "ca_2021['endereco_revenda'] = ca_2021['Nome da Rua'].fillna('') + ',' + ca_2021['Número Rua'].fillna('') + ' ' + ca_2021['Complemento'].fillna('')"
      ],
      "execution_count": 131,
      "outputs": []
    },
    {
      "cell_type": "code",
      "metadata": {
        "id": "XfgbzlvWWb5c"
      },
      "source": [
        "data = ca_2021['Data da Coleta'].str.split('/', expand=True)\n",
        "data.columns = ['dia', 'mes', 'ano']\n",
        "data['data_coleta'] = data['ano'] + '-' + data['mes'] + '-' + data['dia']\n",
        "ca_2021 = pd.concat([ca_2021, data['data_coleta']], axis=1)"
      ],
      "execution_count": 132,
      "outputs": []
    },
    {
      "cell_type": "code",
      "metadata": {
        "id": "jzR7nuv_vVDf"
      },
      "source": [
        "ca_2021.drop(['nome','Região - Sigla', 'Estado - Sigla', 'Município', 'Nome da Rua', 'Número Rua', 'Complemento'], axis=1, inplace=True)\n",
        "ca_2021.rename(columns=rename, inplace=True)\n",
        "ca_2021['produto'] = ca_2021['produto'].str.lower()\n",
        "ca_2021['preco_compra'] = ca_2021['preco_compra'].fillna('')\n",
        "ca_2021['preco_venda'] = ca_2021['preco_venda'].fillna('')\n",
        "ca_2021.sort_values('data_coleta', inplace=True)\n",
        "ca_2021 = ca_2021[ordem]"
      ],
      "execution_count": 133,
      "outputs": []
    },
    {
      "cell_type": "code",
      "metadata": {
        "id": "HrivX0e1wKu4"
      },
      "source": [
        "ca_2021['unidade_medida'] = ca_2021['unidade_medida'].map({'R$ / litro':'R$/litro', 'R$ / m³':'R$/m3', 'R$ / 13 kg':'R$/13kg'})\n",
        "ca_2021['nome_estabelecimento'] = ca_2021['nome_estabelecimento'].apply(lambda x: str(x).replace(',',''))\n",
        "ca_2021['preco_compra'] = ca_2021['preco_compra'].apply(lambda x: str(x).replace(',','.'))\n",
        "ca_2021['preco_venda'] = ca_2021['preco_venda'].apply(lambda x: str(x).replace(',','.'))"
      ],
      "execution_count": 134,
      "outputs": []
    },
    {
      "cell_type": "code",
      "metadata": {
        "id": "D-lIK_svRJyA"
      },
      "source": [
        "ca_2021.drop_duplicates(subset=['cnpj_revenda', 'data_coleta', 'produto', 'preco_venda'], keep ='first', inplace = True)\n",
        "ca_2021.to_csv('/content/drive/MyDrive/br_anp_precos/output/combustiveis_2021.csv', index=False, encoding=\"utf-8\", na_rep=\"\")\n",
        "del ca1_2021, ca1ag_2021, ca2ag_2021, data"
      ],
      "execution_count": 135,
      "outputs": []
    }
  ]
}