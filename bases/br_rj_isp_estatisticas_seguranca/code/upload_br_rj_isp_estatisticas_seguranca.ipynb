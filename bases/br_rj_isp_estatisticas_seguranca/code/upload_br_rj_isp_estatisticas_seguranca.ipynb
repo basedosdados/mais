{
 "cells": [
  {
   "cell_type": "code",
   "execution_count": 1,
   "metadata": {},
   "outputs": [],
   "source": [
    "import basedosdados as bd"
   ]
  },
  {
   "cell_type": "code",
   "execution_count": null,
   "metadata": {},
   "outputs": [],
   "source": [
    "#armas_apreendidas_mensal\n",
    "tb = bd.Table(dataset_id='br_rj_isp_estatisticas_seguranca' , table_id='armas_apreendidas_mensal')\n",
    "tb.create(\n",
    "    path= r\"C:\\Users\\gabri\\OneDrive\\vida_profissional\\Projetos\\base_dos_dados\\br_rj_isp_seguranca_publica\\output\\armas_apreendidas_mensal.csv\",\n",
    "    if_table_exists='replace',\n",
    "    if_storage_data_exists='replace',\n",
    "    if_table_config_exists='replace',\n",
    ")"
   ]
  },
  {
   "cell_type": "code",
   "execution_count": null,
   "metadata": {},
   "outputs": [],
   "source": [
    "#armas_fogo_apreendidas_mensal\n",
    "tb = bd.Table(dataset_id='br_rj_isp_estatisticas_seguranca' , table_id='armas_fogo_apreendidas_mensal')\n",
    "tb.create(\n",
    "    path= r\"C:\\Users\\gabri\\OneDrive\\vida_profissional\\Projetos\\base_dos_dados\\br_rj_isp_seguranca_publica\\output\\armas_fogo_apreendidas_mensal.csv\",\n",
    "    if_table_exists='replace',\n",
    "    if_storage_data_exists='replace',\n",
    "    if_table_config_exists='replace',\n",
    ")"
   ]
  },
  {
   "cell_type": "code",
   "execution_count": 5,
   "metadata": {},
   "outputs": [
    {
     "name": "stderr",
     "output_type": "stream",
     "text": [
      "Uploading files: 100%|██████████| 1/1 [00:03<00:00,  3.02s/it]\n",
      "2023-04-17 15:38:21.373 | SUCCESS  | basedosdados.upload.storage:upload:232 -  File evolucao_mensal_cisp.csv_['staging'] was uploaded!\n",
      "2023-04-17 15:38:25.426 | SUCCESS  | basedosdados.upload.metadata:create:344 -  Metadata evolucao_mensal_cisp was created!\n",
      "2023-04-17 15:38:27.126 | INFO     | basedosdados.upload.table:delete:842 -  Table evolucao_mensal_cisp_staging was deleted!\n",
      "2023-04-17 15:38:27.550 | SUCCESS  | basedosdados.upload.table:create:722 - Table evolucao_mensal_cisp was created!\n"
     ]
    }
   ],
   "source": [
    "#evolucao_mensal_cisp\n",
    "tb = bd.Table(dataset_id='br_rj_isp_estatisticas_seguranca' , table_id='evolucao_mensal_cisp')\n",
    "tb.create(\n",
    "    path= r\"C:\\Users\\gabri\\OneDrive\\vida_profissional\\Projetos\\base_dos_dados\\br_rj_isp_seguranca_publica\\output\\evolucao_mensal_cisp.csv\",\n",
    "    if_table_exists='replace',\n",
    "    if_storage_data_exists='replace',\n",
    "    if_table_config_exists='replace',\n",
    ")"
   ]
  },
  {
   "cell_type": "code",
   "execution_count": 6,
   "metadata": {},
   "outputs": [
    {
     "name": "stderr",
     "output_type": "stream",
     "text": [
      "Uploading files: 100%|██████████| 1/1 [00:01<00:00,  1.67s/it]\n",
      "2023-04-17 15:38:42.005 | SUCCESS  | basedosdados.upload.storage:upload:232 -  File evolucao_mensal_municipio.csv_['staging'] was uploaded!\n",
      "2023-04-17 15:38:45.979 | SUCCESS  | basedosdados.upload.metadata:create:344 -  Metadata evolucao_mensal_municipio was created!\n",
      "2023-04-17 15:38:47.575 | INFO     | basedosdados.upload.table:delete:842 -  Table evolucao_mensal_municipio_staging was deleted!\n",
      "2023-04-17 15:38:48.004 | SUCCESS  | basedosdados.upload.table:create:722 - Table evolucao_mensal_municipio was created!\n"
     ]
    }
   ],
   "source": [
    "#evolucao_mensal_municipio\n",
    "tb = bd.Table(dataset_id='br_rj_isp_estatisticas_seguranca' , table_id='evolucao_mensal_municipio')\n",
    "tb.create(\n",
    "    path= r\"C:\\Users\\gabri\\OneDrive\\vida_profissional\\Projetos\\base_dos_dados\\br_rj_isp_seguranca_publica\\output\\evolucao_mensal_municipio.csv\",\n",
    "    if_table_exists='replace',\n",
    "    if_storage_data_exists='replace',\n",
    "    if_table_config_exists='replace',\n",
    ")"
   ]
  },
  {
   "cell_type": "code",
   "execution_count": 8,
   "metadata": {},
   "outputs": [
    {
     "name": "stderr",
     "output_type": "stream",
     "text": [
      "Uploading files: 100%|██████████| 1/1 [00:01<00:00,  1.26s/it]\n",
      "2023-04-17 15:39:13.644 | SUCCESS  | basedosdados.upload.storage:upload:232 -  File evolucao_mensal_uf.csv_['staging'] was uploaded!\n",
      "2023-04-17 15:39:17.584 | SUCCESS  | basedosdados.upload.metadata:create:344 -  Metadata evolucao_mensal_uf was created!\n",
      "2023-04-17 15:39:19.327 | INFO     | basedosdados.upload.table:delete:842 -  Table evolucao_mensal_uf_staging was deleted!\n",
      "2023-04-17 15:39:19.840 | SUCCESS  | basedosdados.upload.table:create:722 - Table evolucao_mensal_uf was created!\n"
     ]
    }
   ],
   "source": [
    "#evolucao_mensal_uf\n",
    "tb = bd.Table(dataset_id='br_rj_isp_estatisticas_seguranca' , table_id='evolucao_mensal_uf')\n",
    "tb.create(\n",
    "    path= r\"C:\\Users\\gabri\\OneDrive\\vida_profissional\\Projetos\\base_dos_dados\\br_rj_isp_seguranca_publica\\output\\evolucao_mensal_uf.csv\",\n",
    "    if_table_exists='replace',\n",
    "    if_storage_data_exists='replace',\n",
    "    if_table_config_exists='replace',\n",
    ")"
   ]
  },
  {
   "cell_type": "code",
   "execution_count": 10,
   "metadata": {},
   "outputs": [
    {
     "name": "stderr",
     "output_type": "stream",
     "text": [
      "Uploading files: 100%|██████████| 1/1 [00:01<00:00,  1.52s/it]\n",
      "2023-04-17 15:39:34.777 | SUCCESS  | basedosdados.upload.storage:upload:232 -  File evolucao_mensal_upp.csv_['staging'] was uploaded!\n",
      "2023-04-17 15:39:38.740 | SUCCESS  | basedosdados.upload.metadata:create:344 -  Metadata evolucao_mensal_upp was created!\n",
      "2023-04-17 15:39:40.295 | INFO     | basedosdados.upload.table:delete:842 -  Table evolucao_mensal_upp_staging was deleted!\n",
      "2023-04-17 15:39:40.697 | SUCCESS  | basedosdados.upload.table:create:722 - Table evolucao_mensal_upp was created!\n"
     ]
    }
   ],
   "source": [
    "#evolucao_mensal_upp\n",
    "tb = bd.Table(dataset_id='br_rj_isp_estatisticas_seguranca' , table_id='evolucao_mensal_upp')\n",
    "tb.create(\n",
    "    path= r\"C:\\Users\\gabri\\OneDrive\\vida_profissional\\Projetos\\base_dos_dados\\br_rj_isp_seguranca_publica\\output\\evolucao_mensal_upp.csv\",\n",
    "    if_table_exists='replace',\n",
    "    if_storage_data_exists='replace',\n",
    "    if_table_config_exists='replace',\n",
    ")"
   ]
  },
  {
   "cell_type": "code",
   "execution_count": 11,
   "metadata": {},
   "outputs": [
    {
     "name": "stderr",
     "output_type": "stream",
     "text": [
      "Uploading files: 100%|██████████| 1/1 [00:01<00:00,  1.49s/it]\n",
      "2023-04-17 15:40:00.204 | SUCCESS  | basedosdados.upload.storage:upload:232 -  File evolucao_policial_morto_servico_mensal.csv_['staging'] was uploaded!\n",
      "2023-04-17 15:40:03.939 | SUCCESS  | basedosdados.upload.metadata:create:344 -  Metadata evolucao_policial_morto_servico_mensal was created!\n",
      "2023-04-17 15:40:05.162 | INFO     | basedosdados.upload.table:delete:842 -  Table evolucao_policial_morto_servico_mensal_staging was deleted!\n",
      "2023-04-17 15:40:05.558 | SUCCESS  | basedosdados.upload.table:create:722 - Table evolucao_policial_morto_servico_mensal was created!\n"
     ]
    }
   ],
   "source": [
    "#evolucao_policial_morto_servico_mensal\n",
    "tb = bd.Table(dataset_id='br_rj_isp_estatisticas_seguranca' , table_id='evolucao_policial_morto_servico_mensal')\n",
    "tb.create(\n",
    "    path= r\"C:\\Users\\gabri\\OneDrive\\vida_profissional\\Projetos\\base_dos_dados\\br_rj_isp_seguranca_publica\\output\\evolucao_policial_morto_servico_mensal.csv\",\n",
    "    if_table_exists='replace',\n",
    "    if_storage_data_exists='replace',\n",
    "    if_table_config_exists='replace',\n",
    ")"
   ]
  },
  {
   "cell_type": "code",
   "execution_count": 3,
   "metadata": {},
   "outputs": [
    {
     "name": "stderr",
     "output_type": "stream",
     "text": [
      "Uploading files: 100%|██████████| 1/1 [00:01<00:00,  1.66s/it]\n",
      "2023-04-17 15:41:08.555 | SUCCESS  | basedosdados.upload.storage:upload:232 -  File feminicidio_mensal_uf.csv_['staging'] was uploaded!\n",
      "2023-04-17 15:41:12.453 | SUCCESS  | basedosdados.upload.metadata:create:344 -  Metadata feminicidio_mensal_uf was created!\n",
      "2023-04-17 15:41:13.706 | INFO     | basedosdados.upload.table:delete:842 -  Table feminicidio_mensal_uf_staging was deleted!\n",
      "2023-04-17 15:41:14.119 | SUCCESS  | basedosdados.upload.table:create:722 - Table feminicidio_mensal_uf was created!\n"
     ]
    }
   ],
   "source": [
    "#feminicidio_mensal_uf\n",
    "tb = bd.Table(dataset_id='br_rj_isp_estatisticas_seguranca' , table_id='feminicidio_mensal_uf')\n",
    "tb.create(\n",
    "    path= r\"C:\\Users\\gabri\\OneDrive\\vida_profissional\\Projetos\\base_dos_dados\\br_rj_isp_seguranca_publica\\output\\feminicidio_mensal_uf.csv\",\n",
    "    if_table_exists='replace',\n",
    "    if_storage_data_exists='replace',\n",
    "    if_table_config_exists='replace',\n",
    ")"
   ]
  },
  {
   "cell_type": "code",
   "execution_count": 4,
   "metadata": {},
   "outputs": [
    {
     "name": "stderr",
     "output_type": "stream",
     "text": [
      "Uploading files: 100%|██████████| 1/1 [00:01<00:00,  1.33s/it]\n",
      "2023-04-17 15:41:31.808 | SUCCESS  | basedosdados.upload.storage:upload:232 -  File taxa_evolucao_anual_municipio.csv_['staging'] was uploaded!\n",
      "2023-04-17 15:41:35.747 | SUCCESS  | basedosdados.upload.metadata:create:344 -  Metadata taxa_evolucao_anual_municipio was created!\n",
      "2023-04-17 15:41:37.173 | INFO     | basedosdados.upload.table:delete:842 -  Table taxa_evolucao_anual_municipio_staging was deleted!\n",
      "2023-04-17 15:41:37.577 | SUCCESS  | basedosdados.upload.table:create:722 - Table taxa_evolucao_anual_municipio was created!\n"
     ]
    }
   ],
   "source": [
    "#taxa_evolucao_anual_municipio\n",
    "tb = bd.Table(dataset_id='br_rj_isp_estatisticas_seguranca' , table_id='taxa_evolucao_anual_municipio')\n",
    "tb.create(\n",
    "    path= r\"C:\\Users\\gabri\\OneDrive\\vida_profissional\\Projetos\\base_dos_dados\\br_rj_isp_seguranca_publica\\output\\taxa_evolucao_anual_municipio.csv\",\n",
    "    if_table_exists='replace',\n",
    "    if_storage_data_exists='replace',\n",
    "    if_table_config_exists='replace',\n",
    ")"
   ]
  },
  {
   "cell_type": "code",
   "execution_count": 5,
   "metadata": {},
   "outputs": [
    {
     "name": "stderr",
     "output_type": "stream",
     "text": [
      "Uploading files: 100%|██████████| 1/1 [00:01<00:00,  1.17s/it]\n",
      "2023-04-17 15:42:01.733 | SUCCESS  | basedosdados.upload.storage:upload:232 -  File taxa_evolucao_anual_uf.csv_['staging'] was uploaded!\n",
      "2023-04-17 15:42:05.542 | SUCCESS  | basedosdados.upload.metadata:create:344 -  Metadata taxa_evolucao_anual_uf was created!\n",
      "2023-04-17 15:42:07.125 | INFO     | basedosdados.upload.table:delete:842 -  Table taxa_evolucao_anual_uf_staging was deleted!\n",
      "2023-04-17 15:42:07.509 | SUCCESS  | basedosdados.upload.table:create:722 - Table taxa_evolucao_anual_uf was created!\n"
     ]
    }
   ],
   "source": [
    "#taxa_evolucao_anual_uf\n",
    "tb = bd.Table(dataset_id='br_rj_isp_estatisticas_seguranca' , table_id='taxa_evolucao_anual_uf')\n",
    "tb.create(\n",
    "    path= r\"C:\\Users\\gabri\\OneDrive\\vida_profissional\\Projetos\\base_dos_dados\\br_rj_isp_seguranca_publica\\output\\taxa_evolucao_anual_uf.csv\",\n",
    "    if_table_exists='replace',\n",
    "    if_storage_data_exists='replace',\n",
    "    if_table_config_exists='replace',\n",
    ")"
   ]
  },
  {
   "cell_type": "code",
   "execution_count": 6,
   "metadata": {},
   "outputs": [
    {
     "name": "stderr",
     "output_type": "stream",
     "text": [
      "Uploading files: 100%|██████████| 1/1 [00:02<00:00,  2.61s/it]\n",
      "2023-04-17 15:42:28.565 | SUCCESS  | basedosdados.upload.storage:upload:232 -  File taxa_evolucao_mensal_municipio.csv_['staging'] was uploaded!\n",
      "2023-04-17 15:42:32.548 | SUCCESS  | basedosdados.upload.metadata:create:344 -  Metadata taxa_evolucao_mensal_municipio was created!\n",
      "2023-04-17 15:42:34.439 | INFO     | basedosdados.upload.table:delete:842 -  Table taxa_evolucao_mensal_municipio_staging was deleted!\n",
      "2023-04-17 15:42:34.847 | SUCCESS  | basedosdados.upload.table:create:722 - Table taxa_evolucao_mensal_municipio was created!\n"
     ]
    }
   ],
   "source": [
    "#taxa_evolucao_mensal_municipio\n",
    "tb = bd.Table(dataset_id='br_rj_isp_estatisticas_seguranca' , table_id='taxa_evolucao_mensal_municipio')\n",
    "tb.create(\n",
    "    path= r\"C:\\Users\\gabri\\OneDrive\\vida_profissional\\Projetos\\base_dos_dados\\br_rj_isp_seguranca_publica\\output\\taxa_evolucao_mensal_municipio.csv\",\n",
    "    if_table_exists='replace',\n",
    "    if_storage_data_exists='replace',\n",
    "    if_table_config_exists='replace',\n",
    ")"
   ]
  },
  {
   "cell_type": "code",
   "execution_count": 7,
   "metadata": {},
   "outputs": [
    {
     "name": "stderr",
     "output_type": "stream",
     "text": [
      "Uploading files: 100%|██████████| 1/1 [00:01<00:00,  1.23s/it]\n",
      "2023-04-17 15:42:59.398 | SUCCESS  | basedosdados.upload.storage:upload:232 -  File taxa_evolucao_mensal_uf.csv_['staging'] was uploaded!\n",
      "2023-04-17 15:43:03.272 | SUCCESS  | basedosdados.upload.metadata:create:344 -  Metadata taxa_evolucao_mensal_uf was created!\n",
      "2023-04-17 15:43:04.793 | INFO     | basedosdados.upload.table:delete:842 -  Table taxa_evolucao_mensal_uf_staging was deleted!\n",
      "2023-04-17 15:43:05.236 | SUCCESS  | basedosdados.upload.table:create:722 - Table taxa_evolucao_mensal_uf was created!\n"
     ]
    }
   ],
   "source": [
    "#taxa_evolucao_mensal_uf\n",
    "tb = bd.Table(dataset_id='br_rj_isp_estatisticas_seguranca' , table_id='taxa_evolucao_mensal_uf')\n",
    "tb.create(\n",
    "    path= r\"C:\\Users\\gabri\\OneDrive\\vida_profissional\\Projetos\\base_dos_dados\\br_rj_isp_seguranca_publica\\output\\taxa_evolucao_mensal_uf.csv\",\n",
    "    if_table_exists='replace',\n",
    "    if_storage_data_exists='replace',\n",
    "    if_table_config_exists='replace',\n",
    ")"
   ]
  },
  {
   "cell_type": "code",
   "execution_count": 8,
   "metadata": {},
   "outputs": [
    {
     "name": "stderr",
     "output_type": "stream",
     "text": [
      "Uploading files: 100%|██████████| 1/1 [00:01<00:00,  1.20s/it]\n",
      "2023-04-17 15:43:28.793 | SUCCESS  | basedosdados.upload.storage:upload:232 -  File taxa_letalidade.csv_['staging'] was uploaded!\n",
      "2023-04-17 15:43:32.648 | SUCCESS  | basedosdados.upload.metadata:create:344 -  Metadata taxa_letalidade was created!\n",
      "2023-04-17 15:43:33.868 | INFO     | basedosdados.upload.table:delete:842 -  Table taxa_letalidade_staging was deleted!\n",
      "2023-04-17 15:43:34.290 | SUCCESS  | basedosdados.upload.table:create:722 - Table taxa_letalidade was created!\n"
     ]
    }
   ],
   "source": [
    "#taxa_letalidade\n",
    "tb = bd.Table(dataset_id='br_rj_isp_estatisticas_seguranca' , table_id='taxa_letalidade')\n",
    "tb.create(\n",
    "    path= r\"C:\\Users\\gabri\\OneDrive\\vida_profissional\\Projetos\\base_dos_dados\\br_rj_isp_seguranca_publica\\output\\taxa_letalidade.csv\",\n",
    "    if_table_exists='replace',\n",
    "    if_storage_data_exists='replace',\n",
    "    if_table_config_exists='replace',\n",
    ")"
   ]
  },
  {
   "cell_type": "code",
   "execution_count": 5,
   "metadata": {},
   "outputs": [
    {
     "name": "stdout",
     "output_type": "stream",
     "text": [
      "colunas atualizadas para o arquivo: evolucao_mensal_cisp\n",
      "colunas atualizadas para o arquivo: evolucao_mensal_uf\n",
      "colunas atualizadas para o arquivo: taxa_evolucao_mensal_uf\n",
      "colunas atualizadas para o arquivo: taxa_evolucao_anual_uf\n",
      "colunas atualizadas para o arquivo: evolucao_mensal_municipio\n",
      "colunas atualizadas para o arquivo: taxa_evolucao_mensal_municipio\n",
      "colunas atualizadas para o arquivo: taxa_evolucao_anual_municipio\n",
      "colunas atualizadas para o arquivo: evolucao_mensal_upp\n",
      "colunas atualizadas para o arquivo: armas_apreendidas_mensal\n",
      "colunas atualizadas para o arquivo: armas_fogo_apreendidas_mensal\n",
      "colunas atualizadas para o arquivo: evolucao_policial_morto_servico_mensal\n",
      "colunas atualizadas para o arquivo: feminicidio_mensal_uf\n",
      "colunas atualizadas para o arquivo: taxa_letalidade\n"
     ]
    }
   ],
   "source": [
    "files = [\n",
    "    'evolucao_mensal_cisp', \n",
    "    'evolucao_mensal_uf',\n",
    "    'taxa_evolucao_mensal_uf', \n",
    "    'taxa_evolucao_anual_uf', \n",
    "    'evolucao_mensal_municipio', \n",
    "    'taxa_evolucao_mensal_municipio', \n",
    "    'taxa_evolucao_anual_municipio', \n",
    "    'evolucao_mensal_upp', \n",
    "    'armas_apreendidas_mensal', \n",
    "    'armas_fogo_apreendidas_mensal', \n",
    "    'evolucao_policial_morto_servico_mensal', \n",
    "    'feminicidio_mensal_uf', \n",
    "    'taxa_letalidade'\n",
    "]\n",
    "\n",
    "\n",
    "dict_arquitetura = {\n",
    "    'evolucao_mensal_cisp' : 'https://docs.google.com/spreadsheets/d/1jibGPOYF6Tack3n9MmiQKdBagbeK-oLr/edit#gid=55379267',\n",
    "    'evolucao_mensal_uf' : 'https://docs.google.com/spreadsheets/d/1seN6LQ9WQnobVNpFw6KX5BMhYr0yyZa2/edit#gid=1349095453',\n",
    "    'taxa_evolucao_mensal_uf' : 'https://docs.google.com/spreadsheets/d/1fQ7MnfHm8vrlfdUhAYlU7F-CJouORKkc/edit#gid=1414191356',\n",
    "    'taxa_evolucao_anual_uf' : 'https://docs.google.com/spreadsheets/d/117EyqVw5a6_0PFPISjLZuZLIsRqyZiOo/edit#gid=588874333',\n",
    "    'evolucao_mensal_municipio' : 'https://docs.google.com/spreadsheets/d/1cHPcIBfmFwSxgMTsvGX-Ha-Efz7ZIDpn/edit#gid=347509921',\n",
    "    'taxa_evolucao_mensal_municipio' : 'https://docs.google.com/spreadsheets/d/1VKorutzmHUl71a2J--auChJm8tC-652i/edit#gid=199121203',\n",
    "    'taxa_evolucao_anual_municipio' : 'https://docs.google.com/spreadsheets/d/1LeH92JhPkr59NoUwepOgHKlsJIS6k-2W/edit#gid=786684819',\n",
    "    'evolucao_mensal_upp' : 'https://docs.google.com/spreadsheets/d/1TGG8T5xzmO_tzo9RScnIOt2NKjyIHu2O/edit#gid=1336604684', \n",
    "    'armas_apreendidas_mensal' : 'https://docs.google.com/spreadsheets/d/19gynYMOxzfgjd7HsPjH4LbOkgV9844WSoVBiqAgp340/edit#gid=0', \n",
    "    'armas_fogo_apreendidas_mensal' : 'https://docs.google.com/spreadsheets/d/14wV3BkjG_9GDWKDUAbOVe2KOh0Bi6FAA/edit#gid=1673208544',\n",
    "    'evolucao_policial_morto_servico_mensal' : 'https://docs.google.com/spreadsheets/d/1wuRr-I73jje0nkSeF_9LEJSpRmuwIftX/edit#gid=1573015202',\n",
    "    'feminicidio_mensal_uf' : 'https://docs.google.com/spreadsheets/d/1DLb9GQAZR-TRbJp0YYc1w71OsEwXPYa8/edit#gid=1573015202', \n",
    "    'taxa_letalidade': 'https://docs.google.com/spreadsheets/d/1wMbutt7Gs17ZlGEZ_-SBT4bwtF_QSWd5KLR-m8KaBMo/edit#gid=0'\n",
    "    }\n",
    "\n",
    "\n",
    "for file in files:\n",
    "    tb = bd.Table(dataset_id='br_rj_isp_estatisticas_seguranca' , table_id= file)\n",
    "    tb.update_columns(dict_arquitetura[file])\n",
    "    print(f'colunas atualizadas para o arquivo: {file}')\n",
    "          "
   ]
  }
 ],
 "metadata": {
  "kernelspec": {
   "display_name": "vm_basedosdados",
   "language": "python",
   "name": "python3"
  },
  "language_info": {
   "codemirror_mode": {
    "name": "ipython",
    "version": 3
   },
   "file_extension": ".py",
   "mimetype": "text/x-python",
   "name": "python",
   "nbconvert_exporter": "python",
   "pygments_lexer": "ipython3",
   "version": "3.9.12"
  },
  "orig_nbformat": 4
 },
 "nbformat": 4,
 "nbformat_minor": 2
}
