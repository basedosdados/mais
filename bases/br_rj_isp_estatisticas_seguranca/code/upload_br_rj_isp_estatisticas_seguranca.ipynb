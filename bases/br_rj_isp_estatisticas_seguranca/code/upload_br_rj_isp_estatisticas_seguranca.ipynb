{
 "cells": [
  {
   "cell_type": "code",
   "execution_count": 2,
   "metadata": {},
   "outputs": [],
   "source": [
    "import basedosdados as bd"
   ]
  },
  {
   "cell_type": "code",
   "execution_count": null,
   "metadata": {},
   "outputs": [],
   "source": [
    "#armas_apreendidas_mensal\n",
    "tb = bd.Table(dataset_id='br_rj_isp_estatisticas_seguranca' , table_id='armas_apreendidas_mensal')\n",
    "tb.create(\n",
    "    path= r\"C:\\Users\\gabri\\OneDrive\\vida_profissional\\Projetos\\base_dos_dados\\br_rj_isp_seguranca_publica\\output\\armas_apreendidas_mensal.csv\",\n",
    "    if_table_exists='replace',\n",
    "    if_storage_data_exists='replace',\n",
    "    if_table_config_exists='replace',\n",
    ")"
   ]
  },
  {
   "cell_type": "code",
   "execution_count": null,
   "metadata": {},
   "outputs": [],
   "source": [
    "#armas_fogo_apreendidas_mensal\n",
    "tb = bd.Table(dataset_id='br_rj_isp_estatisticas_seguranca' , table_id='armas_fogo_apreendidas_mensal')\n",
    "tb.create(\n",
    "    path= r\"C:\\Users\\gabri\\OneDrive\\vida_profissional\\Projetos\\base_dos_dados\\br_rj_isp_seguranca_publica\\output\\armas_fogo_apreendidas_mensal.csv\",\n",
    "    if_table_exists='replace',\n",
    "    if_storage_data_exists='replace',\n",
    "    if_table_config_exists='replace',\n",
    ")"
   ]
  },
  {
   "cell_type": "code",
   "execution_count": 5,
   "metadata": {},
   "outputs": [
    {
     "name": "stderr",
     "output_type": "stream",
     "text": [
      "Uploading files: 100%|██████████| 1/1 [00:03<00:00,  3.02s/it]\n",
      "2023-04-17 15:38:21.373 | SUCCESS  | basedosdados.upload.storage:upload:232 -  File evolucao_mensal_cisp.csv_['staging'] was uploaded!\n",
      "2023-04-17 15:38:25.426 | SUCCESS  | basedosdados.upload.metadata:create:344 -  Metadata evolucao_mensal_cisp was created!\n",
      "2023-04-17 15:38:27.126 | INFO     | basedosdados.upload.table:delete:842 -  Table evolucao_mensal_cisp_staging was deleted!\n",
      "2023-04-17 15:38:27.550 | SUCCESS  | basedosdados.upload.table:create:722 - Table evolucao_mensal_cisp was created!\n"
     ]
    }
   ],
   "source": [
    "#evolucao_mensal_cisp\n",
    "tb = bd.Table(dataset_id='br_rj_isp_estatisticas_seguranca' , table_id='evolucao_mensal_cisp')\n",
    "tb.create(\n",
    "    path= r\"C:\\Users\\gabri\\OneDrive\\vida_profissional\\Projetos\\base_dos_dados\\br_rj_isp_seguranca_publica\\output\\evolucao_mensal_cisp.csv\",\n",
    "    if_table_exists='replace',\n",
    "    if_storage_data_exists='replace',\n",
    "    if_table_config_exists='replace',\n",
    ")"
   ]
  },
  {
   "cell_type": "code",
   "execution_count": 6,
   "metadata": {},
   "outputs": [
    {
     "name": "stderr",
     "output_type": "stream",
     "text": [
      "Uploading files: 100%|██████████| 1/1 [00:01<00:00,  1.67s/it]\n",
      "2023-04-17 15:38:42.005 | SUCCESS  | basedosdados.upload.storage:upload:232 -  File evolucao_mensal_municipio.csv_['staging'] was uploaded!\n",
      "2023-04-17 15:38:45.979 | SUCCESS  | basedosdados.upload.metadata:create:344 -  Metadata evolucao_mensal_municipio was created!\n",
      "2023-04-17 15:38:47.575 | INFO     | basedosdados.upload.table:delete:842 -  Table evolucao_mensal_municipio_staging was deleted!\n",
      "2023-04-17 15:38:48.004 | SUCCESS  | basedosdados.upload.table:create:722 - Table evolucao_mensal_municipio was created!\n"
     ]
    }
   ],
   "source": [
    "#evolucao_mensal_municipio\n",
    "tb = bd.Table(dataset_id='br_rj_isp_estatisticas_seguranca' , table_id='evolucao_mensal_municipio')\n",
    "tb.create(\n",
    "    path= r\"C:\\Users\\gabri\\OneDrive\\vida_profissional\\Projetos\\base_dos_dados\\br_rj_isp_seguranca_publica\\output\\evolucao_mensal_municipio.csv\",\n",
    "    if_table_exists='replace',\n",
    "    if_storage_data_exists='replace',\n",
    "    if_table_config_exists='replace',\n",
    ")"
   ]
  },
  {
   "cell_type": "code",
   "execution_count": 8,
   "metadata": {},
   "outputs": [
    {
     "name": "stderr",
     "output_type": "stream",
     "text": [
      "Uploading files: 100%|██████████| 1/1 [00:01<00:00,  1.26s/it]\n",
      "2023-04-17 15:39:13.644 | SUCCESS  | basedosdados.upload.storage:upload:232 -  File evolucao_mensal_uf.csv_['staging'] was uploaded!\n",
      "2023-04-17 15:39:17.584 | SUCCESS  | basedosdados.upload.metadata:create:344 -  Metadata evolucao_mensal_uf was created!\n",
      "2023-04-17 15:39:19.327 | INFO     | basedosdados.upload.table:delete:842 -  Table evolucao_mensal_uf_staging was deleted!\n",
      "2023-04-17 15:39:19.840 | SUCCESS  | basedosdados.upload.table:create:722 - Table evolucao_mensal_uf was created!\n"
     ]
    }
   ],
   "source": [
    "#evolucao_mensal_uf\n",
    "tb = bd.Table(dataset_id='br_rj_isp_estatisticas_seguranca' , table_id='evolucao_mensal_uf')\n",
    "tb.create(\n",
    "    path= r\"C:\\Users\\gabri\\OneDrive\\vida_profissional\\Projetos\\base_dos_dados\\br_rj_isp_seguranca_publica\\output\\evolucao_mensal_uf.csv\",\n",
    "    if_table_exists='replace',\n",
    "    if_storage_data_exists='replace',\n",
    "    if_table_config_exists='replace',\n",
    ")"
   ]
  },
  {
   "cell_type": "code",
   "execution_count": 10,
   "metadata": {},
   "outputs": [
    {
     "name": "stderr",
     "output_type": "stream",
     "text": [
      "Uploading files: 100%|██████████| 1/1 [00:01<00:00,  1.52s/it]\n",
      "2023-04-17 15:39:34.777 | SUCCESS  | basedosdados.upload.storage:upload:232 -  File evolucao_mensal_upp.csv_['staging'] was uploaded!\n",
      "2023-04-17 15:39:38.740 | SUCCESS  | basedosdados.upload.metadata:create:344 -  Metadata evolucao_mensal_upp was created!\n",
      "2023-04-17 15:39:40.295 | INFO     | basedosdados.upload.table:delete:842 -  Table evolucao_mensal_upp_staging was deleted!\n",
      "2023-04-17 15:39:40.697 | SUCCESS  | basedosdados.upload.table:create:722 - Table evolucao_mensal_upp was created!\n"
     ]
    }
   ],
   "source": [
    "#evolucao_mensal_upp\n",
    "tb = bd.Table(dataset_id='br_rj_isp_estatisticas_seguranca' , table_id='evolucao_mensal_upp')\n",
    "tb.create(\n",
    "    path= r\"C:\\Users\\gabri\\OneDrive\\vida_profissional\\Projetos\\base_dos_dados\\br_rj_isp_seguranca_publica\\output\\evolucao_mensal_upp.csv\",\n",
    "    if_table_exists='replace',\n",
    "    if_storage_data_exists='replace',\n",
    "    if_table_config_exists='replace',\n",
    ")"
   ]
  },
  {
   "cell_type": "code",
   "execution_count": 11,
   "metadata": {},
   "outputs": [
    {
     "name": "stderr",
     "output_type": "stream",
     "text": [
      "Uploading files: 100%|██████████| 1/1 [00:01<00:00,  1.49s/it]\n",
      "2023-04-17 15:40:00.204 | SUCCESS  | basedosdados.upload.storage:upload:232 -  File evolucao_policial_morto_servico_mensal.csv_['staging'] was uploaded!\n",
      "2023-04-17 15:40:03.939 | SUCCESS  | basedosdados.upload.metadata:create:344 -  Metadata evolucao_policial_morto_servico_mensal was created!\n",
      "2023-04-17 15:40:05.162 | INFO     | basedosdados.upload.table:delete:842 -  Table evolucao_policial_morto_servico_mensal_staging was deleted!\n",
      "2023-04-17 15:40:05.558 | SUCCESS  | basedosdados.upload.table:create:722 - Table evolucao_policial_morto_servico_mensal was created!\n"
     ]
    }
   ],
   "source": [
    "#evolucao_policial_morto_servico_mensal\n",
    "tb = bd.Table(dataset_id='br_rj_isp_estatisticas_seguranca' , table_id='evolucao_policial_morto_servico_mensal')\n",
    "tb.create(\n",
    "    path= r\"C:\\Users\\gabri\\OneDrive\\vida_profissional\\Projetos\\base_dos_dados\\br_rj_isp_seguranca_publica\\output\\evolucao_policial_morto_servico_mensal.csv\",\n",
    "    if_table_exists='replace',\n",
    "    if_storage_data_exists='replace',\n",
    "    if_table_config_exists='replace',\n",
    ")"
   ]
  },
  {
   "cell_type": "code",
   "execution_count": 1,
   "metadata": {},
   "outputs": [
    {
     "ename": "NameError",
     "evalue": "name 'bd' is not defined",
     "output_type": "error",
     "traceback": [
      "\u001b[1;31m---------------------------------------------------------------------------\u001b[0m",
      "\u001b[1;31mNameError\u001b[0m                                 Traceback (most recent call last)",
      "\u001b[1;32mc:\\Users\\gabri\\basedosdados\\mais\\bases\\br_rj_isp_estatisticas_seguranca\\code\\upload_br_rj_isp_estatisticas_seguranca.ipynb Cell 9\u001b[0m in \u001b[0;36m<cell line: 2>\u001b[1;34m()\u001b[0m\n\u001b[0;32m      <a href='vscode-notebook-cell:/c%3A/Users/gabri/basedosdados/mais/bases/br_rj_isp_estatisticas_seguranca/code/upload_br_rj_isp_estatisticas_seguranca.ipynb#X12sZmlsZQ%3D%3D?line=0'>1</a>\u001b[0m \u001b[39m#feminicidio_mensal_uf\u001b[39;00m\n\u001b[1;32m----> <a href='vscode-notebook-cell:/c%3A/Users/gabri/basedosdados/mais/bases/br_rj_isp_estatisticas_seguranca/code/upload_br_rj_isp_estatisticas_seguranca.ipynb#X12sZmlsZQ%3D%3D?line=1'>2</a>\u001b[0m tb \u001b[39m=\u001b[39m bd\u001b[39m.\u001b[39mTable(dataset_id\u001b[39m=\u001b[39m\u001b[39m'\u001b[39m\u001b[39mbr_rj_isp_estatisticas_seguranca\u001b[39m\u001b[39m'\u001b[39m , table_id\u001b[39m=\u001b[39m\u001b[39m'\u001b[39m\u001b[39mfeminicidio_mensal_uf\u001b[39m\u001b[39m'\u001b[39m)\n\u001b[0;32m      <a href='vscode-notebook-cell:/c%3A/Users/gabri/basedosdados/mais/bases/br_rj_isp_estatisticas_seguranca/code/upload_br_rj_isp_estatisticas_seguranca.ipynb#X12sZmlsZQ%3D%3D?line=2'>3</a>\u001b[0m tb\u001b[39m.\u001b[39mcreate(\n\u001b[0;32m      <a href='vscode-notebook-cell:/c%3A/Users/gabri/basedosdados/mais/bases/br_rj_isp_estatisticas_seguranca/code/upload_br_rj_isp_estatisticas_seguranca.ipynb#X12sZmlsZQ%3D%3D?line=3'>4</a>\u001b[0m     path\u001b[39m=\u001b[39m \u001b[39mr\u001b[39m\u001b[39m\"\u001b[39m\u001b[39mC:\u001b[39m\u001b[39m\\\u001b[39m\u001b[39mUsers\u001b[39m\u001b[39m\\\u001b[39m\u001b[39mgabri\u001b[39m\u001b[39m\\\u001b[39m\u001b[39mOneDrive\u001b[39m\u001b[39m\\\u001b[39m\u001b[39mvida_profissional\u001b[39m\u001b[39m\\\u001b[39m\u001b[39mProjetos\u001b[39m\u001b[39m\\\u001b[39m\u001b[39mbase_dos_dados\u001b[39m\u001b[39m\\\u001b[39m\u001b[39mbr_rj_isp_seguranca_publica\u001b[39m\u001b[39m\\\u001b[39m\u001b[39moutput\u001b[39m\u001b[39m\\\u001b[39m\u001b[39mfeminicidio_mensal_uf.csv\u001b[39m\u001b[39m\"\u001b[39m,\n\u001b[0;32m      <a href='vscode-notebook-cell:/c%3A/Users/gabri/basedosdados/mais/bases/br_rj_isp_estatisticas_seguranca/code/upload_br_rj_isp_estatisticas_seguranca.ipynb#X12sZmlsZQ%3D%3D?line=4'>5</a>\u001b[0m     if_table_exists\u001b[39m=\u001b[39m\u001b[39m'\u001b[39m\u001b[39mreplace\u001b[39m\u001b[39m'\u001b[39m,\n\u001b[0;32m      <a href='vscode-notebook-cell:/c%3A/Users/gabri/basedosdados/mais/bases/br_rj_isp_estatisticas_seguranca/code/upload_br_rj_isp_estatisticas_seguranca.ipynb#X12sZmlsZQ%3D%3D?line=5'>6</a>\u001b[0m     if_storage_data_exists\u001b[39m=\u001b[39m\u001b[39m'\u001b[39m\u001b[39mreplace\u001b[39m\u001b[39m'\u001b[39m,\n\u001b[0;32m      <a href='vscode-notebook-cell:/c%3A/Users/gabri/basedosdados/mais/bases/br_rj_isp_estatisticas_seguranca/code/upload_br_rj_isp_estatisticas_seguranca.ipynb#X12sZmlsZQ%3D%3D?line=6'>7</a>\u001b[0m     if_table_config_exists\u001b[39m=\u001b[39m\u001b[39m'\u001b[39m\u001b[39mreplace\u001b[39m\u001b[39m'\u001b[39m,\n\u001b[0;32m      <a href='vscode-notebook-cell:/c%3A/Users/gabri/basedosdados/mais/bases/br_rj_isp_estatisticas_seguranca/code/upload_br_rj_isp_estatisticas_seguranca.ipynb#X12sZmlsZQ%3D%3D?line=7'>8</a>\u001b[0m )\n",
      "\u001b[1;31mNameError\u001b[0m: name 'bd' is not defined"
     ]
    }
   ],
   "source": [
    "#feminicidio_mensal_uf\n",
    "tb = bd.Table(dataset_id='br_rj_isp_estatisticas_seguranca' , table_id='feminicidio_mensal_uf')\n",
    "tb.create(\n",
    "    path= r\"C:\\Users\\gabri\\OneDrive\\vida_profissional\\Projetos\\base_dos_dados\\br_rj_isp_seguranca_publica\\output\\feminicidio_mensal_uf.csv\",\n",
    "    if_table_exists='replace',\n",
    "    if_storage_data_exists='replace',\n",
    "    if_table_config_exists='replace',\n",
    ")"
   ]
  },
  {
   "cell_type": "code",
   "execution_count": null,
   "metadata": {},
   "outputs": [],
   "source": []
  },
  {
   "cell_type": "code",
   "execution_count": null,
   "metadata": {},
   "outputs": [],
   "source": []
  },
  {
   "cell_type": "code",
   "execution_count": null,
   "metadata": {},
   "outputs": [],
   "source": []
  }
 ],
 "metadata": {
  "kernelspec": {
   "display_name": "vm_basedosdados",
   "language": "python",
   "name": "python3"
  },
  "language_info": {
   "codemirror_mode": {
    "name": "ipython",
    "version": 3
   },
   "file_extension": ".py",
   "mimetype": "text/x-python",
   "name": "python",
   "nbconvert_exporter": "python",
   "pygments_lexer": "ipython3",
   "version": "3.9.12"
  },
  "orig_nbformat": 4
 },
 "nbformat": 4,
 "nbformat_minor": 2
}
