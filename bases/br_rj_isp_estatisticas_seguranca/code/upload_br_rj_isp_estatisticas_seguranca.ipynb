{
 "cells": [
  {
   "cell_type": "code",
   "execution_count": 1,
   "metadata": {},
   "outputs": [],
   "source": [
    "import basedosdados as bd"
   ]
  },
  {
   "cell_type": "code",
   "execution_count": 3,
   "metadata": {},
   "outputs": [
    {
     "name": "stderr",
     "output_type": "stream",
     "text": [
      "Uploading files: 100%|██████████| 1/1 [00:02<00:00,  2.42s/it]\n",
      "2023-04-18 22:20:02.464 | SUCCESS  | basedosdados.upload.storage:upload:232 -  File armas_apreendidas_mensal.csv_['staging'] was uploaded!\n",
      "2023-04-18 22:20:07.038 | SUCCESS  | basedosdados.upload.metadata:create:344 -  Metadata armas_apreendidas_mensal was created!\n",
      "2023-04-18 22:20:08.585 | INFO     | basedosdados.upload.table:delete:842 -  Table armas_apreendidas_mensal_staging was deleted!\n",
      "2023-04-18 22:20:09.013 | SUCCESS  | basedosdados.upload.table:create:722 - Table armas_apreendidas_mensal was created!\n"
     ]
    }
   ],
   "source": [
    "#armas_apreendidas_mensal\n",
    "tb = bd.Table(dataset_id='br_rj_isp_estatisticas_seguranca' , table_id='armas_apreendidas_mensal')\n",
    "tb.create(\n",
    "    path= r\"C:\\Users\\gabri\\OneDrive\\vida_profissional\\Projetos\\base_dos_dados\\br_rj_isp_seguranca_publica\\output\\armas_apreendidas_mensal.csv\",\n",
    "    if_table_exists='replace',\n",
    "    if_storage_data_exists='replace',\n",
    "    if_table_config_exists='replace',\n",
    ")"
   ]
  },
  {
   "cell_type": "code",
   "execution_count": 4,
   "metadata": {},
   "outputs": [
    {
     "name": "stderr",
     "output_type": "stream",
     "text": [
      "Uploading files: 100%|██████████| 1/1 [00:01<00:00,  1.40s/it]\n",
      "2023-04-18 22:20:10.769 | SUCCESS  | basedosdados.upload.storage:upload:232 -  File armas_fogo_apreendidas_mensal.csv_['staging'] was uploaded!\n",
      "2023-04-18 22:20:15.033 | SUCCESS  | basedosdados.upload.metadata:create:344 -  Metadata armas_fogo_apreendidas_mensal was created!\n",
      "2023-04-18 22:20:16.338 | INFO     | basedosdados.upload.table:delete:842 -  Table armas_fogo_apreendidas_mensal_staging was deleted!\n",
      "2023-04-18 22:20:16.733 | SUCCESS  | basedosdados.upload.table:create:722 - Table armas_fogo_apreendidas_mensal was created!\n"
     ]
    }
   ],
   "source": [
    "#armas_fogo_apreendidas_mensal\n",
    "tb = bd.Table(dataset_id='br_rj_isp_estatisticas_seguranca' , table_id='armas_fogo_apreendidas_mensal')\n",
    "tb.create(\n",
    "    path= r\"C:\\Users\\gabri\\OneDrive\\vida_profissional\\Projetos\\base_dos_dados\\br_rj_isp_seguranca_publica\\output\\armas_fogo_apreendidas_mensal.csv\",\n",
    "    if_table_exists='replace',\n",
    "    if_storage_data_exists='replace',\n",
    "    if_table_config_exists='replace',\n",
    ")"
   ]
  },
  {
   "cell_type": "code",
   "execution_count": null,
   "metadata": {},
   "outputs": [],
   "source": [
    "#evolucao_mensal_cisp\n",
    "tb = bd.Table(dataset_id='br_rj_isp_estatisticas_seguranca' , table_id='evolucao_mensal_cisp')\n",
    "tb.create(\n",
    "    path= r\"C:\\Users\\gabri\\OneDrive\\vida_profissional\\Projetos\\base_dos_dados\\br_rj_isp_seguranca_publica\\output\\evolucao_mensal_cisp.csv\",\n",
    "    if_table_exists='replace',\n",
    "    if_storage_data_exists='replace',\n",
    "    if_table_config_exists='replace',\n",
    ")"
   ]
  },
  {
   "cell_type": "code",
   "execution_count": null,
   "metadata": {},
   "outputs": [],
   "source": [
    "#evolucao_mensal_municipio\n",
    "tb = bd.Table(dataset_id='br_rj_isp_estatisticas_seguranca' , table_id='evolucao_mensal_municipio')\n",
    "tb.create(\n",
    "    path= r\"C:\\Users\\gabri\\OneDrive\\vida_profissional\\Projetos\\base_dos_dados\\br_rj_isp_seguranca_publica\\output\\evolucao_mensal_municipio.csv\",\n",
    "    if_table_exists='replace',\n",
    "    if_storage_data_exists='replace',\n",
    "    if_table_config_exists='replace',\n",
    ")"
   ]
  },
  {
   "cell_type": "code",
   "execution_count": null,
   "metadata": {},
   "outputs": [],
   "source": [
    "#evolucao_mensal_uf\n",
    "tb = bd.Table(dataset_id='br_rj_isp_estatisticas_seguranca' , table_id='evolucao_mensal_uf')\n",
    "tb.create(\n",
    "    path= r\"C:\\Users\\gabri\\OneDrive\\vida_profissional\\Projetos\\base_dos_dados\\br_rj_isp_seguranca_publica\\output\\evolucao_mensal_uf.csv\",\n",
    "    if_table_exists='replace',\n",
    "    if_storage_data_exists='replace',\n",
    "    if_table_config_exists='replace',\n",
    ")"
   ]
  },
  {
   "cell_type": "code",
   "execution_count": null,
   "metadata": {},
   "outputs": [],
   "source": [
    "#evolucao_mensal_upp\n",
    "tb = bd.Table(dataset_id='br_rj_isp_estatisticas_seguranca' , table_id='evolucao_mensal_upp')\n",
    "tb.create(\n",
    "    path= r\"C:\\Users\\gabri\\OneDrive\\vida_profissional\\Projetos\\base_dos_dados\\br_rj_isp_seguranca_publica\\output\\evolucao_mensal_upp.csv\",\n",
    "    if_table_exists='replace',\n",
    "    if_storage_data_exists='replace',\n",
    "    if_table_config_exists='replace',\n",
    ")"
   ]
  },
  {
   "cell_type": "code",
   "execution_count": null,
   "metadata": {},
   "outputs": [],
   "source": [
    "#evolucao_policial_morto_servico_mensal\n",
    "tb = bd.Table(dataset_id='br_rj_isp_estatisticas_seguranca' , table_id='evolucao_policial_morto_servico_mensal')\n",
    "tb.create(\n",
    "    path= r\"C:\\Users\\gabri\\OneDrive\\vida_profissional\\Projetos\\base_dos_dados\\br_rj_isp_seguranca_publica\\output\\evolucao_policial_morto_servico_mensal.csv\",\n",
    "    if_table_exists='replace',\n",
    "    if_storage_data_exists='replace',\n",
    "    if_table_config_exists='replace',\n",
    ")"
   ]
  },
  {
   "cell_type": "code",
   "execution_count": 2,
   "metadata": {},
   "outputs": [
    {
     "name": "stderr",
     "output_type": "stream",
     "text": [
      "Uploading files: 100%|██████████| 1/1 [00:01<00:00,  1.76s/it]\n",
      "2023-04-24 12:13:19.622 | SUCCESS  | basedosdados.upload.storage:upload:232 -  File feminicidio_mensal_cisp.csv_['staging'] was uploaded!\n",
      "2023-04-24 12:13:23.829 | SUCCESS  | basedosdados.upload.metadata:create:344 -  Metadata feminicidio_mensal_cisp was created!\n",
      "2023-04-24 12:13:25.063 | INFO     | basedosdados.upload.table:delete:842 -  Table feminicidio_mensal_cisp_staging was deleted!\n",
      "2023-04-24 12:13:25.476 | SUCCESS  | basedosdados.upload.table:create:722 - Table feminicidio_mensal_cisp was created!\n"
     ]
    }
   ],
   "source": [
    "#feminicidio_mensal_uf\n",
    "tb = bd.Table(dataset_id='br_rj_isp_estatisticas_seguranca' , table_id='feminicidio_mensal_cisp')\n",
    "tb.create(\n",
    "    path= r\"C:\\Users\\gabri\\OneDrive\\vida_profissional\\Projetos\\base_dos_dados\\br_rj_isp_seguranca_publica\\output\\feminicidio_mensal_cisp.csv\",\n",
    "    if_table_exists='replace',\n",
    "    if_storage_data_exists='replace',\n",
    "    if_table_config_exists='replace',\n",
    ")"
   ]
  },
  {
   "cell_type": "code",
   "execution_count": null,
   "metadata": {},
   "outputs": [],
   "source": [
    "#taxa_evolucao_anual_municipio\n",
    "tb = bd.Table(dataset_id='br_rj_isp_estatisticas_seguranca' , table_id='taxa_evolucao_anual_municipio')\n",
    "tb.create(\n",
    "    path= r\"C:\\Users\\gabri\\OneDrive\\vida_profissional\\Projetos\\base_dos_dados\\br_rj_isp_seguranca_publica\\output\\taxa_evolucao_anual_municipio.csv\",\n",
    "    if_table_exists='replace',\n",
    "    if_storage_data_exists='replace',\n",
    "    if_table_config_exists='replace',\n",
    ")"
   ]
  },
  {
   "cell_type": "code",
   "execution_count": null,
   "metadata": {},
   "outputs": [],
   "source": [
    "#taxa_evolucao_anual_uf\n",
    "tb = bd.Table(dataset_id='br_rj_isp_estatisticas_seguranca' , table_id='taxa_evolucao_anual_uf')\n",
    "tb.create(\n",
    "    path= r\"C:\\Users\\gabri\\OneDrive\\vida_profissional\\Projetos\\base_dos_dados\\br_rj_isp_seguranca_publica\\output\\taxa_evolucao_anual_uf.csv\",\n",
    "    if_table_exists='replace',\n",
    "    if_storage_data_exists='replace',\n",
    "    if_table_config_exists='replace',\n",
    ")"
   ]
  },
  {
   "cell_type": "code",
   "execution_count": null,
   "metadata": {},
   "outputs": [],
   "source": [
    "#taxa_evolucao_mensal_municipio\n",
    "tb = bd.Table(dataset_id='br_rj_isp_estatisticas_seguranca' , table_id='taxa_evolucao_mensal_municipio')\n",
    "tb.create(\n",
    "    path= r\"C:\\Users\\gabri\\OneDrive\\vida_profissional\\Projetos\\base_dos_dados\\br_rj_isp_seguranca_publica\\output\\taxa_evolucao_mensal_municipio.csv\",\n",
    "    if_table_exists='replace',\n",
    "    if_storage_data_exists='replace',\n",
    "    if_table_config_exists='replace',\n",
    ")"
   ]
  },
  {
   "cell_type": "code",
   "execution_count": null,
   "metadata": {},
   "outputs": [],
   "source": [
    "#taxa_evolucao_mensal_uf\n",
    "tb = bd.Table(dataset_id='br_rj_isp_estatisticas_seguranca' , table_id='taxa_evolucao_mensal_uf')\n",
    "tb.create(\n",
    "    path= r\"C:\\Users\\gabri\\OneDrive\\vida_profissional\\Projetos\\base_dos_dados\\br_rj_isp_seguranca_publica\\output\\taxa_evolucao_mensal_uf.csv\",\n",
    "    if_table_exists='replace',\n",
    "    if_storage_data_exists='replace',\n",
    "    if_table_config_exists='replace',\n",
    ")"
   ]
  },
  {
   "cell_type": "code",
   "execution_count": null,
   "metadata": {},
   "outputs": [],
   "source": [
    "#taxa_letalidade\n",
    "tb = bd.Table(dataset_id='br_rj_isp_estatisticas_seguranca' , table_id='taxa_letalidade')\n",
    "tb.create(\n",
    "    path= r\"C:\\Users\\gabri\\OneDrive\\vida_profissional\\Projetos\\base_dos_dados\\br_rj_isp_seguranca_publica\\output\\taxa_letalidade.csv\",\n",
    "    if_table_exists='replace',\n",
    "    if_storage_data_exists='replace',\n",
    "    if_table_config_exists='replace',\n",
    ")"
   ]
  },
  {
   "cell_type": "code",
   "execution_count": null,
   "metadata": {},
   "outputs": [],
   "source": [
    "#update columns\n",
    "\n",
    "dict_arquitetura = {\n",
    "    'evolucao_mensal_cisp' : 'https://docs.google.com/spreadsheets/d/1jibGPOYF6Tack3n9MmiQKdBagbeK-oLr/edit#gid=55379267',\n",
    "    'evolucao_mensal_uf' : 'https://docs.google.com/spreadsheets/d/1seN6LQ9WQnobVNpFw6KX5BMhYr0yyZa2/edit#gid=1349095453',\n",
    "    'taxa_evolucao_mensal_uf' : 'https://docs.google.com/spreadsheets/d/1fQ7MnfHm8vrlfdUhAYlU7F-CJouORKkc/edit#gid=1414191356',\n",
    "    'taxa_evolucao_anual_uf' : 'https://docs.google.com/spreadsheets/d/117EyqVw5a6_0PFPISjLZuZLIsRqyZiOo/edit#gid=588874333',\n",
    "    'evolucao_mensal_municipio' : 'https://docs.google.com/spreadsheets/d/1cHPcIBfmFwSxgMTsvGX-Ha-Efz7ZIDpn/edit#gid=347509921',\n",
    "    'taxa_evolucao_mensal_municipio' : 'https://docs.google.com/spreadsheets/d/1VKorutzmHUl71a2J--auChJm8tC-652i/edit#gid=199121203',\n",
    "    'taxa_evolucao_anual_municipio' : 'https://docs.google.com/spreadsheets/d/1LeH92JhPkr59NoUwepOgHKlsJIS6k-2W/edit#gid=786684819',\n",
    "    'evolucao_mensal_upp' : 'https://docs.google.com/spreadsheets/d/1TGG8T5xzmO_tzo9RScnIOt2NKjyIHu2O/edit#gid=1336604684', \n",
    "    'armas_apreendidas_mensal' : 'https://docs.google.com/spreadsheets/d/19gynYMOxzfgjd7HsPjH4LbOkgV9844WSoVBiqAgp340/edit#gid=0', \n",
    "    'armas_fogo_apreendidas_mensal' : 'https://docs.google.com/spreadsheets/d/14wV3BkjG_9GDWKDUAbOVe2KOh0Bi6FAA/edit#gid=1673208544',\n",
    "    'evolucao_policial_morto_servico_mensal' : 'https://docs.google.com/spreadsheets/d/1wuRr-I73jje0nkSeF_9LEJSpRmuwIftX/edit#gid=1573015202',\n",
    "    'feminicidio_mensal_cisp' : 'https://docs.google.com/spreadsheets/d/1DLb9GQAZR-TRbJp0YYc1w71OsEwXPYa8/edit#gid=1573015202', \n",
    "    'taxa_letalidade': 'https://docs.google.com/spreadsheets/d/1wMbutt7Gs17ZlGEZ_-SBT4bwtF_QSWd5KLR-m8KaBMo/edit#gid=0'\n",
    "    }\n",
    "\n",
    "\n",
    "for file in dict_arquitetura.keys():\n",
    "    tb = bd.Table(dataset_id='br_rj_isp_estatisticas_seguranca' , table_id= file)\n",
    "    tb.update_columns(dict_arquitetura[file])\n",
    "    print(f'colunas atualizadas para o arquivo: {file}')\n",
    "          "
   ]
  },
  {
   "cell_type": "code",
   "execution_count": null,
   "metadata": {},
   "outputs": [],
   "source": [
    "#metadata validate\n",
    "dict_arquitetura = {\n",
    "    'evolucao_mensal_cisp' : 'https://docs.google.com/spreadsheets/d/1jibGPOYF6Tack3n9MmiQKdBagbeK-oLr/edit#gid=55379267',\n",
    "    'evolucao_mensal_uf' : 'https://docs.google.com/spreadsheets/d/1seN6LQ9WQnobVNpFw6KX5BMhYr0yyZa2/edit#gid=1349095453',\n",
    "    'taxa_evolucao_mensal_uf' : 'https://docs.google.com/spreadsheets/d/1fQ7MnfHm8vrlfdUhAYlU7F-CJouORKkc/edit#gid=1414191356',\n",
    "    'taxa_evolucao_anual_uf' : 'https://docs.google.com/spreadsheets/d/117EyqVw5a6_0PFPISjLZuZLIsRqyZiOo/edit#gid=588874333',\n",
    "    'evolucao_mensal_municipio' : 'https://docs.google.com/spreadsheets/d/1cHPcIBfmFwSxgMTsvGX-Ha-Efz7ZIDpn/edit#gid=347509921',\n",
    "    'taxa_evolucao_mensal_municipio' : 'https://docs.google.com/spreadsheets/d/1VKorutzmHUl71a2J--auChJm8tC-652i/edit#gid=199121203',\n",
    "    'taxa_evolucao_anual_municipio' : 'https://docs.google.com/spreadsheets/d/1LeH92JhPkr59NoUwepOgHKlsJIS6k-2W/edit#gid=786684819',\n",
    "    'evolucao_mensal_upp' : 'https://docs.google.com/spreadsheets/d/1TGG8T5xzmO_tzo9RScnIOt2NKjyIHu2O/edit#gid=1336604684', \n",
    "    'armas_apreendidas_mensal' : 'https://docs.google.com/spreadsheets/d/19gynYMOxzfgjd7HsPjH4LbOkgV9844WSoVBiqAgp340/edit#gid=0', \n",
    "    'armas_fogo_apreendidas_mensal' : 'https://docs.google.com/spreadsheets/d/14wV3BkjG_9GDWKDUAbOVe2KOh0Bi6FAA/edit#gid=1673208544',\n",
    "    'evolucao_policial_morto_servico_mensal' : 'https://docs.google.com/spreadsheets/d/1wuRr-I73jje0nkSeF_9LEJSpRmuwIftX/edit#gid=1573015202',\n",
    "    'feminicidio_mensal_cisp' : 'https://docs.google.com/spreadsheets/d/1DLb9GQAZR-TRbJp0YYc1w71OsEwXPYa8/edit#gid=1573015202', \n",
    "    'taxa_letalidade': 'https://docs.google.com/spreadsheets/d/1wMbutt7Gs17ZlGEZ_-SBT4bwtF_QSWd5KLR-m8KaBMo/edit#gid=0'\n",
    "    }\n",
    "\n",
    "for file in dict_arquitetura.keys():\n",
    "    mb = bd.Metadata(dataset_id='br_rj_isp_estatisticas_seguranca' , table_id= file)\n",
    "    mb.validate()\n",
    "    print(f'metadata validado para o arquivo: {file}')"
   ]
  },
  {
   "cell_type": "code",
   "execution_count": 3,
   "metadata": {},
   "outputs": [
    {
     "name": "stderr",
     "output_type": "stream",
     "text": [
      "2023-04-24 12:19:35.636 | INFO     | basedosdados.upload.table:delete:842 -  Table feminicidio_mensal_cisp_prod was deleted!\n",
      "2023-04-24 12:19:39.370 | SUCCESS  | basedosdados.upload.table:update:771 -  Table feminicidio_mensal_cisp was updated!\n",
      "2023-04-24 12:19:39.370 | SUCCESS  | basedosdados.upload.table:publish:811 -  Table feminicidio_mensal_cisp was published!\n"
     ]
    },
    {
     "name": "stdout",
     "output_type": "stream",
     "text": [
      "tabela publicada: feminicidio_mensal_cisp\n"
     ]
    }
   ],
   "source": [
    "#publish\n",
    "\n",
    "\n",
    "dict_arquitetura = {\n",
    "    'evolucao_mensal_cisp' : 'https://docs.google.com/spreadsheets/d/1jibGPOYF6Tack3n9MmiQKdBagbeK-oLr/edit#gid=55379267',\n",
    "    'evolucao_mensal_uf' : 'https://docs.google.com/spreadsheets/d/1seN6LQ9WQnobVNpFw6KX5BMhYr0yyZa2/edit#gid=1349095453',\n",
    "    'taxa_evolucao_mensal_uf' : 'https://docs.google.com/spreadsheets/d/1fQ7MnfHm8vrlfdUhAYlU7F-CJouORKkc/edit#gid=1414191356',\n",
    "    'taxa_evolucao_anual_uf' : 'https://docs.google.com/spreadsheets/d/117EyqVw5a6_0PFPISjLZuZLIsRqyZiOo/edit#gid=588874333',\n",
    "    'evolucao_mensal_municipio' : 'https://docs.google.com/spreadsheets/d/1cHPcIBfmFwSxgMTsvGX-Ha-Efz7ZIDpn/edit#gid=347509921',\n",
    "    'taxa_evolucao_mensal_municipio' : 'https://docs.google.com/spreadsheets/d/1VKorutzmHUl71a2J--auChJm8tC-652i/edit#gid=199121203',\n",
    "    'taxa_evolucao_anual_municipio' : 'https://docs.google.com/spreadsheets/d/1LeH92JhPkr59NoUwepOgHKlsJIS6k-2W/edit#gid=786684819',\n",
    "    'evolucao_mensal_upp' : 'https://docs.google.com/spreadsheets/d/1TGG8T5xzmO_tzo9RScnIOt2NKjyIHu2O/edit#gid=1336604684', \n",
    "    'armas_apreendidas_mensal' : 'https://docs.google.com/spreadsheets/d/19gynYMOxzfgjd7HsPjH4LbOkgV9844WSoVBiqAgp340/edit#gid=0', \n",
    "    'armas_fogo_apreendidas_mensal' : 'https://docs.google.com/spreadsheets/d/14wV3BkjG_9GDWKDUAbOVe2KOh0Bi6FAA/edit#gid=1673208544',\n",
    "    'evolucao_policial_morto_servico_mensal' : 'https://docs.google.com/spreadsheets/d/1wuRr-I73jje0nkSeF_9LEJSpRmuwIftX/edit#gid=1573015202',\n",
    "    'feminicidio_mensal_cisp' : 'https://docs.google.com/spreadsheets/d/1DLb9GQAZR-TRbJp0YYc1w71OsEwXPYa8/edit#gid=1573015202', \n",
    "    'taxa_letalidade': 'https://docs.google.com/spreadsheets/d/1wMbutt7Gs17ZlGEZ_-SBT4bwtF_QSWd5KLR-m8KaBMo/edit#gid=0'\n",
    "    }\n",
    "\n",
    "\n",
    "for file in dict_arquitetura.keys():\n",
    "    tb = bd.Table(dataset_id='br_rj_isp_estatisticas_seguranca' , table_id= file)\n",
    "    tb.publish(if_exists='replace')\n",
    "    print(f'tabela publicada: {file}')"
   ]
  }
 ],
 "metadata": {
  "kernelspec": {
   "display_name": "vm_basedosdados",
   "language": "python",
   "name": "python3"
  },
  "language_info": {
   "codemirror_mode": {
    "name": "ipython",
    "version": 3
   },
   "file_extension": ".py",
   "mimetype": "text/x-python",
   "name": "python",
   "nbconvert_exporter": "python",
   "pygments_lexer": "ipython3",
   "version": "3.9.12"
  },
  "orig_nbformat": 4
 },
 "nbformat": 4,
 "nbformat_minor": 2
}
