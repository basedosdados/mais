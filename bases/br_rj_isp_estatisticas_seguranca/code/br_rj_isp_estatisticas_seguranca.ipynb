{
 "cells": [
  {
   "cell_type": "code",
   "execution_count": 1,
   "metadata": {},
   "outputs": [],
   "source": [
    "from utils import * \n",
    "import pandas as pd\n",
    "from io import StringIO\n",
    "import os\n",
    "import requests\n",
    "from bs4 import BeautifulSoup as soup\n",
    "from typing import List\n",
    "from typing import Dict"
   ]
  },
  {
   "cell_type": "code",
   "execution_count": null,
   "metadata": {},
   "outputs": [],
   "source": [
    "path = ''\n",
    "\n",
    "#download links\n",
    "links = get_links()\n",
    "\n",
    "#download files\n",
    "download_files(\n",
    "    links=links,\n",
    "    path=path\n",
    ")"
   ]
  },
  {
   "cell_type": "code",
   "execution_count": null,
   "metadata": {},
   "outputs": [],
   "source": [
    "#data wrang\n",
    "path_output = ''\n",
    "files = os.listdir(path)\n",
    "\n",
    "for file in files:\n",
    "    print(f'fazendo {file}')\n",
    "\n",
    "    if file.endswith(\".csv\"):\n",
    "        df = pd.read_csv(\n",
    "            \n",
    "            f\"{path}{file}\",  \n",
    "            encoding='latin-1',\n",
    "            sep = ';'\n",
    "        )\n",
    "        print('arquivo lido')\n",
    "    else: \n",
    "        df = pd.read_excel(\n",
    "            f\"{path}{file}\"\n",
    "        )\n",
    "        print('arquivo lido')\n",
    "\n",
    "\n",
    "    novo_nome = dict_original()[file]\n",
    "    link_arquitetura = dict_arquitetura()[novo_nome]\n",
    "    nomes_colunas = change_column_name(link_arquitetura)\n",
    "    df.rename(\n",
    "        columns = nomes_colunas,\n",
    "        inplace = True\n",
    "    )\n",
    "\n",
    "    print('colunas renomeadas')\n",
    "\n",
    "    ordem_colunas = create_column_order(link_arquitetura)\n",
    "    \n",
    "    df = df[ordem_colunas]\n",
    "    print('colunas ordenadas')\n",
    "    \n",
    "    df.to_csv(\n",
    "        f'{path_output}' + novo_nome,\n",
    "        index=False,\n",
    "        na_rep='',\n",
    "        encoding ='utf-8'\n",
    "    )\n",
    "    print(f'df {file} salvo com sucesso')"
   ]
  }
 ],
 "metadata": {
  "kernelspec": {
   "display_name": "vm_basedosdados",
   "language": "python",
   "name": "python3"
  },
  "language_info": {
   "codemirror_mode": {
    "name": "ipython",
    "version": 3
   },
   "file_extension": ".py",
   "mimetype": "text/x-python",
   "name": "python",
   "nbconvert_exporter": "python",
   "pygments_lexer": "ipython3",
   "version": "3.9.12"
  },
  "orig_nbformat": 4
 },
 "nbformat": 4,
 "nbformat_minor": 2
}
