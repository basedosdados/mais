{
  "nbformat": 4,
  "nbformat_minor": 0,
  "metadata": {
    "colab": {
      "name": "br_anatel_telefonia_movel_microdados",
      "provenance": []
    },
    "kernelspec": {
      "display_name": "Python 3",
      "name": "python3"
    },
    "language_info": {
      "name": "python"
    }
  },
  "cells": [
    {
      "cell_type": "code",
      "metadata": {
        "colab": {
          "base_uri": "https://localhost:8080/"
        },
        "id": "-vM9vDeRvutG",
        "outputId": "1df6ab04-2dcf-4856-8396-acf8532c6811"
      },
      "source": [
        "#download das bases - arquivo completo\n",
        "!wget -p https://www.anatel.gov.br/dadosabertos/paineis_de_dados/acessos/acessos_telefonia_movel.zip"
      ],
      "execution_count": 1,
      "outputs": [
        {
          "output_type": "stream",
          "name": "stdout",
          "text": [
            "--2021-10-24 10:20:22--  https://www.anatel.gov.br/dadosabertos/paineis_de_dados/acessos/acessos_telefonia_movel.zip\n",
            "Resolving www.anatel.gov.br (www.anatel.gov.br)... 200.0.81.81, 2801:80:c90:c1da:da0:2312:2000:1331\n",
            "Connecting to www.anatel.gov.br (www.anatel.gov.br)|200.0.81.81|:443... connected.\n",
            "HTTP request sent, awaiting response... 200 OK\n",
            "Length: 802894421 (766M) [application/x-zip-compressed]\n",
            "Saving to: ‘www.anatel.gov.br/dadosabertos/paineis_de_dados/acessos/acessos_telefonia_movel.zip’\n",
            "\n",
            "www.anatel.gov.br/d 100%[===================>] 765.70M   916KB/s    in 14m 34s \n",
            "\n",
            "2021-10-24 10:34:57 (897 KB/s) - ‘www.anatel.gov.br/dadosabertos/paineis_de_dados/acessos/acessos_telefonia_movel.zip’ saved [802894421/802894421]\n",
            "\n",
            "FINISHED --2021-10-24 10:34:57--\n",
            "Total wall clock time: 14m 35s\n",
            "Downloaded: 1 files, 766M in 14m 34s (897 KB/s)\n"
          ]
        }
      ]
    },
    {
      "cell_type": "code",
      "metadata": {
        "id": "ORrEjilkYEep",
        "colab": {
          "base_uri": "https://localhost:8080/"
        },
        "outputId": "975aa6eb-f30a-433d-c742-d35fd09220b5"
      },
      "source": [
        "#salvar arquivos no Drive\n",
        "from google.colab import drive\n",
        "drive.mount('/content/drive')"
      ],
      "execution_count": 4,
      "outputs": [
        {
          "output_type": "stream",
          "name": "stdout",
          "text": [
            "Mounted at /content/drive\n"
          ]
        }
      ]
    },
    {
      "cell_type": "code",
      "metadata": {
        "id": "xR3foGcYM32L"
      },
      "source": [
        "import pandas as pd\n",
        "import numpy as np\n",
        "import os\n",
        "from zipfile import ZipFile\n",
        "import zipfile"
      ],
      "execution_count": 2,
      "outputs": []
    },
    {
      "cell_type": "code",
      "metadata": {
        "colab": {
          "base_uri": "https://localhost:8080/"
        },
        "id": "1qLtsT4Y5eVb",
        "outputId": "e5376231-13ff-4969-f610-e825f6271aaf"
      },
      "source": [
        "with zipfile.ZipFile('/content/www.anatel.gov.br/dadosabertos/paineis_de_dados/acessos/acessos_telefonia_movel.zip') as z:\n",
        "  print(*z.namelist(), sep='\\n')"
      ],
      "execution_count": null,
      "outputs": [
        {
          "output_type": "stream",
          "name": "stdout",
          "text": [
            "Acessos_Telefonia_Movel_2005-200901_Modalidade_Colunas.csv\n",
            "Acessos_Telefonia_Movel_2005-200901_Tecnologia_Colunas.csv\n",
            "Acessos_Telefonia_Movel_2005-2018_Modalidade.csv\n",
            "Acessos_Telefonia_Movel_2005-2018_Tecnologia.csv\n",
            "Acessos_Telefonia_Movel_200902-2018_Modalidade_Colunas.csv\n",
            "Acessos_Telefonia_Movel_200902-2018_Tecnologia_Colunas.csv\n",
            "Acessos_Telefonia_Movel_200903-2018_Modalidade_Colunas.csv\n",
            "Acessos_Telefonia_Movel_200903-2018_Tecnologia_Colunas.csv\n",
            "Acessos_Telefonia_Movel_201901-201906.csv\n",
            "Acessos_Telefonia_Movel_201901-201906_Colunas.csv\n",
            "Acessos_Telefonia_Movel_201907-201912.csv\n",
            "Acessos_Telefonia_Movel_201907-201912_Colunas.csv\n",
            "Acessos_Telefonia_Movel_202001-202006.csv\n",
            "Acessos_Telefonia_Movel_202001-202006_Colunas.csv\n",
            "Acessos_Telefonia_Movel_202007-202012.csv\n",
            "Acessos_Telefonia_Movel_202007-202012_Colunas.csv\n",
            "Acessos_Telefonia_Movel_2021.csv\n",
            "Acessos_Telefonia_Movel_202101-202106_Colunas.csv\n",
            "Acessos_Telefonia_Movel_202107-202112_Colunas.csv\n",
            "Acessos_Telefonia_Movel_Pre_Pos_Total.csv\n",
            "Acessos_Telefonia_Movel_Total.csv\n",
            "Densidade_Telefonia_Movel.csv\n"
          ]
        }
      ]
    },
    {
      "cell_type": "code",
      "metadata": {
        "id": "tzPsnQEQV9v6"
      },
      "source": [
        "pasta = '/content/www.anatel.gov.br/dadosabertos/paineis_de_dados/acessos'\n",
        "mobile = os.path.join(pasta, 'acessos_telefonia_movel.zip')"
      ],
      "execution_count": 3,
      "outputs": []
    },
    {
      "cell_type": "markdown",
      "metadata": {
        "id": "vEWjd5uhss-Z"
      },
      "source": [
        "##### **Microdados (2019-2021)**"
      ]
    },
    {
      "cell_type": "code",
      "metadata": {
        "id": "gePZ62CJOUI-"
      },
      "source": [
        "#decodificando os arquivos (2019-2021)\n",
        "  #Anatel separa por ano/semestre\n",
        "with ZipFile(mobile) as z:\n",
        "  with z.open(f'Acessos_Telefonia_Movel_201901-201906.csv') as f:\n",
        "    tm_1 = pd.read_csv(f,sep=';', encoding='utf-8')"
      ],
      "execution_count": null,
      "outputs": []
    },
    {
      "cell_type": "code",
      "metadata": {
        "id": "qb6R8CmTPYou"
      },
      "source": [
        "with ZipFile(mobile) as z:\n",
        "  with z.open(f'Acessos_Telefonia_Movel_201907-201912.csv') as f:\n",
        "    tm_2 = pd.read_csv(f,sep=';', encoding='utf-8')"
      ],
      "execution_count": null,
      "outputs": []
    },
    {
      "cell_type": "code",
      "metadata": {
        "id": "tOrlisV4PeXr"
      },
      "source": [
        "with ZipFile(mobile) as z:\n",
        "  with z.open(f'Acessos_Telefonia_Movel_202001-202006.csv') as f:\n",
        "    tm_3 = pd.read_csv(f,sep=';', encoding='utf-8')"
      ],
      "execution_count": null,
      "outputs": []
    },
    {
      "cell_type": "code",
      "metadata": {
        "id": "yz6T8nrBYIXz"
      },
      "source": [
        "with ZipFile(mobile) as z:\n",
        "  with z.open(f'Acessos_Telefonia_Movel_202007-202012.csv') as f:\n",
        "    tm_4 = pd.read_csv(f,sep=';', encoding='utf-8')"
      ],
      "execution_count": null,
      "outputs": []
    },
    {
      "cell_type": "code",
      "metadata": {
        "id": "Pxsa87cgYKgz"
      },
      "source": [
        "with ZipFile(mobile) as z:\n",
        "  with z.open(f'Acessos_Telefonia_Movel_2021.csv') as f:\n",
        "    tm_5 = pd.read_csv(f,sep=';', encoding='utf-8')"
      ],
      "execution_count": null,
      "outputs": []
    },
    {
      "cell_type": "code",
      "metadata": {
        "id": "cAEglMAx57Ss"
      },
      "source": [
        "#renomeando as variáveis dos diferentes dataframes e excluindo variáveis desnecessárias\n",
        "dfs = [tm_1, tm_2, tm_3, tm_4, tm_5]\n",
        "ordem = ['ano', 'mes', 'sigla_uf', 'ddd', 'id_municipio', 'cnpj', 'empresa', 'porte_empresa', 'tecnologia', \n",
        "         'sinal', 'modalidade', 'pessoa', 'produto', 'acessos']\n",
        "rename = {'Ano': 'ano','Mês':'mes', 'Grupo Econômico':'grupo_economico', 'Empresa':'empresa', 'CNPJ':'cnpj', \n",
        "          'Porte da Prestadora':'porte_empresa', 'UF':'sigla_uf', 'Município':'municipio', 'Código IBGE Município':'id_municipio', \n",
        "          'Código Nacional':'ddd', 'Código Nacional (Chip)':'ddd_chip', 'Modalidade de Cobrança':'modalidade', 'Tecnologia':'tecnologia', \n",
        "          'Tecnologia Geração':'sinal', 'Tipo de Pessoa':'pessoa', 'Tipo de Produto':'produto', 'Acessos':'acessos'}\n",
        "\n",
        "for i in dfs:\n",
        "    i.rename(columns=rename, inplace=True)\n",
        "    i.drop(['grupo_economico', 'municipio', 'ddd_chip'], axis=1, inplace=True)\n",
        "    i['acessos_total'] = i.groupby(['ano', 'mes', 'sigla_uf', 'id_municipio', 'ddd', 'cnpj', 'empresa', 'porte_empresa', \n",
        "                                    'tecnologia', 'sinal', 'modalidade', 'pessoa', 'produto'])['acessos'].transform(np.sum)\n",
        "    i.sort_values(['ano', 'mes', 'sigla_uf', 'id_municipio', 'ddd', 'cnpj', 'empresa', 'porte_empresa', 'tecnologia', \n",
        "                   'sinal', 'modalidade', 'pessoa', 'produto'], inplace=True)\n",
        "    i.drop_duplicates(subset=['ano', 'mes', 'sigla_uf', 'id_municipio', 'ddd', 'cnpj', 'empresa', 'porte_empresa', \n",
        "                                   'tecnologia', 'sinal', 'modalidade', 'pessoa', 'produto'], keep='first', inplace=True)\n",
        "    i.drop('acessos', axis=1, inplace=True)\n",
        "    i.rename(columns={'acessos_total':'acessos'}, inplace=True)\n",
        "    i = i[ordem]"
      ],
      "execution_count": null,
      "outputs": []
    },
    {
      "cell_type": "code",
      "metadata": {
        "id": "577LayKoPkqS"
      },
      "source": [
        "#junção das bases\n",
        "tm_mun = tm_1.append([tm_2, tm_3, tm_4, tm_5], ignore_index=True)\n",
        "del tm_1, tm_2, tm_3, tm_4, tm_5"
      ],
      "execution_count": null,
      "outputs": []
    },
    {
      "cell_type": "code",
      "metadata": {
        "id": "AMDRtGsD_xao"
      },
      "source": [
        "#tipifcação da base\n",
        "tm_mun['produto'] = tm_mun['produto'].str.lower()\n",
        "tm_mun['id_municipio'] = tm_mun['id_municipio'].astype(str)\n",
        "tm_mun['ddd'] = pd.to_numeric(tm_mun['ddd'], downcast='integer').astype(str)\n",
        "tm_mun['cnpj'] = tm_mun['cnpj'].astype(str)\n",
        "tm_mun = tm_mun[ordem]"
      ],
      "execution_count": null,
      "outputs": []
    },
    {
      "cell_type": "code",
      "metadata": {
        "id": "2w4EeNzcAZFH"
      },
      "source": [
        "#tm_mun.to_csv('/content/telefonia_movel_municipio_2019-2021.csv', index=False) #salvar na memória do Colab\n",
        "tm_mun.to_csv('/content/drive/MyDrive/br_anatel/telefonia_movel/output/telefonia_movel_municipio_2019-2021.csv', index=False, encoding=\"utf-8\", na_rep=\"\")"
      ],
      "execution_count": null,
      "outputs": []
    },
    {
      "cell_type": "markdown",
      "metadata": {
        "id": "nIwkyPb8sg0f"
      },
      "source": [
        "##### **Dados Tecnologia e Modalidade (2005-2018)**"
      ]
    },
    {
      "cell_type": "code",
      "metadata": {
        "id": "2H2HP7s1TlkG"
      },
      "source": [
        "#decodificando os arquivos (2005-2018)\n",
        "  #Anatel separa em tecnologia(tipo de conexão) e modalidade (tipo de planos: pré e pós pago)\n",
        "with ZipFile(mobile) as z:\n",
        "  with z.open(f'Acessos_Telefonia_Movel_2005-2018_Tecnologia.csv') as f:\n",
        "   tm_tec = pd.read_csv(f,sep=';', encoding='utf-8')"
      ],
      "execution_count": null,
      "outputs": []
    },
    {
      "cell_type": "code",
      "metadata": {
        "id": "FRtmTvbZVBJF"
      },
      "source": [
        "#renomeando/padronizando variaveis ref. tm_tec (telefonia móvel - tecnologia)\n",
        "tm_tec.rename(columns={'Ano': 'ano','Mês':'mes', 'Grupo Econômico':'grupo_economico', 'Empresa':'empresa',\n",
        "                 'CNPJ':'cnpj', 'Porte da Prestadora':'porte_empresa', 'UF':'sigla_uf', 'Região PGO':'outorga', \n",
        "                 'Código Nacional':'ddd', 'Tecnologia':'tecnologia', 'Tecnologia Geração':'sinal', 'Acessos':'acessos'}, inplace=True) "
      ],
      "execution_count": null,
      "outputs": []
    },
    {
      "cell_type": "code",
      "metadata": {
        "id": "IKU0Pn_wXWvW"
      },
      "source": [
        "#exclusão de dados NaN (ddd & sigla_uf), início das observações completas em 2009\n",
        "tm_tec.dropna(inplace=True)"
      ],
      "execution_count": null,
      "outputs": []
    },
    {
      "cell_type": "code",
      "metadata": {
        "id": "G-tRJJAo_T_U"
      },
      "source": [
        "#exclusão de variáveis duplicadas\n",
        "tm_tec['acessos_total'] = tm_tec.groupby(['ano', 'mes', 'ddd', 'cnpj', 'tecnologia', 'sinal'])['acessos'].transform(np.sum)\n",
        "tm_tec.sort_values(['ano', 'mes', 'ddd', 'cnpj', 'tecnologia', 'sinal'], inplace=True)\n",
        "tm_tec.drop_duplicates(subset=['ano', 'mes', 'ddd', 'cnpj', 'tecnologia', 'sinal'], keep='first', inplace=True)\n",
        "tm_tec.drop('acessos', axis=1, inplace=True)\n",
        "tm_tec.rename(columns={'acessos_total':'acessos'}, inplace=True)"
      ],
      "execution_count": null,
      "outputs": []
    },
    {
      "cell_type": "code",
      "metadata": {
        "id": "PBfA7M-yU9pa"
      },
      "source": [
        "with ZipFile(mobile) as z:\n",
        "  with z.open(f'Acessos_Telefonia_Movel_2005-2018_Modalidade.csv') as f:\n",
        "   tm_mod = pd.read_csv(f,sep=';', encoding='utf-8')"
      ],
      "execution_count": null,
      "outputs": []
    },
    {
      "cell_type": "code",
      "metadata": {
        "id": "REk-6oNMVEH9"
      },
      "source": [
        "#renomeando/padronizando variaveis ref. tm_mod (telefonia_movel - modalidade)\n",
        "tm_mod.rename(columns={'Ano': 'ano','Mês':'mes', 'Grupo Econômico':'grupo_economico', 'Empresa':'empresa',\n",
        "                 'CNPJ':'cnpj', 'Porte da Prestadora':'porte_empresa', 'UF':'sigla_uf', 'Região PGO':'outorga', \n",
        "                 'Código Nacional':'ddd', 'Modalidade de Cobrança':'modalidade', 'Acessos':'acessos'}, inplace=True) "
      ],
      "execution_count": null,
      "outputs": []
    },
    {
      "cell_type": "code",
      "metadata": {
        "id": "cgabjv6H_8Fw"
      },
      "source": [
        "#exclusão de variáveis duplicadas\n",
        "tm_mod['acessos_total'] = tm_mod.groupby(['ano', 'mes', 'ddd', 'cnpj', 'modalidade'])['acessos'].transform(np.sum)\n",
        "tm_mod.sort_values(['ano', 'mes', 'ddd', 'cnpj', 'modalidade'], inplace=True)\n",
        "tm_mod.drop_duplicates(subset=['ano', 'mes', 'ddd', 'cnpj', 'modalidade'], keep='first', inplace=True)\n",
        "tm_mod.drop('acessos', axis=1, inplace=True)\n",
        "tm_mod.rename(columns={'acessos_total':'acessos'}, inplace=True)"
      ],
      "execution_count": null,
      "outputs": []
    },
    {
      "cell_type": "code",
      "metadata": {
        "id": "MwleM1ytWqPj"
      },
      "source": [
        "#drop de colunas não necessárias\n",
        "tm_tec.drop(['grupo_economico', 'outorga'], axis=1, inplace=True)\n",
        "tm_mod.drop(['grupo_economico', 'outorga'], axis=1, inplace=True)"
      ],
      "execution_count": null,
      "outputs": []
    },
    {
      "cell_type": "code",
      "metadata": {
        "id": "s2yGnAYiaEKi"
      },
      "source": [
        "#ordenação das colunas\n",
        "tm_tec = tm_tec[['ano', 'mes', 'sigla_uf', 'ddd', 'cnpj', 'empresa',  'porte_empresa',  'tecnologia', 'sinal', 'acessos']]\n",
        "tm_mod = tm_mod[['ano', 'mes', 'sigla_uf', 'ddd', 'cnpj', 'empresa',  'porte_empresa',  'modalidade', 'acessos']]"
      ],
      "execution_count": null,
      "outputs": []
    },
    {
      "cell_type": "code",
      "metadata": {
        "id": "qlTDUO3_JfcN"
      },
      "source": [
        "#transformação da variável de int64 pra string\n",
        "tm_tec['ddd'] = pd.to_numeric(tm_tec['ddd'], downcast='integer').astype(str)\n",
        "tm_tec['cnpj'] = tm_tec['cnpj'].astype(str)"
      ],
      "execution_count": null,
      "outputs": []
    },
    {
      "cell_type": "code",
      "metadata": {
        "id": "7WeWl6I_xFsF"
      },
      "source": [
        "#transformação da variável de int64 pra string\n",
        "tm_mod['ddd'] = pd.to_numeric(tm_mod['ddd'], downcast='integer').astype(str)\n",
        "tm_mod['cnpj'] = tm_mod['cnpj'].astype(str)"
      ],
      "execution_count": null,
      "outputs": []
    },
    {
      "cell_type": "code",
      "metadata": {
        "id": "ey2lwaoYEOY1"
      },
      "source": [
        "tec = ['ano', 'mes', 'sigla_uf', 'ddd', 'cnpj', 'empresa', 'porte_empresa', 'tecnologia', 'sinal', 'acessos']\n",
        "tm_mun_tec = tm_mun[tec]\n",
        "tm_tec_atual = tm_tec.append(tm_mun_tec, ignore_index=True)\n",
        "\n",
        "mod = ['ano', 'mes', 'sigla_uf', 'ddd', 'cnpj', 'empresa', 'porte_empresa', 'modalidade', 'acessos']\n",
        "tm_mun_mod = tm_mun[mod]\n",
        "tm_mod_atual = tm_mod.append(tm_mun_mod, ignore_index=True)"
      ],
      "execution_count": null,
      "outputs": []
    },
    {
      "cell_type": "code",
      "metadata": {
        "id": "Gy33pNeOVH4S"
      },
      "source": [
        "#exportação arquivo csv na memória do Colab\n",
        "#tm_tec.to_csv('/content/telefonia_movel_microdados_2009-2018_tecnologia.csv', index=False)\n",
        "#tm_mod.to_csv('/content/telefonia_movel_microdados_2005-2018_modalidade.csv', index=False)\n",
        "#ou salvar arquivos direto no Drive\n",
        "tm_tec_atual.to_csv('/content/drive/MyDrive/br_anatel/telefonia_movel/output/telefonia_movel_microdados_tecnologia_2009-2021.csv', index=False)\n",
        "tm_mod_atual.to_csv('/content/drive/MyDrive/br_anatel/telefonia_movel/output/telefonia_movel_microdados_modalidade_2005-2021.csv', index=False)"
      ],
      "execution_count": null,
      "outputs": []
    },
    {
      "cell_type": "code",
      "metadata": {
        "id": "9SEr2evQ3rWY"
      },
      "source": [
        "tm_mun = pd.read_csv('/content/drive/MyDrive/br_anatel/telefonia_movel/output/telefonia_movel_municipio_2019-2021.csv')"
      ],
      "execution_count": 8,
      "outputs": []
    },
    {
      "cell_type": "code",
      "metadata": {
        "colab": {
          "base_uri": "https://localhost:8080/",
          "height": 80
        },
        "id": "TcBLqjp04biT",
        "outputId": "8000096c-ca38-4c5c-e7f9-809502a5b4a3"
      },
      "source": [
        "tm_mun.head(1)"
      ],
      "execution_count": 12,
      "outputs": [
        {
          "output_type": "execute_result",
          "data": {
            "text/html": [
              "<div>\n",
              "<style scoped>\n",
              "    .dataframe tbody tr th:only-of-type {\n",
              "        vertical-align: middle;\n",
              "    }\n",
              "\n",
              "    .dataframe tbody tr th {\n",
              "        vertical-align: top;\n",
              "    }\n",
              "\n",
              "    .dataframe thead th {\n",
              "        text-align: right;\n",
              "    }\n",
              "</style>\n",
              "<table border=\"1\" class=\"dataframe\">\n",
              "  <thead>\n",
              "    <tr style=\"text-align: right;\">\n",
              "      <th></th>\n",
              "      <th>ano</th>\n",
              "      <th>mes</th>\n",
              "      <th>sigla_uf</th>\n",
              "      <th>ddd</th>\n",
              "      <th>id_municipio</th>\n",
              "      <th>cnpj</th>\n",
              "      <th>empresa</th>\n",
              "      <th>porte_empresa</th>\n",
              "      <th>tecnologia</th>\n",
              "      <th>sinal</th>\n",
              "      <th>modalidade</th>\n",
              "      <th>pessoa</th>\n",
              "      <th>produto</th>\n",
              "      <th>acessos</th>\n",
              "    </tr>\n",
              "  </thead>\n",
              "  <tbody>\n",
              "    <tr>\n",
              "      <th>0</th>\n",
              "      <td>2019</td>\n",
              "      <td>1</td>\n",
              "      <td>AC</td>\n",
              "      <td>68</td>\n",
              "      <td>1200013</td>\n",
              "      <td>2421421000111</td>\n",
              "      <td>TIM</td>\n",
              "      <td>Grande Porte</td>\n",
              "      <td>GSM</td>\n",
              "      <td>2G</td>\n",
              "      <td>Pré-pago</td>\n",
              "      <td>Pessoa Física</td>\n",
              "      <td>voz+dados</td>\n",
              "      <td>585</td>\n",
              "    </tr>\n",
              "  </tbody>\n",
              "</table>\n",
              "</div>"
            ],
            "text/plain": [
              "    ano  mes sigla_uf  ddd  ...  modalidade         pessoa    produto acessos\n",
              "0  2019    1       AC   68  ...    Pré-pago  Pessoa Física  voz+dados     585\n",
              "\n",
              "[1 rows x 14 columns]"
            ]
          },
          "metadata": {},
          "execution_count": 12
        }
      ]
    },
    {
      "cell_type": "code",
      "metadata": {
        "id": "Fp2v3GI67_va"
      },
      "source": [
        "#brasil\n",
        "tm_br = tm_mod_atual.drop(['sigla_uf', 'ddd', 'empresa','cnpj', 'porte_empresa',  'modalidade'], axis = 1)\n",
        "tm_br['acessos_total'] = tm_br.groupby(['ano', 'mes'])['acessos'].transform(np.sum)\n",
        "tm_br.sort_values(['ano', 'mes'], inplace=True)\n",
        "tm_br.drop_duplicates(subset=['ano', 'mes'], keep ='first', inplace = True)\n",
        "tm_br.drop('acessos', axis=1, inplace=True)\n",
        "tm_br.rename(columns={'acessos_total':'acessos'}, inplace=True)\n",
        "\n",
        "#uf\n",
        "tm_uf = tm_mod_atual.drop(['ddd', 'empresa','cnpj', 'porte_empresa',  'modalidade'], axis = 1)\n",
        "tm_uf['acessos_total'] = tm_uf.groupby(['ano', 'mes', 'sigla_uf'])['acessos'].transform(np.sum)\n",
        "tm_uf.sort_values(['ano', 'mes', 'sigla_uf'], inplace=True)\n",
        "tm_uf.drop_duplicates(subset=['ano', 'mes', 'sigla_uf'], keep ='first', inplace = True)\n",
        "tm_uf.drop('acessos', axis=1, inplace=True)\n",
        "tm_uf.rename(columns={'acessos_total':'acessos'}, inplace=True)\n",
        "\n",
        "#municipio\n",
        "tm_mu = tm_mun.drop(['sigla_uf', 'ddd', 'empresa','cnpj', 'porte_empresa', 'tecnologia', 'sinal', 'modalidade', 'pessoa', 'produto'], axis = 1)\n",
        "tm_mu['acessos_total'] = tm_mu.groupby(['ano', 'mes', 'id_municipio'])['acessos'].transform(np.sum)\n",
        "tm_mu.sort_values(['ano', 'mes', 'id_municipio'], inplace=True)\n",
        "tm_mu.drop_duplicates(subset=['ano', 'mes', 'id_municipio'], keep ='first', inplace = True)\n",
        "tm_mu.drop('acessos', axis=1, inplace=True)\n",
        "tm_mu.rename(columns={'acessos_total':'acessos'}, inplace=True)"
      ],
      "execution_count": 14,
      "outputs": []
    },
    {
      "cell_type": "code",
      "metadata": {
        "id": "PUBlUqQi9sqL"
      },
      "source": [
        "with ZipFile(mobile) as z:\n",
        "  with z.open(f'Densidade_Telefonia_Movel.csv') as f:\n",
        "    densidade = pd.read_csv(f,sep=';', encoding='utf-8')"
      ],
      "execution_count": 16,
      "outputs": []
    },
    {
      "cell_type": "code",
      "metadata": {
        "id": "M3_z7JvA9yhi"
      },
      "source": [
        "densidade.rename(columns={'Nível Geográfico Densidade':'Geografia'}, inplace=True)\n",
        "densidade_br = densidade[densidade.Geografia.isin(['Brasil'])]\n",
        "densidade_uf = densidade[densidade.Geografia.isin(['UF'])]\n",
        "densidade_munic = densidade[densidade.Geografia.isin(['Municipio'])]"
      ],
      "execution_count": 17,
      "outputs": []
    },
    {
      "cell_type": "code",
      "metadata": {
        "id": "UKtFsZynHSQN"
      },
      "source": [
        "densidade_br.drop(['UF', 'Município', 'Código IBGE', 'Geografia'], axis=1, inplace=True)\n",
        "densidade_br.rename(columns={'Ano':'ano', 'Mês':'mes', 'Densidade':'densidade'}, inplace=True)\n",
        "densidade_br['densidade'] = densidade_br['densidade'].apply(lambda x: str(x).replace(',','.'))\n",
        "densidade_br = pd.merge(tm_br, densidade_br,\n",
        "                         how='left', left_on=['ano', 'mes'],\n",
        "                         right_on=['ano', 'mes'])\n",
        "densidade_br['acessos'] = densidade_br['acessos'].astype('int64')\n",
        "densidade_br.to_csv('/content/drive/MyDrive/br_anatel/telefonia_movel/output/densidade_telefonia_movel_brasil.csv', index=False, encoding=\"utf-8\", na_rep=\"\")\n",
        "\n",
        "densidade_uf.drop(['Município', 'Código IBGE', 'Geografia'], axis=1, inplace=True)\n",
        "densidade_uf.rename(columns={'Ano':'ano', 'Mês':'mes', 'UF':'sigla_uf', 'Densidade':'densidade'}, inplace=True)\n",
        "densidade_uf['densidade'] = densidade_uf['densidade'].apply(lambda x: str(x).replace(',','.'))\n",
        "densidade_uf = pd.merge(tm_uf, densidade_uf,\n",
        "                         how='left', left_on=['ano', 'mes', 'sigla_uf'],\n",
        "                         right_on=['ano', 'mes', 'sigla_uf'])\n",
        "densidade_uf = densidade_uf.dropna()\n",
        "densidade_uf = densidade_uf[densidade_uf.densidade != \"0\"]\n",
        "densidade_uf['acessos'] = densidade_uf['acessos'].astype('int64')\n",
        "densidade_uf.to_csv('/content/drive/MyDrive/br_anatel/telefonia_movel/output/densidade_telefonia_movel_uf.csv', index=False, encoding=\"utf-8\", na_rep=\"\")\n",
        "\n",
        "densidade_munic.drop(['Município', 'UF', 'Geografia'], axis=1, inplace=True)\n",
        "densidade_munic.rename(columns={'Ano':'ano', 'Mês':'mes', 'Código IBGE':'id_municipio', 'Densidade':'densidade'}, inplace=True)\n",
        "densidade_munic['densidade'] = densidade_munic['densidade'].apply(lambda x: str(x).replace(',','.'))\n",
        "densidade_munic['id_municipio'] = densidade_munic['id_municipio'].astype('int64')\n",
        "densidade_munic = pd.merge(tm_mu, densidade_munic,\n",
        "                         how='left', left_on=['ano', 'mes', 'id_municipio'],\n",
        "                         right_on=['ano', 'mes', 'id_municipio'])\n",
        "densidade_munic.to_csv('/content/drive/MyDrive/br_anatel/telefonia_movel/output/densidade_telefonia_movel_municipio.csv', index=False, encoding=\"utf-8\", na_rep=\"\")"
      ],
      "execution_count": null,
      "outputs": []
    }
  ]
}