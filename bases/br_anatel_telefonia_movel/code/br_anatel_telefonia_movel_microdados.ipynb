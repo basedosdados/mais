{
  "nbformat": 4,
  "nbformat_minor": 0,
  "metadata": {
    "accelerator": "GPU",
    "colab": {
      "name": "br_anatel_telefonia_movel_microdados",
      "provenance": []
    },
    "kernelspec": {
      "display_name": "Python 3",
      "name": "python3"
    },
    "language_info": {
      "name": "python"
    }
  },
  "cells": [
    {
      "cell_type": "code",
      "metadata": {
        "colab": {
          "base_uri": "https://localhost:8080/"
        },
        "id": "-vM9vDeRvutG",
        "outputId": "04ab58fa-e027-4273-ce8f-9d87c67ca42f"
      },
      "source": [
        "!wget -p https://www.anatel.gov.br/dadosabertos/paineis_de_dados/acessos/acessos_telefonia_movel.zip"
      ],
      "execution_count": 1,
      "outputs": [
        {
          "output_type": "stream",
          "text": [
            "--2021-06-07 11:45:36--  https://www.anatel.gov.br/dadosabertos/paineis_de_dados/acessos/acessos_telefonia_movel.zip\n",
            "Resolving www.anatel.gov.br (www.anatel.gov.br)... 200.0.81.81, 2801:80:c90:c1da:da0:2312:2000:1331\n",
            "Connecting to www.anatel.gov.br (www.anatel.gov.br)|200.0.81.81|:443... connected.\n",
            "HTTP request sent, awaiting response... 200 OK\n",
            "Length: 599489213 (572M) [application/x-zip-compressed]\n",
            "Saving to: ‘www.anatel.gov.br/dadosabertos/paineis_de_dados/acessos/acessos_telefonia_movel.zip’\n",
            "\n",
            "www.anatel.gov.br/d   2%[                    ]  15.81M   753KB/s    in 23s     \n",
            "\n",
            "2021-06-07 11:46:02 (711 KB/s) - Read error at byte 16580608/599489213 (Connection reset by peer). Retrying.\n",
            "\n",
            "--2021-06-07 11:46:03--  (try: 2)  https://www.anatel.gov.br/dadosabertos/paineis_de_dados/acessos/acessos_telefonia_movel.zip\n",
            "Connecting to www.anatel.gov.br (www.anatel.gov.br)|200.0.81.81|:443... connected.\n",
            "HTTP request sent, awaiting response... 206 Partial Content\n",
            "Length: 599489213 (572M), 582908605 (556M) remaining [application/x-zip-compressed]\n",
            "Saving to: ‘www.anatel.gov.br/dadosabertos/paineis_de_dados/acessos/acessos_telefonia_movel.zip’\n",
            "\n",
            "www.anatel.gov.br/d 100%[===================>] 571.72M   738KB/s    in 13m 31s \n",
            "\n",
            "2021-06-07 11:59:35 (702 KB/s) - ‘www.anatel.gov.br/dadosabertos/paineis_de_dados/acessos/acessos_telefonia_movel.zip’ saved [599489213/599489213]\n",
            "\n",
            "FINISHED --2021-06-07 11:59:35--\n",
            "Total wall clock time: 13m 59s\n",
            "Downloaded: 1 files, 556M in 13m 54s (683 KB/s)\n"
          ],
          "name": "stdout"
        }
      ]
    },
    {
      "cell_type": "code",
      "metadata": {
        "id": "xR3foGcYM32L"
      },
      "source": [
        "import pandas as pd\n",
        "import numpy as np\n",
        "import os\n",
        "from zipfile import ZipFile"
      ],
      "execution_count": 1,
      "outputs": []
    },
    {
      "cell_type": "code",
      "metadata": {
        "id": "tzPsnQEQV9v6"
      },
      "source": [
        "pasta = '/content/www.anatel.gov.br/dadosabertos/paineis_de_dados/acessos'\n",
        "mobile = os.path.join(pasta, 'acessos_telefonia_movel.zip')"
      ],
      "execution_count": 2,
      "outputs": []
    },
    {
      "cell_type": "code",
      "metadata": {
        "id": "2H2HP7s1TlkG"
      },
      "source": [
        "#decodificando os arquivos (2005-2018)\n",
        "  #Anatel separa em tecnologia(tipo de conexão) e modalidade (tipo de planos: pré e pós pago)\n",
        "with ZipFile(mobile) as z:\n",
        "  with z.open(f'Acessos_Telefonia_Movel_2005-2018_Tecnologia.csv') as f:\n",
        "   tm_tec = pd.read_csv(f,sep=';', encoding='utf-8')"
      ],
      "execution_count": 4,
      "outputs": []
    },
    {
      "cell_type": "code",
      "metadata": {
        "id": "FRtmTvbZVBJF"
      },
      "source": [
        "#renomeando/padronizando variaveis ref. tm_tec (telefonia móvel - tecnologia)\n",
        "tm_tec.rename(columns={'Ano': 'ano','Mês':'mes', 'Grupo Econômico':'grupo_economico', 'Empresa':'empresa',\n",
        "                 'CNPJ':'cnpj', 'Porte da Prestadora':'porte_empresa', 'UF':'sigla_uf', 'Região PGO':'outorga', \n",
        "                 'Código Nacional':'ddd', 'Tecnologia':'tecnologia', 'Tecnologia Geração':'sinal', 'Acessos':'acessos'}, inplace=True) "
      ],
      "execution_count": 5,
      "outputs": []
    },
    {
      "cell_type": "code",
      "metadata": {
        "id": "IKU0Pn_wXWvW"
      },
      "source": [
        "#exclusão de dados NaN (ddd & sigla_uf), início das observações completas em 2009\n",
        "tm_tec.dropna(inplace=True)"
      ],
      "execution_count": 6,
      "outputs": []
    },
    {
      "cell_type": "code",
      "metadata": {
        "id": "PBfA7M-yU9pa"
      },
      "source": [
        "with ZipFile(mobile) as z:\n",
        "  with z.open(f'Acessos_Telefonia_Movel_2005-2018_Modalidade.csv') as f:\n",
        "   tm_mod = pd.read_csv(f,sep=';', encoding='utf-8')"
      ],
      "execution_count": 7,
      "outputs": []
    },
    {
      "cell_type": "code",
      "metadata": {
        "id": "REk-6oNMVEH9"
      },
      "source": [
        "#renomeando/padronizando variaveis ref. tm_mod (telefonia_movel - modalidade)\n",
        "tm_mod.rename(columns={'Ano': 'ano','Mês':'mes', 'Grupo Econômico':'grupo_economico', 'Empresa':'empresa',\n",
        "                 'CNPJ':'cnpj', 'Porte da Prestadora':'porte_empresa', 'UF':'sigla_uf', 'Região PGO':'outorga', \n",
        "                 'Código Nacional':'ddd', 'Modalidade de Cobrança':'modalidade', 'Acessos':'acessos'}, inplace=True) "
      ],
      "execution_count": 8,
      "outputs": []
    },
    {
      "cell_type": "code",
      "metadata": {
        "id": "MwleM1ytWqPj"
      },
      "source": [
        "tm_tec.drop(['grupo_economico', 'outorga'], axis=1, inplace=True)\n",
        "tm_mod.drop(['grupo_economico', 'outorga'], axis=1, inplace=True)"
      ],
      "execution_count": 9,
      "outputs": []
    },
    {
      "cell_type": "code",
      "metadata": {
        "id": "Gy33pNeOVH4S"
      },
      "source": [
        "#exportação arquivo csv\n",
        "#tm_tec.to_csv('/content/telefonia_movel_microdados_2009-2018_tecnologia.csv', index=False)\n",
        "#tm_mod.to_csv('/content/telefonia_movel_microdados_2005-2018_modalidade.csv', index=False)"
      ],
      "execution_count": 10,
      "outputs": []
    },
    {
      "cell_type": "code",
      "metadata": {
        "id": "gePZ62CJOUI-"
      },
      "source": [
        "#decodificando os arquivos (2019-2021)\n",
        "  #Anatel separa por semestre e ano\n",
        "with ZipFile(mobile) as z:\n",
        "  with z.open(f'Acessos_Telefonia_Movel_201901-201906.csv') as f:\n",
        "    tm_1 = pd.read_csv(f,sep=';', encoding='utf-8')"
      ],
      "execution_count": 3,
      "outputs": []
    },
    {
      "cell_type": "code",
      "metadata": {
        "id": "qb6R8CmTPYou"
      },
      "source": [
        "with ZipFile(mobile) as z:\n",
        "  with z.open(f'Acessos_Telefonia_Movel_201907-201912.csv') as f:\n",
        "    tm_2 = pd.read_csv(f,sep=';', encoding='utf-8')"
      ],
      "execution_count": 4,
      "outputs": []
    },
    {
      "cell_type": "code",
      "metadata": {
        "id": "tOrlisV4PeXr"
      },
      "source": [
        "with ZipFile(mobile) as z:\n",
        "  with z.open(f'Acessos_Telefonia_Movel_202001-202006.csv') as f:\n",
        "    tm_3 = pd.read_csv(f,sep=';', encoding='utf-8')"
      ],
      "execution_count": 5,
      "outputs": []
    },
    {
      "cell_type": "code",
      "metadata": {
        "id": "yz6T8nrBYIXz"
      },
      "source": [
        "with ZipFile(mobile) as z:\n",
        "  with z.open(f'Acessos_Telefonia_Movel_202007-202012.csv') as f:\n",
        "    tm_4 = pd.read_csv(f,sep=';', encoding='utf-8')"
      ],
      "execution_count": 6,
      "outputs": []
    },
    {
      "cell_type": "code",
      "metadata": {
        "id": "Pxsa87cgYKgz"
      },
      "source": [
        "with ZipFile(mobile) as z:\n",
        "  with z.open(f'Acessos_Telefonia_Movel_2021.csv') as f:\n",
        "    tm_5 = pd.read_csv(f,sep=';', encoding='utf-8')"
      ],
      "execution_count": 7,
      "outputs": []
    },
    {
      "cell_type": "code",
      "metadata": {
        "id": "577LayKoPkqS"
      },
      "source": [
        "#junção das bases\n",
        "tm_micro = tm_1.append([tm_2, tm_3, tm_4, tm_5], ignore_index=True)"
      ],
      "execution_count": null,
      "outputs": []
    },
    {
      "cell_type": "code",
      "metadata": {
        "id": "IEGClfnpP24K"
      },
      "source": [
        "#renomeando variaveis\n",
        "tm_micro.rename(columns={'Ano': 'ano','Mês':'mes', 'Grupo Econômico':'grupo_economico', 'Empresa':'empresa',\n",
        "                                      'CNPJ':'cnpj', 'Porte da Prestadora':'porte_empresa', 'UF':'sigla_uf', 'Município':'municipio',\n",
        "                                      'Código IBGE Município':'id_municipio', 'Código Nacional':'ddd', 'Código Nacional (Chip)':'ddd_chip',\n",
        "                                      'Modalidade de Cobrança':'modalidade', 'Tecnologia':'tecnologia', 'Tecnologia Geração':'sinal', \n",
        "                                      'Tipo de Pessoa':'pessoa', 'Tipo de Produto':'produto', 'Acessos':'acessos'}, inplace=True)"
      ],
      "execution_count": null,
      "outputs": []
    },
    {
      "cell_type": "code",
      "metadata": {
        "id": "TVL8WCooXvFV"
      },
      "source": [
        "#por conta do tamanho da base, a sessão quebra\n",
        "tm_micro.drop(['grupo_economico', 'municipio', 'ddd_chip'], axis=1, inplace=True)"
      ],
      "execution_count": null,
      "outputs": []
    },
    {
      "cell_type": "code",
      "metadata": {
        "id": "6piFEP2owmJU"
      },
      "source": [
        "#exportação arquivo csv\n",
        "tm_micro.to_csv('/content/telefonia_movel_microdados_2019-2021.csv', index=False)"
      ],
      "execution_count": 11,
      "outputs": []
    }
  ]
}