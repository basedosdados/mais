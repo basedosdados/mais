{
  "nbformat": 4,
  "nbformat_minor": 0,
  "metadata": {
    "colab": {
      "name": "br_anatel_telefonia_movel_microdados",
      "provenance": []
    },
    "kernelspec": {
      "display_name": "Python 3",
      "name": "python3"
    },
    "language_info": {
      "name": "python"
    }
  },
  "cells": [
    {
      "cell_type": "code",
      "metadata": {
        "colab": {
          "base_uri": "https://localhost:8080/"
        },
        "id": "-vM9vDeRvutG",
        "outputId": "408111c2-0412-4bdc-b373-052b1ae5ce43"
      },
      "source": [
        "#download das bases - arquivo completo\n",
        "!wget -p https://www.anatel.gov.br/dadosabertos/paineis_de_dados/acessos/acessos_telefonia_movel.zip"
      ],
      "execution_count": null,
      "outputs": [
        {
          "output_type": "stream",
          "text": [
            "--2021-07-17 19:25:19--  https://www.anatel.gov.br/dadosabertos/paineis_de_dados/acessos/acessos_telefonia_movel.zip\n",
            "Resolving www.anatel.gov.br (www.anatel.gov.br)... 200.0.81.81, 2801:80:c90:c1da:da0:2312:2000:1331\n",
            "Connecting to www.anatel.gov.br (www.anatel.gov.br)|200.0.81.81|:443... connected.\n",
            "HTTP request sent, awaiting response... 200 OK\n",
            "Length: 687710666 (656M) [application/x-zip-compressed]\n",
            "Saving to: ‘www.anatel.gov.br/dadosabertos/paineis_de_dados/acessos/acessos_telefonia_movel.zip’\n",
            "\n",
            "sabertos/paineis_de  39%[======>             ] 260.29M   914KB/s    eta 7m 24s ^C\n"
          ],
          "name": "stdout"
        }
      ]
    },
    {
      "cell_type": "code",
      "metadata": {
        "id": "xR3foGcYM32L"
      },
      "source": [
        "import pandas as pd\n",
        "import numpy as np\n",
        "import os\n",
        "from zipfile import ZipFile"
      ],
      "execution_count": null,
      "outputs": []
    },
    {
      "cell_type": "code",
      "metadata": {
        "id": "tzPsnQEQV9v6"
      },
      "source": [
        "pasta = '/content/www.anatel.gov.br/dadosabertos/paineis_de_dados/acessos'\n",
        "mobile = os.path.join(pasta, 'acessos_telefonia_movel.zip')"
      ],
      "execution_count": null,
      "outputs": []
    },
    {
      "cell_type": "code",
      "metadata": {
        "id": "2H2HP7s1TlkG"
      },
      "source": [
        "#decodificando os arquivos (2005-2018)\n",
        "  #Anatel separa em tecnologia(tipo de conexão) e modalidade (tipo de planos: pré e pós pago)\n",
        "with ZipFile(mobile) as z:\n",
        "  with z.open(f'Acessos_Telefonia_Movel_2005-2018_Tecnologia.csv') as f:\n",
        "   tm_tec = pd.read_csv(f,sep=';', encoding='utf-8')"
      ],
      "execution_count": null,
      "outputs": []
    },
    {
      "cell_type": "code",
      "metadata": {
        "id": "FRtmTvbZVBJF"
      },
      "source": [
        "#renomeando/padronizando variaveis ref. tm_tec (telefonia móvel - tecnologia)\n",
        "tm_tec.rename(columns={'Ano': 'ano','Mês':'mes', 'Grupo Econômico':'grupo_economico', 'Empresa':'empresa',\n",
        "                 'CNPJ':'cnpj', 'Porte da Prestadora':'porte_empresa', 'UF':'sigla_uf', 'Região PGO':'outorga', \n",
        "                 'Código Nacional':'ddd', 'Tecnologia':'tecnologia', 'Tecnologia Geração':'sinal', 'Acessos':'acessos'}, inplace=True) "
      ],
      "execution_count": null,
      "outputs": []
    },
    {
      "cell_type": "code",
      "metadata": {
        "id": "IKU0Pn_wXWvW"
      },
      "source": [
        "#exclusão de dados NaN (ddd & sigla_uf), início das observações completas em 2009\n",
        "tm_tec.dropna(inplace=True)"
      ],
      "execution_count": null,
      "outputs": []
    },
    {
      "cell_type": "code",
      "metadata": {
        "id": "G-tRJJAo_T_U"
      },
      "source": [
        "#exclusão de variáveis duplicadas\n",
        "tm_tec['acessos_total'] = tm_tec.groupby(['ano', 'mes', 'ddd', 'cnpj', 'tecnologia', 'sinal'])['acessos'].transform(np.sum)\n",
        "tm_tec.sort_values(['ano', 'mes', 'ddd', 'cnpj', 'tecnologia', 'sinal'], inplace=True)\n",
        "tm_tec.drop_duplicates(subset=['ano', 'mes', 'ddd', 'cnpj', 'tecnologia', 'sinal'], keep='first', inplace=True)\n",
        "tm_tec.drop('acessos', axis=1, inplace=True)\n",
        "tm_tec.rename(columns={'acessos_total':'acessos'}, inplace=True)"
      ],
      "execution_count": null,
      "outputs": []
    },
    {
      "cell_type": "code",
      "metadata": {
        "id": "PBfA7M-yU9pa"
      },
      "source": [
        "with ZipFile(mobile) as z:\n",
        "  with z.open(f'Acessos_Telefonia_Movel_2005-2018_Modalidade.csv') as f:\n",
        "   tm_mod = pd.read_csv(f,sep=';', encoding='utf-8')"
      ],
      "execution_count": null,
      "outputs": []
    },
    {
      "cell_type": "code",
      "metadata": {
        "id": "REk-6oNMVEH9"
      },
      "source": [
        "#renomeando/padronizando variaveis ref. tm_mod (telefonia_movel - modalidade)\n",
        "tm_mod.rename(columns={'Ano': 'ano','Mês':'mes', 'Grupo Econômico':'grupo_economico', 'Empresa':'empresa',\n",
        "                 'CNPJ':'cnpj', 'Porte da Prestadora':'porte_empresa', 'UF':'sigla_uf', 'Região PGO':'outorga', \n",
        "                 'Código Nacional':'ddd', 'Modalidade de Cobrança':'modalidade', 'Acessos':'acessos'}, inplace=True) "
      ],
      "execution_count": null,
      "outputs": []
    },
    {
      "cell_type": "code",
      "metadata": {
        "id": "cgabjv6H_8Fw"
      },
      "source": [
        "#exclusão de variáveis duplicadas\n",
        "tm_mod['acessos_total'] = tm_mod.groupby(['ano', 'mes', 'ddd', 'cnpj', 'modalidade'])['acessos'].transform(np.sum)\n",
        "tm_mod.sort_values(['ano', 'mes', 'ddd', 'cnpj', 'modalidade'], inplace=True)\n",
        "tm_mod.drop_duplicates(subset=['ano', 'mes', 'ddd', 'cnpj', 'modalidade'], keep='first', inplace=True)\n",
        "tm_mod.drop('acessos', axis=1, inplace=True)\n",
        "tm_mod.rename(columns={'acessos_total':'acessos'}, inplace=True)"
      ],
      "execution_count": null,
      "outputs": []
    },
    {
      "cell_type": "code",
      "metadata": {
        "id": "MwleM1ytWqPj"
      },
      "source": [
        "#drop de colunas não necessárias\n",
        "tm_tec.drop(['grupo_economico', 'outorga'], axis=1, inplace=True)\n",
        "tm_mod.drop(['grupo_economico', 'outorga'], axis=1, inplace=True)"
      ],
      "execution_count": null,
      "outputs": []
    },
    {
      "cell_type": "code",
      "metadata": {
        "id": "s2yGnAYiaEKi"
      },
      "source": [
        "#ordenação das colunas\n",
        "tm_tec = tm_tec[['ano', 'mes', 'sigla_uf', 'ddd', 'cnpj', 'empresa',  'porte_empresa',  'tecnologia', 'sinal', 'acessos']]\n",
        "tm_mod = tm_mod[['ano', 'mes', 'sigla_uf', 'ddd', 'cnpj', 'empresa',  'porte_empresa',  'modalidade', 'acessos']]"
      ],
      "execution_count": null,
      "outputs": []
    },
    {
      "cell_type": "code",
      "metadata": {
        "id": "qlTDUO3_JfcN"
      },
      "source": [
        "#transformação da variável de int64 pra string\n",
        "tm_tec['ddd'] = pd.to_numeric(tm_tec['ddd'], downcast='integer').astype(str)\n",
        "tm_tec['cnpj'] = tm_tec['cnpj'].astype(str)"
      ],
      "execution_count": null,
      "outputs": []
    },
    {
      "cell_type": "code",
      "metadata": {
        "id": "7WeWl6I_xFsF"
      },
      "source": [
        "#transformação da variável de int64 pra string\n",
        "tm_mod['ddd'] = pd.to_numeric(tm_mod['ddd'], downcast='integer').astype(str)\n",
        "tm_mod['cnpj'] = tm_mod['cnpj'].astype(str)"
      ],
      "execution_count": null,
      "outputs": []
    },
    {
      "cell_type": "code",
      "metadata": {
        "id": "ORrEjilkYEep",
        "colab": {
          "base_uri": "https://localhost:8080/"
        },
        "outputId": "5bf0c01a-97bb-4106-a209-dc4783f3a906"
      },
      "source": [
        "#salvar arquivos no Drive\n",
        "from google.colab import drive\n",
        "drive.mount('/content/drive')"
      ],
      "execution_count": null,
      "outputs": [
        {
          "output_type": "stream",
          "text": [
            "Mounted at /content/drive\n"
          ],
          "name": "stdout"
        }
      ]
    },
    {
      "cell_type": "code",
      "metadata": {
        "id": "Gy33pNeOVH4S"
      },
      "source": [
        "#exportação arquivo csv na memória do Colab\n",
        "#tm_tec.to_csv('/content/telefonia_movel_microdados_2009-2018_tecnologia.csv', index=False)\n",
        "#tm_mod.to_csv('/content/telefonia_movel_microdados_2005-2018_modalidade.csv', index=False)\n",
        "#ou salvar arquivos direto no Drive\n",
        "tm_tec.to_csv('/content/drive/MyDrive/br_anatel/telefonia_movel/output/telefonia_movel_microdados_tecnologia_2009-2018.csv', index=False)\n",
        "tm_mod.to_csv('/content/drive/MyDrive/br_anatel/telefonia_movel/output/telefonia_movel_microdados_modalidade_2005-2018.csv', index=False)"
      ],
      "execution_count": null,
      "outputs": []
    },
    {
      "cell_type": "code",
      "metadata": {
        "id": "gePZ62CJOUI-"
      },
      "source": [
        "#decodificando os arquivos (2019-2021)\n",
        "  #Anatel separa por ano/semestre\n",
        "with ZipFile(mobile) as z:\n",
        "  with z.open(f'Acessos_Telefonia_Movel_201901-201906.csv') as f:\n",
        "    tm_1 = pd.read_csv(f,sep=';', encoding='utf-8')"
      ],
      "execution_count": null,
      "outputs": []
    },
    {
      "cell_type": "code",
      "metadata": {
        "id": "qb6R8CmTPYou"
      },
      "source": [
        "with ZipFile(mobile) as z:\n",
        "  with z.open(f'Acessos_Telefonia_Movel_201907-201912.csv') as f:\n",
        "    tm_2 = pd.read_csv(f,sep=';', encoding='utf-8')"
      ],
      "execution_count": null,
      "outputs": []
    },
    {
      "cell_type": "code",
      "metadata": {
        "id": "tOrlisV4PeXr"
      },
      "source": [
        "with ZipFile(mobile) as z:\n",
        "  with z.open(f'Acessos_Telefonia_Movel_202001-202006.csv') as f:\n",
        "    tm_3 = pd.read_csv(f,sep=';', encoding='utf-8')"
      ],
      "execution_count": null,
      "outputs": []
    },
    {
      "cell_type": "code",
      "metadata": {
        "id": "yz6T8nrBYIXz"
      },
      "source": [
        "with ZipFile(mobile) as z:\n",
        "  with z.open(f'Acessos_Telefonia_Movel_202007-202012.csv') as f:\n",
        "    tm_4 = pd.read_csv(f,sep=';', encoding='utf-8')"
      ],
      "execution_count": null,
      "outputs": []
    },
    {
      "cell_type": "code",
      "metadata": {
        "id": "Pxsa87cgYKgz"
      },
      "source": [
        "with ZipFile(mobile) as z:\n",
        "  with z.open(f'Acessos_Telefonia_Movel_2021.csv') as f:\n",
        "    tm_5 = pd.read_csv(f,sep=';', encoding='utf-8')"
      ],
      "execution_count": null,
      "outputs": []
    },
    {
      "cell_type": "code",
      "metadata": {
        "id": "cAEglMAx57Ss",
        "colab": {
          "base_uri": "https://localhost:8080/",
          "height": 231
        },
        "outputId": "7b2f11b0-1887-45ee-cc2c-7ebd8bc2417c"
      },
      "source": [
        "#renomeando as variáveis dos diferentes dataframes e excluindo variáveis desnecessárias\n",
        "df_list = [tm_1, tm_2, tm_3, tm_4, tm_5]\n",
        "\n",
        "for i in df_list:\n",
        "    i.rename(columns={'Ano': 'ano','Mês':'mes', 'Grupo Econômico':'grupo_economico', 'Empresa':'empresa',\n",
        "                       'CNPJ':'cnpj', 'Porte da Prestadora':'porte_empresa', 'UF':'sigla_uf', 'Município':'municipio',\n",
        "                       'Código IBGE Município':'id_municipio', 'Código Nacional':'ddd', 'Código Nacional (Chip)':'ddd_chip',\n",
        "                       'Modalidade de Cobrança':'modalidade', 'Tecnologia':'tecnologia', 'Tecnologia Geração':'sinal', \n",
        "                       'Tipo de Pessoa':'pessoa', 'Tipo de Produto':'produto', 'Acessos':'acessos'}, inplace=True)\n",
        "    i.drop(['grupo_economico', 'municipio', 'ddd_chip'], axis=1, inplace=True)"
      ],
      "execution_count": null,
      "outputs": [
        {
          "output_type": "error",
          "ename": "NameError",
          "evalue": "ignored",
          "traceback": [
            "\u001b[0;31m---------------------------------------------------------------------------\u001b[0m",
            "\u001b[0;31mNameError\u001b[0m                                 Traceback (most recent call last)",
            "\u001b[0;32m<ipython-input-12-33b162010ca1>\u001b[0m in \u001b[0;36m<module>\u001b[0;34m()\u001b[0m\n\u001b[0;32m----> 1\u001b[0;31m \u001b[0;32mfor\u001b[0m \u001b[0mi\u001b[0m \u001b[0;32min\u001b[0m \u001b[0mdf_list\u001b[0m\u001b[0;34m:\u001b[0m\u001b[0;34m\u001b[0m\u001b[0;34m\u001b[0m\u001b[0m\n\u001b[0m\u001b[1;32m      2\u001b[0m     i.rename(columns={'Ano': 'ano','Mês':'mes', 'Grupo Econômico':'grupo_economico', 'Empresa':'empresa',\n\u001b[1;32m      3\u001b[0m                        \u001b[0;34m'CNPJ'\u001b[0m\u001b[0;34m:\u001b[0m\u001b[0;34m'cnpj'\u001b[0m\u001b[0;34m,\u001b[0m \u001b[0;34m'Porte da Prestadora'\u001b[0m\u001b[0;34m:\u001b[0m\u001b[0;34m'porte_empresa'\u001b[0m\u001b[0;34m,\u001b[0m \u001b[0;34m'UF'\u001b[0m\u001b[0;34m:\u001b[0m\u001b[0;34m'sigla_uf'\u001b[0m\u001b[0;34m,\u001b[0m \u001b[0;34m'Município'\u001b[0m\u001b[0;34m:\u001b[0m\u001b[0;34m'municipio'\u001b[0m\u001b[0;34m,\u001b[0m\u001b[0;34m\u001b[0m\u001b[0;34m\u001b[0m\u001b[0m\n\u001b[1;32m      4\u001b[0m                        \u001b[0;34m'Código IBGE Município'\u001b[0m\u001b[0;34m:\u001b[0m\u001b[0;34m'id_municipio'\u001b[0m\u001b[0;34m,\u001b[0m \u001b[0;34m'Código Nacional'\u001b[0m\u001b[0;34m:\u001b[0m\u001b[0;34m'ddd'\u001b[0m\u001b[0;34m,\u001b[0m \u001b[0;34m'Código Nacional (Chip)'\u001b[0m\u001b[0;34m:\u001b[0m\u001b[0;34m'ddd_chip'\u001b[0m\u001b[0;34m,\u001b[0m\u001b[0;34m\u001b[0m\u001b[0;34m\u001b[0m\u001b[0m\n\u001b[1;32m      5\u001b[0m                        \u001b[0;34m'Modalidade de Cobrança'\u001b[0m\u001b[0;34m:\u001b[0m\u001b[0;34m'modalidade'\u001b[0m\u001b[0;34m,\u001b[0m \u001b[0;34m'Tecnologia'\u001b[0m\u001b[0;34m:\u001b[0m\u001b[0;34m'tecnologia'\u001b[0m\u001b[0;34m,\u001b[0m \u001b[0;34m'Tecnologia Geração'\u001b[0m\u001b[0;34m:\u001b[0m\u001b[0;34m'sinal'\u001b[0m\u001b[0;34m,\u001b[0m\u001b[0;34m\u001b[0m\u001b[0;34m\u001b[0m\u001b[0m\n",
            "\u001b[0;31mNameError\u001b[0m: name 'df_list' is not defined"
          ]
        }
      ]
    },
    {
      "cell_type": "code",
      "metadata": {
        "id": "577LayKoPkqS"
      },
      "source": [
        "#junção das bases\n",
        "tm_mun = tm_1.append([tm_2, tm_3, tm_4, tm_5], ignore_index=True)"
      ],
      "execution_count": null,
      "outputs": []
    },
    {
      "cell_type": "code",
      "metadata": {
        "id": "6piFEP2owmJU"
      },
      "source": [
        "#tm_mun.to_csv('/content/telefonia_movel_microdados_2019-2021.csv', index=False) #salvar na memória do Colab\n",
        "tm_mun.to_csv('/content/drive/MyDrive/br_anatel/telefonia_movel/output/telefonia_movel_microdados_2019-2021.csv', index=False)"
      ],
      "execution_count": null,
      "outputs": []
    },
    {
      "cell_type": "code",
      "metadata": {
        "id": "0sAvHrCm-cBo"
      },
      "source": [
        "#os dados possuem duplicações mostrando diferentes resultados para acesso\n",
        "#o agrupamento é feito pelas variáveis de identificação\n",
        "tm_mun['acessos_total'] = tm_mun.groupby(['ano', 'mes', 'sigla_uf', 'id_municipio', 'ddd', 'cnpj', 'empresa', 'porte_empresa', 'tecnologia', 'sinal', 'modalidade', 'pessoa', 'produto'])['acessos'].transform(np.sum)"
      ],
      "execution_count": null,
      "outputs": []
    },
    {
      "cell_type": "code",
      "metadata": {
        "id": "dv_yJ20R-Mqr"
      },
      "source": [
        "#após ordenamento das observações, se mantém somente 1 linha que identifique as observações\n",
        "tm_mun.sort_values(['ano', 'mes', 'sigla_uf', 'id_municipio', 'ddd', 'cnpj', 'empresa', 'porte_empresa', 'tecnologia', 'sinal', 'modalidade', 'pessoa', 'produto'], inplace=True)\n",
        "tm_mun.drop_duplicates(subset=['ano', 'mes', 'sigla_uf', 'id_municipio', 'ddd', 'cnpj', 'empresa', 'porte_empresa', 'tecnologia', 'sinal', 'modalidade', 'pessoa', 'produto'], keep='first', inplace=True)"
      ],
      "execution_count": null,
      "outputs": []
    },
    {
      "cell_type": "code",
      "metadata": {
        "id": "RxB9zZey-Zi4"
      },
      "source": [
        "#exclui-se a coluna de acessos e renomeia\n",
        "tm_mun.drop('acessos', axis=1, inplace=True)\n",
        "tm_mun.rename(columns={'acessos_total':'acessos'}, inplace=True)"
      ],
      "execution_count": null,
      "outputs": []
    },
    {
      "cell_type": "code",
      "metadata": {
        "id": "gm_2mLOca4uK"
      },
      "source": [
        "#ordenação das variáveis\n",
        "tm_mun = tm_mun[['ano', 'mes', 'sigla_uf', 'id_municipio', 'ddd', 'cnpj', 'empresa', 'porte_empresa', 'tecnologia', 'sinal', 'modalidade', 'pessoa', 'produto', 'acessos']]"
      ],
      "execution_count": null,
      "outputs": []
    },
    {
      "cell_type": "code",
      "metadata": {
        "id": "AMDRtGsD_xao"
      },
      "source": [
        "#tipifcação da base\n",
        "tm_mun['id_municipio'] = tm_mun['id_municipio'].astype(str)\n",
        "tm_mun['ddd'] = pd.to_numeric(tm_mun['ddd'], downcast='integer').astype(str)\n",
        "tm_mun['cnpj'] = tm_mun['cnpj'].astype(str)"
      ],
      "execution_count": null,
      "outputs": []
    },
    {
      "cell_type": "code",
      "metadata": {
        "id": "2w4EeNzcAZFH"
      },
      "source": [
        "#tm_mun.to_csv('/content/telefonia_movel_municipio_2019-2021.csv', index=False) #salvar na memória do Colab\n",
        "tm_mun.to_csv('/content/drive/MyDrive/br_anatel/telefonia_movel/output/telefonia_movel_municipio_2019-2021.csv', index=False)"
      ],
      "execution_count": null,
      "outputs": []
    }
  ]
}