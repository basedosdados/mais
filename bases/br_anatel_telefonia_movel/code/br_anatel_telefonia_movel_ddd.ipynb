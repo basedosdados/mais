{
 "cells": [
  {
   "cell_type": "code",
   "execution_count": null,
   "metadata": {
    "id": "qIEWGJxUTtqQ"
   },
   "outputs": [],
   "source": [
    "#download e tratamento dos dados originais\n",
    "#https://colab.research.google.com/drive/1vAJFf_6v0yYPahQgMHOuTl5NI7kUnHjR?usp=sharing"
   ]
  },
  {
   "cell_type": "code",
   "execution_count": null,
   "metadata": {
    "colab": {
     "base_uri": "https://localhost:8080/"
    },
    "id": "6O6-UgloU2w8",
    "outputId": "d4c16dc2-ae98-4c13-c240-477731f5e16e"
   },
   "outputs": [
    {
     "name": "stdout",
     "output_type": "stream",
     "text": [
      "Mounted at /content/drive\n"
     ]
    }
   ],
   "source": [
    "#conexão com Drive\n",
    "from google.colab import drive\n",
    "drive.mount('/content/drive', force_remount=True)"
   ]
  },
  {
   "cell_type": "code",
   "execution_count": null,
   "metadata": {
    "id": "kcQX2Pa4VMPi"
   },
   "outputs": [],
   "source": [
    "import pandas as pd\n",
    "import numpy as np"
   ]
  },
  {
   "cell_type": "code",
   "execution_count": null,
   "metadata": {
    "id": "ES-Pz0e2U_j7"
   },
   "outputs": [],
   "source": [
    "#importaçao das bases de telefonia movel (tecnologia e modalidade) a partir do drive\n",
    "tm_tec = pd.read_csv('/content/drive/MyDrive/br_anatel/telefonia_movel/output/telefonia_movel_microdados_2009-2018_tecnologia.csv')\n",
    "tm_micro = pd.read_csv('/content/drive/MyDrive/br_anatel/telefonia_movel/output/telefonia_movel_microdados_2019-2021.csv')"
   ]
  },
  {
   "cell_type": "code",
   "execution_count": null,
   "metadata": {
    "id": "zwsyNHiwVQDB"
   },
   "outputs": [],
   "source": [
    "#exclusão de variaveis excluisvas de cada df\n",
    "tm1_ddd = tm_tec.drop(['empresa','cnpj', 'porte_empresa'], axis = 1)\n",
    "tm2_ddd = tm_micro.drop(['empresa','cnpj', 'porte_empresa', 'id_municipio', 'modalidade', 'pessoa', 'produto'], axis = 1)"
   ]
  },
  {
   "cell_type": "code",
   "execution_count": null,
   "metadata": {
    "id": "Iw5wDhXZYeRS"
   },
   "outputs": [],
   "source": [
    "#collapse para acessos\n",
    "tm1_ddd['acessos_tec'] = tm1_ddd.groupby(['ano', 'mes', 'ddd', 'tecnologia', 'sinal'])['acessos'].transform(np.sum)\n",
    "#ordenamento das variaveis\n",
    "tm1_ddd.sort_values(['ddd', 'mes', 'ano', 'tecnologia', 'sinal'], inplace=True)\n",
    "#exclusão das variaveis duplicadas\n",
    "tm1_ddd.drop_duplicates(subset=['ddd', 'mes', 'ano', 'tecnologia', 'sinal'], keep ='first', inplace = True)\n",
    "#exclusão da coluna de acessos\n",
    "tm1_ddd.drop('acessos', axis=1, inplace=True)\n",
    "#renome da coluna de acessos total\n",
    "tm1_ddd.rename(columns={'acessos_tec':'acessos'}, inplace=True)"
   ]
  },
  {
   "cell_type": "code",
   "execution_count": null,
   "metadata": {
    "id": "eORyklegekPL"
   },
   "outputs": [],
   "source": [
    "tm2_ddd['acessos_tec'] = tm2_ddd.groupby(['ano', 'mes', 'ddd', 'tecnologia', 'sinal'])['acessos'].transform(np.sum)\n",
    "tm2_ddd.sort_values(['ddd', 'mes', 'ano', 'tecnologia', 'sinal'], inplace=True)\n",
    "tm2_ddd.drop_duplicates(subset=['ddd', 'mes', 'ano', 'tecnologia', 'sinal'], keep ='first', inplace = True)\n",
    "tm2_ddd.drop('acessos', axis=1, inplace=True)\n",
    "tm2_ddd.rename(columns={'acessos_tec':'acessos'}, inplace=True)"
   ]
  },
  {
   "cell_type": "code",
   "execution_count": null,
   "metadata": {
    "id": "jzzJR22re4UR"
   },
   "outputs": [],
   "source": [
    "#junção das bases a nível do DDD\n",
    "tm_ddd = tm1_ddd.append(tm2_ddd, ignore_index=True)"
   ]
  },
  {
   "cell_type": "code",
   "execution_count": null,
   "metadata": {
    "id": "dcteHM4JttWH"
   },
   "outputs": [],
   "source": [
    "#exportação para csv\n",
    "tm_ddd.to_csv('/content/drive/MyDrive/br_anatel/telefonia_movel/input/telefonia_movel_ddd', index=False)"
   ]
  }
 ],
 "metadata": {
  "accelerator": "GPU",
  "colab": {
   "name": "br_anatel_telefonia_movel_ddd",
   "provenance": []
  },
  "kernelspec": {
   "display_name": "Python 3",
   "language": "python",
   "name": "python3"
  },
  "language_info": {
   "codemirror_mode": {
    "name": "ipython",
    "version": 3
   },
   "file_extension": ".py",
   "mimetype": "text/x-python",
   "name": "python",
   "nbconvert_exporter": "python",
   "pygments_lexer": "ipython3",
   "version": "3.9.5"
  }
 },
 "nbformat": 4,
 "nbformat_minor": 4
}
