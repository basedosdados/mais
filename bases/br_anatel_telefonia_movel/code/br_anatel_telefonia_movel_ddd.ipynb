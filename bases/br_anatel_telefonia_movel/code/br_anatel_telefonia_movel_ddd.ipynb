{
  "nbformat": 4,
  "nbformat_minor": 0,
  "metadata": {
    "colab": {
      "name": "br_anatel_telefonia_movel_ddd",
      "provenance": []
    },
    "kernelspec": {
      "name": "python3",
      "display_name": "Python 3"
    },
    "language_info": {
      "name": "python"
    },
    "accelerator": "GPU"
  },
  "cells": [
    {
      "cell_type": "code",
      "metadata": {
        "id": "qIEWGJxUTtqQ"
      },
      "source": [
        "#download e tratamento dos dados originais\n",
        "#https://colab.research.google.com/drive/1vAJFf_6v0yYPahQgMHOuTl5NI7kUnHjR?usp=sharing"
      ],
      "execution_count": null,
      "outputs": []
    },
    {
      "cell_type": "code",
      "metadata": {
        "colab": {
          "base_uri": "https://localhost:8080/"
        },
        "id": "6O6-UgloU2w8",
        "outputId": "1ca9597e-9413-4c06-a024-8aaba70ba3a3"
      },
      "source": [
        "#conexão com Drive\n",
        "from google.colab import drive\n",
        "drive.mount('/content/drive', force_remount=True)"
      ],
      "execution_count": null,
      "outputs": [
        {
          "output_type": "stream",
          "name": "stdout",
          "text": [
            "Mounted at /content/drive\n"
          ]
        }
      ]
    },
    {
      "cell_type": "code",
      "metadata": {
        "id": "kcQX2Pa4VMPi"
      },
      "source": [
        "import pandas as pd\n",
        "import numpy as np"
      ],
      "execution_count": null,
      "outputs": []
    },
    {
      "cell_type": "code",
      "metadata": {
        "id": "ES-Pz0e2U_j7"
      },
      "source": [
        "#importaçao das bases de telefonia movel (tecnologia e modalidade) a partir do drive\n",
        "tm_tec = pd.read_csv('/content/drive/MyDrive/br_anatel/telefonia_movel/output/telefonia_movel_microdados_tecnologia_2009-2018.csv')\n",
        "tm_mun = pd.read_csv('/content/drive/MyDrive/br_anatel/telefonia_movel/output/telefonia_movel_municipio_2019-2021.csv')"
      ],
      "execution_count": null,
      "outputs": []
    },
    {
      "cell_type": "code",
      "metadata": {
        "id": "zwsyNHiwVQDB"
      },
      "source": [
        "#exclusão de variaveis excluisvas de cada df\n",
        "tm1_ddd = tm_tec.drop(['empresa','cnpj', 'porte_empresa'], axis = 1)\n",
        "tm2_ddd = tm_mun.drop(['empresa','cnpj', 'porte_empresa', 'id_municipio', 'modalidade', 'pessoa', 'produto'], axis = 1)"
      ],
      "execution_count": null,
      "outputs": []
    },
    {
      "cell_type": "code",
      "metadata": {
        "id": "Iw5wDhXZYeRS"
      },
      "source": [
        "#collapse para acessos\n",
        "tm1_ddd['acessos_total'] = tm1_ddd.groupby(['ano', 'mes', 'ddd', 'tecnologia', 'sinal'])['acessos'].transform(np.sum)\n",
        "#ordenamento das variaveis\n",
        "tm1_ddd.sort_values(['ddd', 'mes', 'ano', 'tecnologia', 'sinal'], inplace=True)\n",
        "#exclusão das variaveis duplicadas\n",
        "tm1_ddd.drop_duplicates(subset=['ddd', 'mes', 'ano', 'tecnologia', 'sinal'], keep ='first', inplace = True)\n",
        "#exclusão da coluna de acessos\n",
        "tm1_ddd.drop('acessos', axis=1, inplace=True)\n",
        "#renome da coluna de acessos total\n",
        "tm1_ddd.rename(columns={'acessos_total':'acessos'}, inplace=True)"
      ],
      "execution_count": null,
      "outputs": []
    },
    {
      "cell_type": "code",
      "metadata": {
        "id": "eORyklegekPL"
      },
      "source": [
        "tm2_ddd['acessos_total'] = tm2_ddd.groupby(['ano', 'mes', 'ddd', 'tecnologia', 'sinal'])['acessos'].transform(np.sum)\n",
        "tm2_ddd.sort_values(['ddd', 'mes', 'ano', 'tecnologia', 'sinal'], inplace=True)\n",
        "tm2_ddd.drop_duplicates(subset=['ddd', 'mes', 'ano', 'tecnologia', 'sinal'], keep ='first', inplace = True)\n",
        "tm2_ddd.drop('acessos', axis=1, inplace=True)\n",
        "tm2_ddd.rename(columns={'acessos_total':'acessos'}, inplace=True)"
      ],
      "execution_count": null,
      "outputs": []
    },
    {
      "cell_type": "code",
      "metadata": {
        "id": "jzzJR22re4UR"
      },
      "source": [
        "#junção das bases a nível do DDD\n",
        "tm_ddd = tm1_ddd.append(tm2_ddd, ignore_index=True)"
      ],
      "execution_count": null,
      "outputs": []
    },
    {
      "cell_type": "code",
      "metadata": {
        "id": "jyENzN_5CT5m"
      },
      "source": [
        "tm_ddd['ddd'] = pd.to_numeric(tm_ddd['ddd'], downcast='integer').astype(str)"
      ],
      "execution_count": null,
      "outputs": []
    },
    {
      "cell_type": "code",
      "metadata": {
        "id": "PhHcreTEN9E9"
      },
      "source": [
        "#ordenação das variáveis\n",
        "tm_ddd = tm_ddd[['ano', 'mes', 'sigla_uf', 'ddd', 'tecnologia', 'sinal', 'acessos']]\n",
        "tm_ddd.sort_values(['ano', 'mes', 'sigla_uf', 'ddd', 'tecnologia', 'sinal', 'acessos'], inplace=True)"
      ],
      "execution_count": null,
      "outputs": []
    },
    {
      "cell_type": "code",
      "metadata": {
        "id": "dcteHM4JttWH"
      },
      "source": [
        "#exportação para csv\n",
        "tm_ddd.to_csv('/content/drive/MyDrive/br_anatel/telefonia_movel/output/telefonia_movel_ddd.csv', index=False)"
      ],
      "execution_count": null,
      "outputs": []
    }
  ]
}