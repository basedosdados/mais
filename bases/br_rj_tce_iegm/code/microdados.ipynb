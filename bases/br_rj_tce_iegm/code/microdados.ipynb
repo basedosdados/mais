{
 "cells": [
  {
   "cell_type": "code",
   "execution_count": 1,
   "id": "5536123c",
   "metadata": {},
   "outputs": [],
   "source": [
    "import pandas as pd\n",
    "import os"
   ]
  },
  {
   "cell_type": "code",
   "execution_count": 2,
   "id": "8662220e",
   "metadata": {},
   "outputs": [],
   "source": [
    "path = os.path.abspath(os.path.join('..', 'input'))\n",
    "path_data = os.path.join(path, 'dados.csv')\n",
    "df = pd.read_csv(path_data)"
   ]
  },
  {
   "cell_type": "code",
   "execution_count": 3,
   "id": "fdbdd7ad",
   "metadata": {},
   "outputs": [],
   "source": [
    "df['ano'] = 2019\n",
    "df['sigla_uf'] = 'Rio de Janeiro'\n",
    "df.rename(columns = { 'CodigoIBGE':'id_municipio', 'i-Amb':'meio_ambiente', 'i-Cidade':'protecao_cidade', 'i-Educ': 'educacao', 'i-Fiscal':'gestao_fiscal', 'i-GovTI':'governanca_ti', 'i-Plan (parcial)':'planejamento', 'i-Saude':'saude', 'Nota final do IEGM':'nota_final','Categoria':'categoria' }, inplace = True)\n",
    "df.drop(labels ='NomeMunicipio', axis = 1, inplace = True)\n",
    "df = df[['ano', 'sigla_uf', 'id_municipio', 'categoria', 'meio_ambiente','protecao_cidade', 'educacao', 'gestao_fiscal', 'governanca_ti', 'planejamento','saude','nota_final' ]]\n",
    "df['id_municipio'] = df['id_municipio'].astype(str)"
   ]
  },
  {
   "cell_type": "code",
   "execution_count": 4,
   "id": "24f51207",
   "metadata": {},
   "outputs": [],
   "source": [
    "path = os.path.abspath(os.path.join('..', 'output'))\n",
    "path_df = os.path.join(path, 'microdados.csv')\n",
    "df.to_csv(path_df, index=False)"
   ]
  }
 ],
 "metadata": {
  "kernelspec": {
   "display_name": "Python 3",
   "language": "python",
   "name": "python3"
  },
  "language_info": {
   "codemirror_mode": {
    "name": "ipython",
    "version": 3
   },
   "file_extension": ".py",
   "mimetype": "text/x-python",
   "name": "python",
   "nbconvert_exporter": "python",
   "pygments_lexer": "ipython3",
   "version": "3.9.12"
  }
 },
 "nbformat": 4,
 "nbformat_minor": 5
}
