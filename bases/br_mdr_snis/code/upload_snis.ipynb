{
 "cells": [
  {
   "cell_type": "code",
   "execution_count": 31,
   "metadata": {},
   "outputs": [],
   "source": [
    "import basedosdados as bd"
   ]
  },
  {
   "cell_type": "code",
   "execution_count": null,
   "metadata": {},
   "outputs": [],
   "source": [
    "#tb create\n",
    "tb = bd.Table(dataset_id= 'br_mdr_snis', table_id= 'prestador_agua_esgoto')\n",
    "tb.create(\n",
    "    r'C:\\Users\\gabri\\OneDrive\\vida_profissional\\Projetos\\base_dos_dados\\br_mdr_snis\\output\\prestador.csv',\n",
    "    if_table_exists='replace',\n",
    "    if_storage_data_exists='replace',\n",
    "    if_table_config_exists='pass',\n",
    "    force_columns= True,\n",
    "    force_dataset= True,\n",
    ")\n",
    "\n",
    "tb = bd.Table(dataset_id= 'br_mdr_snis', table_id= 'municipio_agua_esgoto')\n",
    "tb.create(\n",
    "    r'C:\\Users\\gabri\\OneDrive\\vida_profissional\\Projetos\\base_dos_dados\\br_mdr_snis\\output\\municipio.csv',\n",
    "    if_table_exists='replace',\n",
    "    if_storage_data_exists='replace',\n",
    "    if_table_config_exists='pass',\n",
    "    force_columns= True,\n",
    "    force_dataset= True,\n",
    ")\n"
   ]
  },
  {
   "cell_type": "code",
   "execution_count": null,
   "metadata": {},
   "outputs": [],
   "source": [
    "#publish\n",
    "tb = bd.Table(dataset_id= 'br_mdr_snis', table_id= 'prestador_agua_esgoto')\n",
    "tb.publish(if_exists='replace')\n",
    "\n",
    "tb = bd.Table(dataset_id= 'br_mdr_snis', table_id= 'municipio_agua_esgoto')\n",
    "tb.publish(if_exists='replace')"
   ]
  },
  {
   "cell_type": "code",
   "execution_count": 28,
   "metadata": {},
   "outputs": [],
   "source": [
    "#update columns\n",
    "tb = bd.Table(dataset_id= 'br_mdr_snis', table_id= 'municipio_agua_esgoto')\n",
    "tb.update_columns('https://docs.google.com/spreadsheets/d/1MNToVZvMoAgpB51cH5042DYVxiHwEDNz/edit#gid=1217233611')\n",
    "tb = bd.Table(dataset_id= 'br_mdr_snis', table_id= 'prestador_agua_esgoto')\n",
    "tb.update_columns('https://docs.google.com/spreadsheets/d/1LJIiGiw27DCvEGTjjlA2tYWN5UaN5-zETepQAcoMSgY/edit#gid=0')"
   ]
  },
  {
   "cell_type": "code",
   "execution_count": 34,
   "metadata": {},
   "outputs": [
    {
     "name": "stderr",
     "output_type": "stream",
     "text": [
      "2023-04-27 14:37:22.695 | SUCCESS  | basedosdados.upload.metadata:validate:376 -  Metadata municipio_agua_esgoto was validated!\n",
      "2023-04-27 14:37:55.269 | SUCCESS  | basedosdados.upload.metadata:validate:376 -  Metadata prestador_agua_esgoto was validated!\n"
     ]
    },
    {
     "data": {
      "text/plain": [
       "True"
      ]
     },
     "execution_count": 34,
     "metadata": {},
     "output_type": "execute_result"
    }
   ],
   "source": [
    "md = bd.Metadata(dataset_id= 'br_mdr_snis', table_id= 'municipio_agua_esgoto')\n",
    "md.validate()\n",
    "md = bd.Metadata(dataset_id= 'br_mdr_snis', table_id= 'prestador_agua_esgoto')\n",
    "md.validate()"
   ]
  },
  {
   "cell_type": "code",
   "execution_count": null,
   "metadata": {},
   "outputs": [],
   "source": [
    "#add auxiliary_files\n",
    "st = bd.Storage(dataset_id= 'br_mdr_snis', table_id= 'municipio_agua_esgoto')\n",
    "st.upload(\n",
    "    mode='auxiliary_files',\n",
    "    path= r\"C:\\Users\\gabri\\OneDrive\\vida_profissional\\Projetos\\base_dos_dados\\br_mdr_snis\\aux_files\\br_mdr_snis_auxiliary_files.zip\"\n",
    "    )\n",
    "\n",
    "st= bd.Storage(dataset_id= 'br_mdr_snis', table_id= 'prestador_agua_esgoto')\n",
    "st.upload(\n",
    "    mode='auxiliary_files',\n",
    "    path= r\"C:\\Users\\gabri\\OneDrive\\vida_profissional\\Projetos\\base_dos_dados\\br_mdr_snis\\aux_files\\br_mdr_snis_auxiliary_files.zip\"\n",
    "    )"
   ]
  }
 ],
 "metadata": {
  "kernelspec": {
   "display_name": "vm_basedosdados",
   "language": "python",
   "name": "python3"
  },
  "language_info": {
   "codemirror_mode": {
    "name": "ipython",
    "version": 3
   },
   "file_extension": ".py",
   "mimetype": "text/x-python",
   "name": "python",
   "nbconvert_exporter": "python",
   "pygments_lexer": "ipython3",
   "version": "3.9.12"
  },
  "orig_nbformat": 4
 },
 "nbformat": 4,
 "nbformat_minor": 2
}
