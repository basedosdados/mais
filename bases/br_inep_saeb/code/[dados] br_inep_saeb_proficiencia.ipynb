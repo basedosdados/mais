{
  "nbformat": 4,
  "nbformat_minor": 0,
  "metadata": {
    "colab": {
      "name": "[dados] br_inep_saeb.proficiencia",
      "provenance": [],
      "collapsed_sections": []
    },
    "kernelspec": {
      "name": "python3",
      "display_name": "Python 3"
    },
    "language_info": {
      "name": "python"
    }
  },
  "cells": [
    {
      "cell_type": "code",
      "metadata": {
        "colab": {
          "base_uri": "https://localhost:8080/"
        },
        "id": "RoqIgG8KXQod",
        "outputId": "e7250b92-4532-45b8-f673-dd18fed3c2c1"
      },
      "source": [
        "from google.colab import drive\n",
        "drive.mount('/content/gdrive')"
      ],
      "execution_count": null,
      "outputs": [
        {
          "output_type": "stream",
          "name": "stdout",
          "text": [
            "Drive already mounted at /content/gdrive; to attempt to forcibly remount, call drive.mount(\"/content/gdrive\", force_remount=True).\n"
          ]
        }
      ]
    },
    {
      "cell_type": "code",
      "metadata": {
        "id": "ekoFuYZ2ZTNL"
      },
      "source": [
        "import pandas as pd\n",
        "import numpy as np"
      ],
      "execution_count": null,
      "outputs": []
    },
    {
      "cell_type": "code",
      "metadata": {
        "id": "504-n3pm0beV"
      },
      "source": [
        "id_uf = pd.read_csv('/content/id_uf.csv', dtype='string')\n",
        "id_uf.rename(columns={'sigla':'sigla_uf'}, inplace=True)\n",
        "id_reg = pd.read_csv('/content/id_reg.csv', dtype='string')\n",
        "id_reg['regiao'] = id_reg['regiao'].replace(['Norte','Nordeste','Sudeste', 'Sul', 'Centro-Oeste'],['1', '2','3','4','5'])\n",
        "id_reg.rename(columns={'regiao':'id_regiao'}, inplace=True)"
      ],
      "execution_count": null,
      "outputs": []
    },
    {
      "cell_type": "code",
      "metadata": {
        "id": "1NLzG85NDEJo"
      },
      "source": [
        "ordem = ['ano', 'id_regiao', 'sigla_uf', 'id_municipio', 'id_escola', 'rede', 'localizacao', 'serie', 'turno', 'disciplina', 'id_turma', 'id_aluno', \n",
        "         'sexo', 'raca_cor', 'estrato', 'amostra', 'peso_aluno', 'proficiencia', 'erro_padrao', 'proficiencia_saeb', 'erro_padrao_saeb']"
      ],
      "execution_count": null,
      "outputs": []
    },
    {
      "cell_type": "markdown",
      "metadata": {
        "id": "4Dq7loD9gDKb"
      },
      "source": [
        "##### **2019**"
      ]
    },
    {
      "cell_type": "code",
      "metadata": {
        "id": "8lE23zil8rt0",
        "colab": {
          "base_uri": "https://localhost:8080/"
        },
        "outputId": "b133c58b-d694-4c65-c8e9-9c172ef01d77"
      },
      "source": [
        "#saeb 2019\n",
        "\n",
        "#nota metodológica: exclusão de observações com a variável IN_PREENCHIMENTO = 0 uma vez que não existe nota referente ao aluno (NA), nem informações \n",
        "#socioeconômicas, além de ID_MUNICIPIO e ID_ESCOLA estarem mascarados com o dígito 6\n",
        "\n",
        "rename19 = {'ID_SAEB':'ano', 'ID_REGIAO':'id_regiao', 'ID_UF':'id_uf', 'ID_MUNICIPIO':'id_municipio', 'ID_ESCOLA':'id_escola',\n",
        "            'ID_DEPENDENCIA_ADM':'rede', 'ID_LOCALIZACAO':'localizacao', 'ID_TURMA':'id_turma', 'ID_TURNO':'turno', 'ID_SERIE':'serie', \n",
        "            'ID_ALUNO':'id_aluno', 'IN_AMOSTRA':'amostra', 'ESTRATO':'estrato', 'PESO_ALUNO_LP':'peso_aluno', 'PROFICIENCIA_LP':'proficiencia', \n",
        "            'ERRO_PADRAO_LP':'erro_padrao', 'PROFICIENCIA_LP_SAEB':'proficiencia_saeb', 'ERRO_PADRAO_LP_SAEB':'erro_padrao_saeb', 'PESO_ALUNO_MT':'peso_aluno',\n",
        "            'PROFICIENCIA_MT':'proficiencia', 'ERRO_PADRAO_MT':'erro_padrao', 'PROFICIENCIA_MT_SAEB':'proficiencia_saeb', \n",
        "            'ERRO_PADRAO_MT_SAEB':'erro_padrao_saeb', 'TX_RESP_Q002':'raca_cor'}\n",
        "\n",
        "LP_2 = ['ID_SAEB', 'ID_REGIAO', 'ID_UF', 'ID_MUNICIPIO', 'ID_AREA', 'ID_ESCOLA', 'ID_DEPENDENCIA_ADM', 'ID_LOCALIZACAO', 'ID_TURMA', 'ID_TURNO',\n",
        "       'ID_SERIE', 'ID_ALUNO', 'IN_PREENCHIMENTO_LP', 'IN_PROFICIENCIA_LP', 'IN_AMOSTRA', 'ESTRATO', 'PESO_ALUNO_LP', 'PROFICIENCIA_LP', 'ERRO_PADRAO_LP',\n",
        "       'PROFICIENCIA_LP_SAEB', 'ERRO_PADRAO_LP_SAEB']\n",
        "\n",
        "LP = ['ID_SAEB', 'ID_REGIAO', 'ID_UF', 'ID_MUNICIPIO', 'ID_AREA', 'ID_ESCOLA', 'ID_DEPENDENCIA_ADM', 'ID_LOCALIZACAO', 'ID_TURMA', 'ID_TURNO',\n",
        "       'ID_SERIE', 'ID_ALUNO', 'IN_PREENCHIMENTO_LP', 'IN_PROFICIENCIA_LP', 'IN_AMOSTRA', 'ESTRATO', 'PESO_ALUNO_LP', 'PROFICIENCIA_LP', 'ERRO_PADRAO_LP',\n",
        "       'PROFICIENCIA_LP_SAEB', 'ERRO_PADRAO_LP_SAEB', 'TX_RESP_Q002']\n",
        "\n",
        "MT_2 = ['ID_SAEB', 'ID_REGIAO', 'ID_UF', 'ID_MUNICIPIO', 'ID_AREA', 'ID_ESCOLA', 'ID_DEPENDENCIA_ADM', 'ID_LOCALIZACAO', 'ID_TURMA', 'ID_TURNO',\n",
        "       'ID_SERIE', 'ID_ALUNO', 'IN_PREENCHIMENTO_MT', 'IN_PROFICIENCIA_MT', 'IN_AMOSTRA', 'ESTRATO', 'PESO_ALUNO_MT', 'PROFICIENCIA_MT', 'ERRO_PADRAO_MT',\n",
        "       'PROFICIENCIA_MT_SAEB', 'ERRO_PADRAO_MT_SAEB']\n",
        "\n",
        "MT = ['ID_SAEB', 'ID_REGIAO', 'ID_UF', 'ID_MUNICIPIO', 'ID_AREA', 'ID_ESCOLA', 'ID_DEPENDENCIA_ADM', 'ID_LOCALIZACAO', 'ID_TURMA', 'ID_TURNO',\n",
        "       'ID_SERIE', 'ID_ALUNO', 'IN_PREENCHIMENTO_MT', 'IN_PROFICIENCIA_MT', 'IN_AMOSTRA', 'ESTRATO', 'PESO_ALUNO_MT', 'PROFICIENCIA_MT', 'ERRO_PADRAO_MT',\n",
        "       'PROFICIENCIA_MT_SAEB', 'ERRO_PADRAO_MT_SAEB', 'TX_RESP_Q002']\n",
        "\n",
        "add_19 = pd.DataFrame(columns=['raca_cor', 'sexo'])\n",
        "\n",
        "s_2s = pd.read_csv('/content/gdrive/MyDrive/br_inep_saeb/input/saeb19_aluno_2ano.csv', dtype='string', sep=',')\n",
        "lp = s_2s[LP_2]\n",
        "#lp = lp[lp.IN_PREENCHIMENTO_LP.isin(['1'])]\n",
        "lp['disciplina'] = 'LP'\n",
        "lp.rename(columns=rename19, inplace=True)\n",
        "mt = s_2s[MT_2]\n",
        "#mt = mt[mt.IN_PREENCHIMENTO_MT.isin(['1'])]\n",
        "mt['disciplina'] = 'MT'\n",
        "mt.rename(columns=rename19, inplace=True)\n",
        "saeb_ef_2ano = lp.append(mt, ignore_index=True)\n",
        "saeb_ef_2ano = pd.concat([saeb_ef_2ano, add_19])\n",
        "saeb_ef_2ano = pd.merge(saeb_ef_2ano, id_uf, how='left', left_on=['id_uf'], right_on=['id_uf'])\n",
        "saeb_ef_2ano = saeb_ef_2ano[ordem]\n",
        "saeb_ef_2ano.to_csv('/content/gdrive/MyDrive/br_inep_saeb/temp/saeb_ef_2ano_2019.csv', na_rep='', index=False)\n",
        "del s_2s, lp, mt, saeb_ef_2ano\n",
        "\n",
        "s_4s = pd.read_csv('/content/gdrive/MyDrive/br_inep_saeb/input/saeb19_aluno_5ano.csv', dtype='string', sep=',')\n",
        "lp = s_4s[LP]\n",
        "#lp = lp[lp.IN_PREENCHIMENTO_LP.isin(['1'])]\n",
        "lp['disciplina'] = 'LP'\n",
        "lp.rename(columns=rename19, inplace=True)\n",
        "mt = s_4s[MT]\n",
        "#mt = mt[mt.IN_PREENCHIMENTO_MT.isin(['1'])]\n",
        "mt['disciplina'] = 'MT'\n",
        "mt.rename(columns=rename19, inplace=True)\n",
        "saeb_ef_5ano = lp.append(mt, ignore_index=True)\n",
        "saeb_ef_5ano = pd.concat([saeb_ef_5ano, add_19])\n",
        "saeb_ef_5ano = pd.merge(saeb_ef_5ano, id_uf, how='left', left_on=['id_uf'], right_on=['id_uf'])\n",
        "saeb_ef_5ano = saeb_ef_5ano[ordem]\n",
        "saeb_ef_5ano.to_csv('/content/gdrive/MyDrive/br_inep_saeb/temp/saeb_ef_5ano_2019.csv', na_rep='', index=False)\n",
        "del s_4s, lp, mt, saeb_ef_5ano\n",
        "\n",
        "s_8s = pd.read_csv('/content/gdrive/MyDrive/br_inep_saeb/input/saeb19_aluno_9ano.csv', dtype='string', sep=',')\n",
        "lp = s_8s[LP]\n",
        "#lp = lp[lp.IN_PREENCHIMENTO_LP.isin(['1'])]\n",
        "lp['disciplina'] = 'LP'\n",
        "lp.rename(columns=rename19, inplace=True)\n",
        "mt = s_8s[MT]\n",
        "#mt = mt[mt.IN_PREENCHIMENTO_MT.isin(['1'])]\n",
        "mt['disciplina'] = 'MT'\n",
        "mt.rename(columns=rename19, inplace=True)\n",
        "saeb_ef_9ano = lp.append(mt, ignore_index=True)\n",
        "saeb_ef_9ano = pd.concat([saeb_ef_9ano, add_19])\n",
        "saeb_ef_9ano = pd.merge(saeb_ef_9ano, id_uf, how='left', left_on=['id_uf'], right_on=['id_uf'])\n",
        "saeb_ef_9ano = saeb_ef_9ano[ordem]\n",
        "saeb_ef_9ano.to_csv('/content/gdrive/MyDrive/br_inep_saeb/temp/saeb_ef_9ano_2019.csv', na_rep='', index=False)\n",
        "del s_8s, lp, mt, saeb_ef_9ano\n",
        "\n",
        "s_3a = pd.read_csv('/content/gdrive/MyDrive/br_inep_saeb/input/saeb19_aluno_3ano.csv', dtype='string', sep=',')\n",
        "lp = s_3a[LP]\n",
        "#lp = lp[lp.IN_PREENCHIMENTO_LP.isin(['1'])]\n",
        "lp['disciplina'] = 'LP'\n",
        "lp.rename(columns=rename19, inplace=True)\n",
        "mt = s_3a[MT]\n",
        "#mt = mt[mt.IN_PREENCHIMENTO_MT.isin(['1'])]\n",
        "mt['disciplina'] = 'MT'\n",
        "mt.rename(columns=rename19, inplace=True)\n",
        "saeb_em_3ano = lp.append(mt, ignore_index=True)\n",
        "saeb_em_3ano = pd.concat([saeb_em_3ano, add_19])\n",
        "saeb_em_3ano = pd.merge(saeb_em_3ano, id_uf, how='left', left_on=['id_uf'], right_on=['id_uf'])\n",
        "saeb_em_3ano['serie'] = saeb_em_3ano['serie'].apply(lambda x: str(x).replace('12','3'))\n",
        "saeb_em_3ano['serie'] = saeb_em_3ano['serie'].apply(lambda x: str(x).replace('13','4'))\n",
        "saeb_em_3ano = saeb_em_3ano[ordem]\n",
        "saeb_em_3ano.to_csv('/content/gdrive/MyDrive/br_inep_saeb/temp/saeb_em_3ano_2019.csv', na_rep='', index=False)\n",
        "del s_3a, lp, mt, saeb_em_3ano"
      ],
      "execution_count": null,
      "outputs": [
        {
          "output_type": "stream",
          "name": "stderr",
          "text": [
            "/usr/local/lib/python3.7/dist-packages/ipykernel_launcher.py:34: SettingWithCopyWarning: \n",
            "A value is trying to be set on a copy of a slice from a DataFrame.\n",
            "Try using .loc[row_indexer,col_indexer] = value instead\n",
            "\n",
            "See the caveats in the documentation: https://pandas.pydata.org/pandas-docs/stable/user_guide/indexing.html#returning-a-view-versus-a-copy\n",
            "/usr/local/lib/python3.7/dist-packages/pandas/core/frame.py:4308: SettingWithCopyWarning: \n",
            "A value is trying to be set on a copy of a slice from a DataFrame\n",
            "\n",
            "See the caveats in the documentation: https://pandas.pydata.org/pandas-docs/stable/user_guide/indexing.html#returning-a-view-versus-a-copy\n",
            "  errors=errors,\n",
            "/usr/local/lib/python3.7/dist-packages/ipykernel_launcher.py:38: SettingWithCopyWarning: \n",
            "A value is trying to be set on a copy of a slice from a DataFrame.\n",
            "Try using .loc[row_indexer,col_indexer] = value instead\n",
            "\n",
            "See the caveats in the documentation: https://pandas.pydata.org/pandas-docs/stable/user_guide/indexing.html#returning-a-view-versus-a-copy\n",
            "/usr/local/lib/python3.7/dist-packages/ipykernel_launcher.py:50: SettingWithCopyWarning: \n",
            "A value is trying to be set on a copy of a slice from a DataFrame.\n",
            "Try using .loc[row_indexer,col_indexer] = value instead\n",
            "\n",
            "See the caveats in the documentation: https://pandas.pydata.org/pandas-docs/stable/user_guide/indexing.html#returning-a-view-versus-a-copy\n",
            "/usr/local/lib/python3.7/dist-packages/ipykernel_launcher.py:54: SettingWithCopyWarning: \n",
            "A value is trying to be set on a copy of a slice from a DataFrame.\n",
            "Try using .loc[row_indexer,col_indexer] = value instead\n",
            "\n",
            "See the caveats in the documentation: https://pandas.pydata.org/pandas-docs/stable/user_guide/indexing.html#returning-a-view-versus-a-copy\n",
            "/usr/local/lib/python3.7/dist-packages/ipykernel_launcher.py:66: SettingWithCopyWarning: \n",
            "A value is trying to be set on a copy of a slice from a DataFrame.\n",
            "Try using .loc[row_indexer,col_indexer] = value instead\n",
            "\n",
            "See the caveats in the documentation: https://pandas.pydata.org/pandas-docs/stable/user_guide/indexing.html#returning-a-view-versus-a-copy\n",
            "/usr/local/lib/python3.7/dist-packages/ipykernel_launcher.py:70: SettingWithCopyWarning: \n",
            "A value is trying to be set on a copy of a slice from a DataFrame.\n",
            "Try using .loc[row_indexer,col_indexer] = value instead\n",
            "\n",
            "See the caveats in the documentation: https://pandas.pydata.org/pandas-docs/stable/user_guide/indexing.html#returning-a-view-versus-a-copy\n",
            "/usr/local/lib/python3.7/dist-packages/ipykernel_launcher.py:82: SettingWithCopyWarning: \n",
            "A value is trying to be set on a copy of a slice from a DataFrame.\n",
            "Try using .loc[row_indexer,col_indexer] = value instead\n",
            "\n",
            "See the caveats in the documentation: https://pandas.pydata.org/pandas-docs/stable/user_guide/indexing.html#returning-a-view-versus-a-copy\n",
            "/usr/local/lib/python3.7/dist-packages/ipykernel_launcher.py:86: SettingWithCopyWarning: \n",
            "A value is trying to be set on a copy of a slice from a DataFrame.\n",
            "Try using .loc[row_indexer,col_indexer] = value instead\n",
            "\n",
            "See the caveats in the documentation: https://pandas.pydata.org/pandas-docs/stable/user_guide/indexing.html#returning-a-view-versus-a-copy\n"
          ]
        }
      ]
    },
    {
      "cell_type": "markdown",
      "metadata": {
        "id": "4hNcr3MogIE6"
      },
      "source": [
        "##### **2017**"
      ]
    },
    {
      "cell_type": "code",
      "metadata": {
        "id": "Lo6XTHpi62-v",
        "colab": {
          "base_uri": "https://localhost:8080/"
        },
        "outputId": "def055a1-426c-411f-c961-9dd4f2e337d1"
      },
      "source": [
        "#saeb 2017\n",
        "\n",
        "#nota metodológica: exclusão de observações com a variável IN_PREENCHIMENTO_PROVA = 0 uma vez que não existe nota referente ao aluno (NA), nem informações \n",
        "#socioeconômicas, além de ID_MUNICIPIO e ID_ESCOLA estarem mascarados com o dígito 6\n",
        "\n",
        "rename17 = {'ID_PROVA_BRASIL':'ano', 'ID_REGIAO':'id_regiao', 'ID_UF':'id_uf', 'ID_MUNICIPIO':'id_municipio', 'ID_ESCOLA':'id_escola',\n",
        "            'ID_DEPENDENCIA_ADM':'rede', 'ID_LOCALIZACAO':'localizacao', 'ID_TURMA':'id_turma', 'ID_TURNO':'turno', 'ID_SERIE':'serie', \n",
        "            'ID_ALUNO':'id_aluno', 'ESTRATO_ANEB':'estrato', 'PESO_ALUNO_LP':'peso_aluno', 'PROFICIENCIA_LP':'proficiencia', \n",
        "            'ERRO_PADRAO_LP':'erro_padrao', 'DESVIO_PADRAO_LP':'erro_padrao', 'PROFICIENCIA_LP_SAEB':'proficiencia_saeb', \n",
        "            'ERRO_PADRAO_LP_SAEB':'erro_padrao_saeb', 'DESVIO_PADRAO_LP_SAEB':'erro_padrao_saeb', 'PESO_ALUNO_MT':'peso_aluno',\n",
        "            'PROFICIENCIA_MT':'proficiencia', 'ERRO_PADRAO_MT':'erro_padrao', 'DESVIO_PADRAO_MT':'erro_padrao', 'PROFICIENCIA_MT_SAEB':'proficiencia_saeb', \n",
        "            'ERRO_PADRAO_MT_SAEB':'erro_padrao_saeb', 'DESVIO_PADRAO_MT_SAEB':'erro_padrao_saeb', 'TX_RESP_Q001':'sexo', 'TX_RESP_Q002':'raca_cor', 'TX_RESP_Q004':'idade'}\n",
        "\n",
        "LP = ['ID_PROVA_BRASIL', 'ID_REGIAO', 'ID_UF', 'ID_MUNICIPIO', 'ID_ESCOLA', 'ID_DEPENDENCIA_ADM', 'ID_LOCALIZACAO', 'ID_TURMA', 'ID_TURNO',\n",
        "       'ID_SERIE', 'ID_ALUNO', 'ESTRATO_ANEB', 'PESO_ALUNO_LP', 'PROFICIENCIA_LP', 'ERRO_PADRAO_LP', 'PROFICIENCIA_LP_SAEB', 'ERRO_PADRAO_LP_SAEB', \n",
        "      'TX_RESP_Q001', 'TX_RESP_Q002']\n",
        "\n",
        "MT = ['ID_PROVA_BRASIL', 'ID_REGIAO', 'ID_UF', 'ID_MUNICIPIO', 'ID_ESCOLA', 'ID_DEPENDENCIA_ADM', 'ID_LOCALIZACAO', 'ID_TURMA', 'ID_TURNO',\n",
        "       'ID_SERIE', 'ID_ALUNO', 'ESTRATO_ANEB', 'PESO_ALUNO_MT', 'PROFICIENCIA_MT', 'ERRO_PADRAO_MT', 'PROFICIENCIA_MT_SAEB', 'ERRO_PADRAO_MT_SAEB', \n",
        "      'TX_RESP_Q001', 'TX_RESP_Q002']\n",
        "\n",
        "add_17 = pd.DataFrame(columns=['amostra'])\n",
        "\n",
        "s_4s = pd.read_csv('/content/gdrive/MyDrive/br_inep_saeb/input/saeb17_aluno_5ano.csv', dtype='string', sep=',')\n",
        "#s_4s = s_4s[s_4s.IN_PREENCHIMENTO_PROVA.isin(['1'])]\n",
        "lp = s_4s[LP]\n",
        "lp['disciplina'] = 'LP'\n",
        "lp.rename(columns=rename17, inplace=True)\n",
        "mt = s_4s[MT]\n",
        "mt['disciplina'] = 'MT'\n",
        "mt.rename(columns=rename17, inplace=True)\n",
        "saeb_ef_5ano = lp.append(mt, ignore_index=True)\n",
        "saeb_ef_5ano = pd.concat([saeb_ef_5ano, add_17])\n",
        "saeb_ef_5ano = pd.merge(saeb_ef_5ano, id_uf, how='left', left_on=['id_uf'], right_on=['id_uf'])\n",
        "saeb_ef_5ano = saeb_ef_5ano[ordem]\n",
        "saeb_ef_5ano.to_csv('/content/gdrive/MyDrive/br_inep_saeb/temp/saeb_ef_5ano_2017.csv', na_rep='', index=False)\n",
        "del s_4s, lp, mt, saeb_ef_5ano\n",
        "\n",
        "s_8s = pd.read_csv('/content/gdrive/MyDrive/br_inep_saeb/input/saeb17_aluno_9ano.csv', dtype='string', sep=',')\n",
        "#s_8s = s_8s[s_8s.IN_PREENCHIMENTO_PROVA.isin(['1'])]\n",
        "lp = s_8s[LP]\n",
        "lp['disciplina'] = 'LP'\n",
        "lp.rename(columns=rename17, inplace=True)\n",
        "mt = s_8s[MT]\n",
        "mt['disciplina'] = 'MT'\n",
        "mt.rename(columns=rename17, inplace=True)\n",
        "saeb_ef_9ano = lp.append(mt, ignore_index=True)\n",
        "saeb_ef_9ano = pd.concat([saeb_ef_9ano, add_17])\n",
        "saeb_ef_9ano = pd.merge(saeb_ef_9ano, id_uf, how='left', left_on=['id_uf'], right_on=['id_uf'])\n",
        "saeb_ef_9ano = saeb_ef_9ano[ordem]\n",
        "saeb_ef_9ano.to_csv('/content/gdrive/MyDrive/br_inep_saeb/temp/saeb_ef_9ano_2017.csv', na_rep='', index=False)\n",
        "del s_8s, lp, mt, saeb_ef_9ano\n",
        "\n",
        "s_3a = pd.read_csv('/content/gdrive/MyDrive/br_inep_saeb/input/saeb17_aluno_3ano.csv', dtype='string', sep=',')\n",
        "#s_3a = s_3a[s_3a.IN_PREENCHIMENTO_PROVA.isin(['1'])]\n",
        "lp = s_3a[LP]\n",
        "lp['disciplina'] = 'LP'\n",
        "lp.rename(columns=rename17, inplace=True)\n",
        "mt = s_3a[MT]\n",
        "mt['disciplina'] = 'MT'\n",
        "mt.rename(columns=rename17, inplace=True)\n",
        "saeb_em_3ano = lp.append(mt, ignore_index=True)\n",
        "saeb_em_3ano = pd.concat([saeb_em_3ano, add_17])\n",
        "saeb_em_3ano = pd.merge(saeb_em_3ano, id_uf, how='left', left_on=['id_uf'], right_on=['id_uf'])\n",
        "saeb_em_3ano['serie'] = saeb_em_3ano['serie'].apply(lambda x: str(x).replace('12','3'))\n",
        "saeb_em_3ano['serie'] = saeb_em_3ano['serie'].apply(lambda x: str(x).replace('13','4'))\n",
        "saeb_em_3ano = saeb_em_3ano[ordem]\n",
        "saeb_em_3ano.to_csv('/content/gdrive/MyDrive/br_inep_saeb/temp/saeb_em_3ano_2017.csv', na_rep='', index=False)\n",
        "del s_3a, lp, mt, saeb_em_3ano"
      ],
      "execution_count": null,
      "outputs": [
        {
          "output_type": "stream",
          "name": "stderr",
          "text": [
            "/usr/local/lib/python3.7/dist-packages/ipykernel_launcher.py:27: SettingWithCopyWarning: \n",
            "A value is trying to be set on a copy of a slice from a DataFrame.\n",
            "Try using .loc[row_indexer,col_indexer] = value instead\n",
            "\n",
            "See the caveats in the documentation: https://pandas.pydata.org/pandas-docs/stable/user_guide/indexing.html#returning-a-view-versus-a-copy\n",
            "/usr/local/lib/python3.7/dist-packages/pandas/core/frame.py:4308: SettingWithCopyWarning: \n",
            "A value is trying to be set on a copy of a slice from a DataFrame\n",
            "\n",
            "See the caveats in the documentation: https://pandas.pydata.org/pandas-docs/stable/user_guide/indexing.html#returning-a-view-versus-a-copy\n",
            "  errors=errors,\n",
            "/usr/local/lib/python3.7/dist-packages/ipykernel_launcher.py:30: SettingWithCopyWarning: \n",
            "A value is trying to be set on a copy of a slice from a DataFrame.\n",
            "Try using .loc[row_indexer,col_indexer] = value instead\n",
            "\n",
            "See the caveats in the documentation: https://pandas.pydata.org/pandas-docs/stable/user_guide/indexing.html#returning-a-view-versus-a-copy\n",
            "/usr/local/lib/python3.7/dist-packages/ipykernel_launcher.py:42: SettingWithCopyWarning: \n",
            "A value is trying to be set on a copy of a slice from a DataFrame.\n",
            "Try using .loc[row_indexer,col_indexer] = value instead\n",
            "\n",
            "See the caveats in the documentation: https://pandas.pydata.org/pandas-docs/stable/user_guide/indexing.html#returning-a-view-versus-a-copy\n",
            "/usr/local/lib/python3.7/dist-packages/ipykernel_launcher.py:45: SettingWithCopyWarning: \n",
            "A value is trying to be set on a copy of a slice from a DataFrame.\n",
            "Try using .loc[row_indexer,col_indexer] = value instead\n",
            "\n",
            "See the caveats in the documentation: https://pandas.pydata.org/pandas-docs/stable/user_guide/indexing.html#returning-a-view-versus-a-copy\n",
            "/usr/local/lib/python3.7/dist-packages/ipykernel_launcher.py:57: SettingWithCopyWarning: \n",
            "A value is trying to be set on a copy of a slice from a DataFrame.\n",
            "Try using .loc[row_indexer,col_indexer] = value instead\n",
            "\n",
            "See the caveats in the documentation: https://pandas.pydata.org/pandas-docs/stable/user_guide/indexing.html#returning-a-view-versus-a-copy\n",
            "/usr/local/lib/python3.7/dist-packages/ipykernel_launcher.py:60: SettingWithCopyWarning: \n",
            "A value is trying to be set on a copy of a slice from a DataFrame.\n",
            "Try using .loc[row_indexer,col_indexer] = value instead\n",
            "\n",
            "See the caveats in the documentation: https://pandas.pydata.org/pandas-docs/stable/user_guide/indexing.html#returning-a-view-versus-a-copy\n"
          ]
        }
      ]
    },
    {
      "cell_type": "markdown",
      "metadata": {
        "id": "absp5MgdgM40"
      },
      "source": [
        "##### **2015**"
      ]
    },
    {
      "cell_type": "code",
      "metadata": {
        "id": "9TAUqG72s8gP",
        "colab": {
          "base_uri": "https://localhost:8080/",
          "height": 235
        },
        "outputId": "f3fe77c8-9981-4ae9-ade5-669c58689b5b"
      },
      "source": [
        "#saeb 2015\n",
        "\n",
        "#nota metodológica: exclusão de observações com a variável IN_PREENCHIMENTO_PROVA = 0 uma vez que não existe nota referente ao aluno (NA), nem informações \n",
        "#socioeconômicas, além de ID_MUNICIPIO e ID_ESCOLA estarem mascarados com o dígito 6\n",
        "\n",
        "LP = ['ID_PROVA_BRASIL', 'ID_REGIAO', 'ID_UF', 'ID_MUNICIPIO', 'ID_ESCOLA', 'ID_DEPENDENCIA_ADM', 'ID_LOCALIZACAO', 'ID_TURMA', 'ID_TURNO',\n",
        "       'ID_SERIE', 'ID_ALUNO', 'ESTRATO_ANEB', 'PESO_ALUNO_LP', 'PROFICIENCIA_LP', 'DESVIO_PADRAO_LP', 'PROFICIENCIA_LP_SAEB', 'DESVIO_PADRAO_LP_SAEB', \n",
        "      'TX_RESP_Q001', 'TX_RESP_Q002']\n",
        "\n",
        "MT = ['ID_PROVA_BRASIL', 'ID_REGIAO', 'ID_UF', 'ID_MUNICIPIO', 'ID_ESCOLA', 'ID_DEPENDENCIA_ADM', 'ID_LOCALIZACAO', 'ID_TURMA', 'ID_TURNO',\n",
        "       'ID_SERIE', 'ID_ALUNO', 'ESTRATO_ANEB', 'PESO_ALUNO_MT', 'PROFICIENCIA_MT', 'DESVIO_PADRAO_MT', 'PROFICIENCIA_MT_SAEB', 'DESVIO_PADRAO_MT_SAEB', \n",
        "      'TX_RESP_Q001', 'TX_RESP_Q002']\n",
        "\n",
        "s_4s = pd.read_csv('/content/gdrive/MyDrive/br_inep_saeb/input/saeb15_aluno_5ano.csv', dtype='string', sep=',')\n",
        "#s_4s = s_4s[s_4s.IN_PREENCHIMENTO_PROVA.isin(['1'])]\n",
        "lp = s_4s[LP]\n",
        "lp['disciplina'] = 'LP'\n",
        "lp.rename(columns=rename17, inplace=True)\n",
        "mt = s_4s[MT]\n",
        "mt['disciplina'] = 'MT'\n",
        "mt.rename(columns=rename17, inplace=True)\n",
        "saeb_ef_5ano = lp.append(mt, ignore_index=True)\n",
        "saeb_ef_5ano = pd.concat([saeb_ef_5ano, add_17])\n",
        "saeb_ef_5ano = pd.merge(saeb_ef_5ano, id_uf, how='left', left_on=['id_uf'], right_on=['id_uf'])\n",
        "saeb_ef_5ano = saeb_ef_5ano[ordem]\n",
        "saeb_ef_5ano.to_csv('/content/gdrive/MyDrive/br_inep_saeb/temp/saeb_ef_5ano_2015.csv', na_rep='', index=False)\n",
        "del s_4s, lp, mt, saeb_ef_5ano\n",
        "\n",
        "s_8s = pd.read_csv('/content/gdrive/MyDrive/br_inep_saeb/input/saeb15_aluno_9ano.csv', dtype='string', sep=',')\n",
        "#s_8s = s_8s[s_8s.IN_PREENCHIMENTO_PROVA.isin(['1'])]\n",
        "lp = s_8s[LP]\n",
        "lp['disciplina'] = 'LP'\n",
        "lp.rename(columns=rename17, inplace=True)\n",
        "mt = s_8s[MT]\n",
        "mt['disciplina'] = 'MT'\n",
        "mt.rename(columns=rename17, inplace=True)\n",
        "saeb_ef_9ano = lp.append(mt, ignore_index=True)\n",
        "saeb_ef_9ano = pd.concat([saeb_ef_9ano, add_17])\n",
        "saeb_ef_9ano = pd.merge(saeb_ef_9ano, id_uf, how='left', left_on=['id_uf'], right_on=['id_uf'])\n",
        "saeb_ef_9ano = saeb_ef_9ano[ordem]\n",
        "saeb_ef_9ano.to_csv('/content/gdrive/MyDrive/br_inep_saeb/temp/saeb_ef_9ano_2015.csv', na_rep='', index=False)\n",
        "del s_8s, lp, mt, saeb_ef_9ano\n",
        "\n",
        "s_3a = pd.read_csv('/content/gdrive/MyDrive/br_inep_saeb/input/saeb15_aluno_3ano.csv', dtype='string', sep=',')\n",
        "#s_3a = s_3a[s_3a.IN_PREENCHIMENTO_PROVA.isin(['1'])]\n",
        "lp = s_3a[LP]\n",
        "lp['disciplina'] = 'LP'\n",
        "lp.rename(columns=rename17, inplace=True)\n",
        "mt = s_3a[MT]\n",
        "mt['disciplina'] = 'MT'\n",
        "mt.rename(columns=rename17, inplace=True)\n",
        "saeb_em_3ano = lp.append(mt, ignore_index=True)\n",
        "saeb_em_3ano = pd.concat([saeb_em_3ano, add_17])\n",
        "saeb_em_3ano = pd.merge(saeb_em_3ano, id_uf, how='left', left_on=['id_uf'], right_on=['id_uf'])\n",
        "saeb_em_3ano['serie'] = saeb_em_3ano['serie'].apply(lambda x: str(x).replace('12','3'))\n",
        "saeb_em_3ano['serie'] = saeb_em_3ano['serie'].apply(lambda x: str(x).replace('13','4'))\n",
        "saeb_em_3ano = saeb_em_3ano[ordem]\n",
        "saeb_em_3ano.to_csv('/content/gdrive/MyDrive/br_inep_saeb/temp/saeb_em_3ano_2015.csv', na_rep='', index=False)\n",
        "del s_3a, lp, mt, saeb_em_3ano"
      ],
      "execution_count": null,
      "outputs": [
        {
          "output_type": "error",
          "ename": "NameError",
          "evalue": "ignored",
          "traceback": [
            "\u001b[0;31m---------------------------------------------------------------------------\u001b[0m",
            "\u001b[0;31mNameError\u001b[0m                                 Traceback (most recent call last)",
            "\u001b[0;32m<ipython-input-1-15a284e4d445>\u001b[0m in \u001b[0;36m<module>\u001b[0;34m()\u001b[0m\n\u001b[1;32m     12\u001b[0m       'TX_RESP_Q001', 'TX_RESP_Q002']\n\u001b[1;32m     13\u001b[0m \u001b[0;34m\u001b[0m\u001b[0m\n\u001b[0;32m---> 14\u001b[0;31m \u001b[0ms_4s\u001b[0m \u001b[0;34m=\u001b[0m \u001b[0mpd\u001b[0m\u001b[0;34m.\u001b[0m\u001b[0mread_csv\u001b[0m\u001b[0;34m(\u001b[0m\u001b[0;34m'/content/gdrive/MyDrive/br_inep_saeb/input/saeb15_aluno_5ano.csv'\u001b[0m\u001b[0;34m,\u001b[0m \u001b[0mdtype\u001b[0m\u001b[0;34m=\u001b[0m\u001b[0;34m'string'\u001b[0m\u001b[0;34m,\u001b[0m \u001b[0msep\u001b[0m\u001b[0;34m=\u001b[0m\u001b[0;34m','\u001b[0m\u001b[0;34m)\u001b[0m\u001b[0;34m\u001b[0m\u001b[0;34m\u001b[0m\u001b[0m\n\u001b[0m\u001b[1;32m     15\u001b[0m \u001b[0;31m#s_4s = s_4s[s_4s.IN_PREENCHIMENTO_PROVA.isin(['1'])]\u001b[0m\u001b[0;34m\u001b[0m\u001b[0;34m\u001b[0m\u001b[0;34m\u001b[0m\u001b[0m\n\u001b[1;32m     16\u001b[0m \u001b[0mlp\u001b[0m \u001b[0;34m=\u001b[0m \u001b[0ms_4s\u001b[0m\u001b[0;34m[\u001b[0m\u001b[0mLP\u001b[0m\u001b[0;34m]\u001b[0m\u001b[0;34m\u001b[0m\u001b[0;34m\u001b[0m\u001b[0m\n",
            "\u001b[0;31mNameError\u001b[0m: name 'pd' is not defined"
          ]
        }
      ]
    },
    {
      "cell_type": "markdown",
      "metadata": {
        "id": "mV0CUwrbgTpz"
      },
      "source": [
        "##### **2013**"
      ]
    },
    {
      "cell_type": "code",
      "metadata": {
        "id": "KT6MeYEweG-M"
      },
      "source": [
        "#saeb 2013\n",
        "\n",
        "#nota metodológica: exclusão de observações com a variável IN_PREENCHIMENTO_PROVA = 0 uma vez que não existe nota referente ao aluno (NA), nem informações \n",
        "#socioeconômicas, além de ID_MUNICIPIO e ID_ESCOLA estarem mascarados com o dígito 6\n",
        "\n",
        "s_4s = pd.read_csv('/content/gdrive/MyDrive/br_inep_saeb/input/saeb13_aluno_5ano.csv', dtype='string', sep=',')\n",
        "#s_4s = s_4s[s_4s.IN_PREENCHIMENTO_PROVA.isin(['1'])]\n",
        "lp = s_4s[LP]\n",
        "lp['disciplina'] = 'LP'\n",
        "lp.rename(columns=rename17, inplace=True)\n",
        "mt = s_4s[MT]\n",
        "mt['disciplina'] = 'MT'\n",
        "mt.rename(columns=rename17, inplace=True)\n",
        "saeb_ef_5ano = lp.append(mt, ignore_index=True)\n",
        "saeb_ef_5ano = pd.concat([saeb_ef_5ano, add_17])\n",
        "saeb_ef_5ano = pd.merge(saeb_ef_5ano, id_uf, how='left', left_on=['id_uf'], right_on=['id_uf'])\n",
        "saeb_ef_5ano = saeb_ef_5ano[ordem]\n",
        "saeb_ef_5ano.to_csv('/content/gdrive/MyDrive/br_inep_saeb/temp/saeb_ef_5ano_2013.csv', na_rep='', index=False)\n",
        "del s_4s, lp, mt, saeb_ef_5ano\n",
        "\n",
        "s_8s = pd.read_csv('/content/gdrive/MyDrive/br_inep_saeb/input/saeb13_aluno_9ano.csv', dtype='string', sep=',')\n",
        "#s_8s = s_8s[s_8s.IN_PREENCHIMENTO_PROVA.isin(['1'])]\n",
        "lp = s_8s[LP]\n",
        "lp['disciplina'] = 'LP'\n",
        "lp.rename(columns=rename17, inplace=True)\n",
        "mt = s_8s[MT]\n",
        "mt['disciplina'] = 'MT'\n",
        "mt.rename(columns=rename17, inplace=True)\n",
        "saeb_ef_9ano = lp.append(mt, ignore_index=True)\n",
        "saeb_ef_9ano = pd.concat([saeb_ef_9ano, add_17])\n",
        "saeb_ef_9ano = pd.merge(saeb_ef_9ano, id_uf, how='left', left_on=['id_uf'], right_on=['id_uf'])\n",
        "saeb_ef_9ano = saeb_ef_9ano[ordem]\n",
        "saeb_ef_9ano.to_csv('/content/gdrive/MyDrive/br_inep_saeb/temp/saeb_ef_9ano_2013.csv', na_rep='', index=False)\n",
        "del s_8s, lp, mt, saeb_ef_9ano\n",
        "\n",
        "s_3a = pd.read_csv('/content/gdrive/MyDrive/br_inep_saeb/input/saeb13_aluno_3ano.csv', dtype='string', sep=',')\n",
        "#s_3a = s_3a[s_3a.IN_PREENCHIMENTO_PROVA.isin(['1'])]\n",
        "lp = s_3a[LP]\n",
        "lp['disciplina'] = 'LP'\n",
        "lp.rename(columns=rename17, inplace=True)\n",
        "mt = s_3a[MT]\n",
        "mt['disciplina'] = 'MT'\n",
        "mt.rename(columns=rename17, inplace=True)\n",
        "saeb_em_3ano = lp.append(mt, ignore_index=True)\n",
        "saeb_em_3ano = pd.concat([saeb_em_3ano, add_17])\n",
        "saeb_em_3ano = pd.merge(saeb_em_3ano, id_uf, how='left', left_on=['id_uf'], right_on=['id_uf'])\n",
        "saeb_em_3ano['serie'] = saeb_em_3ano['serie'].apply(lambda x: str(x).replace('12','3'))\n",
        "saeb_em_3ano['serie'] = saeb_em_3ano['serie'].apply(lambda x: str(x).replace('13','4'))\n",
        "saeb_em_3ano = saeb_em_3ano[ordem]\n",
        "saeb_em_3ano.to_csv('/content/gdrive/MyDrive/br_inep_saeb/temp/saeb_em_3ano_2013.csv', na_rep='', index=False)\n",
        "del s_3a, lp, mt, saeb_em_3ano"
      ],
      "execution_count": null,
      "outputs": []
    },
    {
      "cell_type": "markdown",
      "metadata": {
        "id": "WoycqxV4irgE"
      },
      "source": [
        "##### **2011**"
      ]
    },
    {
      "cell_type": "code",
      "source": [
        "#saeb 2011\n",
        "rename11 = {'ID_SAEB':'ano', 'ID_REGIAO':'id_regiao', 'ID_UF':'id_uf', 'ID_MUNICIPIO':'id_municipio', 'ID_ESCOLA':'id_escola',\n",
        "            'ID_DEPENDENCIA_ADM':'rede', 'ID_LOCALIZACAO':'localizacao', 'ID_TURMA':'id_turma', 'ID_TURNO':'turno', 'ID_SERIE':'serie', \n",
        "            'ID_ALUNO':'id_aluno', 'ESTRATO_ANEB':'estrato', 'PESO':'peso_aluno', 'PESO_ALUNO_LP':'peso_aluno', 'PROFICIENCIA_LP':'proficiencia', \n",
        "            'ERRO_PADRAO_LP':'erro_padrao', 'DESVIO_PADRAO_LP':'erro_padrao', 'PROFICIENCIA_LP_SAEB':'proficiencia_saeb', \n",
        "            'ERRO_PADRAO_LP_SAEB':'erro_padrao_saeb', 'DESVIO_PADRAO_LP_SAEB':'erro_padrao_saeb', 'PESO_ALUNO_MT':'peso_aluno',\n",
        "            'PROFICIENCIA_MT':'proficiencia', 'ERRO_PADRAO_MT':'erro_padrao', 'DESVIO_PADRAO_MT':'erro_padrao', 'PROFICIENCIA_MT_SAEB':'proficiencia_saeb', \n",
        "            'ERRO_PADRAO_MT_SAEB':'erro_padrao_saeb', 'DESVIO_PADRAO_MT_SAEB':'erro_padrao_saeb', 'TX_RESP_Q001':'sexo', 'TX_RESP_Q002':'raca_cor', 'TX_RESP_Q004':'idade'}\n",
        "\n",
        "LP = ['ID_SAEB', 'ID_REGIAO', 'ID_UF', 'ID_MUNICIPIO', 'ID_ESCOLA', 'ID_DEPENDENCIA_ADM', 'ID_LOCALIZACAO', 'ID_TURMA', 'ID_TURNO', 'PESO',\n",
        "       'ID_SERIE', 'ID_ALUNO', 'PROFICIENCIA_LP', 'DESVIO_PADRAO_LP', 'PROFICIENCIA_LP_SAEB', 'DESVIO_PADRAO_LP_SAEB', 'TX_RESP_Q001', 'TX_RESP_Q002']\n",
        "\n",
        "MT = ['ID_SAEB', 'ID_REGIAO', 'ID_UF', 'ID_MUNICIPIO', 'ID_ESCOLA', 'ID_DEPENDENCIA_ADM', 'ID_LOCALIZACAO', 'ID_TURMA', 'ID_TURNO', 'PESO',\n",
        "       'ID_SERIE', 'ID_ALUNO', 'PROFICIENCIA_MT', 'DESVIO_PADRAO_MT', 'PROFICIENCIA_MT_SAEB', 'DESVIO_PADRAO_MT_SAEB', 'TX_RESP_Q001', 'TX_RESP_Q002']\n",
        "\n",
        "id = ['ID_SAEB', 'ID_REGIAO', 'ID_UF', 'ID_MUNICIPIO', 'ID_ESCOLA', 'ID_DEPENDENCIA_ADM', 'ID_LOCALIZACAO', 'ID_TURMA', 'ID_TURNO', 'ID_SERIE',\n",
        "      'ID_ALUNO', 'IN_SITUACAO_CENSO', 'IN_PREENCHIMENTO']\n",
        "quest = pd.read_csv('/content/gdrive/MyDrive/br_inep_saeb/input/saeb11_questionario_aluno.csv', dtype='string', sep=';')\n",
        "quest = quest[['ID_SAEB', 'ID_REGIAO', 'ID_UF', 'ID_MUNICIPIO', 'ID_ESCOLA', 'ID_DEPENDENCIA_ADM', 'ID_LOCALIZACAO', 'ID_TURMA', 'ID_TURNO', 'ID_SERIE',\n",
        "               'ID_ALUNO', 'IN_SITUACAO_CENSO', 'IN_PREENCHIMENTO', 'TX_RESP_Q001', 'TX_RESP_Q002']]\n",
        "res = pd.read_csv('/content/gdrive/MyDrive/br_inep_saeb/input/saeb11_resultado_aluno.csv', dtype='string', sep=';')\n",
        "res = res.apply(lambda x: x.str.replace(',','.'))\n",
        "s11 = pd.merge(res, quest, on=id, how='left')\n",
        "del quest, res\n",
        "\n",
        "add_11 = pd.DataFrame(columns=['estrato', 'amostra'])\n",
        "\n",
        "#s11 = s11[s11.IN_PREENCHIMENTO.isin(['1'])]\n",
        "lp = s11[LP]\n",
        "lp['disciplina'] = 'LP'\n",
        "lp.rename(columns=rename11, inplace=True)\n",
        "mt = s11[MT]\n",
        "mt['disciplina'] = 'MT'\n",
        "mt.rename(columns=rename11, inplace=True)\n",
        "s11 = lp.append(mt, ignore_index=True)\n",
        "s11 = pd.concat([s11, add_11])\n",
        "s11 = pd.merge(s11, id_uf, how='left', left_on=['id_uf'], right_on=['id_uf'])\n",
        "s11 = s11[ordem]\n",
        "saeb_ef_5ano = s11.query('serie == \"5\"')\n",
        "saeb_ef_5ano.to_csv('/content/gdrive/MyDrive/br_inep_saeb/temp/saeb_ef_5ano_2011.csv', na_rep='', index=False)\n",
        "#del lp, mt, saeb_ef_5ano\n",
        "saeb_ef_9ano = s11.query('serie == \"9\"')\n",
        "saeb_ef_9ano.to_csv('/content/gdrive/MyDrive/br_inep_saeb/temp/saeb_ef_9ano_2011.csv', na_rep='', index=False)\n",
        "saeb_em_3ano = s11.query('serie == \"12\"')\n",
        "saeb_em_3ano['serie'] = saeb_em_3ano['serie'].apply(lambda x: str(x).replace('12','3'))\n",
        "saeb_em_3ano.to_csv('/content/gdrive/MyDrive/br_inep_saeb/temp/saeb_em_3ano_2011.csv', na_rep='', index=False)\n",
        "#del s11, saeb_em_3ano\n"
      ],
      "metadata": {
        "id": "RnhuVgSuZRRn"
      },
      "execution_count": null,
      "outputs": []
    },
    {
      "cell_type": "code",
      "metadata": {
        "id": "P1w6idXybIkO"
      },
      "source": [
        "#prova brasil 2011\n",
        "\n",
        "#nota metodológica: \n",
        "#junção das bases referentes a aluno\n",
        "#exclusão de observações com a variável IN_PREENCHIMENTO_PROVA = 0 uma vez que não existe nota referente ao aluno (NA), nem informações \n",
        "#socioeconômicas, além de ID_MUNICIPIO e ID_ESCOLA estarem mascarados com o dígito 6\n",
        "\n",
        "rename11 = {'ID_PROVA_BRASIL':'ano', 'ID_UF':'id_uf', 'ID_MUNICIPIO':'id_municipio', 'ID_ESCOLA':'id_escola',\n",
        "            'ID_DEPENDENCIA_ADM':'rede', 'ID_LOCALIZACAO':'localizacao', 'ID_TURMA':'id_turma', 'ID_TURNO':'turno', 'ID_SERIE':'serie', \n",
        "            'ID_ALUNO':'id_aluno', 'ESTRATO_ANEB':'estrato', 'PESO':'peso_aluno', 'PESO_ALUNO_LP':'peso_aluno', 'PROFICIENCIA_LP':'proficiencia', \n",
        "            'ERRO_PADRAO_LP':'erro_padrao', 'DESVIO_PADRAO_LP':'erro_padrao', 'PROFICIENCIA_LP_SAEB':'proficiencia_saeb', \n",
        "            'ERRO_PADRAO_LP_SAEB':'erro_padrao_saeb', 'DESVIO_PADRAO_LP_SAEB':'erro_padrao_saeb', 'PESO_ALUNO_MT':'peso_aluno',\n",
        "            'PROFICIENCIA_MT':'proficiencia', 'ERRO_PADRAO_MT':'erro_padrao', 'DESVIO_PADRAO_MT':'erro_padrao', 'PROFICIENCIA_MT_SAEB':'proficiencia_saeb', \n",
        "            'ERRO_PADRAO_MT_SAEB':'erro_padrao_saeb', 'DESVIO_PADRAO_MT_SAEB':'erro_padrao_saeb', 'TX_RESP_Q001':'sexo', 'TX_RESP_Q002':'raca_cor', 'TX_RESP_Q004':'idade'}\n",
        "\n",
        "LP = ['ID_PROVA_BRASIL', 'ID_UF', 'ID_MUNICIPIO', 'ID_ESCOLA', 'ID_DEPENDENCIA_ADM', 'ID_LOCALIZACAO', 'ID_TURMA', 'ID_TURNO', 'PESO',\n",
        "       'ID_SERIE', 'ID_ALUNO', 'PROFICIENCIA_LP', 'DESVIO_PADRAO_LP', 'PROFICIENCIA_LP_SAEB', 'DESVIO_PADRAO_LP_SAEB', 'TX_RESP_Q001', 'TX_RESP_Q002']\n",
        "\n",
        "MT = ['ID_PROVA_BRASIL', 'ID_UF', 'ID_MUNICIPIO', 'ID_ESCOLA', 'ID_DEPENDENCIA_ADM', 'ID_LOCALIZACAO', 'ID_TURMA', 'ID_TURNO', 'PESO',\n",
        "       'ID_SERIE', 'ID_ALUNO', 'PROFICIENCIA_MT', 'DESVIO_PADRAO_MT', 'PROFICIENCIA_MT_SAEB', 'DESVIO_PADRAO_MT_SAEB', 'TX_RESP_Q001', 'TX_RESP_Q002']\n",
        "\n",
        "id = ['ID_PROVA_BRASIL', 'ID_UF', 'ID_MUNICIPIO', 'ID_ESCOLA', 'ID_DEPENDENCIA_ADM', 'ID_LOCALIZACAO', 'ID_TURMA', 'ID_TURNO', 'ID_SERIE',\n",
        "      'ID_ALUNO', 'IN_SITUACAO_CENSO', 'IN_PREENCHIMENTO']\n",
        "quest = pd.read_csv('/content/gdrive/MyDrive/br_inep_saeb/input/saeb11_quest_aluno.csv', dtype='string', sep=';')\n",
        "quest = quest[['ID_PROVA_BRASIL', 'ID_UF', 'ID_MUNICIPIO', 'ID_ESCOLA', 'ID_DEPENDENCIA_ADM', 'ID_LOCALIZACAO', 'ID_TURMA', 'ID_TURNO', 'ID_SERIE',\n",
        "              'ID_ALUNO', 'IN_SITUACAO_CENSO', 'IN_PREENCHIMENTO', 'TX_RESP_Q001', 'TX_RESP_Q002']]\n",
        "res = pd.read_csv('/content/gdrive/MyDrive/br_inep_saeb/input/saeb11_result_aluno.csv', dtype='string', sep=';')\n",
        "res = res.apply(lambda x: x.str.replace(',','.'))\n",
        "s11 = pd.merge(res, quest, on=id, how='left')\n",
        "del quest, res\n",
        "\n",
        "add_11 = pd.DataFrame(columns=['estrato', 'amostra'])\n",
        "\n",
        "#s11 = s11[s11.IN_PREENCHIMENTO.isin(['1'])]\n",
        "lp = s11[LP]\n",
        "lp['disciplina'] = 'LP'\n",
        "lp.rename(columns=rename11, inplace=True)\n",
        "mt = s11[MT]\n",
        "mt['disciplina'] = 'MT'\n",
        "mt.rename(columns=rename11, inplace=True)\n",
        "s11 = lp.append(mt, ignore_index=True)\n",
        "s11 = pd.concat([s11, add_11])\n",
        "s11 = pd.merge(s11, id_reg, how='left', left_on=['id_uf'], right_on=['id_uf'])\n",
        "s11 = s11[ordem]\n",
        "saeb_ef_5ano = s11.query('serie == \"5\"')\n",
        "saeb_ef_5ano.to_csv('/content/gdrive/MyDrive/br_inep_saeb/temp/saeb_ef_5ano_2011.csv', na_rep='', index=False)\n",
        "del lp, mt, saeb_ef_5ano\n",
        "saeb_ef_9ano = s11.query('serie == \"9\"')\n",
        "saeb_ef_9ano.to_csv('/content/gdrive/MyDrive/br_inep_saeb/temp/saeb_ef_9ano_2011.csv', na_rep='', index=False)\n",
        "del s11, saeb_ef_9ano"
      ],
      "execution_count": null,
      "outputs": []
    },
    {
      "cell_type": "markdown",
      "metadata": {
        "id": "sV14-Ws-Supp"
      },
      "source": [
        "##### **2009**"
      ]
    },
    {
      "cell_type": "code",
      "metadata": {
        "id": "m5CL-Qgb4G7i"
      },
      "source": [
        "#prova brasil 2009\n",
        "rename09 = {'SIGLA_UF':'sigla_uf', 'COD_MUNICIPIO':'id_municipio', 'PK_COD_ENTIDADE':'id_escola', 'ID_DEPENDENCIA_ADM':'rede', 'ID_ALUNO':'id_aluno',\n",
        "            'ID_LOCALIZACAO':'localizacao', 'ID_SERIE':'serie', 'CO_TURNO':'turno', 'ID_TURMA':'id_turma', 'NU_THETA_L':'proficiencia', \n",
        "            'NU_SETHETA_L':'erro_padrao', 'NU_THETAT_L':'proficiencia_saeb', 'NU_SETHETAT_L':'erro_padrao_saeb', 'NU_THETA_M':'proficiencia',\n",
        "            'NU_SETHETA_M':'erro_padrao', 'NU_THETAT_M':'proficiencia_saeb', 'NU_SETHETAT_M':'erro_padrao_saeb'}\n",
        "\n",
        "LP = ['SIGLA_UF', 'COD_MUNICIPIO', 'PK_COD_ENTIDADE', 'ID_DEPENDENCIA_ADM', 'ID_LOCALIZACAO', 'ID_SERIE', 'CO_TURNO', 'ID_TURMA', 'ID_ALUNO', \n",
        "      'NU_THETA_L', 'NU_SETHETA_L', 'NU_THETAT_L', 'NU_SETHETAT_L', 'sexo', 'raca_cor']\n",
        "\n",
        "MT = ['SIGLA_UF', 'COD_MUNICIPIO', 'PK_COD_ENTIDADE', 'ID_DEPENDENCIA_ADM', 'ID_LOCALIZACAO', 'ID_SERIE', 'CO_TURNO', 'ID_TURMA', 'ID_ALUNO',\n",
        "      'NU_THETA_M', 'NU_SETHETA_M', 'NU_THETAT_M', 'NU_SETHETAT_M', 'sexo', 'raca_cor']\n",
        "\n",
        "id = ['SIGLA_UF', 'COD_MUNICIPIO', 'ID_DEPENDENCIA_ADM', 'ID_LOCALIZACAO', 'ID_SERIE', 'ID_ALUNO']\n",
        "\n",
        "quest = pd.read_csv('/content/gdrive/MyDrive/br_inep_saeb/input/provabrasil09_quest_aluno.txt', dtype='string', sep=';')\n",
        "quest['sexo'] = quest['TX_RESPOSTAS'].str[:1]\n",
        "quest['raca_cor'] = quest['TX_RESPOSTAS'].str[1:2]\n",
        "quest.drop(['COD_UF', 'NO_MUNICIPIO', 'TX_RESPOSTAS'], axis=1, inplace=True)\n",
        "res = pd.read_csv('/content/gdrive/MyDrive/br_inep_saeb/input/provabrasil09_aluno.txt', dtype='string', sep=';')\n",
        "s09 = pd.merge(res, quest, on=id, how='left')\n",
        "del quest, res\n",
        "\n",
        "add_09 = pd.DataFrame(columns=['estrato', 'amostra', 'peso_aluno'])\n",
        "\n",
        "#lp = s09[s09.ST_LINGUA_PORTUGUESA.isin(['1'])]\n",
        "lp = s09[LP]\n",
        "lp['disciplina'] = 'LP'\n",
        "lp.rename(columns=rename09, inplace=True)\n",
        "#mt = s09[s09.ST_MATEMATICA.isin(['1'])]\n",
        "mt = s09[MT]\n",
        "mt['disciplina'] = 'MT'\n",
        "mt.rename(columns=rename09, inplace=True)\n",
        "s09 = lp.append(mt, ignore_index=True)\n",
        "s09['ano'] = '2009'\n",
        "s09 = pd.concat([s09, add_09])\n",
        "s09 = pd.merge(s09, id_reg, how='left', left_on=['sigla_uf'], right_on=['sigla_uf'])\n",
        "s09 = s09[ordem]\n",
        "saeb_ef_5ano = s09.query('serie == \"5\"')\n",
        "saeb_ef_5ano.to_csv('/content/gdrive/MyDrive/br_inep_saeb/temp/saeb_ef_5ano_2009.csv', na_rep='', index=False)\n",
        "del lp, mt#,saeb_ef_5ano\n",
        "saeb_ef_9ano = s09.query('serie == \"9\"')\n",
        "saeb_ef_9ano.to_csv('/content/gdrive/MyDrive/br_inep_saeb/temp/saeb_ef_9ano_2009.csv', na_rep='', index=False)\n",
        "#del s09, saeb_ef_9ano"
      ],
      "execution_count": null,
      "outputs": []
    },
    {
      "cell_type": "markdown",
      "metadata": {
        "id": "t5YRUfI7TUhx"
      },
      "source": [
        "##### **2007**"
      ]
    },
    {
      "cell_type": "code",
      "metadata": {
        "id": "gCdd8yKBKajh"
      },
      "source": [
        "#prova brasil 2007\n",
        "\n",
        "LP = ['SIGLA_UF', 'COD_MUNICIPIO', 'PK_COD_ENTIDADE', 'ID_DEPENDENCIA_ADM', 'ID_LOCALIZACAO', 'ID_SERIE', 'ID_TURMA', 'ID_ALUNO', \n",
        "      'NU_THETA_L', 'NU_SETHETA_L', 'NU_THETAT_L', 'NU_SETHETAT_L', 'sexo', 'raca_cor']\n",
        "\n",
        "MT = ['SIGLA_UF', 'COD_MUNICIPIO', 'PK_COD_ENTIDADE', 'ID_DEPENDENCIA_ADM', 'ID_LOCALIZACAO', 'ID_SERIE', 'ID_TURMA', 'ID_ALUNO',\n",
        "      'NU_THETA_M', 'NU_SETHETA_M', 'NU_THETAT_M', 'NU_SETHETAT_M','sexo', 'raca_cor']\n",
        "\n",
        "id = ['SIGLA_UF', 'COD_MUNICIPIO', 'ID_DEPENDENCIA_ADM', 'ID_LOCALIZACAO', 'ID_SERIE', 'ID_ALUNO']\n",
        "\n",
        "quest = pd.read_csv('/content/gdrive/MyDrive/br_inep_saeb/input/provabrasil07_questionario_aluno.csv', dtype='string', sep=';')\n",
        "quest['sexo'] = quest['TX_RESPOSTAS'].str[:1]\n",
        "quest['raca_cor'] = quest['TX_RESPOSTAS'].str[1:2]\n",
        "quest.drop(['COD_UF', 'NO_MUNICIPIO', 'TX_RESPOSTAS'], axis=1, inplace=True)\n",
        "res = pd.read_csv('/content/gdrive/MyDrive/br_inep_saeb/input/provabrasil07_aluno.csv', dtype='string', sep=';')\n",
        "res = res.apply(lambda x: x.str.replace(',','.'))\n",
        "s07 = pd.merge(res, quest, on=id, how='left')\n",
        "del quest, res\n",
        "\n",
        "add_07 = pd.DataFrame(columns=['estrato', 'amostra', 'peso_aluno', 'turno'])\n",
        "\n",
        "#lp = s07[s07.ST_LINGUA_PORTUGUESA.isin(['1'])]\n",
        "lp = s07[LP]\n",
        "lp['disciplina'] = 'LP'\n",
        "lp.rename(columns=rename09, inplace=True)\n",
        "#mt = s07[s07.ST_MATEMATICA.isin(['1'])]\n",
        "mt = s07[MT]\n",
        "mt['disciplina'] = 'MT'\n",
        "mt.rename(columns=rename09, inplace=True)\n",
        "s07 = lp.append(mt, ignore_index=True)\n",
        "s07['ano'] = '2007'\n",
        "s07 = pd.concat([s07, add_07])\n",
        "s07 = pd.merge(s07, id_reg, how='left', left_on=['sigla_uf'], right_on=['sigla_uf'])\n",
        "s07['serie'] = s07['serie'].apply(lambda x: str(x).replace('4','5'))\n",
        "s07['serie'] = s07['serie'].apply(lambda x: str(x).replace('8','9'))\n",
        "s07 = s07[ordem]\n",
        "saeb_ef_5ano = s07.query('serie == \"5\"')\n",
        "saeb_ef_5ano.to_csv('/content/gdrive/MyDrive/br_inep_saeb/temp/saeb_ef_5ano_2007.csv', na_rep='', index=False)\n",
        "del lp, mt, saeb_ef_5ano\n",
        "saeb_ef_9ano = s07.query('serie == \"9\"')\n",
        "saeb_ef_9ano.to_csv('/content/gdrive/MyDrive/br_inep_saeb/temp/saeb_ef_9ano_2007.csv', na_rep='', index=False)\n",
        "del s07, saeb_ef_9ano"
      ],
      "execution_count": null,
      "outputs": []
    },
    {
      "cell_type": "markdown",
      "metadata": {
        "id": "IZmk3sVpTX90"
      },
      "source": [
        "##### **2005**"
      ]
    },
    {
      "cell_type": "code",
      "metadata": {
        "id": "uIHl4Cz1PayD"
      },
      "source": [
        "#saeb 2005\n",
        "\n",
        "rename05 = {'ï»¿MASCARA':'mascara', 'ANO':'ano', 'SERIE':'serie', 'DISC':'disciplina', 'TURMA':'id_turma', 'ALUNO':'aluno', 'ESTRATO':'estrato',\n",
        "            'DEP_ADM':'rede', 'LOCAL':'localizacao', 'CODUF':'id_uf', 'REGIAO':'id_regiao', 'PESO_AC':'peso_aluno', 'PROFIC_250':'proficiencia_saeb',\n",
        "            'PROFIC_25050':'proficiencia_saeb', 'PROFIC_SAE':'proficiencia', 'PROFIC_SAEB':'proficiencia', 'A041_001': 'sexo', 'A041_002':'raca_cor', \n",
        "            'A081_001':'sexo', 'A081_002':'raca_cor', 'A111_001':'sexo', 'A111_002':'raca_cor'}\n",
        "\n",
        "add_05 = pd.DataFrame(columns=['id_municipio', 'id_escola', 'amostra', 'turno', 'erro_padrao', 'erro_padrao_saeb'])\n",
        "\n",
        "mt_3a = pd.read_csv('/content/gdrive/MyDrive/br_inep_saeb/input/saeb05_aluno_matematica_3ano.csv', dtype='string', sep=';', encoding='latin-1')\n",
        "pt_3a = pd.read_csv('/content/gdrive/MyDrive/br_inep_saeb/input/saeb05_aluno_portugues_3ano.csv', dtype='string', sep=';', encoding='latin-1')\n",
        "s05_3 = mt_3a.append(pt_3a, ignore_index=True)\n",
        "s05_3 = s05_3.apply(lambda x: x.str.replace(',','.'))\n",
        "s05_3.rename(columns=rename05, inplace=True)\n",
        "s05_3['id_aluno'] = s05_3['mascara'] + s05_3['aluno']\n",
        "s05_3['serie'] = s05_3['serie'].apply(lambda x: str(x).replace('11','3'))\n",
        "s05_3['disciplina'] = s05_3['disciplina'].apply(lambda x: str(x).replace('L','LP'))\n",
        "s05_3['disciplina'] = s05_3['disciplina'].apply(lambda x: str(x).replace('M','MT'))\n",
        "s05_3 = pd.merge(s05_3, id_uf, how='left', left_on=['id_uf'], right_on=['id_uf'])\n",
        "s05_3 = pd.concat([s05_3, add_05])\n",
        "#s05_3.dropna(subset=['proficiencia_saeb'], inplace=True)\n",
        "s05_3 = s05_3[ordem]\n",
        "s05_3.to_csv('/content/gdrive/MyDrive/br_inep_saeb/temp/saeb_em_3ano_2005.csv', na_rep='', index=False)\n",
        "del s05_3\n",
        "\n",
        "mt_4s = pd.read_csv('/content/gdrive/MyDrive/br_inep_saeb/input/saeb05_aluno_matematica_4serie.csv', dtype='string', sep=';', encoding='latin-1')\n",
        "mt_4s.rename(columns=rename05, inplace=True)\n",
        "pt_4s = pd.read_csv('/content/gdrive/MyDrive/br_inep_saeb/input/saeb05_aluno_portugues_4serie.csv', dtype='string', sep=';', encoding='latin-1')\n",
        "pt_4s.rename(columns=rename05, inplace=True)\n",
        "s05_4 = mt_4s.append(pt_4s, ignore_index=True)\n",
        "s05_4 = s05_4.apply(lambda x: x.str.replace(',','.'))\n",
        "s05_4['id_aluno'] = s05_4['mascara'] + s05_4['aluno']\n",
        "s05_4['serie'] = s05_4['serie'].apply(lambda x: str(x).replace('4','5'))\n",
        "s05_4['disciplina'] = s05_4['disciplina'].apply(lambda x: str(x).replace('L','LP'))\n",
        "s05_4['disciplina'] = s05_4['disciplina'].apply(lambda x: str(x).replace('M','MT'))\n",
        "s05_4 = pd.merge(s05_4, id_uf, how='left', left_on=['id_uf'], right_on=['id_uf'])\n",
        "s05_4 = pd.concat([s05_4, add_05])\n",
        "#s05_4.dropna(subset=['proficiencia_saeb'], inplace=True)\n",
        "s05_4 = s05_4[ordem]\n",
        "s05_4.to_csv('/content/gdrive/MyDrive/br_inep_saeb/temp/saeb_ef_5ano_2005.csv', na_rep='', index=False)\n",
        "del s05_4\n",
        "\n",
        "mt_8s = pd.read_csv('/content/gdrive/MyDrive/br_inep_saeb/input/saeb05_aluno_matematica_8serie.csv', dtype='string', sep=';', encoding='latin-1')\n",
        "mt_8s.rename(columns=rename05, inplace=True)\n",
        "pt_8s = pd.read_csv('/content/gdrive/MyDrive/br_inep_saeb/input/saeb05_aluno_portugues_8serie.csv', dtype='string', sep=';', encoding='latin-1')\n",
        "pt_8s.rename(columns=rename05, inplace=True)\n",
        "s05_8 = mt_8s.append(pt_8s, ignore_index=True)\n",
        "s05_8 = s05_8.apply(lambda x: x.str.replace(',','.'))\n",
        "s05_8['id_aluno'] = s05_8['mascara'] + s05_8['aluno']\n",
        "s05_8['serie'] = s05_8['serie'].apply(lambda x: str(x).replace('08','9'))\n",
        "s05_8['disciplina'] = s05_8['disciplina'].apply(lambda x: str(x).replace('L','LP'))\n",
        "s05_8['disciplina'] = s05_8['disciplina'].apply(lambda x: str(x).replace('M','MT'))\n",
        "s05_8 = pd.merge(s05_8, id_uf, how='left', left_on=['id_uf'], right_on=['id_uf'])\n",
        "s05_8 = pd.concat([s05_8, add_05])\n",
        "#s05_8.dropna(subset=['proficiencia_saeb'], inplace=True)\n",
        "s05_8 = s05_8[ordem]\n",
        "s05_8.to_csv('/content/gdrive/MyDrive/br_inep_saeb/temp/saeb_ef_9ano_2005.csv', na_rep='', index=False)\n",
        "del s05_8"
      ],
      "execution_count": null,
      "outputs": []
    },
    {
      "cell_type": "markdown",
      "source": [
        "##### **2003**"
      ],
      "metadata": {
        "id": "Kq6uTDbACHmM"
      }
    },
    {
      "cell_type": "code",
      "metadata": {
        "id": "RuZGQMQ7cKkd"
      },
      "source": [
        "#saeb 2003\n",
        "\n",
        "rename03 = {'ï»¿MASCARA':'mascara', 'ANO':'ano', 'SERIE':'serie', 'DISC':'disciplina', 'TURMA':'id_turma', 'ALUNO':'aluno', 'ESTRATO':'estrato',\n",
        "            'DEP_ADM':'rede', 'LOCAL':'localizacao', 'UF':'id_uf', 'REGIAO':'id_regiao', 'PESO_AC':'peso_aluno', 'PROFIC':'proficiencia_saeb',\n",
        "            'A041_001': 'sexo', 'A041_002':'raca_cor', 'A081_001':'sexo', 'A081_002':'raca_cor', 'A111_001':'sexo', 'A111_002':'raca_cor'}\n",
        "\n",
        "add_03 = pd.DataFrame(columns=['id_municipio', 'id_escola', 'amostra', 'turno', 'proficiencia', 'erro_padrao', 'erro_padrao_saeb'])\n",
        "\n",
        "mt_3a = pd.read_csv('/content/gdrive/MyDrive/br_inep_saeb/input/saeb03_aluno_matematica_3ano.csv', dtype='string', sep=';', encoding='latin-1')\n",
        "pt_3a = pd.read_csv('/content/gdrive/MyDrive/br_inep_saeb/input/saeb03_aluno_portugues_3ano.csv', dtype='string', sep=';', encoding='latin-1')\n",
        "s03_3 = mt_3a.append(pt_3a, ignore_index=True)\n",
        "s03_3 = s03_3.apply(lambda x: x.str.replace(',','.'))\n",
        "s03_3.rename(columns=rename03, inplace=True)\n",
        "s03_3['id_aluno'] = s03_3['mascara'] + s03_3['aluno']\n",
        "s03_3['serie'] = s03_3['serie'].apply(lambda x: str(x).replace('11','3'))\n",
        "s03_3['disciplina'] = s03_3['disciplina'].apply(lambda x: str(x).replace('L','LP'))\n",
        "s03_3['disciplina'] = s03_3['disciplina'].apply(lambda x: str(x).replace('M','MT'))\n",
        "s03_3 = pd.merge(s03_3, id_uf, how='left', left_on=['id_uf'], right_on=['id_uf'])\n",
        "s03_3 = pd.concat([s03_3, add_03])\n",
        "s03_3.dropna(subset=['proficiencia_saeb'], inplace=True)\n",
        "s03_3 = s03_3[ordem]\n",
        "s03_3.to_csv('/content/gdrive/MyDrive/br_inep_saeb/temp/saeb_em_3ano_2003.csv', na_rep='', index=False)\n",
        "del s03_3\n",
        "\n",
        "mt_4s = pd.read_csv('/content/gdrive/MyDrive/br_inep_saeb/input/saeb03_aluno_matematica_4serie.csv', dtype='string', sep=';', encoding='latin-1')\n",
        "pt_4s = pd.read_csv('/content/gdrive/MyDrive/br_inep_saeb/input/saeb03_aluno_portugues_4serie.csv', dtype='string', sep=';', encoding='latin-1')\n",
        "s03_4 = mt_4s.append(pt_4s, ignore_index=True)\n",
        "s03_4 = s03_4.apply(lambda x: x.str.replace(',','.'))\n",
        "s03_4.rename(columns=rename03, inplace=True)\n",
        "s03_4['id_aluno'] = s03_4['mascara'] + s03_4['aluno']\n",
        "s03_4['serie'] = s03_4['serie'].apply(lambda x: str(x).replace('4','5'))\n",
        "s03_4['disciplina'] = s03_4['disciplina'].apply(lambda x: str(x).replace('L','LP'))\n",
        "s03_4['disciplina'] = s03_4['disciplina'].apply(lambda x: str(x).replace('M','MT'))\n",
        "s03_4 = pd.merge(s03_4, id_uf, how='left', left_on=['id_uf'], right_on=['id_uf'])\n",
        "s03_4 = pd.concat([s03_4, add_03])\n",
        "s03_4.dropna(subset=['proficiencia_saeb'], inplace=True)\n",
        "s03_4 = s03_4[ordem]\n",
        "s03_4.to_csv('/content/gdrive/MyDrive/br_inep_saeb/temp/saeb_ef_5ano_2003.csv', na_rep='', index=False)\n",
        "del s03_4\n",
        "\n",
        "mt_8s = pd.read_csv('/content/gdrive/MyDrive/br_inep_saeb/input/saeb03_aluno_matematica_8serie.csv', dtype='string', sep=';', encoding='latin-1')\n",
        "pt_8s = pd.read_csv('/content/gdrive/MyDrive/br_inep_saeb/input/saeb03_aluno_portugues_8serie.csv', dtype='string', sep=';', encoding='latin-1')\n",
        "s03_8 = mt_8s.append(pt_8s, ignore_index=True)\n",
        "s03_8 = s03_8.apply(lambda x: x.str.replace(',','.'))\n",
        "s03_8.rename(columns=rename03, inplace=True)\n",
        "s03_8['id_aluno'] = s03_8['mascara'] + s03_8['aluno']\n",
        "s03_8['serie'] = s03_8['serie'].apply(lambda x: str(x).replace('8','9'))\n",
        "s03_8['disciplina'] = s03_8['disciplina'].apply(lambda x: str(x).replace('L','LP'))\n",
        "s03_8['disciplina'] = s03_8['disciplina'].apply(lambda x: str(x).replace('M','MT'))\n",
        "s03_8 = pd.merge(s03_8, id_uf, how='left', left_on=['id_uf'], right_on=['id_uf'])\n",
        "s03_8 = pd.concat([s03_8, add_03])\n",
        "s03_8.dropna(subset=['proficiencia_saeb'], inplace=True)\n",
        "s03_8 = s03_8[ordem]\n",
        "s03_8.to_csv('/content/gdrive/MyDrive/br_inep_saeb/temp/saeb_ef_9ano_2003.csv', na_rep='', index=False)\n",
        "del s03_8"
      ],
      "execution_count": null,
      "outputs": []
    },
    {
      "cell_type": "markdown",
      "source": [
        "##### **2001**"
      ],
      "metadata": {
        "id": "m-NxCSQGCEQz"
      }
    },
    {
      "cell_type": "code",
      "metadata": {
        "id": "FqrLthOVil1f"
      },
      "source": [
        "#saeb 2001\n",
        "\n",
        "rename01 = {'ï»¿MASCARA':'mascara', 'ANO':'ano', 'SERIE':'serie', 'DISC':'disciplina', 'TURMA':'id_turma', 'ALUNO':'aluno', 'ESTRATO':'estrato',\n",
        "            'DEP_ADM':'rede', 'LOCAL':'localizacao', 'uf':'id_uf', 'regiao':'id_regiao', 'PESO_AC':'peso_aluno', 'PROFIC':'proficiencia_saeb',\n",
        "            'A041_001': 'sexo', 'A041_002':'raca_cor', 'A081_001':'sexo', 'A081_002':'raca_cor', 'A111_001':'sexo', 'A111_002':'raca_cor'}\n",
        "\n",
        "add_03 = pd.DataFrame(columns=['id_municipio', 'id_escola', 'amostra', 'turno', 'proficiencia', 'erro_padrao', 'erro_padrao_saeb'])\n",
        "\n",
        "mt_3a = pd.read_csv('/content/gdrive/MyDrive/br_inep_saeb/input/saeb01_aluno_matematica_3ano.csv', dtype='string', sep=';', encoding='latin-1')\n",
        "pt_3a = pd.read_csv('/content/gdrive/MyDrive/br_inep_saeb/input/saeb01_aluno_portugues_3ano.csv', dtype='string', sep=';', encoding='latin-1')\n",
        "s01_3 = mt_3a.append(pt_3a, ignore_index=True)\n",
        "s01_3 = s01_3.apply(lambda x: x.str.replace(',','.'))\n",
        "s01_3.rename(columns=rename01, inplace=True)\n",
        "s01_3['id_aluno'] = s01_3['mascara'] + s01_3['aluno']\n",
        "s01_3['serie'] = s01_3['serie'].apply(lambda x: str(x).replace('11','3'))\n",
        "s01_3['disciplina'] = s01_3['disciplina'].apply(lambda x: str(x).replace('L','LP'))\n",
        "s01_3['disciplina'] = s01_3['disciplina'].apply(lambda x: str(x).replace('M','MT'))\n",
        "s01_3 = pd.merge(s01_3, id_uf, how='left', left_on=['id_uf'], right_on=['id_uf'])\n",
        "s01_3 = pd.concat([s01_3, add_03])\n",
        "s01_3.dropna(subset=['proficiencia_saeb'], inplace=True)\n",
        "s01_3 = s01_3[ordem]\n",
        "s01_3.to_csv('/content/gdrive/MyDrive/br_inep_saeb/temp/saeb_em_3ano_2001.csv', na_rep='', index=False)\n",
        "del s01_3\n",
        "\n",
        "mt_4s = pd.read_csv('/content/gdrive/MyDrive/br_inep_saeb/input/saeb01_aluno_matematica_4serie.csv', dtype='string', sep=';', encoding='latin-1')\n",
        "pt_4s = pd.read_csv('/content/gdrive/MyDrive/br_inep_saeb/input/saeb01_aluno_portugues_4serie.csv', dtype='string', sep=';', encoding='latin-1')\n",
        "s01_4 = mt_4s.append(pt_4s, ignore_index=True)\n",
        "s01_4 = s01_4.apply(lambda x: x.str.replace(',','.'))\n",
        "s01_4.rename(columns=rename01, inplace=True)\n",
        "s01_4['id_aluno'] = s01_4['mascara'] + s01_4['aluno']\n",
        "s01_4['serie'] = s01_4['serie'].apply(lambda x: str(x).replace('4','5'))\n",
        "s01_4['disciplina'] = s01_4['disciplina'].apply(lambda x: str(x).replace('L','LP'))\n",
        "s01_4['disciplina'] = s01_4['disciplina'].apply(lambda x: str(x).replace('M','MT'))\n",
        "s01_4 = pd.merge(s01_4, id_uf, how='left', left_on=['id_uf'], right_on=['id_uf'])\n",
        "s01_4 = pd.concat([s01_4, add_03])\n",
        "s01_4.dropna(subset=['proficiencia_saeb'], inplace=True)\n",
        "s01_4 = s01_4[ordem]\n",
        "s01_4.to_csv('/content/gdrive/MyDrive/br_inep_saeb/temp/saeb_ef_5ano_2001.csv', na_rep='', index=False)\n",
        "del s01_4\n",
        "\n",
        "mt_8s = pd.read_csv('/content/gdrive/MyDrive/br_inep_saeb/input/saeb01_aluno_matematica_8serie.csv', dtype='string', sep=';', encoding='latin-1')\n",
        "pt_8s = pd.read_csv('/content/gdrive/MyDrive/br_inep_saeb/input/saeb01_aluno_portugues_8serie.csv', dtype='string', sep=';', encoding='latin-1')\n",
        "s01_8 = mt_8s.append(pt_8s, ignore_index=True)\n",
        "s01_8 = s01_8.apply(lambda x: x.str.replace(',','.'))\n",
        "s01_8.rename(columns=rename01, inplace=True)\n",
        "s01_8['id_aluno'] = s01_8['mascara'] + s01_8['aluno']\n",
        "s01_8['serie'] = s01_8['serie'].apply(lambda x: str(x).replace('8','9'))\n",
        "s01_8['disciplina'] = s01_8['disciplina'].apply(lambda x: str(x).replace('L','LP'))\n",
        "s01_8['disciplina'] = s01_8['disciplina'].apply(lambda x: str(x).replace('M','MT'))\n",
        "s01_8 = pd.merge(s01_8, id_uf, how='left', left_on=['id_uf'], right_on=['id_uf'])\n",
        "s01_8 = pd.concat([s01_8, add_03])\n",
        "s01_8.dropna(subset=['proficiencia_saeb'], inplace=True)\n",
        "s01_8 = s01_8[ordem]\n",
        "s01_8.to_csv('/content/gdrive/MyDrive/br_inep_saeb/temp/saeb_ef_9ano_2001.csv', na_rep='', index=False)\n",
        "del s01_8"
      ],
      "execution_count": null,
      "outputs": []
    },
    {
      "cell_type": "markdown",
      "source": [
        "##### **1999**"
      ],
      "metadata": {
        "id": "OR-BdjERB-Ii"
      }
    },
    {
      "cell_type": "code",
      "metadata": {
        "id": "Fleovapxpwi3"
      },
      "source": [
        "#saeb 1999\n",
        "\n",
        "rename99 = {'ï»¿MASCARA':'mascara', 'ANO':'ano', 'SERIE':'serie', 'DISC':'disciplina', 'TURMA':'id_turma', 'ALUNO':'aluno', 'ESTRATO':'estrato',\n",
        "            'DEP_ADM':'rede', 'LOCAL':'localizacao', 'UF':'id_uf', 'REGIAO':'id_regiao', 'PESO_AC':'peso_aluno', 'PROFIC':'proficiencia_saeb',\n",
        "            'A041_001': 'sexo', 'A041_002':'raca_cor', 'A081_001':'sexo', 'A081_002':'raca_cor', 'A031_001':'sexo', 'A031_002':'raca_cor'}\n",
        "\n",
        "add_03 = pd.DataFrame(columns=['id_municipio', 'id_escola', 'amostra', 'turno', 'proficiencia', 'erro_padrao', 'erro_padrao_saeb'])\n",
        "\n",
        "bio_3a = pd.read_csv('/content/gdrive/MyDrive/br_inep_saeb/input/saeb99_aluno_biologia_3ano.csv', dtype='string', sep=';', encoding='latin-1')\n",
        "fis_3a = pd.read_csv('/content/gdrive/MyDrive/br_inep_saeb/input/saeb99_aluno_fisica_3ano.csv', dtype='string', sep=';', encoding='latin-1')\n",
        "geo_3a = pd.read_csv('/content/gdrive/MyDrive/br_inep_saeb/input/saeb99_aluno_geografia_3ano.csv', dtype='string', sep=';', encoding='latin-1')\n",
        "his_3a = pd.read_csv('/content/gdrive/MyDrive/br_inep_saeb/input/saeb99_aluno_historia_3ano.csv', dtype='string', sep=';', encoding='latin-1')\n",
        "mat_3a = pd.read_csv('/content/gdrive/MyDrive/br_inep_saeb/input/saeb99_aluno_matematica_3ano.csv', dtype='string', sep=';', encoding='latin-1')\n",
        "por_3a = pd.read_csv('/content/gdrive/MyDrive/br_inep_saeb/input/saeb99_aluno_portugues_3ano.csv', dtype='string', sep=';', encoding='latin-1')\n",
        "qui_3a = pd.read_csv('/content/gdrive/MyDrive/br_inep_saeb/input/saeb99_aluno_quimica_3ano.csv', dtype='string', sep=';', encoding='latin-1')\n",
        "s99_3 = bio_3a.append([fis_3a, geo_3a, his_3a, mat_3a, por_3a, qui_3a], ignore_index=True)\n",
        "s99_3 = s99_3.apply(lambda x: x.str.replace(',','.'))\n",
        "s99_3.rename(columns=rename99, inplace=True)\n",
        "s99_3['id_aluno'] = s99_3['mascara'] + s99_3['aluno']\n",
        "s99_3['serie'] = s99_3['serie'].apply(lambda x: str(x).replace('11','3'))\n",
        "s99_3['disciplina'] = s99_3['disciplina'].apply(lambda x: str(x).replace('L','LP'))\n",
        "s99_3['disciplina'] = s99_3['disciplina'].apply(lambda x: str(x).replace('M','MT'))\n",
        "s99_3 = pd.merge(s99_3, id_uf, how='left', left_on=['id_uf'], right_on=['id_uf'])\n",
        "s99_3 = pd.concat([s99_3, add_03])\n",
        "s99_3.dropna(subset=['proficiencia_saeb'], inplace=True)\n",
        "s99_3 = s99_3[ordem]\n",
        "s99_3.to_csv('/content/gdrive/MyDrive/br_inep_saeb/temp/saeb_em_3ano_1999.csv', na_rep='', index=False)\n",
        "del s99_3\n",
        "\n",
        "cie_4s = pd.read_csv('/content/gdrive/MyDrive/br_inep_saeb/input/saeb99_aluno_ciencias_4serie.csv', dtype='string', sep=';', encoding='latin-1')\n",
        "his_4s = pd.read_csv('/content/gdrive/MyDrive/br_inep_saeb/input/saeb99_aluno_historia_4serie.csv', dtype='string', sep=';', encoding='latin-1')\n",
        "geo_4s = pd.read_csv('/content/gdrive/MyDrive/br_inep_saeb/input/saeb99_aluno_geografia_4serie.csv', dtype='string', sep=';', encoding='latin-1')\n",
        "mt_4s = pd.read_csv('/content/gdrive/MyDrive/br_inep_saeb/input/saeb99_aluno_matematica_4serie.csv', dtype='string', sep=';', encoding='latin-1')\n",
        "pt_4s = pd.read_csv('/content/gdrive/MyDrive/br_inep_saeb/input/saeb99_aluno_portugues_4serie.csv', dtype='string', sep=';', encoding='latin-1')\n",
        "s99_4 = mt_4s.append([pt_4s, cie_4s, his_4s, geo_4s], ignore_index=True)\n",
        "s99_4 = s99_4.apply(lambda x: x.str.replace(',','.'))\n",
        "s99_4.rename(columns=rename99, inplace=True)\n",
        "s99_4['id_aluno'] = s99_4['mascara'] + s99_4['aluno']\n",
        "s99_4['serie'] = s99_4['serie'].apply(lambda x: str(x).replace('4','5'))\n",
        "s99_4['disciplina'] = s99_4['disciplina'].apply(lambda x: str(x).replace('L','LP'))\n",
        "s99_4['disciplina'] = s99_4['disciplina'].apply(lambda x: str(x).replace('M','MT'))\n",
        "s99_4 = pd.merge(s99_4, id_uf, how='left', left_on=['id_uf'], right_on=['id_uf'])\n",
        "s99_4 = pd.concat([s99_4, add_03])\n",
        "s99_4.dropna(subset=['proficiencia_saeb'], inplace=True)\n",
        "s99_4 = s99_4[ordem]\n",
        "s99_4.to_csv('/content/gdrive/MyDrive/br_inep_saeb/temp/saeb_ef_5ano_1999.csv', na_rep='', index=False)\n",
        "del s99_4\n",
        "\n",
        "cie_8s = pd.read_csv('/content/gdrive/MyDrive/br_inep_saeb/input/saeb99_aluno_ciencias_8serie.csv', dtype='string', sep=';', encoding='latin-1')\n",
        "his_8s = pd.read_csv('/content/gdrive/MyDrive/br_inep_saeb/input/saeb99_aluno_historia_8serie.csv', dtype='string', sep=';', encoding='latin-1')\n",
        "geo_8s = pd.read_csv('/content/gdrive/MyDrive/br_inep_saeb/input/saeb99_aluno_geografia_8serie.csv', dtype='string', sep=';', encoding='latin-1')\n",
        "mt_8s = pd.read_csv('/content/gdrive/MyDrive/br_inep_saeb/input/saeb99_aluno_matematica_8serie.csv', dtype='string', sep=';', encoding='latin-1')\n",
        "pt_8s = pd.read_csv('/content/gdrive/MyDrive/br_inep_saeb/input/saeb99_aluno_portugues_8serie.csv', dtype='string', sep=';', encoding='latin-1')\n",
        "s99_8 = mt_8s.append([pt_8s, cie_8s, his_8s, geo_8s], ignore_index=True)\n",
        "s99_8 = s99_8.apply(lambda x: x.str.replace(',','.'))\n",
        "s99_8.rename(columns=rename99, inplace=True)\n",
        "s99_8['id_aluno'] = s99_8['mascara'] + s99_8['aluno']\n",
        "s99_8['serie'] = s99_8['serie'].apply(lambda x: str(x).replace('8','9'))\n",
        "s99_8['disciplina'] = s99_8['disciplina'].apply(lambda x: str(x).replace('L','LP'))\n",
        "s99_8['disciplina'] = s99_8['disciplina'].apply(lambda x: str(x).replace('M','MT'))\n",
        "s99_8 = pd.merge(s99_8, id_uf, how='left', left_on=['id_uf'], right_on=['id_uf'])\n",
        "s99_8 = pd.concat([s99_8, add_03])\n",
        "s99_8.dropna(subset=['proficiencia_saeb'], inplace=True)\n",
        "s99_8 = s99_8[ordem]\n",
        "s99_8.to_csv('/content/gdrive/MyDrive/br_inep_saeb/temp/saeb_ef_9ano_1999.csv', na_rep='', index=False)\n",
        "del s99_8"
      ],
      "execution_count": null,
      "outputs": []
    },
    {
      "cell_type": "markdown",
      "source": [
        "##### **1997**"
      ],
      "metadata": {
        "id": "2kLeLjCpBnli"
      }
    },
    {
      "cell_type": "code",
      "metadata": {
        "id": "xv4_GRA4vjlZ"
      },
      "source": [
        "#saeb 1997\n",
        "\n",
        "rename97 = {'ï»¿MASCARA':'mascara', 'ANO':'ano', 'SERIE':'serie', 'DISC':'disciplina', 'TURMA':'id_turma', 'ALUNO':'aluno', 'ESTRATO':'estrato',\n",
        "            'DEP_ADM':'rede', 'LOCAL':'localizacao', 'UF':'id_uf', 'REGIAO':'id_regiao', 'TURNO':'turno', 'PESO_AC':'peso_aluno', 'PROFIC':'proficiencia_saeb',\n",
        "            'A041_001': 'sexo', 'A041_002':'raca_cor', 'A081_001':'sexo', 'A081_002':'raca_cor', 'A031_001':'sexo', 'A031_002':'raca_cor'}\n",
        "\n",
        "bio_3a = pd.read_csv('/content/gdrive/MyDrive/br_inep_saeb/input/saeb97_aluno_biologia_3ano.csv', dtype='string', sep=';', encoding='latin-1')\n",
        "fis_3a = pd.read_csv('/content/gdrive/MyDrive/br_inep_saeb/input/saeb97_aluno_fisica_3ano.csv', dtype='string', sep=';', encoding='latin-1')\n",
        "mat_3a = pd.read_csv('/content/gdrive/MyDrive/br_inep_saeb/input/saeb97_aluno_matematica_3ano.csv', dtype='string', sep=';', encoding='latin-1')\n",
        "por_3a = pd.read_csv('/content/gdrive/MyDrive/br_inep_saeb/input/saeb97_aluno_portugues_3ano.csv', dtype='string', sep=';', encoding='latin-1')\n",
        "qui_3a = pd.read_csv('/content/gdrive/MyDrive/br_inep_saeb/input/saeb97_aluno_quimica_3ano.csv', dtype='string', sep=';', encoding='latin-1')\n",
        "s97_3 = bio_3a.append([fis_3a, mat_3a, por_3a, qui_3a], ignore_index=True)\n",
        "s97_3 = s97_3.apply(lambda x: x.str.replace(',','.'))\n",
        "s97_3.rename(columns=rename97, inplace=True)\n",
        "s97_3['id_aluno'] = s97_3['mascara'] + s97_3['aluno']\n",
        "s97_3['serie'] = s97_3['serie'].apply(lambda x: str(x).replace('11','3'))\n",
        "s97_3['disciplina'] = s97_3['disciplina'].apply(lambda x: str(x).replace('L','LP'))\n",
        "s97_3['disciplina'] = s97_3['disciplina'].apply(lambda x: str(x).replace('M','MT'))\n",
        "s97_3 = pd.merge(s97_3, id_uf, how='left', left_on=['id_uf'], right_on=['id_uf'])\n",
        "s97_3 = pd.concat([s97_3, add_03])\n",
        "s97_3.dropna(subset=['proficiencia_saeb'], inplace=True)\n",
        "s97_3 = s97_3[ordem]\n",
        "s97_3.to_csv('/content/gdrive/MyDrive/br_inep_saeb/temp/saeb_em_3ano_1997.csv', na_rep='', index=False)\n",
        "del s97_3\n",
        "\n",
        "cie_4s = pd.read_csv('/content/gdrive/MyDrive/br_inep_saeb/input/saeb97_aluno_ciencias_4serie.csv', dtype='string', sep=';', encoding='latin-1')\n",
        "mt_4s = pd.read_csv('/content/gdrive/MyDrive/br_inep_saeb/input/saeb97_aluno_matematica_4serie.csv', dtype='string', sep=';', encoding='latin-1')\n",
        "pt_4s = pd.read_csv('/content/gdrive/MyDrive/br_inep_saeb/input/saeb97_aluno_portugues_4serie.csv', dtype='string', sep=';', encoding='latin-1')\n",
        "s97_4 = mt_4s.append([pt_4s, cie_4s], ignore_index=True)\n",
        "s97_4 = s97_4.apply(lambda x: x.str.replace(',','.'))\n",
        "s97_4.rename(columns=rename97, inplace=True)\n",
        "s97_4['id_aluno'] = s97_4['mascara'] + s97_4['aluno']\n",
        "s97_4['serie'] = s97_4['serie'].apply(lambda x: str(x).replace('4','5'))\n",
        "s97_4['disciplina'] = s97_4['disciplina'].apply(lambda x: str(x).replace('L','LP'))\n",
        "s97_4['disciplina'] = s97_4['disciplina'].apply(lambda x: str(x).replace('M','MT'))\n",
        "s97_4 = pd.merge(s97_4, id_uf, how='left', left_on=['id_uf'], right_on=['id_uf'])\n",
        "s97_4 = pd.concat([s97_4, add_03])\n",
        "s97_4.dropna(subset=['proficiencia_saeb'], inplace=True)\n",
        "s97_4 = s97_4[ordem]\n",
        "s97_4.to_csv('/content/gdrive/MyDrive/br_inep_saeb/temp/saeb_ef_5ano_1997.csv', na_rep='', index=False)\n",
        "del s97_4\n",
        "\n",
        "cie_8s = pd.read_csv('/content/gdrive/MyDrive/br_inep_saeb/input/saeb97_aluno_ciencias_8serie.csv', dtype='string', sep=';', encoding='latin-1')\n",
        "mt_8s = pd.read_csv('/content/gdrive/MyDrive/br_inep_saeb/input/saeb97_aluno_matematica_8serie.csv', dtype='string', sep=';', encoding='latin-1')\n",
        "pt_8s = pd.read_csv('/content/gdrive/MyDrive/br_inep_saeb/input/saeb97_aluno_portugues_8serie.csv', dtype='string', sep=';', encoding='latin-1')\n",
        "s97_8 = mt_8s.append([pt_8s, cie_8s], ignore_index=True)\n",
        "s97_8 = s97_8.apply(lambda x: x.str.replace(',','.'))\n",
        "s97_8.rename(columns=rename97, inplace=True)\n",
        "s97_8['id_aluno'] = s97_8['mascara'] + s97_8['aluno']\n",
        "s97_8['serie'] = s97_8['serie'].apply(lambda x: str(x).replace('8','9'))\n",
        "s97_8['disciplina'] = s97_8['disciplina'].apply(lambda x: str(x).replace('L','LP'))\n",
        "s97_8['disciplina'] = s97_8['disciplina'].apply(lambda x: str(x).replace('M','MT'))\n",
        "s97_8 = pd.merge(s97_8, id_uf, how='left', left_on=['id_uf'], right_on=['id_uf'])\n",
        "s97_8 = pd.concat([s97_8, add_03])\n",
        "s97_8.dropna(subset=['proficiencia_saeb'], inplace=True)\n",
        "s97_8 = s97_8[ordem]\n",
        "s97_8.to_csv('/content/gdrive/MyDrive/br_inep_saeb/temp/saeb_ef_9ano_1997.csv', na_rep='', index=False)\n",
        "del s97_8\n"
      ],
      "execution_count": null,
      "outputs": []
    },
    {
      "cell_type": "markdown",
      "metadata": {
        "id": "8IwbWFqrf_cL"
      },
      "source": [
        "##### **1995**"
      ]
    },
    {
      "cell_type": "code",
      "metadata": {
        "id": "dXB_rHg22jtz"
      },
      "source": [
        "#saeb 1995\n",
        "\n",
        "rename95 = {'ï»¿MASCARA':'mascara', 'ï»¿ANO':'ano', 'ANO':'ano', 'SERIE':'serie', 'DISC':'disciplina', 'TURMA':'id_turma', 'ALUNO':'id_aluno', 'ESTRATO':'estrato', \n",
        "           'DEP_ADM':'rede', 'LOCAL':'localizacao', 'UF':'id_uf', 'REGIAO':'id_regiao', 'PESO_AC':'peso_aluno', 'PROFIC':'proficiencia_saeb', \n",
        "           'A031_002':'sexo', 'A031_003':'raca_cor', 'A041_002':'sexo', 'A041_003':'raca_cor', 'A081_002':'sexo', 'A081_003':'raca_cor'}\n",
        "\n",
        "add_95 = pd.DataFrame(columns=['id_municipio', 'id_escola', 'amostra', 'turno', 'proficiencia', 'erro_padrao', 'erro_padrao_saeb'])\n",
        "\n",
        "mt_3a = pd.read_csv('/content/gdrive/MyDrive/br_inep_saeb/input/saeb95_aluno_matematica_3ano.csv', dtype='string', sep=';', encoding='latin-1')\n",
        "pt_3a = pd.read_csv('/content/gdrive/MyDrive/br_inep_saeb/input/saeb95_aluno_portugues_3ano.csv', dtype='string', sep=';', encoding='latin-1')\n",
        "s95_3 = mt_3a.append(pt_3a, ignore_index=True)\n",
        "s95_3 = s95_3.apply(lambda x: x.str.replace(',','.'))\n",
        "s95_3.rename(columns=rename95, inplace=True)\n",
        "s95_3['serie'] = s95_3['serie'].apply(lambda x: str(x).replace('11','3'))\n",
        "s95_3['disciplina'] = s95_3['disciplina'].apply(lambda x: str(x).replace('L','LP'))\n",
        "s95_3['disciplina'] = s95_3['disciplina'].apply(lambda x: str(x).replace('M','MT'))\n",
        "s95_3 = pd.merge(s95_3, id_uf, how='left', left_on=['id_uf'], right_on=['id_uf'])\n",
        "s95_3 = pd.concat([s95_3, add_95])\n",
        "s95_3.dropna(subset=['proficiencia_saeb'], inplace=True)\n",
        "s95_3 = s95_3[ordem]\n",
        "s95_3.to_csv('/content/gdrive/MyDrive/br_inep_saeb/temp/saeb_em_3ano_1995.csv', na_rep='', index=False)\n",
        "del s95_3\n",
        "\n",
        "mt_4s = pd.read_csv('/content/gdrive/MyDrive/br_inep_saeb/input/saeb95_aluno_matematica_4serie.csv', dtype='string', sep=';', encoding='latin-1')\n",
        "pt_4s = pd.read_csv('/content/gdrive/MyDrive/br_inep_saeb/input/saeb95_aluno_portugues_4serie.csv', dtype='string', sep=';', encoding='latin-1')\n",
        "s95_4 = mt_4s.append([pt_4s], ignore_index=True)\n",
        "s95_4 = s95_4.apply(lambda x: x.str.replace(',','.'))\n",
        "s95_4.rename(columns=rename95, inplace=True)\n",
        "s95_4['serie'] = s95_4['serie'].apply(lambda x: str(x).replace('4','5'))\n",
        "s95_4['disciplina'] = s95_4['disciplina'].apply(lambda x: str(x).replace('L','LP'))\n",
        "s95_4['disciplina'] = s95_4['disciplina'].apply(lambda x: str(x).replace('M','MT'))\n",
        "s95_4 = pd.merge(s95_4, id_uf, how='left', left_on=['id_uf'], right_on=['id_uf'])\n",
        "s95_4 = pd.concat([s95_4, add_95])\n",
        "s95_4.dropna(subset=['proficiencia_saeb'], inplace=True)\n",
        "s95_4 = s95_4[ordem]\n",
        "s95_4.to_csv('/content/gdrive/MyDrive/br_inep_saeb/temp/saeb_ef_5ano_1995.csv', na_rep='', index=False)\n",
        "del s95_4\n",
        "\n",
        "mt_8s = pd.read_csv('/content/gdrive/MyDrive/br_inep_saeb/input/saeb95_aluno_matematica_8serie.csv', dtype='string', sep=';', encoding='latin-1')\n",
        "pt_8s = pd.read_csv('/content/gdrive/MyDrive/br_inep_saeb/input/saeb95_aluno_portugues_8serie.csv', dtype='string', sep=';', encoding='latin-1')\n",
        "s95_8 = mt_8s.append([pt_8s], ignore_index=True)\n",
        "s95_8 = s95_8.apply(lambda x: x.str.replace(',','.'))\n",
        "s95_8.rename(columns=rename95, inplace=True)\n",
        "#s95_8['id_aluno'] = s95_8['mascara'] + s95_8['id_aluno']\n",
        "s95_8['serie'] = s95_8['serie'].apply(lambda x: str(x).replace('8','9'))\n",
        "s95_8['disciplina'] = s95_8['disciplina'].apply(lambda x: str(x).replace('L','LP'))\n",
        "s95_8['disciplina'] = s95_8['disciplina'].apply(lambda x: str(x).replace('M','MT'))\n",
        "s95_8 = pd.merge(s95_8, id_uf, how='left', left_on=['id_uf'], right_on=['id_uf'])\n",
        "s95_8 = pd.concat([s95_8, add_95])\n",
        "s95_8.dropna(subset=['proficiencia_saeb'], inplace=True)\n",
        "s95_8 = s95_8[ordem]\n",
        "s95_8.to_csv('/content/gdrive/MyDrive/br_inep_saeb/temp/saeb_ef_9ano_1995.csv', na_rep='', index=False)\n",
        "del s95_8"
      ],
      "execution_count": null,
      "outputs": []
    },
    {
      "cell_type": "markdown",
      "source": [
        "##### **Conf**"
      ],
      "metadata": {
        "id": "EgUrlxGwtIZ5"
      }
    },
    {
      "cell_type": "code",
      "source": [
        "saeb7 = pd.read_csv('/content/gdrive/MyDrive/br_inep_saeb/temp/saeb_ef_9ano_2007.csv')\n",
        "saeb9 = pd.read_csv('/content/gdrive/MyDrive/br_inep_saeb/temp/saeb_ef_9ano_2009.csv')\n",
        "saeb11 = pd.read_csv('/content/gdrive/MyDrive/br_inep_saeb/temp/saeb_ef_9ano_2011.csv')\n",
        "saeb11['proficiencia_saeb']  = pd.to_numeric(saeb11['proficiencia_saeb'], errors='coerce')"
      ],
      "metadata": {
        "id": "nOjfvqjI-MHG"
      },
      "execution_count": null,
      "outputs": []
    },
    {
      "cell_type": "code",
      "source": [
        "import matplotlib.pyplot as plt\n",
        "\n",
        "fig, ax = plt.subplots()\n",
        "saeb7.hist(column=['proficiencia_saeb'], ax=ax, alpha=0.5, label='SAEB 2007')\n",
        "saeb9.hist(column=['proficiencia_saeb'], ax=ax, alpha=0.5, label='SAEB 2009')\n",
        "saeb11.hist(column=['proficiencia_saeb'], ax=ax, alpha=0.5, label='SAEB 2011')\n",
        "plt.legend(loc='upper left')"
      ],
      "metadata": {
        "colab": {
          "base_uri": "https://localhost:8080/",
          "height": 298
        },
        "id": "ImGzxcDl-f7J",
        "outputId": "fec72024-0e1d-493e-ac31-4f32ed8b90e4"
      },
      "execution_count": null,
      "outputs": [
        {
          "output_type": "execute_result",
          "data": {
            "text/plain": [
              "<matplotlib.legend.Legend at 0x7fe97d7dee50>"
            ]
          },
          "metadata": {},
          "execution_count": 34
        },
        {
          "output_type": "display_data",
          "data": {
            "image/png": "[encoded data removed]",
            "text/plain": [
              "<Figure size 432x288 with 1 Axes>"
            ]
          },
          "metadata": {
            "needs_background": "light"
          }
        }
      ]
    }
  ]
}