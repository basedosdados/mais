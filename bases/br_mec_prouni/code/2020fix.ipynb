{
 "cells": [
  {
   "cell_type": "markdown",
   "metadata": {},
   "source": [
    "## Fixing original data from 2020: https://dadosabertos.mec.gov.br/prouni"
   ]
  },
  {
   "cell_type": "code",
   "execution_count": 39,
   "metadata": {},
   "outputs": [],
   "source": [
    "\n",
    "import os\n",
    "import pandas as pd\n",
    "import codecs"
   ]
  },
  {
   "cell_type": "markdown",
   "metadata": {},
   "source": [
    "### Setting working directory"
   ]
  },
  {
   "cell_type": "code",
   "execution_count": null,
   "metadata": {},
   "outputs": [],
   "source": [
    "os.chdir(r'/Users/lucaspb/git-repositories/portfolio-projects/python/basedosdados/bases/br_mec_prouni.bolsas')"
   ]
  },
  {
   "cell_type": "code",
   "execution_count": 49,
   "metadata": {},
   "outputs": [],
   "source": [
    "bom_utf8 = codecs.BOM_UTF8\n",
    "\n",
    "def fix_duplicate_bom_utf8(file, bom=bom_utf8):\n",
    "    with open(file, 'rb') as f:\n",
    "        data_f = f.read()\n",
    "\n",
    "    data_finish = bom + data_f.replace(bom, b'')\n",
    "\n",
    "    with open(file, 'wb') as f:\n",
    "        f.write(data_finish)\n",
    "    return"
   ]
  },
  {
   "cell_type": "code",
   "execution_count": null,
   "metadata": {},
   "outputs": [],
   "source": [
    "# Use:\n",
    "file_csv = r\"input/1/pda-prouni-2020.csv\" # Americanï»¿, 美国人ï»¿\n",
    "\n",
    "fix_duplicate_= bom_utf8(file_csv)\n",
    " # file_csv  -> ï»¿American, 美国人"
   ]
  },
  {
   "cell_type": "code",
   "execution_count": 1,
   "metadata": {},
   "outputs": [
    {
     "ename": "NameError",
     "evalue": "name 'pd' is not defined",
     "output_type": "error",
     "traceback": [
      "\u001b[0;31m---------------------------------------------------------------------------\u001b[0m",
      "\u001b[0;31mNameError\u001b[0m                                 Traceback (most recent call last)",
      "\u001b[0;32m<ipython-input-1-c11a849eb2a6>\u001b[0m in \u001b[0;36m<module>\u001b[0;34m\u001b[0m\n\u001b[0;32m----> 1\u001b[0;31m \u001b[0mdf\u001b[0m \u001b[0;34m=\u001b[0m \u001b[0mpd\u001b[0m\u001b[0;34m.\u001b[0m\u001b[0mread_csv\u001b[0m\u001b[0;34m(\u001b[0m\u001b[0;34mf'input/1/pda-prouni-2020.csv'\u001b[0m\u001b[0;34m,\u001b[0m \u001b[0msep\u001b[0m\u001b[0;34m=\u001b[0m\u001b[0;34m\";\"\u001b[0m\u001b[0;34m,\u001b[0m \u001b[0mencoding\u001b[0m\u001b[0;34m=\u001b[0m\u001b[0;34m'cp850'\u001b[0m\u001b[0;34m)\u001b[0m\u001b[0;34m\u001b[0m\u001b[0;34m\u001b[0m\u001b[0m\n\u001b[0m",
      "\u001b[0;31mNameError\u001b[0m: name 'pd' is not defined"
     ]
    }
   ],
   "source": [
    "df = pd.read_csv(f'input/pda-prouni-2020.csv', sep=\";\", encoding='cp850')\n"
   ]
  },
  {
   "cell_type": "code",
   "execution_count": 87,
   "metadata": {},
   "outputs": [
    {
     "name": "stdout",
     "output_type": "stream",
     "text": [
      "0                      UNIVERSIDADE PAULISTA\n",
      "1                 UNIVERSIDADE ESTÁCIO DE SÁ\n",
      "2                  FACULDADE DE QUIXERAMOBIM\n",
      "3               UNIVERSIDADE SÃO JUDAS TADEU\n",
      "4               UNIVERSIDADE SÃO JUDAS TADEU\n",
      "                         ...                \n",
      "166825    CENTRO UNIVERSITÁRIO INTERNACIONAL\n",
      "166826    CENTRO UNIVERSITÁRIO INTERNACIONAL\n",
      "166827    CENTRO UNIVERSITÁRIO INTERNACIONAL\n",
      "166828    CENTRO UNIVERSITÁRIO INTERNACIONAL\n",
      "166829    CENTRO UNIVERSITÁRIO INTERNACIONAL\n",
      "Name: NOME_IES_BOLSA, Length: 166830, dtype: object\n"
     ]
    }
   ],
   "source": [
    "print(df['NOME_IES_BOLSA'])\n"
   ]
  },
  {
   "cell_type": "code",
   "execution_count": 101,
   "metadata": {},
   "outputs": [],
   "source": [
    "df.to_csv('input/2/pda-prouni-2020.csv', sep=\";\", encoding='utf-8', index=False)"
   ]
  }
 ],
 "metadata": {
  "kernelspec": {
   "display_name": "Python 3.9.7 ('base')",
   "language": "python",
   "name": "python3"
  },
  "language_info": {
   "codemirror_mode": {
    "name": "ipython",
    "version": 3
   },
   "file_extension": ".py",
   "mimetype": "text/x-python",
   "name": "python",
   "nbconvert_exporter": "python",
   "pygments_lexer": "ipython3",
   "version": "3.9.7"
  },
  "orig_nbformat": 4,
  "vscode": {
   "interpreter": {
    "hash": "11b58cb7e13f79671beb7d8d906251436dabeaf3aed9c24160a33f9d41f4f26c"
   }
  }
 },
 "nbformat": 4,
 "nbformat_minor": 2
}
