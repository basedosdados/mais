{
 "cells": [
  {
   "cell_type": "code",
   "execution_count": 1,
   "metadata": {},
   "outputs": [
    {
     "name": "stdout",
     "output_type": "stream",
     "text": [
      "Collecting geobr\n",
      "  Downloading geobr-0.2.0-py2.py3-none-any.whl (34 kB)\n",
      "Collecting geopandas<0.8.0,>=0.7.0\n",
      "  Downloading geopandas-0.7.0-py2.py3-none-any.whl (928 kB)\n",
      "\u001b[2K     \u001b[90m━━━━━━━━━━━━━━━━━━━━━━━━━━━━━━━━━━━━━━━\u001b[0m \u001b[32m928.1/928.1 kB\u001b[0m \u001b[31m3.6 MB/s\u001b[0m eta \u001b[36m0:00:00\u001b[0ma \u001b[36m0:00:01\u001b[0m\n",
      "\u001b[?25hRequirement already satisfied: shapely<2.0.0,>=1.7.0 in ./venv/lib/python3.9/site-packages (from geobr) (1.8.4)\n",
      "Requirement already satisfied: pandas>=0.23.0 in ./venv/lib/python3.9/site-packages (from geopandas<0.8.0,>=0.7.0->geobr) (1.4.3)\n",
      "Requirement already satisfied: pyproj>=2.2.0 in ./venv/lib/python3.9/site-packages (from geopandas<0.8.0,>=0.7.0->geobr) (3.3.1)\n",
      "Requirement already satisfied: fiona in ./venv/lib/python3.9/site-packages (from geopandas<0.8.0,>=0.7.0->geobr) (1.8.21)\n",
      "Requirement already satisfied: python-dateutil>=2.8.1 in ./venv/lib/python3.9/site-packages (from pandas>=0.23.0->geopandas<0.8.0,>=0.7.0->geobr) (2.8.2)\n",
      "Requirement already satisfied: pytz>=2020.1 in ./venv/lib/python3.9/site-packages (from pandas>=0.23.0->geopandas<0.8.0,>=0.7.0->geobr) (2022.2.1)\n",
      "Requirement already satisfied: numpy>=1.18.5 in ./venv/lib/python3.9/site-packages (from pandas>=0.23.0->geopandas<0.8.0,>=0.7.0->geobr) (1.23.2)\n",
      "Requirement already satisfied: certifi in ./venv/lib/python3.9/site-packages (from pyproj>=2.2.0->geopandas<0.8.0,>=0.7.0->geobr) (2022.6.15)\n",
      "Requirement already satisfied: cligj>=0.5 in ./venv/lib/python3.9/site-packages (from fiona->geopandas<0.8.0,>=0.7.0->geobr) (0.7.2)\n",
      "Requirement already satisfied: click>=4.0 in ./venv/lib/python3.9/site-packages (from fiona->geopandas<0.8.0,>=0.7.0->geobr) (8.0.3)\n",
      "Requirement already satisfied: setuptools in ./venv/lib/python3.9/site-packages (from fiona->geopandas<0.8.0,>=0.7.0->geobr) (62.3.2)\n",
      "Requirement already satisfied: munch in ./venv/lib/python3.9/site-packages (from fiona->geopandas<0.8.0,>=0.7.0->geobr) (2.5.0)\n",
      "Requirement already satisfied: attrs>=17 in ./venv/lib/python3.9/site-packages (from fiona->geopandas<0.8.0,>=0.7.0->geobr) (22.1.0)\n",
      "Requirement already satisfied: click-plugins>=1.0 in ./venv/lib/python3.9/site-packages (from fiona->geopandas<0.8.0,>=0.7.0->geobr) (1.1.1)\n",
      "Requirement already satisfied: six>=1.7 in ./venv/lib/python3.9/site-packages (from fiona->geopandas<0.8.0,>=0.7.0->geobr) (1.16.0)\n",
      "Installing collected packages: geopandas, geobr\n",
      "  Attempting uninstall: geopandas\n",
      "    Found existing installation: geopandas 0.11.1\n",
      "    Uninstalling geopandas-0.11.1:\n",
      "      Successfully uninstalled geopandas-0.11.1\n",
      "Successfully installed geobr-0.2.0 geopandas-0.7.0\n",
      "Note: you may need to restart the kernel to use updated packages.\n"
     ]
    }
   ],
   "source": [
    "pip install geobr"
   ]
  },
  {
   "cell_type": "code",
   "execution_count": 2,
   "metadata": {},
   "outputs": [],
   "source": [
    "import geobr\n",
    "import pandas as pd\n",
    "import numpy as np\n",
    "from posixpath import sep"
   ]
  },
  {
   "cell_type": "code",
   "execution_count": 25,
   "metadata": {},
   "outputs": [],
   "source": [
    "estabelecimentos_saude = geobr.read_health_facilities()\n"
   ]
  },
  {
   "cell_type": "code",
   "execution_count": 30,
   "metadata": {},
   "outputs": [
    {
     "data": {
      "text/plain": [
       "Index(['ano', 'id_municipio', 'sigla_uf', 'id_cnes', 'geometria'], dtype='object')"
      ]
     },
     "execution_count": 30,
     "metadata": {},
     "output_type": "execute_result"
    }
   ],
   "source": [
    "estabelecimentos_saude.columns"
   ]
  },
  {
   "cell_type": "code",
   "execution_count": 27,
   "metadata": {},
   "outputs": [],
   "source": [
    "estabelecimentos_saude['code_state'] = estabelecimentos_saude['code_state'].astype(np.int64)\n",
    "estabelecimentos_saude['code_cnes'] = estabelecimentos_saude['code_cnes'].astype(np.int64)\n",
    "estabelecimentos_saude['year_update'] = estabelecimentos_saude['year_update'].astype(np.int64)\n",
    "estabelecimentos_saude['code_muni'] = estabelecimentos_saude['code_muni'].astype(np.int64)\n",
    "estabelecimentos_saude['code_state'] = estabelecimentos_saude['code_state'].astype(np.int64)"
   ]
  },
  {
   "cell_type": "code",
   "execution_count": 28,
   "metadata": {},
   "outputs": [],
   "source": [
    "estabelecimentos_saude = estabelecimentos_saude.rename(\n",
    "    {'year_update' : 'ano',\n",
    "    'code_muni':'id_municipio',\n",
    "    'code_state':'id_uf',\n",
    "    'abbrev_state':'sigla_uf',\n",
    "    'code_cnes' : 'id_cnes',\n",
    "    'geometry':'geometria'},\n",
    "    axis='columns')"
   ]
  },
  {
   "cell_type": "code",
   "execution_count": 32,
   "metadata": {},
   "outputs": [],
   "source": [
    "estabelecimentos_saude = estabelecimentos_saude.filter(\n",
    "    items = ['ano','sigla_uf','id_municipio', 'id_cnes','geometria'])\n"
   ]
  },
  {
   "cell_type": "code",
   "execution_count": 33,
   "metadata": {},
   "outputs": [],
   "source": [
    "#salvando em csv\n",
    "estabelecimentos_saude.to_csv('estabelecimentos_saude.csv', sep=',', index=False, header=True)"
   ]
  }
 ],
 "metadata": {
  "kernelspec": {
   "display_name": "Python 3.9.13 ('venv': venv)",
   "language": "python",
   "name": "python3"
  },
  "language_info": {
   "codemirror_mode": {
    "name": "ipython",
    "version": 3
   },
   "file_extension": ".py",
   "mimetype": "text/x-python",
   "name": "python",
   "nbconvert_exporter": "python",
   "pygments_lexer": "ipython3",
   "version": "3.9.13"
  },
  "orig_nbformat": 4,
  "vscode": {
   "interpreter": {
    "hash": "b7cd7775ea73e77b02fa23ce9d369d09170cb3a6be301f5732e0677ebb915365"
   }
  }
 },
 "nbformat": 4,
 "nbformat_minor": 2
}
