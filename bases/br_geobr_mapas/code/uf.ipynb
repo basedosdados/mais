{
  "nbformat": 4,
  "nbformat_minor": 0,
  "metadata": {
    "colab": {
      "name": "estado.ipynb",
      "provenance": []
    },
    "kernelspec": {
      "name": "python3",
      "display_name": "Python 3"
    },
    "language_info": {
      "name": "python"
    }
  },
  "cells": [
    {
      "cell_type": "code",
      "execution_count": null,
      "metadata": {
        "id": "hX0-13c5s27H"
      },
      "outputs": [],
      "source": [
        "pip install geobr"
      ]
    },
    {
      "cell_type": "code",
      "source": [
        "import geobr\n",
        "import numpy as np\n",
        "import pandas as pd"
      ],
      "metadata": {
        "id": "hzrbCQkatG6r"
      },
      "execution_count": null,
      "outputs": []
    },
    {
      "cell_type": "code",
      "source": [
        "estado = geobr.read_state()"
      ],
      "metadata": {
        "colab": {
          "base_uri": "https://localhost:8080/"
        },
        "id": "pvDRTE7StZY8",
        "outputId": "cb017bf5-691c-4ff0-8c04-74f5bfba8b5a"
      },
      "execution_count": null,
      "outputs": [
        {
          "output_type": "stream",
          "name": "stderr",
          "text": [
            "/usr/local/lib/python3.7/dist-packages/geopandas/array.py:93: ShapelyDeprecationWarning: __len__ for multi-part geometries is deprecated and will be removed in Shapely 2.0. Check the length of the `geoms` property instead to get the  number of parts of a multi-part geometry.\n",
            "  aout[:] = out\n"
          ]
        }
      ]
    },
    {
      "cell_type": "code",
      "source": [
        "estado"
      ],
      "metadata": {
        "id": "KjW0-sactewt"
      },
      "execution_count": null,
      "outputs": []
    },
    {
      "cell_type": "code",
      "source": [
        "estado['code_state'] = estado['code_state'].astype(np.int64)"
      ],
      "metadata": {
        "id": "9vXo3gzgBANJ"
      },
      "execution_count": null,
      "outputs": []
    },
    {
      "cell_type": "code",
      "source": [
        "estado=estado.rename({'code_state':'id_uf', 'abbrev_state':'sigla_uf', 'geometry':'geometria'},axis='columns') "
      ],
      "metadata": {
        "id": "xbgqvq_sBI7o"
      },
      "execution_count": null,
      "outputs": []
    },
    {
      "cell_type": "code",
      "source": [
        "estado = estado.filter(items=['id_uf', 'sigla_uf', 'geometria'])"
      ],
      "metadata": {
        "id": "IHKScHz6BZSC"
      },
      "execution_count": null,
      "outputs": []
    },
    {
      "cell_type": "code",
      "source": [
        "estado"
      ],
      "metadata": {
        "id": "l_PeYIu-BpIb"
      },
      "execution_count": null,
      "outputs": []
    },
    {
      "cell_type": "code",
      "source": [
        "from posixpath import sep"
      ],
      "metadata": {
        "id": "BGStMiJ6BxUy"
      },
      "execution_count": null,
      "outputs": []
    },
    {
      "cell_type": "code",
      "source": [
        "estado.to_csv('estado.csv', sep=',', index=False, header=True)"
      ],
      "metadata": {
        "id": "17iZx_rTBz14"
      },
      "execution_count": null,
      "outputs": []
    }
  ]
}