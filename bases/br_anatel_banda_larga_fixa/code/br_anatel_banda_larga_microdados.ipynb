{
  "nbformat": 4,
  "nbformat_minor": 0,
  "metadata": {
    "colab": {
      "name": "[dados] br_anatel_banda_larga_microdados",
      "provenance": []
    },
    "kernelspec": {
      "name": "python3",
      "display_name": "Python 3"
    },
    "language_info": {
      "name": "python"
    }
  },
  "cells": [
    {
      "cell_type": "code",
      "metadata": {
        "colab": {
          "base_uri": "https://localhost:8080/"
        },
        "id": "A40oGxoZ-PqZ",
        "outputId": "c17001be-c294-4f86-c2e5-f5174c6a3e1c"
      },
      "source": [
        "!wget -p https://www.anatel.gov.br/dadosabertos/paineis_de_dados/acessos/acessos_banda_larga_fixa.zip"
      ],
      "execution_count": null,
      "outputs": [
        {
          "output_type": "stream",
          "name": "stdout",
          "text": [
            "--2021-10-23 01:35:50--  https://www.anatel.gov.br/dadosabertos/paineis_de_dados/acessos/acessos_banda_larga_fixa.zip\n",
            "Resolving www.anatel.gov.br (www.anatel.gov.br)... 200.0.81.81, 2801:80:c90:c1da:da0:2312:2000:1331\n",
            "Connecting to www.anatel.gov.br (www.anatel.gov.br)|200.0.81.81|:443... connected.\n",
            "HTTP request sent, awaiting response... 200 OK\n",
            "Length: 308415509 (294M) [application/x-zip-compressed]\n",
            "Saving to: ‘www.anatel.gov.br/dadosabertos/paineis_de_dados/acessos/acessos_banda_larga_fixa.zip’\n",
            "\n",
            "www.anatel.gov.br/d   5%[>                   ]  15.72M   755KB/s    in 23s     \n",
            "\n",
            "2021-10-23 01:36:16 (701 KB/s) - Read error at byte 16482304/308415509 (Connection reset by peer). Retrying.\n",
            "\n",
            "--2021-10-23 01:36:17--  (try: 2)  https://www.anatel.gov.br/dadosabertos/paineis_de_dados/acessos/acessos_banda_larga_fixa.zip\n",
            "Connecting to www.anatel.gov.br (www.anatel.gov.br)|200.0.81.81|:443... connected.\n",
            "HTTP request sent, awaiting response... 206 Partial Content\n",
            "Length: 308415509 (294M), 291933205 (278M) remaining [application/x-zip-compressed]\n",
            "Saving to: ‘www.anatel.gov.br/dadosabertos/paineis_de_dados/acessos/acessos_banda_larga_fixa.zip’\n",
            "\n",
            "www.anatel.gov.br/d   9%[+                   ]  27.03M   708KB/s    in 23s     \n",
            "\n",
            "2021-10-23 01:36:41 (504 KB/s) - Read error at byte 28344320/308415509 (Connection reset by peer). Retrying.\n",
            "\n",
            "--2021-10-23 01:36:43--  (try: 3)  https://www.anatel.gov.br/dadosabertos/paineis_de_dados/acessos/acessos_banda_larga_fixa.zip\n",
            "Connecting to www.anatel.gov.br (www.anatel.gov.br)|200.0.81.81|:443... connected.\n",
            "HTTP request sent, awaiting response... 206 Partial Content\n",
            "Length: 308415509 (294M), 280071189 (267M) remaining [application/x-zip-compressed]\n",
            "Saving to: ‘www.anatel.gov.br/dadosabertos/paineis_de_dados/acessos/acessos_banda_larga_fixa.zip’\n",
            "\n",
            "www.anatel.gov.br/d 100%[+==================>] 294.13M   705KB/s    in 6m 33s  \n",
            "\n",
            "2021-10-23 01:43:17 (696 KB/s) - ‘www.anatel.gov.br/dadosabertos/paineis_de_dados/acessos/acessos_banda_larga_fixa.zip’ saved [308415509/308415509]\n",
            "\n",
            "FINISHED --2021-10-23 01:43:17--\n",
            "Total wall clock time: 7m 27s\n",
            "Downloaded: 1 files, 267M in 7m 19s (623 KB/s)\n"
          ]
        }
      ]
    },
    {
      "cell_type": "code",
      "metadata": {
        "id": "JJEyZ4ta-lHA"
      },
      "source": [
        "import pandas as pd\n",
        "import numpy as np\n",
        "import os\n",
        "from zipfile import ZipFile\n",
        "import zipfile"
      ],
      "execution_count": null,
      "outputs": []
    },
    {
      "cell_type": "code",
      "metadata": {
        "id": "BcaVAroLgxGv",
        "colab": {
          "base_uri": "https://localhost:8080/"
        },
        "outputId": "607ba4fc-7e81-4c51-d21e-2c10ae4b1b49"
      },
      "source": [
        "with zipfile.ZipFile('/content/www.anatel.gov.br/dadosabertos/paineis_de_dados/acessos/acessos_banda_larga_fixa.zip') as z:\n",
        "  print(*z.namelist(), sep='\\n')"
      ],
      "execution_count": null,
      "outputs": [
        {
          "output_type": "stream",
          "name": "stdout",
          "text": [
            "Acessos_Banda_Larga_Fixa_2007-2010.csv\n",
            "Acessos_Banda_Larga_Fixa_2007-2010_Colunas.csv\n",
            "Acessos_Banda_Larga_Fixa_2011-2012.csv\n",
            "Acessos_Banda_Larga_Fixa_2011-2012_Colunas.csv\n",
            "Acessos_Banda_Larga_Fixa_2013-2014.csv\n",
            "Acessos_Banda_Larga_Fixa_2013-2014_Colunas.csv\n",
            "Acessos_Banda_Larga_Fixa_2015-2016.csv\n",
            "Acessos_Banda_Larga_Fixa_2015-2016_Colunas.csv\n",
            "Acessos_Banda_Larga_Fixa_2017-2018.csv\n",
            "Acessos_Banda_Larga_Fixa_2017-2018_Colunas.csv\n",
            "Acessos_Banda_Larga_Fixa_2019-2020.csv\n",
            "Acessos_Banda_Larga_Fixa_2019-2020_Colunas.csv\n",
            "Acessos_Banda_Larga_Fixa_2019_2020_Colunas.csv\n",
            "Acessos_Banda_Larga_Fixa_2021.csv\n",
            "Acessos_Banda_Larga_Fixa_2021_Colunas.csv\n",
            "Acessos_Banda_Larga_Fixa_Total.csv\n",
            "Densidade_Banda_Larga_Fixa.csv\n"
          ]
        }
      ]
    },
    {
      "cell_type": "code",
      "metadata": {
        "id": "wO4D268p-nBg"
      },
      "source": [
        "pasta = '/content/www.anatel.gov.br/dadosabertos/paineis_de_dados/acessos'\n",
        "broadband = os.path.join(pasta, 'acessos_banda_larga_fixa.zip')"
      ],
      "execution_count": null,
      "outputs": []
    },
    {
      "cell_type": "code",
      "metadata": {
        "id": "cgW68jXZ_G7Z"
      },
      "source": [
        "#decodificando os arquivos\n",
        "  #Anatel separa os arquivos por biênio\n",
        "  #Entre 2007 e 2010 os dados eram fornecidos por trimestre, a partir de 2011 os dados passam a ser mensais\n",
        "with ZipFile(broadband) as z:\n",
        "  with z.open(f'Acessos_Banda_Larga_Fixa_2007-2010.csv') as f:\n",
        "    b_1 = pd.read_csv(f,sep=';', encoding='utf-8')"
      ],
      "execution_count": null,
      "outputs": []
    },
    {
      "cell_type": "code",
      "metadata": {
        "id": "Iwmg0i1u_J8Z"
      },
      "source": [
        "with ZipFile(broadband) as z:\n",
        "  with z.open(f'Acessos_Banda_Larga_Fixa_2011-2012.csv') as f:\n",
        "    b_2 = pd.read_csv(f,sep=';', encoding='utf-8')"
      ],
      "execution_count": null,
      "outputs": []
    },
    {
      "cell_type": "code",
      "metadata": {
        "id": "PB7xSYbe_Mus"
      },
      "source": [
        "with ZipFile(broadband) as z:\n",
        "  with z.open(f'Acessos_Banda_Larga_Fixa_2013-2014.csv') as f:\n",
        "    b_3 = pd.read_csv(f,sep=';', encoding='utf-8')"
      ],
      "execution_count": null,
      "outputs": []
    },
    {
      "cell_type": "code",
      "metadata": {
        "id": "S--uVHEA_ZBA"
      },
      "source": [
        "with ZipFile(broadband) as z:\n",
        "  with z.open(f'Acessos_Banda_Larga_Fixa_2015-2016.csv') as f:\n",
        "    b_4 = pd.read_csv(f,sep=';', encoding='utf-8')"
      ],
      "execution_count": null,
      "outputs": []
    },
    {
      "cell_type": "code",
      "metadata": {
        "id": "j9-jdtH1_fyo"
      },
      "source": [
        "with ZipFile(broadband) as z:\n",
        "  with z.open(f'Acessos_Banda_Larga_Fixa_2017-2018.csv') as f:\n",
        "    b_5 = pd.read_csv(f,sep=';', encoding='utf-8')"
      ],
      "execution_count": null,
      "outputs": []
    },
    {
      "cell_type": "code",
      "metadata": {
        "id": "tiHfZO4R_psZ"
      },
      "source": [
        "with ZipFile(broadband) as z:\n",
        "  with z.open(f'Acessos_Banda_Larga_Fixa_2019-2020.csv') as f:\n",
        "    b_6 = pd.read_csv(f,sep=';', encoding='utf-8')"
      ],
      "execution_count": null,
      "outputs": []
    },
    {
      "cell_type": "code",
      "metadata": {
        "id": "zAolp3WQACC6"
      },
      "source": [
        "with ZipFile(broadband) as z:\n",
        "  with z.open(f'Acessos_Banda_Larga_Fixa_2021.csv') as f:\n",
        "    b_7 = pd.read_csv(f,sep=';', encoding='utf-8')"
      ],
      "execution_count": null,
      "outputs": []
    },
    {
      "cell_type": "code",
      "metadata": {
        "id": "Ar0If-NfAUsp"
      },
      "source": [
        "#junção das bases\n",
        "bl = b_1.append([b_2, b_3, b_4, b_5, b_6, b_7], ignore_index=True)"
      ],
      "execution_count": null,
      "outputs": []
    },
    {
      "cell_type": "code",
      "metadata": {
        "id": "g1BHaMwNAqDy"
      },
      "source": [
        "#renomeando variaveis\n",
        "bl.rename(columns={'Ano': 'ano','Mês':'mes', 'Grupo Econômico':'grupo_economico', 'Empresa':'empresa',\n",
        "                 'CNPJ':'cnpj', 'Porte da Prestadora':'porte_empresa', 'UF':'sigla_uf', 'Município':'municipio',\n",
        "                 'Código IBGE Município':'id_municipio', 'Faixa de Velocidade':'velocidade', 'Tecnologia':'tecnologia',\n",
        "                 'Meio de Acesso':'transmissao', 'Acessos':'acessos', 'Tipo de Pessoa': 'pessoa'}, inplace=True)"
      ],
      "execution_count": null,
      "outputs": []
    },
    {
      "cell_type": "code",
      "metadata": {
        "id": "v5eNiS_C23MI"
      },
      "source": [
        "#organização das variáveis\n",
        "bl.drop(['grupo_economico', 'municipio', 'pessoa'], axis=1, inplace=True)\n",
        "bl = bl[['ano', 'mes', 'sigla_uf', 'id_municipio', 'cnpj', 'empresa', 'porte_empresa', 'tecnologia', 'transmissao', 'velocidade', 'acessos']]\n",
        "bl.sort_values(['ano', 'mes', 'id_municipio'], inplace=True)"
      ],
      "execution_count": null,
      "outputs": []
    },
    {
      "cell_type": "code",
      "metadata": {
        "colab": {
          "base_uri": "https://localhost:8080/"
        },
        "id": "x9HWY7_qRVwj",
        "outputId": "15ea1e1d-6107-4cec-c103-1a44bc440191"
      },
      "source": [
        "#presença de variáveis\n",
        "duplicado = bl.duplicated(subset=['ano', 'mes', 'sigla_uf', 'id_municipio', 'cnpj', 'empresa', 'porte_empresa', 'tecnologia', 'transmissao', 'velocidade']).any()\n",
        "duplicado"
      ],
      "execution_count": null,
      "outputs": [
        {
          "output_type": "execute_result",
          "data": {
            "text/plain": [
              "True"
            ]
          },
          "metadata": {},
          "execution_count": 21
        }
      ]
    },
    {
      "cell_type": "code",
      "metadata": {
        "id": "8IivssTZSLs3"
      },
      "source": [
        "#os dados possuem duplicações mostrando diferentes resultados para acesso\n",
        "#o agrupamento é feito pelas variáveis de identificação\n",
        "bl['acessos_total'] = bl.groupby(['ano', 'mes', 'sigla_uf', 'id_municipio', 'cnpj', 'empresa', 'porte_empresa', 'tecnologia', 'transmissao', 'velocidade'])['acessos'].transform(np.sum)\n",
        "#após ordenamento das observações, se mantém somente 1 linha que identifique as observações\n",
        "bl.sort_values(['ano', 'mes', 'sigla_uf', 'id_municipio', 'cnpj', 'empresa', 'porte_empresa', 'tecnologia', 'transmissao', 'velocidade'], inplace=True)\n",
        "bl.drop_duplicates(subset=['ano', 'mes', 'sigla_uf', 'id_municipio', 'cnpj', 'empresa', 'porte_empresa', 'tecnologia', 'transmissao', 'velocidade'], keep='first', inplace=True)\n",
        "#exclui-se a coluna de acessos e renomeia\n",
        "bl.drop('acessos', axis=1, inplace=True)\n",
        "bl.rename(columns={'acessos_total':'acessos'}, inplace=True)"
      ],
      "execution_count": null,
      "outputs": []
    },
    {
      "cell_type": "code",
      "metadata": {
        "colab": {
          "base_uri": "https://localhost:8080/"
        },
        "id": "O3_wM0fNAe1p",
        "outputId": "a1fd9692-b904-437d-81db-5724b33dbf9c"
      },
      "source": [
        "#salvar arquivos no Drive\n",
        "from google.colab import drive\n",
        "drive.mount('/content/drive')"
      ],
      "execution_count": null,
      "outputs": [
        {
          "output_type": "stream",
          "name": "stdout",
          "text": [
            "Mounted at /content/drive\n"
          ]
        }
      ]
    },
    {
      "cell_type": "code",
      "metadata": {
        "id": "eHxVsYaXD4p3"
      },
      "source": [
        "#exportação para csv\n",
        "bl.to_csv('/content/drive/MyDrive/br_anatel/banda_larga_fixa/output/banda_larga_microdados.csv', index=False, encoding=\"utf-8\", na_rep=\"\")"
      ],
      "execution_count": null,
      "outputs": []
    },
    {
      "cell_type": "code",
      "metadata": {
        "id": "LAb59IDRCNl9"
      },
      "source": [
        "#brasil\n",
        "bl_br = bl.drop(['sigla_uf', 'id_municipio', 'empresa','cnpj', 'porte_empresa',  'tecnologia', 'transmissao', 'velocidade'], axis = 1)\n",
        "bl_br['acessos_total'] = bl_br.groupby(['ano', 'mes'])['acessos'].transform(np.sum)\n",
        "bl_br.sort_values(['ano', 'mes'], inplace=True)\n",
        "bl_br.drop_duplicates(subset=['ano', 'mes'], keep ='first', inplace = True)\n",
        "bl_br.drop('acessos', axis=1, inplace=True)\n",
        "bl_br.rename(columns={'acessos_total':'acessos'}, inplace=True)"
      ],
      "execution_count": null,
      "outputs": []
    },
    {
      "cell_type": "code",
      "metadata": {
        "id": "oFPnm9GiClku"
      },
      "source": [
        "#uf\n",
        "bl_uf = bl.drop(['id_municipio', 'empresa','cnpj', 'porte_empresa',  'tecnologia', 'transmissao', 'velocidade'], axis = 1)\n",
        "bl_uf['acessos_total'] = bl_uf.groupby(['ano', 'mes', 'sigla_uf'])['acessos'].transform(np.sum)\n",
        "bl_uf.sort_values(['ano', 'mes', 'sigla_uf'], inplace=True)\n",
        "bl_uf.drop_duplicates(subset=['ano', 'mes', 'sigla_uf'], keep ='first', inplace = True)\n",
        "bl_uf.drop('acessos', axis=1, inplace=True)\n",
        "bl_uf.rename(columns={'acessos_total':'acessos'}, inplace=True)"
      ],
      "execution_count": null,
      "outputs": []
    },
    {
      "cell_type": "code",
      "metadata": {
        "id": "ZiYRDgPgSDLx"
      },
      "source": [
        "#municipio\n",
        "bl_mun = bl.drop(['empresa','cnpj', 'porte_empresa',  'tecnologia', 'transmissao', 'velocidade'], axis = 1)\n",
        "bl_mun['acessos_total'] = bl_mun.groupby(['ano', 'mes', 'id_municipio'])['acessos'].transform(np.sum)\n",
        "bl_mun.sort_values(['ano', 'mes', 'id_municipio'], inplace=True)\n",
        "bl_mun.drop_duplicates(subset=['ano', 'mes', 'id_municipio'], keep ='first', inplace = True)\n",
        "bl_mun.drop('acessos', axis=1, inplace=True)\n",
        "bl_mun.rename(columns={'acessos_total':'acessos'}, inplace=True)"
      ],
      "execution_count": null,
      "outputs": []
    },
    {
      "cell_type": "code",
      "metadata": {
        "id": "Z0WpVWmzkWQ7"
      },
      "source": [
        "with ZipFile(broadband) as z:\n",
        "  with z.open(f'Densidade_Banda_Larga_Fixa.csv') as f:\n",
        "    densidade = pd.read_csv(f,sep=';', encoding='utf-8')"
      ],
      "execution_count": null,
      "outputs": []
    },
    {
      "cell_type": "code",
      "metadata": {
        "id": "TknZyrvi1gc6"
      },
      "source": [
        "densidade.rename(columns={'Nível Geográfico Densidade':'Geografia'}, inplace=True)\n",
        "densidade_br = densidade[densidade.Geografia.isin(['Brasil'])]\n",
        "densidade_uf = densidade[densidade.Geografia.isin(['UF'])]\n",
        "densidade_munic = densidade[densidade.Geografia.isin(['Municipio'])]"
      ],
      "execution_count": null,
      "outputs": []
    },
    {
      "cell_type": "code",
      "metadata": {
        "id": "nm_-N9DM1UX5"
      },
      "source": [
        "densidade_br.drop(['UF', 'Município', 'Código IBGE', 'Geografia'], axis=1, inplace=True)\n",
        "densidade_br.rename(columns={'Ano':'ano', 'Mês':'mes', 'Densidade':'densidade'}, inplace=True)\n",
        "densidade_br['densidade'] = densidade_br['densidade'].apply(lambda x: str(x).replace(',','.'))\n",
        "densidade_br = pd.merge(bl_br, densidade_br,\n",
        "                         how='left', left_on=['ano', 'mes'],\n",
        "                         right_on=['ano', 'mes'])\n",
        "densidade_br['acessos'] = densidade_br['acessos'].astype('int64')\n",
        "densidade_br.to_csv('/content/drive/MyDrive/br_anatel/banda_larga_fixa/output/densidade_banda_larga_brasil.csv', index=False, encoding=\"utf-8\", na_rep=\"\")"
      ],
      "execution_count": null,
      "outputs": []
    },
    {
      "cell_type": "code",
      "metadata": {
        "id": "n-Y-bq6M4bHV"
      },
      "source": [
        "densidade_uf.drop(['Município', 'Código IBGE', 'Geografia'], axis=1, inplace=True)\n",
        "densidade_uf.rename(columns={'Ano':'ano', 'Mês':'mes', 'UF':'sigla_uf', 'Densidade':'densidade'}, inplace=True)\n",
        "densidade_uf['densidade'] = densidade_uf['densidade'].apply(lambda x: str(x).replace(',','.'))\n",
        "densidade_uf = pd.merge(bl_uf, densidade_uf,\n",
        "                         how='left', left_on=['ano', 'mes', 'sigla_uf'],\n",
        "                         right_on=['ano', 'mes', 'sigla_uf'])\n",
        "densidade_uf['acessos'] = densidade_uf['acessos'].astype('int64')\n",
        "densidade_uf.to_csv('/content/drive/MyDrive/br_anatel/banda_larga_fixa/output/densidade_banda_larga_uf.csv', index=False, encoding=\"utf-8\", na_rep=\"\")"
      ],
      "execution_count": null,
      "outputs": []
    },
    {
      "cell_type": "code",
      "metadata": {
        "id": "Ghoi3nGAn_8o"
      },
      "source": [
        "densidade_munic.drop(['Município', 'UF', 'Geografia'], axis=1, inplace=True)\n",
        "densidade_munic.rename(columns={'Ano':'ano', 'Mês':'mes', 'Código IBGE':'id_municipio', 'Densidade':'densidade'}, inplace=True)\n",
        "densidade_munic['densidade'] = densidade_munic['densidade'].apply(lambda x: str(x).replace(',','.'))\n",
        "densidade_munic = pd.merge(bl_mun, densidade_munic,\n",
        "                         how='left', left_on=['ano', 'mes', 'id_municipio'],\n",
        "                         right_on=['ano', 'mes', 'id_municipio'])\n",
        "densidade_munic['acessos'] = densidade_munic['acessos'].astype('int64')\n",
        "densidade_mun.to_csv('/content/drive/MyDrive/br_anatel/banda_larga_fixa/output/densidade_banda_larga_municipios.csv', index=False, encoding=\"utf-8\", na_rep=\"\")"
      ],
      "execution_count": null,
      "outputs": []
    }
  ]
}