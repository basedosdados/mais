{
  "nbformat": 4,
  "nbformat_minor": 0,
  "metadata": {
    "colab": {
      "name": "br_anatel_banda_larga_microdados",
      "provenance": []
    },
    "kernelspec": {
      "name": "python3",
      "display_name": "Python 3"
    },
    "language_info": {
      "name": "python"
    }
  },
  "cells": [
    {
      "cell_type": "code",
      "metadata": {
        "colab": {
          "base_uri": "https://localhost:8080/"
        },
        "id": "A40oGxoZ-PqZ",
        "outputId": "84629233-5945-4208-a980-0f2c66ed2ddf"
      },
      "source": [
        "!wget -p https://www.anatel.gov.br/dadosabertos/paineis_de_dados/acessos/acessos_banda_larga_fixa.zip"
      ],
      "execution_count": 1,
      "outputs": [
        {
          "output_type": "stream",
          "text": [
            "--2021-06-09 19:16:34--  https://www.anatel.gov.br/dadosabertos/paineis_de_dados/acessos/acessos_banda_larga_fixa.zip\n",
            "Resolving www.anatel.gov.br (www.anatel.gov.br)... 200.0.81.81, 2801:80:c90:c1da:da0:2312:2000:1331\n",
            "Connecting to www.anatel.gov.br (www.anatel.gov.br)|200.0.81.81|:443... connected.\n",
            "HTTP request sent, awaiting response... 200 OK\n",
            "Length: 258274514 (246M) [application/x-zip-compressed]\n",
            "Saving to: ‘www.anatel.gov.br/dadosabertos/paineis_de_dados/acessos/acessos_banda_larga_fixa.zip’\n",
            "\n",
            "www.anatel.gov.br/d   8%[>                   ]  20.25M   938KB/s    in 23s     \n",
            "\n",
            "2021-06-09 19:17:00 (904 KB/s) - Read error at byte 21233664/258274514 (Connection reset by peer). Retrying.\n",
            "\n",
            "--2021-06-09 19:17:01--  (try: 2)  https://www.anatel.gov.br/dadosabertos/paineis_de_dados/acessos/acessos_banda_larga_fixa.zip\n",
            "Connecting to www.anatel.gov.br (www.anatel.gov.br)|200.0.81.81|:443... connected.\n",
            "HTTP request sent, awaiting response... 206 Partial Content\n",
            "Length: 258274514 (246M), 237040850 (226M) remaining [application/x-zip-compressed]\n",
            "Saving to: ‘www.anatel.gov.br/dadosabertos/paineis_de_dados/acessos/acessos_banda_larga_fixa.zip’\n",
            "\n",
            "www.anatel.gov.br/d 100%[+==================>] 246.31M   920KB/s    in 4m 19s  \n",
            "\n",
            "2021-06-09 19:21:21 (892 KB/s) - ‘www.anatel.gov.br/dadosabertos/paineis_de_dados/acessos/acessos_banda_larga_fixa.zip’ saved [258274514/258274514]\n",
            "\n",
            "FINISHED --2021-06-09 19:21:21--\n",
            "Total wall clock time: 4m 48s\n",
            "Downloaded: 1 files, 226M in 4m 42s (820 KB/s)\n"
          ],
          "name": "stdout"
        }
      ]
    },
    {
      "cell_type": "code",
      "metadata": {
        "id": "JJEyZ4ta-lHA"
      },
      "source": [
        "import pandas as pd\n",
        "import numpy as np\n",
        "import os\n",
        "from zipfile import ZipFile"
      ],
      "execution_count": 2,
      "outputs": []
    },
    {
      "cell_type": "code",
      "metadata": {
        "id": "wO4D268p-nBg"
      },
      "source": [
        "pasta = '/content/www.anatel.gov.br/dadosabertos/paineis_de_dados/acessos'\n",
        "broadband = os.path.join(pasta, 'acessos_banda_larga_fixa.zip')"
      ],
      "execution_count": 3,
      "outputs": []
    },
    {
      "cell_type": "code",
      "metadata": {
        "id": "cgW68jXZ_G7Z"
      },
      "source": [
        "#decodificando os arquivos\n",
        "  #Anatel separa os arquivos por biênio\n",
        "  #Entre 2007 e 2010 os dados eram fornecidos por trimestre, a partir de 2011 os dados passam a ser mensais\n",
        "with ZipFile(broadband) as z:\n",
        "  with z.open(f'Acessos_Banda_Larga_Fixa_2007-2010.csv') as f:\n",
        "    b_1 = pd.read_csv(f,sep=';', encoding='utf-8')"
      ],
      "execution_count": 4,
      "outputs": []
    },
    {
      "cell_type": "code",
      "metadata": {
        "id": "Iwmg0i1u_J8Z"
      },
      "source": [
        "with ZipFile(broadband) as z:\n",
        "  with z.open(f'Acessos_Banda_Larga_Fixa_2011-2012.csv') as f:\n",
        "    b_2 = pd.read_csv(f,sep=';', encoding='utf-8')"
      ],
      "execution_count": 5,
      "outputs": []
    },
    {
      "cell_type": "code",
      "metadata": {
        "id": "PB7xSYbe_Mus"
      },
      "source": [
        "with ZipFile(broadband) as z:\n",
        "  with z.open(f'Acessos_Banda_Larga_Fixa_2013-2014.csv') as f:\n",
        "    b_3 = pd.read_csv(f,sep=';', encoding='utf-8')"
      ],
      "execution_count": 6,
      "outputs": []
    },
    {
      "cell_type": "code",
      "metadata": {
        "id": "S--uVHEA_ZBA"
      },
      "source": [
        "with ZipFile(broadband) as z:\n",
        "  with z.open(f'Acessos_Banda_Larga_Fixa_2015-2016.csv') as f:\n",
        "    b_4 = pd.read_csv(f,sep=';', encoding='utf-8')"
      ],
      "execution_count": 7,
      "outputs": []
    },
    {
      "cell_type": "code",
      "metadata": {
        "id": "j9-jdtH1_fyo"
      },
      "source": [
        "with ZipFile(broadband) as z:\n",
        "  with z.open(f'Acessos_Banda_Larga_Fixa_2017-2018.csv') as f:\n",
        "    b_5 = pd.read_csv(f,sep=';', encoding='utf-8')"
      ],
      "execution_count": 8,
      "outputs": []
    },
    {
      "cell_type": "code",
      "metadata": {
        "id": "tiHfZO4R_psZ"
      },
      "source": [
        "with ZipFile(broadband) as z:\n",
        "  with z.open(f'Acessos_Banda_Larga_Fixa_2019-2020.csv') as f:\n",
        "    b_6 = pd.read_csv(f,sep=';', encoding='utf-8')"
      ],
      "execution_count": 9,
      "outputs": []
    },
    {
      "cell_type": "code",
      "metadata": {
        "id": "zAolp3WQACC6"
      },
      "source": [
        "with ZipFile(broadband) as z:\n",
        "  with z.open(f'Acessos_Banda_Larga_Fixa_2021.csv') as f:\n",
        "    b_7 = pd.read_csv(f,sep=';', encoding='utf-8')"
      ],
      "execution_count": 10,
      "outputs": []
    },
    {
      "cell_type": "code",
      "metadata": {
        "id": "Ar0If-NfAUsp"
      },
      "source": [
        "#junção das bases\n",
        "bl = b_1.append([b_2, b_3, b_4, b_5, b_6, b_7], ignore_index=True)"
      ],
      "execution_count": 11,
      "outputs": []
    },
    {
      "cell_type": "code",
      "metadata": {
        "id": "g1BHaMwNAqDy"
      },
      "source": [
        "#renomeando variaveis\n",
        "bl.rename(columns={'Ano': 'ano','Mês':'mes', 'Grupo Econômico':'grupo_economico', 'Empresa':'empresa',\n",
        "                 'CNPJ':'cnpj', 'Porte da Prestadora':'porte_empresa', 'UF':'sigla_uf', 'Município':'municipio',\n",
        "                 'Código IBGE Município':'id_municipio', 'Faixa de Velocidade':'velocidade', 'Tecnologia':'tecnologia',\n",
        "                 'Meio de Acesso':'transmissao', 'Acessos':'acessos', 'Tipo de Pessoa': 'pessoa'}, inplace=True)"
      ],
      "execution_count": 12,
      "outputs": []
    },
    {
      "cell_type": "code",
      "metadata": {
        "id": "v5eNiS_C23MI"
      },
      "source": [
        "#organização das variáveis\n",
        "bl.drop(['grupo_economico', 'municipio', 'pessoa'], axis=1, inplace=True)\n",
        "bl = bl[['ano', 'mes', 'sigla_uf', 'id_municipio', 'cnpj', 'empresa', 'porte_empresa', 'tecnologia', 'transmissao', 'velocidade', 'acessos']]"
      ],
      "execution_count": 13,
      "outputs": []
    },
    {
      "cell_type": "code",
      "metadata": {
        "id": "-v0_mD5aCL38"
      },
      "source": [
        "bl.sort_values(['ano', 'mes', 'id_municipio'], inplace=True)"
      ],
      "execution_count": 27,
      "outputs": []
    },
    {
      "cell_type": "code",
      "metadata": {
        "colab": {
          "base_uri": "https://localhost:8080/"
        },
        "id": "O3_wM0fNAe1p",
        "outputId": "2f26c718-7289-4dc1-bd37-8ebe83bcd374"
      },
      "source": [
        "#salvar arquivos no Drive\n",
        "from google.colab import drive\n",
        "drive.mount('/content/drive')"
      ],
      "execution_count": 28,
      "outputs": [
        {
          "output_type": "stream",
          "text": [
            "Mounted at /content/drive\n"
          ],
          "name": "stdout"
        }
      ]
    },
    {
      "cell_type": "code",
      "metadata": {
        "id": "eHxVsYaXD4p3"
      },
      "source": [
        "#exportação para csv\n",
        "bl.to_csv('/content/drive/MyDrive/br_anatel/banda_larga_fixa/output/banda_larga_microdados', index=False)"
      ],
      "execution_count": 30,
      "outputs": []
    },
    {
      "cell_type": "code",
      "metadata": {
        "id": "ZiYRDgPgSDLx"
      },
      "source": [
        "#drop das variáveis ligada a empresas\n",
        "bl_mun = bl.drop(['empresa','cnpj', 'porte_empresa'], axis = 1)\n",
        "#collapse para acessos\n",
        "bl_mun['acessos_total'] = bl_mun.groupby(['ano', 'mes', 'id_municipio', 'tecnologia', 'transmissao', 'velocidade'])['acessos'].transform(np.sum)\n",
        "#ordenamento das variaveis\n",
        "bl_mun.sort_values(['ano', 'mes', 'id_municipio', 'tecnologia', 'transmissao', 'velocidade'], inplace=True)\n",
        "#exclusão das variaveis duplicadas\n",
        "bl_mun.drop_duplicates(subset=['ano', 'mes', 'id_municipio', 'tecnologia', 'transmissao', 'velocidade'], keep ='first', inplace = True)\n",
        "#exclusão da coluna de acessos\n",
        "bl_mun.drop('acessos', axis=1, inplace=True)\n",
        "#renome da coluna de acessos total\n",
        "bl_mun.rename(columns={'acessos_total':'acessos'}, inplace=True)"
      ],
      "execution_count": 34,
      "outputs": []
    },
    {
      "cell_type": "code",
      "metadata": {
        "id": "KhkkYrnoSuEj"
      },
      "source": [
        "bl_mun.to_csv('/content/drive/MyDrive/br_anatel/banda_larga_fixa/output/banda_larga_municipios', index=False)"
      ],
      "execution_count": 37,
      "outputs": []
    }
  ]
}