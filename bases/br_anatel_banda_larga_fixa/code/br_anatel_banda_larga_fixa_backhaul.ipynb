{
  "nbformat": 4,
  "nbformat_minor": 0,
  "metadata": {
    "colab": {
      "name": "br_anatel_banda_larga_fixa_backhaul",
      "provenance": []
    },
    "kernelspec": {
      "name": "python3",
      "display_name": "Python 3"
    },
    "language_info": {
      "name": "python"
    }
  },
  "cells": [
    {
      "cell_type": "code",
      "metadata": {
        "colab": {
          "base_uri": "https://localhost:8080/"
        },
        "id": "gkPlEY5_axQk",
        "outputId": "fd2f2158-3f3b-448d-a744-82768f22bec0"
      },
      "source": [
        "from google.colab import drive\n",
        "drive.mount('/content/drive', force_remount=True)"
      ],
      "execution_count": 1,
      "outputs": [
        {
          "output_type": "stream",
          "text": [
            "Mounted at /content/drive\n"
          ],
          "name": "stdout"
        }
      ]
    },
    {
      "cell_type": "code",
      "metadata": {
        "id": "sugEwn4rgBeV"
      },
      "source": [
        "import pandas as pd\n",
        "import numpy as np"
      ],
      "execution_count": 2,
      "outputs": []
    },
    {
      "cell_type": "code",
      "metadata": {
        "id": "R6QS_76zgFUM"
      },
      "source": [
        "backhaul = pd.read_excel('/content/drive/MyDrive/Anatel Data/Backhaul 2018.xlsx')"
      ],
      "execution_count": 64,
      "outputs": []
    },
    {
      "cell_type": "code",
      "metadata": {
        "id": "zkkAkXMtgWWX"
      },
      "source": [
        "#exclusão de observações da planilha original\n",
        "backhaul.dropna(inplace=True)\n",
        "#exclusão de variáveis\n",
        "backhaul.drop(['População', 'Município', 'PGO', 'Prestadora'], axis=1, inplace=True)"
      ],
      "execution_count": 65,
      "outputs": []
    },
    {
      "cell_type": "code",
      "metadata": {
        "id": "swse-7JCgdeP"
      },
      "source": [
        "#renomeação das variaveis\n",
        "backhaul.rename(columns={'Cód. IBGE':'id_municipio', 'UF':'sigla_uf', 'Situação':'situacao', 'Ano de atendimento':'ano_atendimento', \n",
        "                         'Tecnologia de atendimento':'tecnologia', 'Concessionária':'concessionaria', 'Capacidade do Backhaul':'capacidade_backhaul', \n",
        "                         'Capacidade Ocupada':'capacidadde_ocupada', 'Capacidade Disponível':'capacidade_disponivel'}, inplace=True)"
      ],
      "execution_count": 66,
      "outputs": []
    },
    {
      "cell_type": "code",
      "metadata": {
        "id": "iwJL-Ak7jVm-"
      },
      "source": [
        "#exclusão de astericos das bases pra melhor compatibilização dos dados\n",
        "backhaul['ano_atendimento'] = backhaul['ano_atendimento'].apply(lambda x: str(x).replace('***',''))\n",
        "backhaul['ano_atendimento'] = backhaul['ano_atendimento'].apply(lambda x: str(x).replace('**',''))\n",
        "backhaul['tecnologia'] = backhaul['tecnologia'].apply(lambda x: str(x).replace('**','Não Informado'))\n",
        "backhaul['tecnologia'] = backhaul['tecnologia'].apply(lambda x: str(x).replace('***',''))\n",
        "backhaul['capacidade_backhaul'] = backhaul['capacidade_backhaul'].apply(lambda x: str(x).replace('**',''))\n",
        "backhaul['capacidadde_ocupada'] = backhaul['capacidadde_ocupada'].apply(lambda x: str(x).replace('**',''))\n",
        "backhaul['capacidade_disponivel'] = backhaul['capacidade_disponivel'].apply(lambda x: str(x).replace('**',''))"
      ],
      "execution_count": 67,
      "outputs": []
    },
    {
      "cell_type": "code",
      "metadata": {
        "id": "zGzv4ILY2WJN"
      },
      "source": [
        "#mudança no formato da variavel\n",
        "backhaul['id_municipio'] = backhaul['id_municipio'].astype('int64')"
      ],
      "execution_count": 70,
      "outputs": []
    },
    {
      "cell_type": "code",
      "metadata": {
        "id": "3YOoJOVC6tR4"
      },
      "source": [
        "#exportando o arquivo\n",
        "backhaul.to_csv('/content/drive/MyDrive/br_anatel/banda_larga_fixa/output/banda_larga_backhaul.csv', index=False)"
      ],
      "execution_count": 75,
      "outputs": []
    }
  ]
}