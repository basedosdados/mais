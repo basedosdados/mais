{
  "nbformat": 4,
  "nbformat_minor": 0,
  "metadata": {
    "colab": {
      "name": "[dados] br_ms_populacao",
      "provenance": []
    },
    "kernelspec": {
      "name": "python3",
      "display_name": "Python 3"
    },
    "language_info": {
      "name": "python"
    }
  },
  "cells": [
    {
      "cell_type": "code",
      "metadata": {
        "colab": {
          "base_uri": "https://localhost:8080/"
        },
        "id": "TPvN6_He2YzB",
        "outputId": "f5acb637-c77f-4379-9017-03a62f5c5327"
      },
      "source": [
        "from google.colab import drive\n",
        "drive.mount('/content/drive', force_remount=True)"
      ],
      "execution_count": 1,
      "outputs": [
        {
          "output_type": "stream",
          "text": [
            "Mounted at /content/drive\n"
          ],
          "name": "stdout"
        }
      ]
    },
    {
      "cell_type": "code",
      "metadata": {
        "id": "988ZMdhb3w2R"
      },
      "source": [
        "import pandas as pd\n",
        "import numpy as np"
      ],
      "execution_count": 2,
      "outputs": []
    },
    {
      "cell_type": "markdown",
      "metadata": {
        "id": "TJCIFx2LRYgl"
      },
      "source": [
        "#### **Dados 2020**"
      ]
    },
    {
      "cell_type": "code",
      "metadata": {
        "id": "1ms3Hv2l3mCK"
      },
      "source": [
        "pop_masc_2020 = pd.read_csv('/content/drive/MyDrive/br_ms_populacao/input/br_ms_populacao_masculina_2020.csv', sep=';', encoding='latin-1', skiprows=4)\n",
        "pop_fem_2020 = pd.read_csv('/content/drive/MyDrive/br_ms_populacao/input/br_ms_populacao_feminina_2020.csv', sep=';', encoding='latin-1', skiprows=4)"
      ],
      "execution_count": null,
      "outputs": []
    },
    {
      "cell_type": "code",
      "metadata": {
        "id": "04adqBcY80nc"
      },
      "source": [
        "pop_masc_2020['id_municipio_6'] = pop_masc_2020['Município'].str[:6]\n",
        "pop_fem_2020['id_municipio_6'] = pop_fem_2020['Município'].str[:6]"
      ],
      "execution_count": null,
      "outputs": []
    },
    {
      "cell_type": "code",
      "metadata": {
        "id": "4doB8aeVmFGQ"
      },
      "source": [
        "pop_masc_2020.drop([5570, 5571, 5572], axis=0, inplace=True)\n",
        "pop_fem_2020.drop([5570, 5571, 5572], axis=0, inplace=True)\n",
        "pop_masc_2020.drop(['Município', 'Total'], axis=1, inplace=True)\n",
        "pop_fem_2020.drop(['Município', 'Total'], axis=1, inplace=True)"
      ],
      "execution_count": null,
      "outputs": []
    },
    {
      "cell_type": "code",
      "metadata": {
        "id": "cb0O1i5pg8l8"
      },
      "source": [
        "rename = {'De 0 a 4 anos':'0-4 anos', 'De 5 a 9 anos':'5-9 anos', 'De 10 a 14 anos':'10-14 anos', 'De 15 a 19 anos':'15-19 anos',\n",
        "          'De 20 a 24 anos':'20-24 anos', 'De 25 a 29 anos':'25-29 anos', 'De 30 a 34 anos':'30-34 anos', 'De 35 a 39 anos':'35-39 anos',\n",
        "          'De 40 a 44 anos':'40-44 anos', 'De 45 a 49 anos':'45-49 anos', 'De 50 a 54 anos':'50-54 anos', 'De 55 a 59 anos':'55-59 anos',\n",
        "          'De 60 a 64 anos':'60-64 anos', 'De 65 a 69 anos':'65-69 anos', 'De 70 a 74 anos':'70-74 anos', 'De 75 a 79 anos':'75-79 anos',\n",
        "          'De 80 anos ou mais':'80_mais'}"
      ],
      "execution_count": 3,
      "outputs": []
    },
    {
      "cell_type": "code",
      "metadata": {
        "id": "JvyGpIIvFp-P"
      },
      "source": [
        "pop_masc_2020.rename(columns=rename, inplace=True)\n",
        "pop_fem_2020.rename(columns=rename, inplace=True)"
      ],
      "execution_count": null,
      "outputs": []
    },
    {
      "cell_type": "code",
      "metadata": {
        "id": "1mHoLybiHdkt"
      },
      "source": [
        "pop_masc_2020 = pop_masc_2020.round(decimals=0).astype('int64')\n",
        "pop_masc_2020['id_municipio_6'] = pop_masc_2020['id_municipio_6'].astype(str)\n",
        "pop_fem_2020 = pop_fem_2020.round(decimals=0).astype('int64')\n",
        "pop_fem_2020['id_municipio_6'] = pop_fem_2020['id_municipio_6'].astype(str)"
      ],
      "execution_count": null,
      "outputs": []
    },
    {
      "cell_type": "code",
      "metadata": {
        "id": "75w067hi6C5z"
      },
      "source": [
        "value_vars = ['0-4 anos', '5-9 anos', '10-14 anos', '15-19 anos', '20-24 anos', '25-29 anos', '30-34 anos', '35-39 anos', '40-44 anos', \n",
        "              '45-49 anos', '50-54 anos', '55-59 anos', '60-64 anos', '65-69 anos', '60-64 anos', '75-79 anos', '80_mais']"
      ],
      "execution_count": 4,
      "outputs": []
    },
    {
      "cell_type": "code",
      "metadata": {
        "id": "IGMUqBnG51Q6"
      },
      "source": [
        "pop_masc_melt = pd.melt(pop_masc_2020, id_vars='id_municipio_6', value_vars=value_vars, var_name='grupo_idade', value_name='populacao')\n",
        "pop_fem_melt = pd.melt(pop_fem_2020, id_vars='id_municipio_6', value_vars=value_vars, var_name='grupo_idade', value_name='populacao')"
      ],
      "execution_count": null,
      "outputs": []
    },
    {
      "cell_type": "code",
      "metadata": {
        "id": "CCf5oKYj681K"
      },
      "source": [
        "pop_masc_melt['sexo'] = 'masculino'\n",
        "pop_fem_melt['sexo'] = 'feminino'"
      ],
      "execution_count": null,
      "outputs": []
    },
    {
      "cell_type": "code",
      "metadata": {
        "id": "5tdExzjm7WUj"
      },
      "source": [
        "pop_2020 = pop_masc_melt.append(pop_fem_melt, ignore_index=True)"
      ],
      "execution_count": null,
      "outputs": []
    },
    {
      "cell_type": "code",
      "metadata": {
        "id": "hGzoHjgME4YX"
      },
      "source": [
        "id_municipio = pd.read_csv('/content/id_municipio.csv')"
      ],
      "execution_count": 5,
      "outputs": []
    },
    {
      "cell_type": "code",
      "metadata": {
        "id": "Pjh6UI0wFfq2"
      },
      "source": [
        "id_municipio['id_municipio'] = id_municipio['id_municipio'].astype(str)\n",
        "id_municipio['id_municipio_6'] = id_municipio['id_municipio_6'].astype(str)"
      ],
      "execution_count": 6,
      "outputs": []
    },
    {
      "cell_type": "code",
      "metadata": {
        "id": "TqZ8JfJXEl4d"
      },
      "source": [
        "pop_2020 = pd.merge(pop_2020, id_municipio,\n",
        "                    how='left', left_on=['id_municipio_6'],\n",
        "                    right_on=['id_municipio_6'])"
      ],
      "execution_count": null,
      "outputs": []
    },
    {
      "cell_type": "code",
      "metadata": {
        "id": "g_w8jyZzF61n"
      },
      "source": [
        "ordem = ['id_municipio', 'sexo', 'grupo_idade', 'populacao']"
      ],
      "execution_count": 7,
      "outputs": []
    },
    {
      "cell_type": "code",
      "metadata": {
        "id": "6LynTAVRFv6p"
      },
      "source": [
        "pop_2020.drop('id_municipio_6', axis=1, inplace=True)\n",
        "pop_2020.sort_values(['id_municipio', 'grupo_idade', 'sexo'], inplace=True)\n",
        "pop_2020 = pop_2020[ordem]"
      ],
      "execution_count": null,
      "outputs": []
    },
    {
      "cell_type": "code",
      "metadata": {
        "id": "mZ0uHRrsGCHm"
      },
      "source": [
        "pop_2020.to_csv('/content/drive/MyDrive/br_ms_populacao/output/br_ms_populacao_2020.csv', index=False)"
      ],
      "execution_count": null,
      "outputs": []
    },
    {
      "cell_type": "markdown",
      "metadata": {
        "id": "PGZVddb9RjEE"
      },
      "source": [
        "#### **Dados 2019**"
      ]
    },
    {
      "cell_type": "code",
      "metadata": {
        "id": "DNsfpis0RRXn"
      },
      "source": [
        "pop_masc_2019 = pd.read_csv('/content/drive/MyDrive/br_ms_populacao/input/br_ms_populacao_masculina_2019.csv', sep=';', encoding='latin-1', skiprows=4)\n",
        "pop_fem_2019 = pd.read_csv('/content/drive/MyDrive/br_ms_populacao/input/br_ms_populacao_feminina_2019.csv', sep=';', encoding='latin-1', skiprows=4)"
      ],
      "execution_count": null,
      "outputs": []
    },
    {
      "cell_type": "code",
      "metadata": {
        "id": "7rJw6XgxRRXq"
      },
      "source": [
        "pop_masc_2019['id_municipio_6'] = pop_masc_2019['Município'].str[:6]\n",
        "pop_fem_2019['id_municipio_6'] = pop_fem_2019['Município'].str[:6]"
      ],
      "execution_count": null,
      "outputs": []
    },
    {
      "cell_type": "code",
      "metadata": {
        "id": "glMwmQ4YRRXr"
      },
      "source": [
        "pop_masc_2019.drop([5570, 5571, 5572], axis=0, inplace=True)\n",
        "pop_fem_2019.drop([5570, 5571, 5572], axis=0, inplace=True)\n",
        "pop_masc_2019.drop(['Município', 'Total'], axis=1, inplace=True)\n",
        "pop_fem_2019.drop(['Município', 'Total'], axis=1, inplace=True)"
      ],
      "execution_count": null,
      "outputs": []
    },
    {
      "cell_type": "code",
      "metadata": {
        "id": "avv_x_EURRXt"
      },
      "source": [
        "pop_masc_2019.rename(columns=rename, inplace=True)\n",
        "pop_fem_2019.rename(columns=rename, inplace=True)"
      ],
      "execution_count": null,
      "outputs": []
    },
    {
      "cell_type": "code",
      "metadata": {
        "id": "-5-c4PZ0RRXv"
      },
      "source": [
        "pop_masc_2019 = pop_masc_2019.round(decimals=0).astype('int64')\n",
        "pop_masc_2019['id_municipio_6'] = pop_masc_2019['id_municipio_6'].astype(str)\n",
        "pop_fem_2019 = pop_fem_2019.round(decimals=0).astype('int64')\n",
        "pop_fem_2019['id_municipio_6'] = pop_fem_2019['id_municipio_6'].astype(str)"
      ],
      "execution_count": null,
      "outputs": []
    },
    {
      "cell_type": "code",
      "metadata": {
        "id": "Gob2_CMuRRXx"
      },
      "source": [
        "pop_masc_melt = pd.melt(pop_masc_2019, id_vars='id_municipio_6', value_vars=value_vars, var_name='grupo_idade', value_name='populacao')\n",
        "pop_fem_melt = pd.melt(pop_fem_2019, id_vars='id_municipio_6', value_vars=value_vars, var_name='grupo_idade', value_name='populacao')"
      ],
      "execution_count": null,
      "outputs": []
    },
    {
      "cell_type": "code",
      "metadata": {
        "id": "YE3nn5QMRRXx"
      },
      "source": [
        "pop_masc_melt['sexo'] = 'masculino'\n",
        "pop_fem_melt['sexo'] = 'feminino'"
      ],
      "execution_count": null,
      "outputs": []
    },
    {
      "cell_type": "code",
      "metadata": {
        "id": "DA_XaOTMRRXy"
      },
      "source": [
        "pop_2019 = pop_masc_melt.append(pop_fem_melt, ignore_index=True)"
      ],
      "execution_count": null,
      "outputs": []
    },
    {
      "cell_type": "code",
      "metadata": {
        "id": "yo9D4zOlRRX0"
      },
      "source": [
        "pop_2019 = pd.merge(pop_2019, id_municipio,\n",
        "                    how='left', left_on=['id_municipio_6'],\n",
        "                    right_on=['id_municipio_6'])"
      ],
      "execution_count": null,
      "outputs": []
    },
    {
      "cell_type": "code",
      "metadata": {
        "id": "jZai6vnhRRX2"
      },
      "source": [
        "pop_2019.drop('id_municipio_6', axis=1, inplace=True)\n",
        "pop_2019.sort_values(['id_municipio', 'grupo_idade', 'sexo'], inplace=True)\n",
        "pop_2019 = pop_2019[ordem]"
      ],
      "execution_count": null,
      "outputs": []
    },
    {
      "cell_type": "code",
      "metadata": {
        "id": "-YTmxb_6RRX3"
      },
      "source": [
        "pop_2019.to_csv('/content/drive/MyDrive/br_ms_populacao/output/br_ms_populacao_2019.csv', index=False)"
      ],
      "execution_count": null,
      "outputs": []
    },
    {
      "cell_type": "markdown",
      "metadata": {
        "id": "1LbLgkdBSZfm"
      },
      "source": [
        "#### **Dados 2018**"
      ]
    },
    {
      "cell_type": "code",
      "metadata": {
        "id": "Ok7Xq3i3RTlw"
      },
      "source": [
        "pop_masc_2018 = pd.read_csv('/content/drive/MyDrive/br_ms_populacao/input/br_ms_populacao_masculina_2018.csv', sep=';', encoding='latin-1', skiprows=4)\n",
        "pop_fem_2018 = pd.read_csv('/content/drive/MyDrive/br_ms_populacao/input/br_ms_populacao_feminina_2018.csv', sep=';', encoding='latin-1', skiprows=4)"
      ],
      "execution_count": null,
      "outputs": []
    },
    {
      "cell_type": "code",
      "metadata": {
        "id": "-06tHmT0RTly"
      },
      "source": [
        "pop_masc_2018['id_municipio_6'] = pop_masc_2018['Município'].str[:6]\n",
        "pop_fem_2018['id_municipio_6'] = pop_fem_2018['Município'].str[:6]"
      ],
      "execution_count": null,
      "outputs": []
    },
    {
      "cell_type": "code",
      "metadata": {
        "id": "4daBXEhLRTlz"
      },
      "source": [
        "pop_masc_2018.drop([5570, 5571, 5572], axis=0, inplace=True)\n",
        "pop_fem_2018.drop([5570, 5571, 5572], axis=0, inplace=True)\n",
        "pop_masc_2018.drop(['Município', 'Total'], axis=1, inplace=True)\n",
        "pop_fem_2018.drop(['Município', 'Total'], axis=1, inplace=True)"
      ],
      "execution_count": null,
      "outputs": []
    },
    {
      "cell_type": "code",
      "metadata": {
        "id": "K4d6Bmq0RTl0"
      },
      "source": [
        "pop_masc_2018.rename(columns=rename, inplace=True)\n",
        "pop_fem_2018.rename(columns=rename, inplace=True)"
      ],
      "execution_count": null,
      "outputs": []
    },
    {
      "cell_type": "code",
      "metadata": {
        "id": "xyu52MaURTl1"
      },
      "source": [
        "pop_masc_2018 = pop_masc_2018.round(decimals=0).astype('int64')\n",
        "pop_masc_2018['id_municipio_6'] = pop_masc_2018['id_municipio_6'].astype(str)\n",
        "pop_fem_2018 = pop_fem_2018.round(decimals=0).astype('int64')\n",
        "pop_fem_2018['id_municipio_6'] = pop_fem_2018['id_municipio_6'].astype(str)"
      ],
      "execution_count": null,
      "outputs": []
    },
    {
      "cell_type": "code",
      "metadata": {
        "id": "Pve_12kURTl2"
      },
      "source": [
        "pop_masc_melt = pd.melt(pop_masc_2018, id_vars='id_municipio_6', value_vars=value_vars, var_name='grupo_idade', value_name='populacao')\n",
        "pop_fem_melt = pd.melt(pop_fem_2018, id_vars='id_municipio_6', value_vars=value_vars, var_name='grupo_idade', value_name='populacao')"
      ],
      "execution_count": null,
      "outputs": []
    },
    {
      "cell_type": "code",
      "metadata": {
        "id": "DGfagM0zRTl3"
      },
      "source": [
        "pop_masc_melt['sexo'] = 'masculino'\n",
        "pop_fem_melt['sexo'] = 'feminino'"
      ],
      "execution_count": null,
      "outputs": []
    },
    {
      "cell_type": "code",
      "metadata": {
        "id": "9tBhwBjqRTl4"
      },
      "source": [
        "pop_2018 = pop_masc_melt.append(pop_fem_melt, ignore_index=True)"
      ],
      "execution_count": null,
      "outputs": []
    },
    {
      "cell_type": "code",
      "metadata": {
        "id": "0CXdYNy1RTl5"
      },
      "source": [
        "pop_2018 = pd.merge(pop_2018, id_municipio,\n",
        "                    how='left', left_on=['id_municipio_6'],\n",
        "                    right_on=['id_municipio_6'])"
      ],
      "execution_count": null,
      "outputs": []
    },
    {
      "cell_type": "code",
      "metadata": {
        "id": "Ti4XU54hRTl6"
      },
      "source": [
        "pop_2018.drop('id_municipio_6', axis=1, inplace=True)\n",
        "pop_2018.sort_values(['id_municipio', 'grupo_idade', 'sexo'], inplace=True)\n",
        "pop_2018 = pop_2018[ordem]"
      ],
      "execution_count": null,
      "outputs": []
    },
    {
      "cell_type": "code",
      "metadata": {
        "id": "xblSLiz1RTl7"
      },
      "source": [
        "pop_2018.to_csv('/content/drive/MyDrive/br_ms_populacao/output/br_ms_populacao_2018.csv', index=False)"
      ],
      "execution_count": null,
      "outputs": []
    },
    {
      "cell_type": "markdown",
      "metadata": {
        "id": "xRP7F1_jTUvy"
      },
      "source": [
        "#### **Dados 2017**"
      ]
    },
    {
      "cell_type": "code",
      "metadata": {
        "id": "olMS0etZRUDW"
      },
      "source": [
        "pop_masc_2017 = pd.read_csv('/content/drive/MyDrive/br_ms_populacao/input/br_ms_populacao_masculina_2017.csv', sep=';', encoding='latin-1', skiprows=4)\n",
        "pop_fem_2017 = pd.read_csv('/content/drive/MyDrive/br_ms_populacao/input/br_ms_populacao_feminina_2017.csv', sep=';', encoding='latin-1', skiprows=4)"
      ],
      "execution_count": null,
      "outputs": []
    },
    {
      "cell_type": "code",
      "metadata": {
        "id": "6LSIjFl6RUDX"
      },
      "source": [
        "pop_masc_2017['id_municipio_6'] = pop_masc_2017['Município'].str[:6]\n",
        "pop_fem_2017['id_municipio_6'] = pop_fem_2017['Município'].str[:6]"
      ],
      "execution_count": null,
      "outputs": []
    },
    {
      "cell_type": "code",
      "metadata": {
        "id": "sJaATkr7RUDX"
      },
      "source": [
        "pop_masc_2017.drop([5570, 5571, 5572], axis=0, inplace=True)\n",
        "pop_fem_2017.drop([5570, 5571, 5572], axis=0, inplace=True)\n",
        "pop_masc_2017.drop(['Município', 'Total'], axis=1, inplace=True)\n",
        "pop_fem_2017.drop(['Município', 'Total'], axis=1, inplace=True)"
      ],
      "execution_count": null,
      "outputs": []
    },
    {
      "cell_type": "code",
      "metadata": {
        "id": "Gtwc9G4vRUDY"
      },
      "source": [
        "pop_masc_2017.rename(columns=rename, inplace=True)\n",
        "pop_fem_2017.rename(columns=rename, inplace=True)"
      ],
      "execution_count": null,
      "outputs": []
    },
    {
      "cell_type": "code",
      "metadata": {
        "id": "VTNeef1fRUDY"
      },
      "source": [
        "pop_masc_2017 = pop_masc_2017.round(decimals=0).astype('int64')\n",
        "pop_masc_2017['id_municipio_6'] = pop_masc_2017['id_municipio_6'].astype(str)\n",
        "pop_fem_2017 = pop_fem_2017.round(decimals=0).astype('int64')\n",
        "pop_fem_2017['id_municipio_6'] = pop_fem_2017['id_municipio_6'].astype(str)"
      ],
      "execution_count": null,
      "outputs": []
    },
    {
      "cell_type": "code",
      "metadata": {
        "id": "3i3OkuVeRUDZ"
      },
      "source": [
        "pop_masc_melt = pd.melt(pop_masc_2017, id_vars='id_municipio_6', value_vars=value_vars, var_name='grupo_idade', value_name='populacao')\n",
        "pop_fem_melt = pd.melt(pop_fem_2017, id_vars='id_municipio_6', value_vars=value_vars, var_name='grupo_idade', value_name='populacao')"
      ],
      "execution_count": null,
      "outputs": []
    },
    {
      "cell_type": "code",
      "metadata": {
        "id": "ST-8Tib6RUDZ"
      },
      "source": [
        "pop_masc_melt['sexo'] = 'masculino'\n",
        "pop_fem_melt['sexo'] = 'feminino'"
      ],
      "execution_count": null,
      "outputs": []
    },
    {
      "cell_type": "code",
      "metadata": {
        "id": "CA_dAZ8MRUDa"
      },
      "source": [
        "pop_2017 = pop_masc_melt.append(pop_fem_melt, ignore_index=True)"
      ],
      "execution_count": null,
      "outputs": []
    },
    {
      "cell_type": "code",
      "metadata": {
        "id": "H0tZ8BZWRUDb"
      },
      "source": [
        "pop_2017 = pd.merge(pop_2017, id_municipio,\n",
        "                    how='left', left_on=['id_municipio_6'],\n",
        "                    right_on=['id_municipio_6'])"
      ],
      "execution_count": null,
      "outputs": []
    },
    {
      "cell_type": "code",
      "metadata": {
        "id": "PwKzotKzRUDb"
      },
      "source": [
        "pop_2017.drop('id_municipio_6', axis=1, inplace=True)\n",
        "pop_2017.sort_values(['id_municipio', 'grupo_idade', 'sexo'], inplace=True)\n",
        "pop_2017 = pop_2017[ordem]"
      ],
      "execution_count": null,
      "outputs": []
    },
    {
      "cell_type": "code",
      "metadata": {
        "id": "CEVGnz09RUDc"
      },
      "source": [
        "pop_2017.to_csv('/content/drive/MyDrive/br_ms_populacao/output/br_ms_populacao_2017.csv', index=False)"
      ],
      "execution_count": null,
      "outputs": []
    },
    {
      "cell_type": "markdown",
      "metadata": {
        "id": "XF6arASgT3BR"
      },
      "source": [
        "#### **Dados 2016**"
      ]
    },
    {
      "cell_type": "code",
      "metadata": {
        "id": "F_l3GhY-RUdi"
      },
      "source": [
        "pop_masc_2016 = pd.read_csv('/content/drive/MyDrive/br_ms_populacao/input/br_ms_populacao_masculina_2016.csv', sep=';', encoding='latin-1', skiprows=4)\n",
        "pop_fem_2016 = pd.read_csv('/content/drive/MyDrive/br_ms_populacao/input/br_ms_populacao_feminina_2016.csv', sep=';', encoding='latin-1', skiprows=4)"
      ],
      "execution_count": null,
      "outputs": []
    },
    {
      "cell_type": "code",
      "metadata": {
        "id": "yuPcrzAqRUdk"
      },
      "source": [
        "pop_masc_2016['id_municipio_6'] = pop_masc_2016['Município'].str[:6]\n",
        "pop_fem_2016['id_municipio_6'] = pop_fem_2016['Município'].str[:6]"
      ],
      "execution_count": null,
      "outputs": []
    },
    {
      "cell_type": "code",
      "metadata": {
        "id": "vs1zTkxERUdl"
      },
      "source": [
        "pop_masc_2016.drop([5570, 5571, 5572], axis=0, inplace=True)\n",
        "pop_fem_2016.drop([5570, 5571, 5572], axis=0, inplace=True)\n",
        "pop_masc_2016.drop(['Município', 'Total'], axis=1, inplace=True)\n",
        "pop_fem_2016.drop(['Município', 'Total'], axis=1, inplace=True)"
      ],
      "execution_count": null,
      "outputs": []
    },
    {
      "cell_type": "code",
      "metadata": {
        "id": "Lpq29fApRUdo"
      },
      "source": [
        "pop_masc_2016.rename(columns=rename, inplace=True)\n",
        "pop_fem_2016.rename(columns=rename, inplace=True)"
      ],
      "execution_count": null,
      "outputs": []
    },
    {
      "cell_type": "code",
      "metadata": {
        "id": "U-oDvcdpRUdq"
      },
      "source": [
        "pop_masc_2016 = pop_masc_2016.round(decimals=0).astype('int64')\n",
        "pop_masc_2016['id_municipio_6'] = pop_masc_2016['id_municipio_6'].astype(str)\n",
        "pop_fem_2016 = pop_fem_2016.round(decimals=0).astype('int64')\n",
        "pop_fem_2016['id_municipio_6'] = pop_fem_2016['id_municipio_6'].astype(str)"
      ],
      "execution_count": null,
      "outputs": []
    },
    {
      "cell_type": "code",
      "metadata": {
        "id": "YUjoZII6RUds"
      },
      "source": [
        "pop_masc_melt = pd.melt(pop_masc_2016, id_vars='id_municipio_6', value_vars=value_vars, var_name='grupo_idade', value_name='populacao')\n",
        "pop_fem_melt = pd.melt(pop_fem_2016, id_vars='id_municipio_6', value_vars=value_vars, var_name='grupo_idade', value_name='populacao')"
      ],
      "execution_count": null,
      "outputs": []
    },
    {
      "cell_type": "code",
      "metadata": {
        "id": "g3kZSX93RUdt"
      },
      "source": [
        "pop_masc_melt['sexo'] = 'masculino'\n",
        "pop_fem_melt['sexo'] = 'feminino'"
      ],
      "execution_count": null,
      "outputs": []
    },
    {
      "cell_type": "code",
      "metadata": {
        "id": "sXKubShrRUdu"
      },
      "source": [
        "pop_2016 = pop_masc_melt.append(pop_fem_melt, ignore_index=True)"
      ],
      "execution_count": null,
      "outputs": []
    },
    {
      "cell_type": "code",
      "metadata": {
        "id": "3g_jgo16RUdx"
      },
      "source": [
        "pop_2016 = pd.merge(pop_2016, id_municipio,\n",
        "                    how='left', left_on=['id_municipio_6'],\n",
        "                    right_on=['id_municipio_6'])"
      ],
      "execution_count": null,
      "outputs": []
    },
    {
      "cell_type": "code",
      "metadata": {
        "id": "Bju6DyOoRUdy"
      },
      "source": [
        "pop_2016.drop('id_municipio_6', axis=1, inplace=True)\n",
        "pop_2016.sort_values(['id_municipio', 'grupo_idade', 'sexo'], inplace=True)\n",
        "pop_2016 = pop_2016[ordem]"
      ],
      "execution_count": null,
      "outputs": []
    },
    {
      "cell_type": "code",
      "metadata": {
        "id": "VRxMyBcJRUdz"
      },
      "source": [
        "pop_2016.to_csv('/content/drive/MyDrive/br_ms_populacao/output/br_ms_populacao_2016.csv', index=False)"
      ],
      "execution_count": null,
      "outputs": []
    },
    {
      "cell_type": "markdown",
      "metadata": {
        "id": "XZ9LpWflU4Gg"
      },
      "source": [
        "#### **Dados 2015**"
      ]
    },
    {
      "cell_type": "code",
      "metadata": {
        "id": "ZHDogIfDRUzW"
      },
      "source": [
        "pop_masc_2015 = pd.read_csv('/content/drive/MyDrive/br_ms_populacao/input/br_ms_populacao_masculina_2015.csv', sep=';', encoding='latin-1', skiprows=4)\n",
        "pop_fem_2015 = pd.read_csv('/content/drive/MyDrive/br_ms_populacao/input/br_ms_populacao_feminina_2015.csv', sep=';', encoding='latin-1', skiprows=4)"
      ],
      "execution_count": null,
      "outputs": []
    },
    {
      "cell_type": "code",
      "metadata": {
        "id": "NDcIwjeqRUzX"
      },
      "source": [
        "pop_masc_2015['id_municipio_6'] = pop_masc_2015['Município'].str[:6]\n",
        "pop_fem_2015['id_municipio_6'] = pop_fem_2015['Município'].str[:6]"
      ],
      "execution_count": null,
      "outputs": []
    },
    {
      "cell_type": "code",
      "metadata": {
        "id": "LJtYdWz0RUzX"
      },
      "source": [
        "pop_masc_2015.drop([5570, 5571, 5572], axis=0, inplace=True)\n",
        "pop_fem_2015.drop([5570, 5571, 5572], axis=0, inplace=True)\n",
        "pop_masc_2015.drop(['Município', 'Total'], axis=1, inplace=True)\n",
        "pop_fem_2015.drop(['Município', 'Total'], axis=1, inplace=True)"
      ],
      "execution_count": null,
      "outputs": []
    },
    {
      "cell_type": "code",
      "metadata": {
        "id": "Z4vG03onRUzY"
      },
      "source": [
        "pop_masc_2015.rename(columns=rename, inplace=True)\n",
        "pop_fem_2015.rename(columns=rename, inplace=True)"
      ],
      "execution_count": null,
      "outputs": []
    },
    {
      "cell_type": "code",
      "metadata": {
        "id": "oMC4WwL7RUzY"
      },
      "source": [
        "pop_masc_2015 = pop_masc_2015.round(decimals=0).astype('int64')\n",
        "pop_masc_2015['id_municipio_6'] = pop_masc_2015['id_municipio_6'].astype(str)\n",
        "pop_fem_2015 = pop_fem_2015.round(decimals=0).astype('int64')\n",
        "pop_fem_2015['id_municipio_6'] = pop_fem_2015['id_municipio_6'].astype(str)"
      ],
      "execution_count": null,
      "outputs": []
    },
    {
      "cell_type": "code",
      "metadata": {
        "id": "sTikKKFzRUzZ"
      },
      "source": [
        "pop_masc_melt = pd.melt(pop_masc_2015, id_vars='id_municipio_6', value_vars=value_vars, var_name='grupo_idade', value_name='populacao')\n",
        "pop_fem_melt = pd.melt(pop_fem_2015, id_vars='id_municipio_6', value_vars=value_vars, var_name='grupo_idade', value_name='populacao')"
      ],
      "execution_count": null,
      "outputs": []
    },
    {
      "cell_type": "code",
      "metadata": {
        "id": "6HT4tLweRUzZ"
      },
      "source": [
        "pop_masc_melt['sexo'] = 'masculino'\n",
        "pop_fem_melt['sexo'] = 'feminino'"
      ],
      "execution_count": null,
      "outputs": []
    },
    {
      "cell_type": "code",
      "metadata": {
        "id": "MEDWm4QTRUzZ"
      },
      "source": [
        "pop_2015 = pop_masc_melt.append(pop_fem_melt, ignore_index=True)"
      ],
      "execution_count": null,
      "outputs": []
    },
    {
      "cell_type": "code",
      "metadata": {
        "id": "ITWoemXXRUzd"
      },
      "source": [
        "pop_2015 = pd.merge(pop_2015, id_municipio,\n",
        "                    how='left', left_on=['id_municipio_6'],\n",
        "                    right_on=['id_municipio_6'])"
      ],
      "execution_count": null,
      "outputs": []
    },
    {
      "cell_type": "code",
      "metadata": {
        "id": "vyqsIqbARUze"
      },
      "source": [
        "pop_2015.drop('id_municipio_6', axis=1, inplace=True)\n",
        "pop_2015.sort_values(['id_municipio', 'grupo_idade', 'sexo'], inplace=True)\n",
        "pop_2015 = pop_2015[ordem]"
      ],
      "execution_count": null,
      "outputs": []
    },
    {
      "cell_type": "code",
      "metadata": {
        "id": "YynDI3ZzRUze"
      },
      "source": [
        "pop_2015.to_csv('/content/drive/MyDrive/br_ms_populacao/output/br_ms_populacao_2015.csv', index=False)"
      ],
      "execution_count": null,
      "outputs": []
    },
    {
      "cell_type": "markdown",
      "metadata": {
        "id": "4JrxvCDLW2gR"
      },
      "source": [
        "#### **Dados 2014**"
      ]
    },
    {
      "cell_type": "code",
      "metadata": {
        "id": "rZApArvURVOz"
      },
      "source": [
        "pop_masc_2014 = pd.read_csv('/content/drive/MyDrive/br_ms_populacao/input/br_ms_populacao_masculina_2014.csv', sep=';', encoding='latin-1', skiprows=4)\n",
        "pop_fem_2014 = pd.read_csv('/content/drive/MyDrive/br_ms_populacao/input/br_ms_populacao_feminina_2014.csv', sep=';', encoding='latin-1', skiprows=4)"
      ],
      "execution_count": null,
      "outputs": []
    },
    {
      "cell_type": "code",
      "metadata": {
        "id": "mKNlmY-dRVO0"
      },
      "source": [
        "pop_masc_2014['id_municipio_6'] = pop_masc_2014['Município'].str[:6]\n",
        "pop_fem_2014['id_municipio_6'] = pop_fem_2014['Município'].str[:6]"
      ],
      "execution_count": null,
      "outputs": []
    },
    {
      "cell_type": "code",
      "metadata": {
        "id": "c9C6ge3wRVO0"
      },
      "source": [
        "pop_masc_2014.drop([5570, 5571, 5572], axis=0, inplace=True)\n",
        "pop_fem_2014.drop([5570, 5571, 5572], axis=0, inplace=True)\n",
        "pop_masc_2014.drop(['Município', 'Total'], axis=1, inplace=True)\n",
        "pop_fem_2014.drop(['Município', 'Total'], axis=1, inplace=True)"
      ],
      "execution_count": null,
      "outputs": []
    },
    {
      "cell_type": "code",
      "metadata": {
        "id": "gAzOF1K1RVO2"
      },
      "source": [
        "pop_masc_2014.rename(columns=rename, inplace=True)\n",
        "pop_fem_2014.rename(columns=rename, inplace=True)"
      ],
      "execution_count": null,
      "outputs": []
    },
    {
      "cell_type": "code",
      "metadata": {
        "id": "8rtUEscIRVO2"
      },
      "source": [
        "pop_masc_2014 = pop_masc_2014.round(decimals=0).astype('int64')\n",
        "pop_masc_2014['id_municipio_6'] = pop_masc_2014['id_municipio_6'].astype(str)\n",
        "pop_fem_2014 = pop_fem_2014.round(decimals=0).astype('int64')\n",
        "pop_fem_2014['id_municipio_6'] = pop_fem_2014['id_municipio_6'].astype(str)"
      ],
      "execution_count": null,
      "outputs": []
    },
    {
      "cell_type": "code",
      "metadata": {
        "id": "lcT29mvgRVO3"
      },
      "source": [
        "pop_masc_melt = pd.melt(pop_masc_2014, id_vars='id_municipio_6', value_vars=value_vars, var_name='grupo_idade', value_name='populacao')\n",
        "pop_fem_melt = pd.melt(pop_fem_2014, id_vars='id_municipio_6', value_vars=value_vars, var_name='grupo_idade', value_name='populacao')"
      ],
      "execution_count": null,
      "outputs": []
    },
    {
      "cell_type": "code",
      "metadata": {
        "id": "Fibywgn7RVO4"
      },
      "source": [
        "pop_masc_melt['sexo'] = 'masculino'\n",
        "pop_fem_melt['sexo'] = 'feminino'"
      ],
      "execution_count": null,
      "outputs": []
    },
    {
      "cell_type": "code",
      "metadata": {
        "id": "jb6ilQAARVO5"
      },
      "source": [
        "pop_2014 = pop_masc_melt.append(pop_fem_melt, ignore_index=True)"
      ],
      "execution_count": null,
      "outputs": []
    },
    {
      "cell_type": "code",
      "metadata": {
        "id": "YRjajPmIRVO7"
      },
      "source": [
        "pop_2014 = pd.merge(pop_2014, id_municipio,\n",
        "                    how='left', left_on=['id_municipio_6'],\n",
        "                    right_on=['id_municipio_6'])"
      ],
      "execution_count": null,
      "outputs": []
    },
    {
      "cell_type": "code",
      "metadata": {
        "id": "NY0IyMDXRVO8"
      },
      "source": [
        "pop_2014.drop('id_municipio_6', axis=1, inplace=True)\n",
        "pop_2014.sort_values(['id_municipio', 'grupo_idade', 'sexo'], inplace=True)\n",
        "pop_2014 = pop_2014[ordem]"
      ],
      "execution_count": null,
      "outputs": []
    },
    {
      "cell_type": "code",
      "metadata": {
        "id": "e3WIUGIzRVO9"
      },
      "source": [
        "pop_2014.to_csv('/content/drive/MyDrive/br_ms_populacao/output/br_ms_populacao_2014.csv', index=False)"
      ],
      "execution_count": null,
      "outputs": []
    },
    {
      "cell_type": "markdown",
      "metadata": {
        "id": "uZ7LEvYYXYfp"
      },
      "source": [
        "#### **Dados 2013**"
      ]
    },
    {
      "cell_type": "code",
      "metadata": {
        "id": "pGXA6DMIRVuk"
      },
      "source": [
        "pop_masc_2013 = pd.read_csv('/content/drive/MyDrive/br_ms_populacao/input/br_ms_populacao_masculina_2013.csv', sep=';', encoding='latin-1', skiprows=4)\n",
        "pop_fem_2013 = pd.read_csv('/content/drive/MyDrive/br_ms_populacao/input/br_ms_populacao_feminina_2013.csv', sep=';', encoding='latin-1', skiprows=4)"
      ],
      "execution_count": null,
      "outputs": []
    },
    {
      "cell_type": "code",
      "metadata": {
        "id": "Olap1qO9RVul"
      },
      "source": [
        "pop_masc_2013['id_municipio_6'] = pop_masc_2013['Município'].str[:6]\n",
        "pop_fem_2013['id_municipio_6'] = pop_fem_2013['Município'].str[:6]"
      ],
      "execution_count": null,
      "outputs": []
    },
    {
      "cell_type": "code",
      "metadata": {
        "id": "IvUHBXvqRVum"
      },
      "source": [
        "pop_masc_2013.drop([5570, 5571, 5572], axis=0, inplace=True)\n",
        "pop_fem_2013.drop([5570, 5571, 5572], axis=0, inplace=True)\n",
        "pop_masc_2013.drop(['Município', 'Total'], axis=1, inplace=True)\n",
        "pop_fem_2013.drop(['Município', 'Total'], axis=1, inplace=True)"
      ],
      "execution_count": null,
      "outputs": []
    },
    {
      "cell_type": "code",
      "metadata": {
        "id": "wXUDWoIiRVuo"
      },
      "source": [
        "pop_masc_2013.rename(columns=rename, inplace=True)\n",
        "pop_fem_2013.rename(columns=rename, inplace=True)"
      ],
      "execution_count": null,
      "outputs": []
    },
    {
      "cell_type": "code",
      "metadata": {
        "id": "OhfV_ZEuRVuo"
      },
      "source": [
        "pop_masc_2013 = pop_masc_2013.round(decimals=0).astype('int64')\n",
        "pop_masc_2013['id_municipio_6'] = pop_masc_2013['id_municipio_6'].astype(str)\n",
        "pop_fem_2013 = pop_fem_2013.round(decimals=0).astype('int64')\n",
        "pop_fem_2013['id_municipio_6'] = pop_fem_2013['id_municipio_6'].astype(str)"
      ],
      "execution_count": null,
      "outputs": []
    },
    {
      "cell_type": "code",
      "metadata": {
        "id": "EKBCeferRVuq"
      },
      "source": [
        "pop_masc_melt = pd.melt(pop_masc_2013, id_vars='id_municipio_6', value_vars=value_vars, var_name='grupo_idade', value_name='populacao')\n",
        "pop_fem_melt = pd.melt(pop_fem_2013, id_vars='id_municipio_6', value_vars=value_vars, var_name='grupo_idade', value_name='populacao')"
      ],
      "execution_count": null,
      "outputs": []
    },
    {
      "cell_type": "code",
      "metadata": {
        "id": "rq9AXiQbRVur"
      },
      "source": [
        "pop_masc_melt['sexo'] = 'masculino'\n",
        "pop_fem_melt['sexo'] = 'feminino'"
      ],
      "execution_count": null,
      "outputs": []
    },
    {
      "cell_type": "code",
      "metadata": {
        "id": "bgQ2jH6uRVur"
      },
      "source": [
        "pop_2013 = pop_masc_melt.append(pop_fem_melt, ignore_index=True)"
      ],
      "execution_count": null,
      "outputs": []
    },
    {
      "cell_type": "code",
      "metadata": {
        "id": "6CpIPhKfRVus"
      },
      "source": [
        "pop_2013 = pd.merge(pop_2013, id_municipio,\n",
        "                    how='left', left_on=['id_municipio_6'],\n",
        "                    right_on=['id_municipio_6'])"
      ],
      "execution_count": null,
      "outputs": []
    },
    {
      "cell_type": "code",
      "metadata": {
        "id": "Jf08fHlGRVut"
      },
      "source": [
        "pop_2013.drop('id_municipio_6', axis=1, inplace=True)\n",
        "pop_2013.sort_values(['id_municipio', 'grupo_idade', 'sexo'], inplace=True)\n",
        "pop_2013 = pop_2013[ordem]"
      ],
      "execution_count": null,
      "outputs": []
    },
    {
      "cell_type": "code",
      "metadata": {
        "id": "V-R-pG5ORVut"
      },
      "source": [
        "pop_2013.to_csv('/content/drive/MyDrive/br_ms_populacao/output/br_ms_populacao_2013.csv', index=False)"
      ],
      "execution_count": null,
      "outputs": []
    },
    {
      "cell_type": "markdown",
      "metadata": {
        "id": "6B6ICm0BY7qk"
      },
      "source": [
        "#### **Dados 2012**"
      ]
    },
    {
      "cell_type": "code",
      "metadata": {
        "id": "DEt_7aSoaM5e"
      },
      "source": [
        "pop_masc_2012 = pd.read_csv('/content/drive/MyDrive/br_ms_populacao/input/br_ms_populacao_masculina_2012.csv', sep=';', encoding='latin-1', skiprows=4)\n",
        "pop_fem_2012 = pd.read_csv('/content/drive/MyDrive/br_ms_populacao/input/br_ms_populacao_feminina_2012.csv', sep=';', encoding='latin-1', skiprows=4)"
      ],
      "execution_count": null,
      "outputs": []
    },
    {
      "cell_type": "code",
      "metadata": {
        "id": "JdzNsEYNaM5e"
      },
      "source": [
        "pop_masc_2012['id_municipio_6'] = pop_masc_2012['Município'].str[:6]\n",
        "pop_fem_2012['id_municipio_6'] = pop_fem_2012['Município'].str[:6]"
      ],
      "execution_count": null,
      "outputs": []
    },
    {
      "cell_type": "code",
      "metadata": {
        "id": "_NCP0V1maM5e"
      },
      "source": [
        "pop_masc_2012.drop([5565, 5566, 5567], axis=0, inplace=True)\n",
        "pop_fem_2012.drop([5565, 5566, 5567], axis=0, inplace=True)\n",
        "pop_masc_2012.drop(['Município', 'Total'], axis=1, inplace=True)\n",
        "pop_fem_2012.drop(['Município', 'Total'], axis=1, inplace=True)"
      ],
      "execution_count": null,
      "outputs": []
    },
    {
      "cell_type": "code",
      "metadata": {
        "id": "PZD0KPLhaM5f"
      },
      "source": [
        "pop_masc_2012.rename(columns=rename, inplace=True)\n",
        "pop_fem_2012.rename(columns=rename, inplace=True)"
      ],
      "execution_count": null,
      "outputs": []
    },
    {
      "cell_type": "code",
      "metadata": {
        "id": "3DdXZt89aM5f"
      },
      "source": [
        "pop_masc_2012 = pop_masc_2012.round(decimals=0).astype('int64')\n",
        "pop_masc_2012['id_municipio_6'] = pop_masc_2012['id_municipio_6'].astype(str)\n",
        "pop_fem_2012 = pop_fem_2012.round(decimals=0).astype('int64')\n",
        "pop_fem_2012['id_municipio_6'] = pop_fem_2012['id_municipio_6'].astype(str)"
      ],
      "execution_count": null,
      "outputs": []
    },
    {
      "cell_type": "code",
      "metadata": {
        "id": "5h8CpyrHaM5f"
      },
      "source": [
        "pop_masc_melt = pd.melt(pop_masc_2012, id_vars='id_municipio_6', value_vars=value_vars, var_name='grupo_idade', value_name='populacao')\n",
        "pop_fem_melt = pd.melt(pop_fem_2012, id_vars='id_municipio_6', value_vars=value_vars, var_name='grupo_idade', value_name='populacao')"
      ],
      "execution_count": null,
      "outputs": []
    },
    {
      "cell_type": "code",
      "metadata": {
        "id": "vrId64oHaM5f"
      },
      "source": [
        "pop_masc_melt['sexo'] = 'masculino'\n",
        "pop_fem_melt['sexo'] = 'feminino'"
      ],
      "execution_count": null,
      "outputs": []
    },
    {
      "cell_type": "code",
      "metadata": {
        "id": "e0z07ROyaM5f"
      },
      "source": [
        "pop_2012 = pop_masc_melt.append(pop_fem_melt, ignore_index=True)"
      ],
      "execution_count": null,
      "outputs": []
    },
    {
      "cell_type": "code",
      "metadata": {
        "id": "QIJgr96eaM5g"
      },
      "source": [
        "pop_2012 = pd.merge(pop_2012, id_municipio,\n",
        "                    how='left', left_on=['id_municipio_6'],\n",
        "                    right_on=['id_municipio_6'])"
      ],
      "execution_count": null,
      "outputs": []
    },
    {
      "cell_type": "code",
      "metadata": {
        "id": "nUXCEb2KaM5g"
      },
      "source": [
        "pop_2012.drop('id_municipio_6', axis=1, inplace=True)\n",
        "pop_2012.sort_values(['id_municipio', 'grupo_idade', 'sexo'], inplace=True)\n",
        "pop_2012 = pop_2012[ordem]"
      ],
      "execution_count": null,
      "outputs": []
    },
    {
      "cell_type": "code",
      "metadata": {
        "id": "rw3KRl4uaM5g"
      },
      "source": [
        "pop_2012.to_csv('/content/drive/MyDrive/br_ms_populacao/output/br_ms_populacao_2012.csv', index=False)"
      ],
      "execution_count": null,
      "outputs": []
    },
    {
      "cell_type": "markdown",
      "metadata": {
        "id": "7YV3hGO5bR7W"
      },
      "source": [
        "#### **Dados 2011**"
      ]
    },
    {
      "cell_type": "code",
      "metadata": {
        "id": "92D8Dx2bbiI_"
      },
      "source": [
        "pop_masc_2011 = pd.read_csv('/content/drive/MyDrive/br_ms_populacao/input/br_ms_populacao_masculina_2011.csv', sep=';', encoding='latin-1', skiprows=4)\n",
        "pop_fem_2011 = pd.read_csv('/content/drive/MyDrive/br_ms_populacao/input/br_ms_populacao_feminina_2011.csv', sep=';', encoding='latin-1', skiprows=4)"
      ],
      "execution_count": null,
      "outputs": []
    },
    {
      "cell_type": "code",
      "metadata": {
        "id": "uUoVY65rbiJS"
      },
      "source": [
        "pop_masc_2011['id_municipio_6'] = pop_masc_2011['Município'].str[:6]\n",
        "pop_fem_2011['id_municipio_6'] = pop_fem_2011['Município'].str[:6]"
      ],
      "execution_count": null,
      "outputs": []
    },
    {
      "cell_type": "code",
      "metadata": {
        "id": "bt2bYWa8biJT"
      },
      "source": [
        "pop_masc_2011.drop([5565, 5566, 5567], axis=0, inplace=True)\n",
        "pop_fem_2011.drop([5565, 5566, 5567], axis=0, inplace=True)\n",
        "pop_masc_2011.drop(['Município', 'Total'], axis=1, inplace=True)\n",
        "pop_fem_2011.drop(['Município', 'Total'], axis=1, inplace=True)"
      ],
      "execution_count": null,
      "outputs": []
    },
    {
      "cell_type": "code",
      "metadata": {
        "id": "5qNA3I9IbiJU"
      },
      "source": [
        "pop_masc_2011.rename(columns=rename, inplace=True)\n",
        "pop_fem_2011.rename(columns=rename, inplace=True)"
      ],
      "execution_count": null,
      "outputs": []
    },
    {
      "cell_type": "code",
      "metadata": {
        "id": "xVfoa2gobiJV"
      },
      "source": [
        "pop_masc_2011 = pop_masc_2011.round(decimals=0).astype('int64')\n",
        "pop_masc_2011['id_municipio_6'] = pop_masc_2011['id_municipio_6'].astype(str)\n",
        "pop_fem_2011 = pop_fem_2011.round(decimals=0).astype('int64')\n",
        "pop_fem_2011['id_municipio_6'] = pop_fem_2011['id_municipio_6'].astype(str)"
      ],
      "execution_count": null,
      "outputs": []
    },
    {
      "cell_type": "code",
      "metadata": {
        "id": "GdoXg8oIbiJV"
      },
      "source": [
        "pop_masc_melt = pd.melt(pop_masc_2011, id_vars='id_municipio_6', value_vars=value_vars, var_name='grupo_idade', value_name='populacao')\n",
        "pop_fem_melt = pd.melt(pop_fem_2011, id_vars='id_municipio_6', value_vars=value_vars, var_name='grupo_idade', value_name='populacao')"
      ],
      "execution_count": null,
      "outputs": []
    },
    {
      "cell_type": "code",
      "metadata": {
        "id": "rQ5j0_wWbiJW"
      },
      "source": [
        "pop_masc_melt['sexo'] = 'masculino'\n",
        "pop_fem_melt['sexo'] = 'feminino'"
      ],
      "execution_count": null,
      "outputs": []
    },
    {
      "cell_type": "code",
      "metadata": {
        "id": "waSBLE_-biJX"
      },
      "source": [
        "pop_2011 = pop_masc_melt.append(pop_fem_melt, ignore_index=True)"
      ],
      "execution_count": null,
      "outputs": []
    },
    {
      "cell_type": "code",
      "metadata": {
        "id": "Ib2KiY8obiJX"
      },
      "source": [
        "pop_2011 = pd.merge(pop_2011, id_municipio,\n",
        "                    how='left', left_on=['id_municipio_6'],\n",
        "                    right_on=['id_municipio_6'])"
      ],
      "execution_count": null,
      "outputs": []
    },
    {
      "cell_type": "code",
      "metadata": {
        "id": "H9hgKDqGbiJY"
      },
      "source": [
        "pop_2011.drop('id_municipio_6', axis=1, inplace=True)\n",
        "pop_2011.sort_values(['id_municipio', 'grupo_idade', 'sexo'], inplace=True)\n",
        "pop_2011 = pop_2012[ordem]"
      ],
      "execution_count": null,
      "outputs": []
    },
    {
      "cell_type": "code",
      "metadata": {
        "id": "rkDHVN7TbiJZ"
      },
      "source": [
        "pop_2011.to_csv('/content/drive/MyDrive/br_ms_populacao/output/br_ms_populacao_2011.csv', index=False)"
      ],
      "execution_count": null,
      "outputs": []
    },
    {
      "cell_type": "markdown",
      "metadata": {
        "id": "dBEQY7MAcFbT"
      },
      "source": [
        "#### **Dados 2010**"
      ]
    },
    {
      "cell_type": "code",
      "metadata": {
        "id": "0skCZ_RocECR"
      },
      "source": [
        "pop_masc_2010 = pd.read_csv('/content/drive/MyDrive/br_ms_populacao/input/br_ms_populacao_masculina_2010.csv', sep=';', encoding='latin-1', skiprows=4)\n",
        "pop_fem_2010 = pd.read_csv('/content/drive/MyDrive/br_ms_populacao/input/br_ms_populacao_feminina_2010.csv', sep=';', encoding='latin-1', skiprows=4)"
      ],
      "execution_count": null,
      "outputs": []
    },
    {
      "cell_type": "code",
      "metadata": {
        "id": "539YYkoccECT"
      },
      "source": [
        "pop_masc_2010['id_municipio_6'] = pop_masc_2010['Município'].str[:6]\n",
        "pop_fem_2010['id_municipio_6'] = pop_fem_2010['Município'].str[:6]"
      ],
      "execution_count": null,
      "outputs": []
    },
    {
      "cell_type": "code",
      "metadata": {
        "id": "tyJUwSqncECU"
      },
      "source": [
        "pop_masc_2010.drop([5565, 5566, 5567], axis=0, inplace=True)\n",
        "pop_fem_2010.drop([5565, 5566, 5567], axis=0, inplace=True)\n",
        "pop_masc_2010.drop(['Município', 'Total'], axis=1, inplace=True)\n",
        "pop_fem_2010.drop(['Município', 'Total'], axis=1, inplace=True)"
      ],
      "execution_count": null,
      "outputs": []
    },
    {
      "cell_type": "code",
      "metadata": {
        "id": "22noREwOcECV"
      },
      "source": [
        "pop_masc_2010.rename(columns=rename, inplace=True)\n",
        "pop_fem_2010.rename(columns=rename, inplace=True)"
      ],
      "execution_count": null,
      "outputs": []
    },
    {
      "cell_type": "code",
      "metadata": {
        "id": "02AywHgWcECW"
      },
      "source": [
        "pop_masc_2010 = pop_masc_2010.round(decimals=0).astype('int64')\n",
        "pop_masc_2010['id_municipio_6'] = pop_masc_2010['id_municipio_6'].astype(str)\n",
        "pop_fem_2010 = pop_fem_2010.round(decimals=0).astype('int64')\n",
        "pop_fem_2010['id_municipio_6'] = pop_fem_2010['id_municipio_6'].astype(str)"
      ],
      "execution_count": null,
      "outputs": []
    },
    {
      "cell_type": "code",
      "metadata": {
        "id": "0sWWDy0acECX"
      },
      "source": [
        "pop_masc_melt = pd.melt(pop_masc_2010, id_vars='id_municipio_6', value_vars=value_vars, var_name='grupo_idade', value_name='populacao')\n",
        "pop_fem_melt = pd.melt(pop_fem_2010, id_vars='id_municipio_6', value_vars=value_vars, var_name='grupo_idade', value_name='populacao')"
      ],
      "execution_count": null,
      "outputs": []
    },
    {
      "cell_type": "code",
      "metadata": {
        "id": "AmlBJNEocECY"
      },
      "source": [
        "pop_masc_melt['sexo'] = 'masculino'\n",
        "pop_fem_melt['sexo'] = 'feminino'"
      ],
      "execution_count": null,
      "outputs": []
    },
    {
      "cell_type": "code",
      "metadata": {
        "id": "IH6k7Nf3cECZ"
      },
      "source": [
        "pop_2010 = pop_masc_melt.append(pop_fem_melt, ignore_index=True)"
      ],
      "execution_count": null,
      "outputs": []
    },
    {
      "cell_type": "code",
      "metadata": {
        "id": "w2DH-v44cECZ"
      },
      "source": [
        "pop_2010 = pd.merge(pop_2010, id_municipio,\n",
        "                    how='left', left_on=['id_municipio_6'],\n",
        "                    right_on=['id_municipio_6'])"
      ],
      "execution_count": null,
      "outputs": []
    },
    {
      "cell_type": "code",
      "metadata": {
        "id": "juo10ODCcECa"
      },
      "source": [
        "pop_2010.drop('id_municipio_6', axis=1, inplace=True)\n",
        "pop_2010.sort_values(['id_municipio', 'grupo_idade', 'sexo'], inplace=True)\n",
        "pop_2010 = pop_2010[ordem]"
      ],
      "execution_count": null,
      "outputs": []
    },
    {
      "cell_type": "code",
      "metadata": {
        "id": "ZgYPHVJVcECb"
      },
      "source": [
        "pop_2010.to_csv('/content/drive/MyDrive/br_ms_populacao/output/br_ms_populacao_2010.csv', index=False)"
      ],
      "execution_count": null,
      "outputs": []
    },
    {
      "cell_type": "markdown",
      "metadata": {
        "id": "49qnOWsvc5g-"
      },
      "source": [
        "#### **Dados 2009**"
      ]
    },
    {
      "cell_type": "code",
      "metadata": {
        "id": "uKGtDG6Ec28b"
      },
      "source": [
        "pop_masc_2009 = pd.read_csv('/content/drive/MyDrive/br_ms_populacao/input/br_ms_populacao_masculina_2009.csv', sep=';', encoding='latin-1', skiprows=4)\n",
        "pop_fem_2009 = pd.read_csv('/content/drive/MyDrive/br_ms_populacao/input/br_ms_populacao_feminina_2009.csv', sep=';', encoding='latin-1', skiprows=4)"
      ],
      "execution_count": null,
      "outputs": []
    },
    {
      "cell_type": "code",
      "metadata": {
        "id": "MepSOwHqc28c"
      },
      "source": [
        "pop_masc_2009['id_municipio_6'] = pop_masc_2009['Município'].str[:6]\n",
        "pop_fem_2009['id_municipio_6'] = pop_fem_2009['Município'].str[:6]"
      ],
      "execution_count": null,
      "outputs": []
    },
    {
      "cell_type": "code",
      "metadata": {
        "id": "22TDibegc28e"
      },
      "source": [
        "pop_masc_2009.drop([5565, 5566, 5567], axis=0, inplace=True)\n",
        "pop_fem_2009.drop([5565, 5566, 5567], axis=0, inplace=True)\n",
        "pop_masc_2009.drop(['Município', 'Total'], axis=1, inplace=True)\n",
        "pop_fem_2009.drop(['Município', 'Total'], axis=1, inplace=True)"
      ],
      "execution_count": null,
      "outputs": []
    },
    {
      "cell_type": "code",
      "metadata": {
        "id": "yi-5RNO0c28f"
      },
      "source": [
        "pop_masc_2009.rename(columns=rename, inplace=True)\n",
        "pop_fem_2009.rename(columns=rename, inplace=True)"
      ],
      "execution_count": null,
      "outputs": []
    },
    {
      "cell_type": "code",
      "metadata": {
        "id": "Mc6GvUzwc28g"
      },
      "source": [
        "pop_masc_2009 = pop_masc_2009.round(decimals=0).astype('int64')\n",
        "pop_masc_2009['id_municipio_6'] = pop_masc_2009['id_municipio_6'].astype(str)\n",
        "pop_fem_2009 = pop_fem_2009.round(decimals=0).astype('int64')\n",
        "pop_fem_2009['id_municipio_6'] = pop_fem_2009['id_municipio_6'].astype(str)"
      ],
      "execution_count": null,
      "outputs": []
    },
    {
      "cell_type": "code",
      "metadata": {
        "id": "MwsBpSSkc28h"
      },
      "source": [
        "pop_masc_melt = pd.melt(pop_masc_2009, id_vars='id_municipio_6', value_vars=value_vars, var_name='grupo_idade', value_name='populacao')\n",
        "pop_fem_melt = pd.melt(pop_fem_2009, id_vars='id_municipio_6', value_vars=value_vars, var_name='grupo_idade', value_name='populacao')"
      ],
      "execution_count": null,
      "outputs": []
    },
    {
      "cell_type": "code",
      "metadata": {
        "id": "eVG9PJe2c28i"
      },
      "source": [
        "pop_masc_melt['sexo'] = 'masculino'\n",
        "pop_fem_melt['sexo'] = 'feminino'"
      ],
      "execution_count": null,
      "outputs": []
    },
    {
      "cell_type": "code",
      "metadata": {
        "id": "1LyCeVkYc28j"
      },
      "source": [
        "pop_2009 = pop_masc_melt.append(pop_fem_melt, ignore_index=True)"
      ],
      "execution_count": null,
      "outputs": []
    },
    {
      "cell_type": "code",
      "metadata": {
        "id": "F076OyCCc28k"
      },
      "source": [
        "pop_2009 = pd.merge(pop_2009, id_municipio,\n",
        "                    how='left', left_on=['id_municipio_6'],\n",
        "                    right_on=['id_municipio_6'])"
      ],
      "execution_count": null,
      "outputs": []
    },
    {
      "cell_type": "code",
      "metadata": {
        "id": "B02fAxAec28k"
      },
      "source": [
        "pop_2009.drop('id_municipio_6', axis=1, inplace=True)\n",
        "pop_2009.sort_values(['id_municipio', 'grupo_idade', 'sexo'], inplace=True)\n",
        "pop_2009 = pop_2009[ordem]"
      ],
      "execution_count": null,
      "outputs": []
    },
    {
      "cell_type": "code",
      "metadata": {
        "id": "cjdzNma0c28l"
      },
      "source": [
        "pop_2009.to_csv('/content/drive/MyDrive/br_ms_populacao/output/br_ms_populacao_2009.csv', index=False)"
      ],
      "execution_count": null,
      "outputs": []
    },
    {
      "cell_type": "markdown",
      "metadata": {
        "id": "gbbI8cZEdvhj"
      },
      "source": [
        "#### **Dados 2008**"
      ]
    },
    {
      "cell_type": "code",
      "metadata": {
        "id": "B7ErvGyVduMK"
      },
      "source": [
        "pop_masc_2008 = pd.read_csv('/content/drive/MyDrive/br_ms_populacao/input/br_ms_populacao_masculina_2008.csv', sep=';', encoding='latin-1', skiprows=4)\n",
        "pop_fem_2008 = pd.read_csv('/content/drive/MyDrive/br_ms_populacao/input/br_ms_populacao_feminina_2008.csv', sep=';', encoding='latin-1', skiprows=4)"
      ],
      "execution_count": null,
      "outputs": []
    },
    {
      "cell_type": "code",
      "metadata": {
        "id": "ZPZAFmk6duML"
      },
      "source": [
        "pop_masc_2008['id_municipio_6'] = pop_masc_2008['Município'].str[:6]\n",
        "pop_fem_2008['id_municipio_6'] = pop_fem_2008['Município'].str[:6]"
      ],
      "execution_count": null,
      "outputs": []
    },
    {
      "cell_type": "code",
      "metadata": {
        "id": "u4pclHubduML"
      },
      "source": [
        "pop_masc_2008.drop([5565, 5566, 5567], axis=0, inplace=True)\n",
        "pop_fem_2008.drop([5565, 5566, 5567], axis=0, inplace=True)\n",
        "pop_masc_2008.drop(['Município', 'Total'], axis=1, inplace=True)\n",
        "pop_fem_2008.drop(['Município', 'Total'], axis=1, inplace=True)"
      ],
      "execution_count": null,
      "outputs": []
    },
    {
      "cell_type": "code",
      "metadata": {
        "id": "bWf-WYijduMM"
      },
      "source": [
        "pop_masc_2008.rename(columns=rename, inplace=True)\n",
        "pop_fem_2008.rename(columns=rename, inplace=True)"
      ],
      "execution_count": null,
      "outputs": []
    },
    {
      "cell_type": "code",
      "metadata": {
        "id": "SMt4G2VXduMM"
      },
      "source": [
        "pop_masc_2008 = pop_masc_2008.round(decimals=0).astype('int64')\n",
        "pop_masc_2008['id_municipio_6'] = pop_masc_2008['id_municipio_6'].astype(str)\n",
        "pop_fem_2008 = pop_fem_2008.round(decimals=0).astype('int64')\n",
        "pop_fem_2008['id_municipio_6'] = pop_fem_2008['id_municipio_6'].astype(str)"
      ],
      "execution_count": null,
      "outputs": []
    },
    {
      "cell_type": "code",
      "metadata": {
        "id": "tgjEWKW5duMN"
      },
      "source": [
        "pop_masc_melt = pd.melt(pop_masc_2008, id_vars='id_municipio_6', value_vars=value_vars, var_name='grupo_idade', value_name='populacao')\n",
        "pop_fem_melt = pd.melt(pop_fem_2008, id_vars='id_municipio_6', value_vars=value_vars, var_name='grupo_idade', value_name='populacao')"
      ],
      "execution_count": null,
      "outputs": []
    },
    {
      "cell_type": "code",
      "metadata": {
        "id": "s4OtIXNNduMN"
      },
      "source": [
        "pop_masc_melt['sexo'] = 'masculino'\n",
        "pop_fem_melt['sexo'] = 'feminino'"
      ],
      "execution_count": null,
      "outputs": []
    },
    {
      "cell_type": "code",
      "metadata": {
        "id": "X-Lkzvm0duMO"
      },
      "source": [
        "pop_2008 = pop_masc_melt.append(pop_fem_melt, ignore_index=True)"
      ],
      "execution_count": null,
      "outputs": []
    },
    {
      "cell_type": "code",
      "metadata": {
        "id": "ckGuRsN2duMO"
      },
      "source": [
        "pop_2008 = pd.merge(pop_2008, id_municipio,\n",
        "                    how='left', left_on=['id_municipio_6'],\n",
        "                    right_on=['id_municipio_6'])"
      ],
      "execution_count": null,
      "outputs": []
    },
    {
      "cell_type": "code",
      "metadata": {
        "id": "XxaRCwUnduMP"
      },
      "source": [
        "pop_2008.drop('id_municipio_6', axis=1, inplace=True)\n",
        "pop_2008.sort_values(['id_municipio', 'grupo_idade', 'sexo'], inplace=True)\n",
        "pop_2008 = pop_2008[ordem]"
      ],
      "execution_count": null,
      "outputs": []
    },
    {
      "cell_type": "code",
      "metadata": {
        "id": "aXHkhNp_duMR"
      },
      "source": [
        "pop_2008.to_csv('/content/drive/MyDrive/br_ms_populacao/output/br_ms_populacao_2008.csv', index=False)"
      ],
      "execution_count": null,
      "outputs": []
    },
    {
      "cell_type": "markdown",
      "metadata": {
        "id": "8YDXhzsrehjc"
      },
      "source": [
        "#### **Dados 2007**"
      ]
    },
    {
      "cell_type": "code",
      "metadata": {
        "id": "NKDKs5Klek3I"
      },
      "source": [
        "pop_masc_2007 = pd.read_csv('/content/drive/MyDrive/br_ms_populacao/input/br_ms_populacao_masculina_2007.csv', sep=';', encoding='latin-1', skiprows=4)\n",
        "pop_fem_2007 = pd.read_csv('/content/drive/MyDrive/br_ms_populacao/input/br_ms_populacao_feminina_2007.csv', sep=';', encoding='latin-1', skiprows=4)"
      ],
      "execution_count": null,
      "outputs": []
    },
    {
      "cell_type": "code",
      "metadata": {
        "id": "Ii0EZMRxek3K"
      },
      "source": [
        "pop_masc_2007['id_municipio_6'] = pop_masc_2007['Município'].str[:6]\n",
        "pop_fem_2007['id_municipio_6'] = pop_fem_2007['Município'].str[:6]"
      ],
      "execution_count": null,
      "outputs": []
    },
    {
      "cell_type": "code",
      "metadata": {
        "id": "nXAXy3DVek3L"
      },
      "source": [
        "pop_masc_2007.drop([5564, 5565, 5566], axis=0, inplace=True)\n",
        "pop_fem_2007.drop([5564, 5565, 5566], axis=0, inplace=True)\n",
        "pop_masc_2007.drop(['Município', 'Total'], axis=1, inplace=True)\n",
        "pop_fem_2007.drop(['Município', 'Total'], axis=1, inplace=True)"
      ],
      "execution_count": null,
      "outputs": []
    },
    {
      "cell_type": "code",
      "metadata": {
        "id": "AvoTayBAek3M"
      },
      "source": [
        "pop_masc_2007.rename(columns=rename, inplace=True)\n",
        "pop_fem_2007.rename(columns=rename, inplace=True)"
      ],
      "execution_count": null,
      "outputs": []
    },
    {
      "cell_type": "code",
      "metadata": {
        "id": "xTI0JoSjek3N"
      },
      "source": [
        "pop_masc_2007 = pop_masc_2007.round(decimals=0).astype('int64')\n",
        "pop_masc_2007['id_municipio_6'] = pop_masc_2007['id_municipio_6'].astype(str)\n",
        "pop_fem_2007 = pop_fem_2007.round(decimals=0).astype('int64')\n",
        "pop_fem_2007['id_municipio_6'] = pop_fem_2007['id_municipio_6'].astype(str)"
      ],
      "execution_count": null,
      "outputs": []
    },
    {
      "cell_type": "code",
      "metadata": {
        "id": "RMD3-2LKek3O"
      },
      "source": [
        "pop_masc_melt = pd.melt(pop_masc_2007, id_vars='id_municipio_6', value_vars=value_vars, var_name='grupo_idade', value_name='populacao')\n",
        "pop_fem_melt = pd.melt(pop_fem_2007, id_vars='id_municipio_6', value_vars=value_vars, var_name='grupo_idade', value_name='populacao')"
      ],
      "execution_count": null,
      "outputs": []
    },
    {
      "cell_type": "code",
      "metadata": {
        "id": "x_P-fCPGek3O"
      },
      "source": [
        "pop_masc_melt['sexo'] = 'masculino'\n",
        "pop_fem_melt['sexo'] = 'feminino'"
      ],
      "execution_count": null,
      "outputs": []
    },
    {
      "cell_type": "code",
      "metadata": {
        "id": "Aqvk6Y9Gek3P"
      },
      "source": [
        "pop_2007 = pop_masc_melt.append(pop_fem_melt, ignore_index=True)"
      ],
      "execution_count": null,
      "outputs": []
    },
    {
      "cell_type": "code",
      "metadata": {
        "id": "f0-dzknLek3R"
      },
      "source": [
        "pop_2007 = pd.merge(pop_2007, id_municipio,\n",
        "                    how='left', left_on=['id_municipio_6'],\n",
        "                    right_on=['id_municipio_6'])"
      ],
      "execution_count": null,
      "outputs": []
    },
    {
      "cell_type": "code",
      "metadata": {
        "id": "ZrmsDmbTek3S"
      },
      "source": [
        "pop_2007.drop('id_municipio_6', axis=1, inplace=True)\n",
        "pop_2007.sort_values(['id_municipio', 'grupo_idade', 'sexo'], inplace=True)\n",
        "pop_2007 = pop_2007[ordem]"
      ],
      "execution_count": null,
      "outputs": []
    },
    {
      "cell_type": "code",
      "metadata": {
        "id": "pOCEaMxoek3T"
      },
      "source": [
        "pop_2007.to_csv('/content/drive/MyDrive/br_ms_populacao/output/br_ms_populacao_2007.csv', index=False)"
      ],
      "execution_count": null,
      "outputs": []
    },
    {
      "cell_type": "markdown",
      "metadata": {
        "id": "eV2pKIG7fLZF"
      },
      "source": [
        "#### **Dados 2006**"
      ]
    },
    {
      "cell_type": "code",
      "metadata": {
        "id": "_w-tnbYmfOAy"
      },
      "source": [
        "pop_masc_2006 = pd.read_csv('/content/drive/MyDrive/br_ms_populacao/input/br_ms_populacao_masculina_2006.csv', sep=';', encoding='latin-1', skiprows=4)\n",
        "pop_fem_2006 = pd.read_csv('/content/drive/MyDrive/br_ms_populacao/input/br_ms_populacao_feminina_2006.csv', sep=';', encoding='latin-1', skiprows=4)"
      ],
      "execution_count": null,
      "outputs": []
    },
    {
      "cell_type": "code",
      "metadata": {
        "id": "QV_yWAJFfOAz"
      },
      "source": [
        "pop_masc_2006['id_municipio_6'] = pop_masc_2006['Município'].str[:6]\n",
        "pop_fem_2006['id_municipio_6'] = pop_fem_2006['Município'].str[:6]"
      ],
      "execution_count": null,
      "outputs": []
    },
    {
      "cell_type": "code",
      "metadata": {
        "id": "2qNacdQifOA0"
      },
      "source": [
        "pop_masc_2006.drop([5564, 5565, 5566], axis=0, inplace=True)\n",
        "pop_fem_2006.drop([5564, 5565, 5566], axis=0, inplace=True)\n",
        "pop_masc_2006.drop(['Município', 'Total'], axis=1, inplace=True)\n",
        "pop_fem_2006.drop(['Município', 'Total'], axis=1, inplace=True)"
      ],
      "execution_count": null,
      "outputs": []
    },
    {
      "cell_type": "code",
      "metadata": {
        "id": "l92WPaDtfOA1"
      },
      "source": [
        "pop_masc_2006.rename(columns=rename, inplace=True)\n",
        "pop_fem_2006.rename(columns=rename, inplace=True)"
      ],
      "execution_count": null,
      "outputs": []
    },
    {
      "cell_type": "code",
      "metadata": {
        "id": "4J14HE3afOA2"
      },
      "source": [
        "pop_masc_2006 = pop_masc_2006.round(decimals=0).astype('int64')\n",
        "pop_masc_2006['id_municipio_6'] = pop_masc_2006['id_municipio_6'].astype(str)\n",
        "pop_fem_2006 = pop_fem_2006.round(decimals=0).astype('int64')\n",
        "pop_fem_2006['id_municipio_6'] = pop_fem_2006['id_municipio_6'].astype(str)"
      ],
      "execution_count": null,
      "outputs": []
    },
    {
      "cell_type": "code",
      "metadata": {
        "id": "o-M6iM43fOA2"
      },
      "source": [
        "pop_masc_melt = pd.melt(pop_masc_2006, id_vars='id_municipio_6', value_vars=value_vars, var_name='grupo_idade', value_name='populacao')\n",
        "pop_fem_melt = pd.melt(pop_fem_2006, id_vars='id_municipio_6', value_vars=value_vars, var_name='grupo_idade', value_name='populacao')"
      ],
      "execution_count": null,
      "outputs": []
    },
    {
      "cell_type": "code",
      "metadata": {
        "id": "9xqJjDQ5fOA4"
      },
      "source": [
        "pop_masc_melt['sexo'] = 'masculino'\n",
        "pop_fem_melt['sexo'] = 'feminino'"
      ],
      "execution_count": null,
      "outputs": []
    },
    {
      "cell_type": "code",
      "metadata": {
        "id": "uYy6N1M2fOA5"
      },
      "source": [
        "pop_2006 = pop_masc_melt.append(pop_fem_melt, ignore_index=True)"
      ],
      "execution_count": null,
      "outputs": []
    },
    {
      "cell_type": "code",
      "metadata": {
        "id": "R_f1vDZGfOA6"
      },
      "source": [
        "pop_2006 = pd.merge(pop_2006, id_municipio,\n",
        "                    how='left', left_on=['id_municipio_6'],\n",
        "                    right_on=['id_municipio_6'])"
      ],
      "execution_count": null,
      "outputs": []
    },
    {
      "cell_type": "code",
      "metadata": {
        "id": "0PDiFELUfOA7"
      },
      "source": [
        "pop_2006.drop('id_municipio_6', axis=1, inplace=True)\n",
        "pop_2006.sort_values(['id_municipio', 'grupo_idade', 'sexo'], inplace=True)\n",
        "pop_2006 = pop_2006[ordem]"
      ],
      "execution_count": null,
      "outputs": []
    },
    {
      "cell_type": "code",
      "metadata": {
        "id": "9XtMMMVnfOA8"
      },
      "source": [
        "pop_2006.to_csv('/content/drive/MyDrive/br_ms_populacao/output/br_ms_populacao_2006.csv', index=False)"
      ],
      "execution_count": null,
      "outputs": []
    },
    {
      "cell_type": "markdown",
      "metadata": {
        "id": "pSl8Zbf6gGFc"
      },
      "source": [
        "#### **Dados 2005**"
      ]
    },
    {
      "cell_type": "code",
      "metadata": {
        "id": "NOyEHTAsgMF7"
      },
      "source": [
        "pop_masc_2005 = pd.read_csv('/content/drive/MyDrive/br_ms_populacao/input/br_ms_populacao_masculina_2005.csv', sep=';', encoding='latin-1', skiprows=4)\n",
        "pop_fem_2005 = pd.read_csv('/content/drive/MyDrive/br_ms_populacao/input/br_ms_populacao_feminina_2005.csv', sep=';', encoding='latin-1', skiprows=4)"
      ],
      "execution_count": 62,
      "outputs": []
    },
    {
      "cell_type": "code",
      "metadata": {
        "id": "cRLJmUMEgMF9"
      },
      "source": [
        "pop_masc_2005['id_municipio_6'] = pop_masc_2005['Município'].str[:6]\n",
        "pop_fem_2005['id_municipio_6'] = pop_fem_2005['Município'].str[:6]"
      ],
      "execution_count": 63,
      "outputs": []
    },
    {
      "cell_type": "code",
      "metadata": {
        "id": "U_UtayaBgMF-"
      },
      "source": [
        "pop_masc_2005.drop([5564, 5565, 5566], axis=0, inplace=True)\n",
        "pop_fem_2005.drop([5564, 5565, 5566], axis=0, inplace=True)\n",
        "pop_masc_2005.drop(['Município', 'Total'], axis=1, inplace=True)\n",
        "pop_fem_2005.drop(['Município', 'Total'], axis=1, inplace=True)"
      ],
      "execution_count": 64,
      "outputs": []
    },
    {
      "cell_type": "code",
      "metadata": {
        "id": "v8DH_IdkgMF_"
      },
      "source": [
        "pop_masc_2005.rename(columns=rename, inplace=True)\n",
        "pop_fem_2005.rename(columns=rename, inplace=True)"
      ],
      "execution_count": 65,
      "outputs": []
    },
    {
      "cell_type": "code",
      "metadata": {
        "id": "C9e0ubaPhkcT"
      },
      "source": [
        "pop_masc_2005 = pop_masc_2005.round(decimals=0).astype('int64')\n",
        "pop_masc_2005['id_municipio_6'] = pop_masc_2005['id_municipio_6'].astype(str)\n",
        "pop_fem_2005['80_mais'] = pop_fem_2005['80_mais'].replace('-', 0) #Município 510774 não possui população > 80 anos\n",
        "pop_fem_2005['80_mais'] = pd.to_numeric(pop_fem_2005['80_mais'], downcast='integer')\n",
        "pop_fem_2005 = pop_fem_2005.fillna(0).astype('int64')\n",
        "pop_fem_2005['id_municipio_6'] = pop_fem_2005['id_municipio_6'].astype(str)"
      ],
      "execution_count": 66,
      "outputs": []
    },
    {
      "cell_type": "code",
      "metadata": {
        "id": "XOeixzn5gMGB"
      },
      "source": [
        "pop_masc_melt = pd.melt(pop_masc_2005, id_vars='id_municipio_6', value_vars=value_vars, var_name='grupo_idade', value_name='populacao')\n",
        "pop_fem_melt = pd.melt(pop_fem_2005, id_vars='id_municipio_6', value_vars=value_vars, var_name='grupo_idade', value_name='populacao')"
      ],
      "execution_count": 67,
      "outputs": []
    },
    {
      "cell_type": "code",
      "metadata": {
        "id": "x7No8kRPgMGC"
      },
      "source": [
        "pop_masc_melt['sexo'] = 'masculino'\n",
        "pop_fem_melt['sexo'] = 'feminino'"
      ],
      "execution_count": 68,
      "outputs": []
    },
    {
      "cell_type": "code",
      "metadata": {
        "id": "xvDYopQtgMGC"
      },
      "source": [
        "pop_2005 = pop_masc_melt.append(pop_fem_melt, ignore_index=True)"
      ],
      "execution_count": 69,
      "outputs": []
    },
    {
      "cell_type": "code",
      "metadata": {
        "id": "c-_dYhu4gMGD"
      },
      "source": [
        "pop_2005 = pd.merge(pop_2005, id_municipio,\n",
        "                    how='left', left_on=['id_municipio_6'],\n",
        "                    right_on=['id_municipio_6'])"
      ],
      "execution_count": 70,
      "outputs": []
    },
    {
      "cell_type": "code",
      "metadata": {
        "id": "ewgSq-kMgMGE"
      },
      "source": [
        "pop_2005.drop('id_municipio_6', axis=1, inplace=True)\n",
        "pop_2005.sort_values(['id_municipio', 'grupo_idade', 'sexo'], inplace=True)\n",
        "pop_2005 = pop_2005[ordem]"
      ],
      "execution_count": 71,
      "outputs": []
    },
    {
      "cell_type": "code",
      "metadata": {
        "id": "J816SxAxgMGF"
      },
      "source": [
        "pop_2005.to_csv('/content/drive/MyDrive/br_ms_populacao/output/br_ms_populacao_2005.csv', index=False)"
      ],
      "execution_count": 72,
      "outputs": []
    },
    {
      "cell_type": "markdown",
      "metadata": {
        "id": "TyCU9YkxvKAk"
      },
      "source": [
        "#### **Dados 2004**"
      ]
    },
    {
      "cell_type": "code",
      "metadata": {
        "id": "erHjf6_P2-ex"
      },
      "source": [
        "pop_masc_2004 = pd.read_csv('/content/drive/MyDrive/br_ms_populacao/input/br_ms_populacao_masculina_2004.csv', sep=';', encoding='latin-1', skiprows=4)\n",
        "pop_fem_2004 = pd.read_csv('/content/drive/MyDrive/br_ms_populacao/input/br_ms_populacao_feminina_2004.csv', sep=';', encoding='latin-1', skiprows=4)"
      ],
      "execution_count": 73,
      "outputs": []
    },
    {
      "cell_type": "code",
      "metadata": {
        "id": "2ExJnUUJ2-ey"
      },
      "source": [
        "pop_masc_2004['id_municipio_6'] = pop_masc_2004['Município'].str[:6]\n",
        "pop_fem_2004['id_municipio_6'] = pop_fem_2004['Município'].str[:6]"
      ],
      "execution_count": 77,
      "outputs": []
    },
    {
      "cell_type": "code",
      "metadata": {
        "id": "Xn7TYgE32-ez"
      },
      "source": [
        "pop_masc_2004.drop([5564, 5565, 5566], axis=0, inplace=True)\n",
        "pop_fem_2004.drop([5564, 5565, 5566], axis=0, inplace=True)\n",
        "pop_masc_2004.drop(['Município', 'Total'], axis=1, inplace=True)\n",
        "pop_fem_2004.drop(['Município', 'Total'], axis=1, inplace=True)"
      ],
      "execution_count": 79,
      "outputs": []
    },
    {
      "cell_type": "code",
      "metadata": {
        "id": "Jf4wx1mK2-ez"
      },
      "source": [
        "pop_masc_2004.rename(columns=rename, inplace=True)\n",
        "pop_fem_2004.rename(columns=rename, inplace=True)"
      ],
      "execution_count": 80,
      "outputs": []
    },
    {
      "cell_type": "code",
      "metadata": {
        "id": "4HHBuqb62-e0"
      },
      "source": [
        "pop_masc_2004 = pop_masc_2004.round(decimals=0).astype('int64')\n",
        "pop_masc_2004['id_municipio_6'] = pop_masc_2004['id_municipio_6'].astype(str)\n",
        "pop_fem_2004['80_mais'] = pop_fem_2005['80_mais'].replace('-', 0) \n",
        "pop_fem_2004['80_mais'] = pd.to_numeric(pop_fem_2005['80_mais'], downcast='integer')\n",
        "pop_fem_2004 = pop_fem_2004.fillna(0).astype('int64')\n",
        "pop_fem_2004['id_municipio_6'] = pop_fem_2004['id_municipio_6'].astype(str)"
      ],
      "execution_count": 83,
      "outputs": []
    },
    {
      "cell_type": "code",
      "metadata": {
        "id": "DFBed-Gn2-e0"
      },
      "source": [
        "pop_masc_melt = pd.melt(pop_masc_2004, id_vars='id_municipio_6', value_vars=value_vars, var_name='grupo_idade', value_name='populacao')\n",
        "pop_fem_melt = pd.melt(pop_fem_2004, id_vars='id_municipio_6', value_vars=value_vars, var_name='grupo_idade', value_name='populacao')"
      ],
      "execution_count": 84,
      "outputs": []
    },
    {
      "cell_type": "code",
      "metadata": {
        "id": "g7sATRMI2-e1"
      },
      "source": [
        "pop_masc_melt['sexo'] = 'masculino'\n",
        "pop_fem_melt['sexo'] = 'feminino'"
      ],
      "execution_count": 85,
      "outputs": []
    },
    {
      "cell_type": "code",
      "metadata": {
        "id": "BkSoz3Mq2-e1"
      },
      "source": [
        "pop_2004 = pop_masc_melt.append(pop_fem_melt, ignore_index=True)"
      ],
      "execution_count": 86,
      "outputs": []
    },
    {
      "cell_type": "code",
      "metadata": {
        "id": "neTjfMoK2-e2"
      },
      "source": [
        "pop_2004 = pd.merge(pop_2004, id_municipio,\n",
        "                    how='left', left_on=['id_municipio_6'],\n",
        "                    right_on=['id_municipio_6'])"
      ],
      "execution_count": 87,
      "outputs": []
    },
    {
      "cell_type": "code",
      "metadata": {
        "id": "cgpHcomR2-e2"
      },
      "source": [
        "pop_2004.drop('id_municipio_6', axis=1, inplace=True)\n",
        "pop_2004.sort_values(['id_municipio', 'grupo_idade', 'sexo'], inplace=True)\n",
        "pop_2004 = pop_2004[ordem]"
      ],
      "execution_count": 88,
      "outputs": []
    },
    {
      "cell_type": "code",
      "metadata": {
        "id": "r4EVu5PV2-e3"
      },
      "source": [
        "pop_2004.to_csv('/content/drive/MyDrive/br_ms_populacao/output/br_ms_populacao_2004.csv', index=False)"
      ],
      "execution_count": 90,
      "outputs": []
    },
    {
      "cell_type": "markdown",
      "metadata": {
        "id": "0b2aBqBB3AB_"
      },
      "source": [
        "#### **Dados 2003**"
      ]
    },
    {
      "cell_type": "code",
      "metadata": {
        "id": "BaenI3zM4GH5"
      },
      "source": [
        "pop_masc_2003 = pd.read_csv('/content/drive/MyDrive/br_ms_populacao/input/br_ms_populacao_masculina_2003.csv', sep=';', encoding='latin-1', skiprows=4)\n",
        "pop_fem_2003 = pd.read_csv('/content/drive/MyDrive/br_ms_populacao/input/br_ms_populacao_feminina_2003.csv', sep=';', encoding='latin-1', skiprows=4)"
      ],
      "execution_count": 91,
      "outputs": []
    },
    {
      "cell_type": "code",
      "metadata": {
        "id": "G3qAM7kE4GH6"
      },
      "source": [
        "pop_masc_2003['id_municipio_6'] = pop_masc_2003['Município'].str[:6]\n",
        "pop_fem_2003['id_municipio_6'] = pop_fem_2003['Município'].str[:6]"
      ],
      "execution_count": 92,
      "outputs": []
    },
    {
      "cell_type": "code",
      "metadata": {
        "id": "aOkMfW044GH7"
      },
      "source": [
        "pop_masc_2003.drop([5560, 5561, 5562], axis=0, inplace=True)\n",
        "pop_fem_2003.drop([5560, 5561, 5562], axis=0, inplace=True)\n",
        "pop_masc_2003.drop(['Município', 'Total'], axis=1, inplace=True)\n",
        "pop_fem_2003.drop(['Município', 'Total'], axis=1, inplace=True)"
      ],
      "execution_count": 98,
      "outputs": []
    },
    {
      "cell_type": "code",
      "metadata": {
        "id": "6zXC-uhF4GH7"
      },
      "source": [
        "pop_masc_2003.rename(columns=rename, inplace=True)\n",
        "pop_fem_2003.rename(columns=rename, inplace=True)"
      ],
      "execution_count": 99,
      "outputs": []
    },
    {
      "cell_type": "code",
      "metadata": {
        "id": "0un4dT0P4GH8"
      },
      "source": [
        "pop_masc_2003 = pop_masc_2003.round(decimals=0).astype('int64')\n",
        "pop_masc_2003['id_municipio_6'] = pop_masc_2003['id_municipio_6'].astype(str)\n",
        "pop_fem_2003['80_mais'] = pop_fem_2003['80_mais'].replace('-', 0) \n",
        "pop_fem_2003['80_mais'] = pd.to_numeric(pop_fem_2003['80_mais'], downcast='integer')\n",
        "pop_fem_2003 = pop_fem_2003.fillna(0).astype('int64')\n",
        "pop_fem_2003['id_municipio_6'] = pop_fem_2003['id_municipio_6'].astype(str)"
      ],
      "execution_count": 102,
      "outputs": []
    },
    {
      "cell_type": "code",
      "metadata": {
        "id": "wTYybMPA4GH8"
      },
      "source": [
        "pop_masc_melt = pd.melt(pop_masc_2003, id_vars='id_municipio_6', value_vars=value_vars, var_name='grupo_idade', value_name='populacao')\n",
        "pop_fem_melt = pd.melt(pop_fem_2003, id_vars='id_municipio_6', value_vars=value_vars, var_name='grupo_idade', value_name='populacao')"
      ],
      "execution_count": 103,
      "outputs": []
    },
    {
      "cell_type": "code",
      "metadata": {
        "id": "CwpKMBzU4GH9"
      },
      "source": [
        "pop_masc_melt['sexo'] = 'masculino'\n",
        "pop_fem_melt['sexo'] = 'feminino'"
      ],
      "execution_count": 104,
      "outputs": []
    },
    {
      "cell_type": "code",
      "metadata": {
        "id": "8FRGrwd34GH9"
      },
      "source": [
        "pop_2003 = pop_masc_melt.append(pop_fem_melt, ignore_index=True)"
      ],
      "execution_count": 105,
      "outputs": []
    },
    {
      "cell_type": "code",
      "metadata": {
        "id": "6hZmNkYw4GH_"
      },
      "source": [
        "pop_2003 = pd.merge(pop_2003, id_municipio,\n",
        "                    how='left', left_on=['id_municipio_6'],\n",
        "                    right_on=['id_municipio_6'])"
      ],
      "execution_count": 106,
      "outputs": []
    },
    {
      "cell_type": "code",
      "metadata": {
        "id": "_Sj6yhRm4GIA"
      },
      "source": [
        "pop_2003.drop('id_municipio_6', axis=1, inplace=True)\n",
        "pop_2003.sort_values(['id_municipio', 'grupo_idade', 'sexo'], inplace=True)\n",
        "pop_2003 = pop_2003[ordem]"
      ],
      "execution_count": 107,
      "outputs": []
    },
    {
      "cell_type": "code",
      "metadata": {
        "id": "vuDafxZO4GIC"
      },
      "source": [
        "pop_2003.to_csv('/content/drive/MyDrive/br_ms_populacao/output/br_ms_populacao_2003.csv', index=False)"
      ],
      "execution_count": 108,
      "outputs": []
    },
    {
      "cell_type": "markdown",
      "metadata": {
        "id": "2c9cKkYn6Ve2"
      },
      "source": [
        "#### **Dados 2002**"
      ]
    },
    {
      "cell_type": "code",
      "metadata": {
        "id": "t29siKBP7Bfw"
      },
      "source": [
        "pop_masc_2002 = pd.read_csv('/content/drive/MyDrive/br_ms_populacao/input/br_ms_populacao_masculina_2004.csv', sep=';', encoding='latin-1', skiprows=4)\n",
        "pop_fem_2002 = pd.read_csv('/content/drive/MyDrive/br_ms_populacao/input/br_ms_populacao_feminina_2004.csv', sep=';', encoding='latin-1', skiprows=4)"
      ],
      "execution_count": 109,
      "outputs": []
    },
    {
      "cell_type": "code",
      "metadata": {
        "id": "F-K6tqQE7Bfx"
      },
      "source": [
        "pop_masc_2002['id_municipio_6'] = pop_masc_2002['Município'].str[:6]\n",
        "pop_fem_2002['id_municipio_6'] = pop_fem_2002['Município'].str[:6]"
      ],
      "execution_count": 112,
      "outputs": []
    },
    {
      "cell_type": "code",
      "metadata": {
        "id": "U-YXUK-v7Bfy"
      },
      "source": [
        "pop_masc_2002.drop([5564, 5565, 5566], axis=0, inplace=True)\n",
        "pop_fem_2002.drop([5564, 5565, 5566], axis=0, inplace=True)\n",
        "pop_masc_2002.drop(['Município', 'Total'], axis=1, inplace=True)\n",
        "pop_fem_2002.drop(['Município', 'Total'], axis=1, inplace=True)"
      ],
      "execution_count": 113,
      "outputs": []
    },
    {
      "cell_type": "code",
      "metadata": {
        "id": "1517DU6M7Bfy"
      },
      "source": [
        "pop_masc_2002.rename(columns=rename, inplace=True)\n",
        "pop_fem_2002.rename(columns=rename, inplace=True)"
      ],
      "execution_count": 114,
      "outputs": []
    },
    {
      "cell_type": "code",
      "metadata": {
        "id": "A56U4AiC7Bfy"
      },
      "source": [
        "pop_masc_2002 = pop_masc_2002.round(decimals=0).astype('int64')\n",
        "pop_masc_2002['id_municipio_6'] = pop_masc_2002['id_municipio_6'].astype(str)\n",
        "pop_fem_2002['80_mais'] = pop_fem_2002['80_mais'].replace('-', 0) \n",
        "pop_fem_2002['80_mais'] = pd.to_numeric(pop_fem_2002['80_mais'], downcast='integer')\n",
        "pop_fem_2002 = pop_fem_2002.fillna(0).astype('int64')\n",
        "pop_fem_2002['id_municipio_6'] = pop_fem_2002['id_municipio_6'].astype(str)"
      ],
      "execution_count": 115,
      "outputs": []
    },
    {
      "cell_type": "code",
      "metadata": {
        "id": "t7MtBHuR7Bfz"
      },
      "source": [
        "pop_masc_melt = pd.melt(pop_masc_2002, id_vars='id_municipio_6', value_vars=value_vars, var_name='grupo_idade', value_name='populacao')\n",
        "pop_fem_melt = pd.melt(pop_fem_2002, id_vars='id_municipio_6', value_vars=value_vars, var_name='grupo_idade', value_name='populacao')"
      ],
      "execution_count": 116,
      "outputs": []
    },
    {
      "cell_type": "code",
      "metadata": {
        "id": "Os_3gmAO7Bfz"
      },
      "source": [
        "pop_masc_melt['sexo'] = 'masculino'\n",
        "pop_fem_melt['sexo'] = 'feminino'"
      ],
      "execution_count": 117,
      "outputs": []
    },
    {
      "cell_type": "code",
      "metadata": {
        "id": "F0fIImxf7Bf0"
      },
      "source": [
        "pop_2002 = pop_masc_melt.append(pop_fem_melt, ignore_index=True)"
      ],
      "execution_count": 118,
      "outputs": []
    },
    {
      "cell_type": "code",
      "metadata": {
        "id": "PsdnWJKb7Bf0"
      },
      "source": [
        "pop_2002 = pd.merge(pop_2002, id_municipio,\n",
        "                    how='left', left_on=['id_municipio_6'],\n",
        "                    right_on=['id_municipio_6'])"
      ],
      "execution_count": 119,
      "outputs": []
    },
    {
      "cell_type": "code",
      "metadata": {
        "id": "i3FSKfWk7Bf0"
      },
      "source": [
        "pop_2002.drop('id_municipio_6', axis=1, inplace=True)\n",
        "pop_2002.sort_values(['id_municipio', 'grupo_idade', 'sexo'], inplace=True)\n",
        "pop_2002 = pop_2002[ordem]"
      ],
      "execution_count": 120,
      "outputs": []
    },
    {
      "cell_type": "code",
      "metadata": {
        "id": "vga6Dnbg7Bf1"
      },
      "source": [
        "pop_2002.to_csv('/content/drive/MyDrive/br_ms_populacao/output/br_ms_populacao_2002.csv', index=False)"
      ],
      "execution_count": 121,
      "outputs": []
    },
    {
      "cell_type": "markdown",
      "metadata": {
        "id": "jLBCorav7qXd"
      },
      "source": [
        "#### **Dados 2001**"
      ]
    },
    {
      "cell_type": "code",
      "metadata": {
        "id": "JrWf1QHx7wZx"
      },
      "source": [
        "pop_masc_2001 = pd.read_csv('/content/drive/MyDrive/br_ms_populacao/input/br_ms_populacao_masculina_2001.csv', sep=';', encoding='latin-1', skiprows=4)\n",
        "pop_fem_2001 = pd.read_csv('/content/drive/MyDrive/br_ms_populacao/input/br_ms_populacao_feminina_2001.csv', sep=';', encoding='latin-1', skiprows=4)"
      ],
      "execution_count": 123,
      "outputs": []
    },
    {
      "cell_type": "code",
      "metadata": {
        "id": "OimMi03G7wZx"
      },
      "source": [
        "pop_masc_2001['id_municipio_6'] = pop_masc_2001['Município'].str[:6]\n",
        "pop_fem_2001['id_municipio_6'] = pop_fem_2001['Município'].str[:6]"
      ],
      "execution_count": 127,
      "outputs": []
    },
    {
      "cell_type": "code",
      "metadata": {
        "id": "y6Unxpg27wZy"
      },
      "source": [
        "pop_masc_2001.drop([5560, 5561, 5562], axis=0, inplace=True)\n",
        "pop_fem_2001.drop([5560, 5561, 5562], axis=0, inplace=True)\n",
        "pop_masc_2001.drop(['Município', 'Total'], axis=1, inplace=True)\n",
        "pop_fem_2001.drop(['Município', 'Total'], axis=1, inplace=True)"
      ],
      "execution_count": 128,
      "outputs": []
    },
    {
      "cell_type": "code",
      "metadata": {
        "id": "0yhG-Ncy7wZy"
      },
      "source": [
        "pop_masc_2001.rename(columns=rename, inplace=True)\n",
        "pop_fem_2001.rename(columns=rename, inplace=True)"
      ],
      "execution_count": 129,
      "outputs": []
    },
    {
      "cell_type": "code",
      "metadata": {
        "id": "0cPeoLZa7wZy"
      },
      "source": [
        "pop_masc_2001['80_mais'] = pop_masc_2001['80_mais'].replace('-', 0) \n",
        "pop_masc_2001['80_mais'] = pd.to_numeric(pop_masc_2001['80_mais'], downcast='integer')\n",
        "pop_masc_2001 = pop_masc_2001.fillna(0).astype('int64')\n",
        "pop_masc_2001['id_municipio_6'] = pop_masc_2001['id_municipio_6'].astype(str)\n",
        "pop_fem_2001 = pop_fem_2001.replace('-', 0) \n",
        "pop_fem_2001['80_mais'] = pd.to_numeric(pop_fem_2001['80_mais'], downcast='integer')\n",
        "pop_fem_2001 = pop_fem_2001.fillna(0).astype('int64')\n",
        "pop_fem_2001['id_municipio_6'] = pop_fem_2001['id_municipio_6'].astype(str)"
      ],
      "execution_count": 139,
      "outputs": []
    },
    {
      "cell_type": "code",
      "metadata": {
        "id": "vEhQB4eu7wZz"
      },
      "source": [
        "pop_masc_melt = pd.melt(pop_masc_2001, id_vars='id_municipio_6', value_vars=value_vars, var_name='grupo_idade', value_name='populacao')\n",
        "pop_fem_melt = pd.melt(pop_fem_2001, id_vars='id_municipio_6', value_vars=value_vars, var_name='grupo_idade', value_name='populacao')"
      ],
      "execution_count": 141,
      "outputs": []
    },
    {
      "cell_type": "code",
      "metadata": {
        "id": "-zGba7-07wZz"
      },
      "source": [
        "pop_masc_melt['sexo'] = 'masculino'\n",
        "pop_fem_melt['sexo'] = 'feminino'"
      ],
      "execution_count": 142,
      "outputs": []
    },
    {
      "cell_type": "code",
      "metadata": {
        "id": "O5NJtApq7wZz"
      },
      "source": [
        "pop_2001 = pop_masc_melt.append(pop_fem_melt, ignore_index=True)"
      ],
      "execution_count": 143,
      "outputs": []
    },
    {
      "cell_type": "code",
      "metadata": {
        "id": "f6FEe3Kt7wZ0"
      },
      "source": [
        "pop_2001 = pd.merge(pop_2001, id_municipio,\n",
        "                    how='left', left_on=['id_municipio_6'],\n",
        "                    right_on=['id_municipio_6'])"
      ],
      "execution_count": 144,
      "outputs": []
    },
    {
      "cell_type": "code",
      "metadata": {
        "id": "GFuA5LMv7wZ0"
      },
      "source": [
        "pop_2001.drop('id_municipio_6', axis=1, inplace=True)\n",
        "pop_2001.sort_values(['id_municipio', 'grupo_idade', 'sexo'], inplace=True)\n",
        "pop_2001 = pop_2001[ordem]"
      ],
      "execution_count": 145,
      "outputs": []
    },
    {
      "cell_type": "code",
      "metadata": {
        "id": "bG_JBFJl7wZ0"
      },
      "source": [
        "pop_2001.to_csv('/content/drive/MyDrive/br_ms_populacao/output/br_ms_populacao_2001.csv', index=False)"
      ],
      "execution_count": 146,
      "outputs": []
    },
    {
      "cell_type": "markdown",
      "metadata": {
        "id": "Ck1Ap6v49Mgx"
      },
      "source": [
        "#### **Dados 2000**"
      ]
    },
    {
      "cell_type": "code",
      "metadata": {
        "id": "v7ziKMAu9TFe"
      },
      "source": [
        "pop_masc_2000 = pd.read_csv('/content/drive/MyDrive/br_ms_populacao/input/br_ms_populacao_masculina_2000.csv', sep=';', encoding='latin-1', skiprows=4)\n",
        "pop_fem_2000 = pd.read_csv('/content/drive/MyDrive/br_ms_populacao/input/br_ms_populacao_feminina_2000.csv', sep=';', encoding='latin-1', skiprows=4)"
      ],
      "execution_count": 147,
      "outputs": []
    },
    {
      "cell_type": "code",
      "metadata": {
        "id": "tPr4eh4u9TFg"
      },
      "source": [
        "pop_masc_2000['id_municipio_6'] = pop_masc_2000['Município'].str[:6]\n",
        "pop_fem_2000['id_municipio_6'] = pop_fem_2000['Município'].str[:6]"
      ],
      "execution_count": 150,
      "outputs": []
    },
    {
      "cell_type": "code",
      "metadata": {
        "id": "xg1g6yFm9TFh"
      },
      "source": [
        "pop_masc_2000.drop([5507, 5508, 5509], axis=0, inplace=True)\n",
        "pop_fem_2000.drop([5507, 5508, 5509], axis=0, inplace=True)\n",
        "pop_masc_2000.drop(['Município', 'Total'], axis=1, inplace=True)\n",
        "pop_fem_2000.drop(['Município', 'Total'], axis=1, inplace=True)"
      ],
      "execution_count": 151,
      "outputs": []
    },
    {
      "cell_type": "code",
      "metadata": {
        "id": "U-PPVOUi9TFi"
      },
      "source": [
        "pop_masc_2000.rename(columns=rename, inplace=True)\n",
        "pop_fem_2000.rename(columns=rename, inplace=True)"
      ],
      "execution_count": 152,
      "outputs": []
    },
    {
      "cell_type": "code",
      "metadata": {
        "id": "Vm0UI5UM9TFj"
      },
      "source": [
        "pop_masc_2000 = pop_masc_2000.round(decimals=0).astype('int64')\n",
        "pop_masc_2000['id_municipio_6'] = pop_masc_2000['id_municipio_6'].astype(str)\n",
        "pop_fem_2000 = pop_fem_2000.replace('-', 0)\n",
        "pop_fem_2000 = pop_fem_2000.fillna(0).astype('int64')\n",
        "pop_fem_2000['id_municipio_6'] = pop_fem_2000['id_municipio_6'].astype(str)"
      ],
      "execution_count": 153,
      "outputs": []
    },
    {
      "cell_type": "code",
      "metadata": {
        "id": "SsjPVjXL9TFk"
      },
      "source": [
        "pop_masc_melt = pd.melt(pop_masc_2000, id_vars='id_municipio_6', value_vars=value_vars, var_name='grupo_idade', value_name='populacao')\n",
        "pop_fem_melt = pd.melt(pop_fem_2000, id_vars='id_municipio_6', value_vars=value_vars, var_name='grupo_idade', value_name='populacao')"
      ],
      "execution_count": 154,
      "outputs": []
    },
    {
      "cell_type": "code",
      "metadata": {
        "id": "EUqkjGG69TFl"
      },
      "source": [
        "pop_masc_melt['sexo'] = 'masculino'\n",
        "pop_fem_melt['sexo'] = 'feminino'"
      ],
      "execution_count": 155,
      "outputs": []
    },
    {
      "cell_type": "code",
      "metadata": {
        "id": "9EjltYzx9TFm"
      },
      "source": [
        "pop_2000 = pop_masc_melt.append(pop_fem_melt, ignore_index=True)"
      ],
      "execution_count": 156,
      "outputs": []
    },
    {
      "cell_type": "code",
      "metadata": {
        "id": "Pth1btci9TFn"
      },
      "source": [
        "pop_2000 = pd.merge(pop_2000, id_municipio,\n",
        "                    how='left', left_on=['id_municipio_6'],\n",
        "                    right_on=['id_municipio_6'])"
      ],
      "execution_count": 157,
      "outputs": []
    },
    {
      "cell_type": "code",
      "metadata": {
        "id": "TSa1e-8j9TFo"
      },
      "source": [
        "pop_2000.drop('id_municipio_6', axis=1, inplace=True)\n",
        "pop_2000.sort_values(['id_municipio', 'grupo_idade', 'sexo'], inplace=True)\n",
        "pop_2000 = pop_2000[ordem]"
      ],
      "execution_count": 158,
      "outputs": []
    },
    {
      "cell_type": "code",
      "metadata": {
        "id": "EC8c2_R59TFo"
      },
      "source": [
        "pop_2000.to_csv('/content/drive/MyDrive/br_ms_populacao/output/br_ms_populacao_2000.csv', index=False)"
      ],
      "execution_count": 159,
      "outputs": []
    }
  ]
}