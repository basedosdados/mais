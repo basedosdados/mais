{
 "cells": [
  {
   "cell_type": "markdown",
   "metadata": {
    "toc": true
   },
   "source": [
    "<h1>Table of Contents<span class=\"tocSkip\"></span></h1>\n",
    "<div class=\"toc\" style=\"margin-top: 1em;\"><ul class=\"toc-item\"></ul></div>"
   ]
  },
  {
   "cell_type": "code",
   "execution_count": 1,
   "metadata": {
    "ExecuteTime": {
     "end_time": "2021-03-24T19:17:21.057629Z",
     "start_time": "2021-03-24T19:17:18.659364Z"
    },
    "collapsed": true
   },
   "outputs": [],
   "source": [
    "from babelgrid import Babel\n",
    "import basedosdados as bd\n",
    "import pandas as pd"
   ]
  },
  {
   "cell_type": "code",
   "execution_count": 2,
   "metadata": {
    "ExecuteTime": {
     "end_time": "2021-03-24T17:07:26.303790Z",
     "start_time": "2021-03-24T17:07:25.640618Z"
    },
    "scrolled": true
   },
   "outputs": [],
   "source": [
    "import geopandas as gpd"
   ]
  },
  {
   "cell_type": "code",
   "execution_count": 3,
   "metadata": {
    "ExecuteTime": {
     "end_time": "2021-03-24T19:17:36.569556Z",
     "start_time": "2021-03-24T19:17:36.565997Z"
    },
    "collapsed": true
   },
   "outputs": [],
   "source": [
    "# Paths\n",
    "\n",
    "raw_path =  '/Users/joaoc/Downloads/dados2019_v1.0_20200116.gpkg'\n",
    "treated_path = '/Users/joaoc/Documents/Projects/smtr/analises/data/treated/hexagonos_2019.csv'\n",
    "output_path = '/Users/joaoc/Documents/Projects/smtr/analises/data/output/'"
   ]
  },
  {
   "cell_type": "code",
   "execution_count": null,
   "metadata": {
    "collapsed": true
   },
   "outputs": [],
   "source": [
    "# Load Raw"
   ]
  },
  {
   "cell_type": "code",
   "execution_count": 110,
   "metadata": {
    "ExecuteTime": {
     "end_time": "2021-03-23T22:56:09.770305Z",
     "start_time": "2021-03-23T22:47:11.642600Z"
    },
    "collapsed": true
   },
   "outputs": [
    {
     "ename": "FileNotFoundError",
     "evalue": "[Errno 2] No such file or directory: '../data/staging/hexagonos_2019.csv'",
     "output_type": "error",
     "traceback": [
      "\u001b[0;31m---------------------------------------------------------------------------\u001b[0m",
      "\u001b[0;31mFileNotFoundError\u001b[0m                         Traceback (most recent call last)",
      "\u001b[0;32m<ipython-input-110-a9dbec3a7828>\u001b[0m in \u001b[0;36m<module>\u001b[0;34m\u001b[0m\n\u001b[1;32m      1\u001b[0m \u001b[0mdf\u001b[0m \u001b[0;34m=\u001b[0m \u001b[0mgpd\u001b[0m\u001b[0;34m.\u001b[0m\u001b[0mread_file\u001b[0m\u001b[0;34m(\u001b[0m\u001b[0;34m'/Users/joaoc/Downloads/dados2019_v1.0_20200116.gpkg'\u001b[0m\u001b[0;34m)\u001b[0m\u001b[0;34m\u001b[0m\u001b[0;34m\u001b[0m\u001b[0m\n\u001b[0;32m----> 2\u001b[0;31m \u001b[0mdf\u001b[0m\u001b[0;34m.\u001b[0m\u001b[0mto_csv\u001b[0m\u001b[0;34m(\u001b[0m\u001b[0;34m'../data/staging/hexagonos_2019.csv'\u001b[0m\u001b[0;34m,\u001b[0m \u001b[0mindex\u001b[0m\u001b[0;34m=\u001b[0m\u001b[0;32mFalse\u001b[0m\u001b[0;34m)\u001b[0m\u001b[0;34m\u001b[0m\u001b[0;34m\u001b[0m\u001b[0m\n\u001b[0m",
      "\u001b[0;32m/usr/local/lib/python3.9/site-packages/pandas/core/generic.py\u001b[0m in \u001b[0;36mto_csv\u001b[0;34m(self, path_or_buf, sep, na_rep, float_format, columns, header, index, index_label, mode, encoding, compression, quoting, quotechar, line_terminator, chunksize, date_format, doublequote, escapechar, decimal, errors, storage_options)\u001b[0m\n\u001b[1;32m   3385\u001b[0m         )\n\u001b[1;32m   3386\u001b[0m \u001b[0;34m\u001b[0m\u001b[0m\n\u001b[0;32m-> 3387\u001b[0;31m         return DataFrameRenderer(formatter).to_csv(\n\u001b[0m\u001b[1;32m   3388\u001b[0m             \u001b[0mpath_or_buf\u001b[0m\u001b[0;34m,\u001b[0m\u001b[0;34m\u001b[0m\u001b[0;34m\u001b[0m\u001b[0m\n\u001b[1;32m   3389\u001b[0m             \u001b[0mline_terminator\u001b[0m\u001b[0;34m=\u001b[0m\u001b[0mline_terminator\u001b[0m\u001b[0;34m,\u001b[0m\u001b[0;34m\u001b[0m\u001b[0;34m\u001b[0m\u001b[0m\n",
      "\u001b[0;32m/usr/local/lib/python3.9/site-packages/pandas/io/formats/format.py\u001b[0m in \u001b[0;36mto_csv\u001b[0;34m(self, path_or_buf, encoding, sep, columns, index_label, mode, compression, quoting, quotechar, line_terminator, chunksize, date_format, doublequote, escapechar, errors, storage_options)\u001b[0m\n\u001b[1;32m   1081\u001b[0m             \u001b[0mformatter\u001b[0m\u001b[0;34m=\u001b[0m\u001b[0mself\u001b[0m\u001b[0;34m.\u001b[0m\u001b[0mfmt\u001b[0m\u001b[0;34m,\u001b[0m\u001b[0;34m\u001b[0m\u001b[0;34m\u001b[0m\u001b[0m\n\u001b[1;32m   1082\u001b[0m         )\n\u001b[0;32m-> 1083\u001b[0;31m         \u001b[0mcsv_formatter\u001b[0m\u001b[0;34m.\u001b[0m\u001b[0msave\u001b[0m\u001b[0;34m(\u001b[0m\u001b[0;34m)\u001b[0m\u001b[0;34m\u001b[0m\u001b[0;34m\u001b[0m\u001b[0m\n\u001b[0m\u001b[1;32m   1084\u001b[0m \u001b[0;34m\u001b[0m\u001b[0m\n\u001b[1;32m   1085\u001b[0m         \u001b[0;32mif\u001b[0m \u001b[0mcreated_buffer\u001b[0m\u001b[0;34m:\u001b[0m\u001b[0;34m\u001b[0m\u001b[0;34m\u001b[0m\u001b[0m\n",
      "\u001b[0;32m/usr/local/lib/python3.9/site-packages/pandas/io/formats/csvs.py\u001b[0m in \u001b[0;36msave\u001b[0;34m(self)\u001b[0m\n\u001b[1;32m    226\u001b[0m         \"\"\"\n\u001b[1;32m    227\u001b[0m         \u001b[0;31m# apply compression and byte/text conversion\u001b[0m\u001b[0;34m\u001b[0m\u001b[0;34m\u001b[0m\u001b[0;34m\u001b[0m\u001b[0m\n\u001b[0;32m--> 228\u001b[0;31m         with get_handle(\n\u001b[0m\u001b[1;32m    229\u001b[0m             \u001b[0mself\u001b[0m\u001b[0;34m.\u001b[0m\u001b[0mfilepath_or_buffer\u001b[0m\u001b[0;34m,\u001b[0m\u001b[0;34m\u001b[0m\u001b[0;34m\u001b[0m\u001b[0m\n\u001b[1;32m    230\u001b[0m             \u001b[0mself\u001b[0m\u001b[0;34m.\u001b[0m\u001b[0mmode\u001b[0m\u001b[0;34m,\u001b[0m\u001b[0;34m\u001b[0m\u001b[0;34m\u001b[0m\u001b[0m\n",
      "\u001b[0;32m/usr/local/lib/python3.9/site-packages/pandas/io/common.py\u001b[0m in \u001b[0;36mget_handle\u001b[0;34m(path_or_buf, mode, encoding, compression, memory_map, is_text, errors, storage_options)\u001b[0m\n\u001b[1;32m    640\u001b[0m                 \u001b[0merrors\u001b[0m \u001b[0;34m=\u001b[0m \u001b[0;34m\"replace\"\u001b[0m\u001b[0;34m\u001b[0m\u001b[0;34m\u001b[0m\u001b[0m\n\u001b[1;32m    641\u001b[0m             \u001b[0;31m# Encoding\u001b[0m\u001b[0;34m\u001b[0m\u001b[0;34m\u001b[0m\u001b[0;34m\u001b[0m\u001b[0m\n\u001b[0;32m--> 642\u001b[0;31m             handle = open(\n\u001b[0m\u001b[1;32m    643\u001b[0m                 \u001b[0mhandle\u001b[0m\u001b[0;34m,\u001b[0m\u001b[0;34m\u001b[0m\u001b[0;34m\u001b[0m\u001b[0m\n\u001b[1;32m    644\u001b[0m                 \u001b[0mioargs\u001b[0m\u001b[0;34m.\u001b[0m\u001b[0mmode\u001b[0m\u001b[0;34m,\u001b[0m\u001b[0;34m\u001b[0m\u001b[0;34m\u001b[0m\u001b[0m\n",
      "\u001b[0;31mFileNotFoundError\u001b[0m: [Errno 2] No such file or directory: '../data/staging/hexagonos_2019.csv'"
     ]
    }
   ],
   "source": [
    "df = gpd.read_file(raw_path)"
   ]
  },
  {
   "cell_type": "code",
   "execution_count": 112,
   "metadata": {
    "ExecuteTime": {
     "end_time": "2021-03-23T23:03:30.470590Z",
     "start_time": "2021-03-23T23:00:19.883329Z"
    },
    "collapsed": true
   },
   "outputs": [],
   "source": [
    "df.to_csv(treated_path, index=False)"
   ]
  },
  {
   "cell_type": "code",
   "execution_count": 7,
   "metadata": {
    "ExecuteTime": {
     "end_time": "2021-03-24T17:12:06.261622Z",
     "start_time": "2021-03-24T17:11:55.879948Z"
    }
   },
   "outputs": [],
   "source": [
    "df = pd.read_csv(treated_path)"
   ]
  },
  {
   "cell_type": "code",
   "execution_count": 8,
   "metadata": {
    "ExecuteTime": {
     "end_time": "2021-03-24T17:12:30.949093Z",
     "start_time": "2021-03-24T17:12:30.945246Z"
    },
    "collapsed": true
   },
   "outputs": [],
   "source": [
    "# Normalize Columns"
   ]
  },
  {
   "cell_type": "code",
   "execution_count": 45,
   "metadata": {
    "ExecuteTime": {
     "end_time": "2021-03-24T17:58:39.888990Z",
     "start_time": "2021-03-24T17:58:39.862335Z"
    },
    "collapsed": true
   },
   "outputs": [],
   "source": [
    "table_indicadores = [\n",
    "  'id_municipio',\n",
    "  'id_grid_h3',\n",
    "  'geometria',\n",
    "  'modo_transporte',\n",
    "  'horario_pico',\n",
    "  'CMATT15',\n",
    "  'CMATQ15',\n",
    "  'CMATD15',\n",
    "  'CMAST15',\n",
    "  'CMASB15',\n",
    "  'CMASM15',\n",
    "  'CMASA15',\n",
    "  'CMAET15',\n",
    "  'CMAEI15',\n",
    "  'CMAEF15',\n",
    "  'CMAEM15',\n",
    "  'CMATT30',\n",
    "  'CMATQ30',\n",
    "  'CMATD30',\n",
    "  'CMAST30',\n",
    "  'CMASB30',\n",
    "  'CMASM30',\n",
    "  'CMASA30',\n",
    "  'CMAET30',\n",
    "  'CMAEI30',\n",
    "  'CMAEF30',\n",
    "  'CMAEM30',\n",
    "  'CMATT45',\n",
    "  'CMATQ45',\n",
    "  'CMATD45',\n",
    "  'CMAST45',\n",
    "  'CMASB45',\n",
    "  'CMASM45',\n",
    "  'CMASA45',\n",
    "  'CMAET45',\n",
    "  'CMAEI45',\n",
    "  'CMAEF45',\n",
    "  'CMAEM45',\n",
    "  'CMATT60',\n",
    "  'CMATQ60',\n",
    "  'CMATD60',\n",
    "  'CMAST60',\n",
    "  'CMASB60',\n",
    "  'CMASM60',\n",
    "  'CMASA60',\n",
    "  'CMAET60',\n",
    "  'CMAEI60',\n",
    "  'CMAEF60',\n",
    "  'CMAEM60',\n",
    "  'CMATT90',\n",
    "  'CMATQ90',\n",
    "  'CMATD90',\n",
    "  'CMAST90',\n",
    "  'CMASB90',\n",
    "  'CMASM90',\n",
    "  'CMASA90',\n",
    "  'CMAET90',\n",
    "  'CMAEI90',\n",
    "  'CMAEF90',\n",
    "  'CMAEM90',\n",
    "  'CMATT120',\n",
    "  'CMATQ120',\n",
    "  'CMATD120',\n",
    "  'CMAST120',\n",
    "  'CMASB120',\n",
    "  'CMASM120',\n",
    "  'CMASA120',\n",
    "  'CMAET120',\n",
    "  'CMAEI120',\n",
    "  'CMAEF120',\n",
    "  'CMAEM120',\n",
    "  'TMIST',\n",
    "  'TMISB',\n",
    "  'TMISM',\n",
    "  'TMISA',\n",
    "  'TMIET',\n",
    "  'TMIEI',\n",
    "  'TMIEF',\n",
    "  'TMIEM', \n",
    "]\n",
    "\n",
    "table_estatisticas = [ \n",
    "  'id_municipio',\n",
    "  'id_grid_h3',\n",
    "  'geometria',\n",
    "  'quantidade_pessoas',\n",
    "  'quantidade_pessoas_brancas',\n",
    "  'quantidade_pessoas_negras',\n",
    "  'quantidade_pessoas_indigenas',\n",
    "  'quantidade_pessoas_amarelas',\n",
    "  'renda_domiciliar_pc',\n",
    "  'quintil_de_renda',\n",
    "  'decil_de_renda',\n",
    "  'quantidade_estabelecimentos_ensino',\n",
    "  'quantidade_estabelecimentos_ensino_infantil',\n",
    "  'quantidade_estabelecimentos_ensino_fundamental',\n",
    "  'quantidade_estabelecimentos_ensino_medio',\n",
    "  'quantidade_estabelecimentos_saude',\n",
    "  'quantidade_estabelecimentos_saude_baixa_complexidade',\n",
    "  'quantidade_estabelecimentos_saude_media_coplexidade',\n",
    "  'quantidade_estabelecimentos_saude_alta_coplexidade',\n",
    "]\n",
    "\n",
    "columns = {\n",
    " 'sigla_muni': None,\n",
    " 'nome_muni': None,\n",
    " 'cod_muni': 'id_municipio',\n",
    " 'id_hex': 'id_grid_h3',\n",
    " 'geometry': 'geometria',\n",
    " 'P001': 'quantidade_pessoas',\n",
    " 'P002': 'quantidade_pessoas_brancas',\n",
    " 'P003': 'quantidade_pessoas_negras',\n",
    " 'P004': 'quantidade_pessoas_indigenas',\n",
    " 'P005': 'quantidade_pessoas_amarelas',\n",
    " 'R001': 'renda_domiciliar_pc',\n",
    " 'R002': 'quintil_de_renda',\n",
    " 'R003': 'decil_de_renda',\n",
    " 'E001': 'quantidade_estabelecimentos_ensino',\n",
    " 'E002': 'quantidade_estabelecimentos_ensino_infantil',\n",
    " 'E003': 'quantidade_estabelecimentos_ensino_fundamental',\n",
    " 'E004': 'quantidade_estabelecimentos_ensino_medio',\n",
    " 'S001': 'quantidade_estabelecimentos_saude',\n",
    " 'S002': 'quantidade_estabelecimentos_saude_baixa_complexidade',\n",
    " 'S003': 'quantidade_estabelecimentos_saude_media_coplexidade',\n",
    " 'S004': 'quantidade_estabelecimentos_saude_alta_coplexidade',\n",
    " 'modo': 'modo_transporte',\n",
    " 'pico': 'horario_pico',\n",
    " 'CMATT15': 'CMATT15',\n",
    " 'CMATQ15': 'CMATQ15',\n",
    " 'CMATD15': 'CMATD15',\n",
    " 'CMAST15': 'CMAST15',\n",
    " 'CMASB15': 'CMASB15',\n",
    " 'CMASM15': 'CMASM15',\n",
    " 'CMASA15': 'CMASA15',\n",
    " 'CMAET15': 'CMAET15',\n",
    " 'CMAEI15': 'CMAEI15',\n",
    " 'CMAEF15': 'CMAEF15',\n",
    " 'CMAEM15': 'CMAEM15',\n",
    " 'CMATT30': 'CMATT30',\n",
    " 'CMATQ30': 'CMATQ30',\n",
    " 'CMATD30': 'CMATD30',\n",
    " 'CMAST30': 'CMAST30',\n",
    " 'CMASB30': 'CMASB30',\n",
    " 'CMASM30': 'CMASM30',\n",
    " 'CMASA30': 'CMASA30',\n",
    " 'CMAET30': 'CMAET30',\n",
    " 'CMAEI30': 'CMAEI30',\n",
    " 'CMAEF30': 'CMAEF30',\n",
    " 'CMAEM30': 'CMAEM30',\n",
    " 'CMATT45': 'CMATT45',\n",
    " 'CMATQ45': 'CMATQ45',\n",
    " 'CMATD45': 'CMATD45',\n",
    " 'CMAST45': 'CMAST45',\n",
    " 'CMASB45': 'CMASB45',\n",
    " 'CMASM45': 'CMASM45',\n",
    " 'CMASA45': 'CMASA45',\n",
    " 'CMAET45': 'CMAET45',\n",
    " 'CMAEI45': 'CMAEI45',\n",
    " 'CMAEF45': 'CMAEF45',\n",
    " 'CMAEM45': 'CMAEM45',\n",
    " 'CMATT60': 'CMATT60',\n",
    " 'CMATQ60': 'CMATQ60',\n",
    " 'CMATD60': 'CMATD60',\n",
    " 'CMAST60': 'CMAST60',\n",
    " 'CMASB60': 'CMASB60',\n",
    " 'CMASM60': 'CMASM60',\n",
    " 'CMASA60': 'CMASA60',\n",
    " 'CMAET60': 'CMAET60',\n",
    " 'CMAEI60': 'CMAEI60',\n",
    " 'CMAEF60': 'CMAEF60',\n",
    " 'CMAEM60': 'CMAEM60',\n",
    " 'CMATT90': 'CMATT90',\n",
    " 'CMATQ90': 'CMATQ90',\n",
    " 'CMATD90': 'CMATD90',\n",
    " 'CMAST90': 'CMAST90',\n",
    " 'CMASB90': 'CMASB90',\n",
    " 'CMASM90': 'CMASM90',\n",
    " 'CMASA90': 'CMASA90',\n",
    " 'CMAET90': 'CMAET90',\n",
    " 'CMAEI90': 'CMAEI90',\n",
    " 'CMAEF90': 'CMAEF90',\n",
    " 'CMAEM90': 'CMAEM90',\n",
    " 'CMATT120': 'CMATT120',\n",
    " 'CMATQ120': 'CMATQ120',\n",
    " 'CMATD120': 'CMATD120',\n",
    " 'CMAST120': 'CMAST120',\n",
    " 'CMASB120': 'CMASB120',\n",
    " 'CMASM120': 'CMASM120',\n",
    " 'CMASA120': 'CMASA120',\n",
    " 'CMAET120': 'CMAET120',\n",
    " 'CMAEI120': 'CMAEI120',\n",
    " 'CMAEF120': 'CMAEF120',\n",
    " 'CMAEM120': 'CMAEM120',\n",
    " 'TMIST': 'TMIST',\n",
    " 'TMISB': 'TMISB',\n",
    " 'TMISM': 'TMISM',\n",
    " 'TMISA': 'TMISA',\n",
    " 'TMIET': 'TMIET',\n",
    " 'TMIEI': 'TMIEI',\n",
    " 'TMIEF': 'TMIEF',\n",
    " 'TMIEM': 'TMIEM',\n",
    " }"
   ]
  },
  {
   "cell_type": "code",
   "execution_count": 11,
   "metadata": {
    "ExecuteTime": {
     "end_time": "2021-03-24T17:21:12.031884Z",
     "start_time": "2021-03-24T17:21:09.428493Z"
    },
    "collapsed": true
   },
   "outputs": [],
   "source": [
    "df = df.rename(columns=columns)[[c for c in columns.values() if c is not None]]"
   ]
  },
  {
   "cell_type": "code",
   "execution_count": 12,
   "metadata": {
    "ExecuteTime": {
     "end_time": "2021-03-24T17:21:13.803675Z",
     "start_time": "2021-03-24T17:21:12.865252Z"
    },
    "collapsed": true
   },
   "outputs": [],
   "source": [
    "df['id_municipio'] = df['id_municipio'].apply(int)"
   ]
  },
  {
   "cell_type": "code",
   "execution_count": 13,
   "metadata": {
    "ExecuteTime": {
     "end_time": "2021-03-24T17:21:18.310510Z",
     "start_time": "2021-03-24T17:21:18.248924Z"
    },
    "scrolled": true
   },
   "outputs": [
    {
     "data": {
      "text/html": [
       "<div>\n",
       "<style scoped>\n",
       "    .dataframe tbody tr th:only-of-type {\n",
       "        vertical-align: middle;\n",
       "    }\n",
       "\n",
       "    .dataframe tbody tr th {\n",
       "        vertical-align: top;\n",
       "    }\n",
       "\n",
       "    .dataframe thead th {\n",
       "        text-align: right;\n",
       "    }\n",
       "</style>\n",
       "<table border=\"1\" class=\"dataframe\">\n",
       "  <thead>\n",
       "    <tr style=\"text-align: right;\">\n",
       "      <th></th>\n",
       "      <th>id_municipio</th>\n",
       "      <th>id_grid_h3</th>\n",
       "      <th>geometria</th>\n",
       "      <th>quantidade_pessoas</th>\n",
       "      <th>quantidade_pessoas_brancas</th>\n",
       "      <th>quantidade_pessoas_negras</th>\n",
       "      <th>quantidade_pessoas_indigenas</th>\n",
       "      <th>quantidade_pessoas_amarelas</th>\n",
       "      <th>renda_domiciliar_pc</th>\n",
       "      <th>quintil_de_renda</th>\n",
       "      <th>...</th>\n",
       "      <th>CMAEF120</th>\n",
       "      <th>CMAEM120</th>\n",
       "      <th>TMIST</th>\n",
       "      <th>TMISB</th>\n",
       "      <th>TMISM</th>\n",
       "      <th>TMISA</th>\n",
       "      <th>TMIET</th>\n",
       "      <th>TMIEI</th>\n",
       "      <th>TMIEF</th>\n",
       "      <th>TMIEM</th>\n",
       "    </tr>\n",
       "  </thead>\n",
       "  <tbody>\n",
       "    <tr>\n",
       "      <th>0</th>\n",
       "      <td>2304400</td>\n",
       "      <td>8980104e383ffff</td>\n",
       "      <td>POLYGON ((-38.51885466312267 -3.79277222097549...</td>\n",
       "      <td>3.0</td>\n",
       "      <td>1.0</td>\n",
       "      <td>2.0</td>\n",
       "      <td>0.0</td>\n",
       "      <td>0.0</td>\n",
       "      <td>284.6</td>\n",
       "      <td>1.0</td>\n",
       "      <td>...</td>\n",
       "      <td>NaN</td>\n",
       "      <td>NaN</td>\n",
       "      <td>7.5167</td>\n",
       "      <td>7.5167</td>\n",
       "      <td>7.5167</td>\n",
       "      <td>19.1167</td>\n",
       "      <td>5.2000</td>\n",
       "      <td>6.9667</td>\n",
       "      <td>5.2000</td>\n",
       "      <td>5.2000</td>\n",
       "    </tr>\n",
       "    <tr>\n",
       "      <th>1</th>\n",
       "      <td>2304400</td>\n",
       "      <td>8980104e383ffff</td>\n",
       "      <td>POLYGON ((-38.51885466312267 -3.79277222097549...</td>\n",
       "      <td>3.0</td>\n",
       "      <td>1.0</td>\n",
       "      <td>2.0</td>\n",
       "      <td>0.0</td>\n",
       "      <td>0.0</td>\n",
       "      <td>284.6</td>\n",
       "      <td>1.0</td>\n",
       "      <td>...</td>\n",
       "      <td>0.9973</td>\n",
       "      <td>1.0</td>\n",
       "      <td>16.6833</td>\n",
       "      <td>16.6833</td>\n",
       "      <td>16.6833</td>\n",
       "      <td>26.7833</td>\n",
       "      <td>7.6667</td>\n",
       "      <td>17.6500</td>\n",
       "      <td>7.6667</td>\n",
       "      <td>7.6667</td>\n",
       "    </tr>\n",
       "  </tbody>\n",
       "</table>\n",
       "<p>2 rows × 95 columns</p>\n",
       "</div>"
      ],
      "text/plain": [
       "   id_municipio       id_grid_h3  \\\n",
       "0       2304400  8980104e383ffff   \n",
       "1       2304400  8980104e383ffff   \n",
       "\n",
       "                                           geometria  quantidade_pessoas  \\\n",
       "0  POLYGON ((-38.51885466312267 -3.79277222097549...                 3.0   \n",
       "1  POLYGON ((-38.51885466312267 -3.79277222097549...                 3.0   \n",
       "\n",
       "   quantidade_pessoas_brancas  quantidade_pessoas_negras  \\\n",
       "0                         1.0                        2.0   \n",
       "1                         1.0                        2.0   \n",
       "\n",
       "   quantidade_pessoas_indigenas  quantidade_pessoas_amarelas  \\\n",
       "0                           0.0                          0.0   \n",
       "1                           0.0                          0.0   \n",
       "\n",
       "   renda_domiciliar_pc  quintil_de_renda  ...  CMAEF120  CMAEM120    TMIST  \\\n",
       "0                284.6               1.0  ...       NaN       NaN   7.5167   \n",
       "1                284.6               1.0  ...    0.9973       1.0  16.6833   \n",
       "\n",
       "     TMISB    TMISM    TMISA   TMIET    TMIEI   TMIEF   TMIEM  \n",
       "0   7.5167   7.5167  19.1167  5.2000   6.9667  5.2000  5.2000  \n",
       "1  16.6833  16.6833  26.7833  7.6667  17.6500  7.6667  7.6667  \n",
       "\n",
       "[2 rows x 95 columns]"
      ]
     },
     "execution_count": 13,
     "metadata": {},
     "output_type": "execute_result"
    }
   ],
   "source": [
    "df.head(2)"
   ]
  },
  {
   "cell_type": "code",
   "execution_count": 26,
   "metadata": {
    "ExecuteTime": {
     "end_time": "2021-03-24T17:25:24.086588Z",
     "start_time": "2021-03-24T17:25:24.057281Z"
    },
    "collapsed": true
   },
   "outputs": [],
   "source": [
    "## Save estatisticas"
   ]
  },
  {
   "cell_type": "code",
   "execution_count": null,
   "metadata": {
    "collapsed": true
   },
   "outputs": [],
   "source": [
    "#### Transform quantidade to int"
   ]
  },
  {
   "cell_type": "code",
   "execution_count": 35,
   "metadata": {
    "ExecuteTime": {
     "end_time": "2021-03-24T17:42:13.559669Z",
     "start_time": "2021-03-24T17:42:05.113356Z"
    }
   },
   "outputs": [],
   "source": [
    "cols = [c for c in df.columns if 'quant' in c]\n",
    "df[cols] = df[cols].applymap(int)"
   ]
  },
  {
   "cell_type": "code",
   "execution_count": 36,
   "metadata": {
    "ExecuteTime": {
     "end_time": "2021-03-24T17:42:21.509122Z",
     "start_time": "2021-03-24T17:42:14.570069Z"
    }
   },
   "outputs": [],
   "source": [
    "(df[table_estatisticas]\n",
    " .drop_duplicates()\n",
    " .to_csv(output_path + 'estatisticas.csv', index=False)\n",
    ")"
   ]
  },
  {
   "cell_type": "code",
   "execution_count": 37,
   "metadata": {
    "ExecuteTime": {
     "end_time": "2021-03-24T17:42:37.910667Z",
     "start_time": "2021-03-24T17:42:37.855029Z"
    }
   },
   "outputs": [],
   "source": [
    "t = bd.Table(dataset_id='br_ipea_acesso_oportunidades', \n",
    "             table_id='estatisticas_2019')\n"
   ]
  },
  {
   "cell_type": "code",
   "execution_count": 40,
   "metadata": {
    "ExecuteTime": {
     "end_time": "2021-03-24T17:45:10.354947Z",
     "start_time": "2021-03-24T17:44:55.870123Z"
    }
   },
   "outputs": [
    {
     "name": "stderr",
     "output_type": "stream",
     "text": [
      "Uploading files: 100%|██████████| 1/1 [00:11<00:00, 11.39s/it]\n"
     ]
    }
   ],
   "source": [
    "t.create(output_path + 'estatisticas.csv', \n",
    "         if_storage_data_exists='replace',\n",
    "         if_table_config_exists='pass',\n",
    "         if_table_exists='replace'\n",
    "        )"
   ]
  },
  {
   "cell_type": "code",
   "execution_count": 41,
   "metadata": {
    "ExecuteTime": {
     "end_time": "2021-03-24T17:45:37.075565Z",
     "start_time": "2021-03-24T17:45:34.971054Z"
    }
   },
   "outputs": [],
   "source": [
    "t.publish()"
   ]
  },
  {
   "cell_type": "code",
   "execution_count": null,
   "metadata": {
    "collapsed": true
   },
   "outputs": [],
   "source": [
    "## Save indicadores"
   ]
  },
  {
   "cell_type": "code",
   "execution_count": 90,
   "metadata": {
    "ExecuteTime": {
     "end_time": "2021-03-24T18:18:51.696998Z",
     "start_time": "2021-03-24T18:18:50.987641Z"
    },
    "scrolled": true
   },
   "outputs": [],
   "source": [
    "import math\n",
    "import numpy as np\n",
    "def func(x):\n",
    "    \n",
    "    if math.isnan(x):\n",
    "#         print('h')\n",
    "        return np.nan\n",
    "    else:\n",
    "#         print('i', int(x))\n",
    "        return int(x)\n",
    "    \n",
    "df['se_horario_de_pico'] = df['se_horario_de_pico'].astype('Int64')"
   ]
  },
  {
   "cell_type": "code",
   "execution_count": 92,
   "metadata": {
    "ExecuteTime": {
     "end_time": "2021-03-24T18:19:27.319201Z",
     "start_time": "2021-03-24T18:19:08.943749Z"
    },
    "collapsed": true
   },
   "outputs": [],
   "source": [
    "(df[table_indicadores]\n",
    " .dropna(subset=[c for c in a.columns if c not in ['id_municipio', \n",
    "                                                 'id_grid_h3',\n",
    "                                                 'geometria']],\n",
    "                 how='all')\n",
    " .to_csv(output_path + 'indicadores.csv', index=False)\n",
    ")"
   ]
  },
  {
   "cell_type": "code",
   "execution_count": 4,
   "metadata": {
    "ExecuteTime": {
     "end_time": "2021-03-24T19:18:05.273145Z",
     "start_time": "2021-03-24T19:17:48.253050Z"
    },
    "scrolled": true
   },
   "outputs": [
    {
     "name": "stderr",
     "output_type": "stream",
     "text": [
      "Uploading files: 100%|██████████| 1/1 [00:13<00:00, 13.27s/it]\n"
     ]
    }
   ],
   "source": [
    "t = bd.Table(dataset_id='br_ipea_acesso_oportunidades', \n",
    "             table_id='indicadores_2019')\n",
    "t.create(output_path + 'indicadores.csv', \n",
    "         if_storage_data_exists='replace',\n",
    "         if_table_config_exists='pass',\n",
    "         if_table_exists='replace'\n",
    "        )"
   ]
  },
  {
   "cell_type": "code",
   "execution_count": 6,
   "metadata": {
    "ExecuteTime": {
     "end_time": "2021-03-24T19:19:18.926948Z",
     "start_time": "2021-03-24T19:19:14.645125Z"
    }
   },
   "outputs": [],
   "source": [
    "t.publish(if_exists='replace')"
   ]
  },
  {
   "cell_type": "code",
   "execution_count": 122,
   "metadata": {
    "ExecuteTime": {
     "end_time": "2021-03-23T23:17:21.937211Z",
     "start_time": "2021-03-23T23:17:21.914335Z"
    },
    "collapsed": true
   },
   "outputs": [],
   "source": [
    "# Complete column description"
   ]
  },
  {
   "cell_type": "code",
   "execution_count": 99,
   "metadata": {
    "ExecuteTime": {
     "end_time": "2021-03-24T19:01:30.327457Z",
     "start_time": "2021-03-24T19:01:30.310070Z"
    },
    "collapsed": true
   },
   "outputs": [],
   "source": [
    "template = {\n",
    "    'CMA': 'Proporção de {oport} acessíveis em até {minutos} minutos',\n",
    "    'TMI': 'Indicador de tempo mínimo até {oport} mais próximo'\n",
    "}"
   ]
  },
  {
   "cell_type": "code",
   "execution_count": 100,
   "metadata": {
    "ExecuteTime": {
     "end_time": "2021-03-24T19:01:32.823907Z",
     "start_time": "2021-03-24T19:01:32.763920Z"
    },
    "collapsed": true
   },
   "outputs": [],
   "source": [
    "oports = {\n",
    "'TT': 'empregos',\n",
    "'TQ': 'empregos pelo match do quintil de renda',\n",
    "'TD': 'empregos pelo match do decil de renda',\n",
    "'ST': 'estabelecimentos de saúde',\n",
    "'SB': 'estabelecimentos de sáude de baixa complexidade',\n",
    "'SM': 'estabelecimentos de sáude de media complexidade',\n",
    "'SA': 'estabelecimentos de sáude de alta complexidade',\n",
    "'ET': 'estabelecimentos de educação',\n",
    "'EI': 'estabelecimentos de educação infantil',\n",
    "'EF': 'estabelecimentos de educação fundamental',\n",
    "'EM': 'estabelecimentos de educação média',\n",
    "}"
   ]
  },
  {
   "cell_type": "code",
   "execution_count": 101,
   "metadata": {
    "ExecuteTime": {
     "end_time": "2021-03-24T19:01:33.913256Z",
     "start_time": "2021-03-24T19:01:33.841240Z"
    },
    "collapsed": true
   },
   "outputs": [],
   "source": [
    "def complete(c, v):\n",
    "    \n",
    "    if c[:3] == 'CMA':\n",
    "    \n",
    "        return template['CMA'].format(oport=oports[c[3:5]], \n",
    "                                      minutos=c[5:])\n",
    "    elif c[:3] == 'TMI':\n",
    "    \n",
    "        return template['TMI'].format(oport=oports[c[3:5]])\n",
    "    \n",
    "    else:\n",
    "        return None\n",
    "    \n",
    "descs = {c: complete(c, v) for c, v in columns.items() if complete(c, v) is not None}"
   ]
  },
  {
   "cell_type": "code",
   "execution_count": 102,
   "metadata": {
    "ExecuteTime": {
     "end_time": "2021-03-24T19:01:34.927932Z",
     "start_time": "2021-03-24T19:01:34.889378Z"
    },
    "collapsed": true
   },
   "outputs": [],
   "source": [
    "import yaml"
   ]
  },
  {
   "cell_type": "code",
   "execution_count": 103,
   "metadata": {
    "ExecuteTime": {
     "end_time": "2021-03-24T19:01:43.175531Z",
     "start_time": "2021-03-24T19:01:43.000897Z"
    },
    "collapsed": true
   },
   "outputs": [],
   "source": [
    "config = yaml.load(open('/Users/joaoc/Documents/Projects/mais/bases/br_ipea_acesso_oportunidades/indicadores_2019/table_config.yaml'))"
   ]
  },
  {
   "cell_type": "code",
   "execution_count": 104,
   "metadata": {
    "ExecuteTime": {
     "end_time": "2021-03-24T19:01:44.293935Z",
     "start_time": "2021-03-24T19:01:44.039736Z"
    }
   },
   "outputs": [
    {
     "name": "stdout",
     "output_type": "stream",
     "text": [
      "\n",
      "-\n",
      "\tname:  id_municipio\n",
      "\tdescription:  ID Município - IBGE 7 Dígitos\n",
      "\tis_in_staging:  True\n",
      "\tis_partition:  False\n",
      "\n",
      "-\n",
      "\tname:  id_grid_h3\n",
      "\tdescription:  Identificador único do hexágono (resolucao 9)\n",
      "\tis_in_staging:  True\n",
      "\tis_partition:  False\n",
      "\n",
      "-\n",
      "\tname:  geometria\n",
      "\tdescription:  Geometria do hexágono\n",
      "\tis_in_staging:  True\n",
      "\tis_partition:  False\n",
      "\n",
      "-\n",
      "\tname:  modo_transporte\n",
      "\tdescription:  Modo de transporte do indicador de acessibilidade -- tp (transporte público), bicicleta ou caminhada\n",
      "\tis_in_staging:  True\n",
      "\tis_partition:  False\n",
      "\n",
      "-\n",
      "\tname:  horario_pico\n",
      "\tdescription:  Informação se o indicador é em hora pico ou fora-pico -- 1 (pico) ou 0 (fora pico)\n",
      "\tis_in_staging:  True\n",
      "\tis_partition:  False\n",
      "\n",
      "-\n",
      "\tname:  CMATT15\n",
      "\tdescription:  Proporção de empregos acessíveis em até 15 minutos\n",
      "\tis_in_staging:  True\n",
      "\tis_partition:  False\n",
      "\n",
      "-\n",
      "\tname:  CMATQ15\n",
      "\tdescription:  Proporção de empregos pelo match do quintil de renda acessíveis em até 15 minutos\n",
      "\tis_in_staging:  True\n",
      "\tis_partition:  False\n",
      "\n",
      "-\n",
      "\tname:  CMATD15\n",
      "\tdescription:  Proporção de empregos pelo match do decil de renda acessíveis em até 15 minutos\n",
      "\tis_in_staging:  True\n",
      "\tis_partition:  False\n",
      "\n",
      "-\n",
      "\tname:  CMAST15\n",
      "\tdescription:  Proporção de estabelecimentos de saúde acessíveis em até 15 minutos\n",
      "\tis_in_staging:  True\n",
      "\tis_partition:  False\n",
      "\n",
      "-\n",
      "\tname:  CMASB15\n",
      "\tdescription:  Proporção de estabelecimentos de sáude de baixa complexidade acessíveis em até 15 minutos\n",
      "\tis_in_staging:  True\n",
      "\tis_partition:  False\n",
      "\n",
      "-\n",
      "\tname:  CMASM15\n",
      "\tdescription:  Proporção de estabelecimentos de sáude de media complexidade acessíveis em até 15 minutos\n",
      "\tis_in_staging:  True\n",
      "\tis_partition:  False\n",
      "\n",
      "-\n",
      "\tname:  CMASA15\n",
      "\tdescription:  Proporção de estabelecimentos de sáude de alta complexidade acessíveis em até 15 minutos\n",
      "\tis_in_staging:  True\n",
      "\tis_partition:  False\n",
      "\n",
      "-\n",
      "\tname:  CMAET15\n",
      "\tdescription:  Proporção de estabelecimentos de educação acessíveis em até 15 minutos\n",
      "\tis_in_staging:  True\n",
      "\tis_partition:  False\n",
      "\n",
      "-\n",
      "\tname:  CMAEI15\n",
      "\tdescription:  Proporção de estabelecimentos de educação infantil acessíveis em até 15 minutos\n",
      "\tis_in_staging:  True\n",
      "\tis_partition:  False\n",
      "\n",
      "-\n",
      "\tname:  CMAEF15\n",
      "\tdescription:  Proporção de estabelecimentos de educação fundamental acessíveis em até 15 minutos\n",
      "\tis_in_staging:  True\n",
      "\tis_partition:  False\n",
      "\n",
      "-\n",
      "\tname:  CMAEM15\n",
      "\tdescription:  Proporção de estabelecimentos de educação média acessíveis em até 15 minutos\n",
      "\tis_in_staging:  True\n",
      "\tis_partition:  False\n",
      "\n",
      "-\n",
      "\tname:  CMATT30\n",
      "\tdescription:  Proporção de empregos acessíveis em até 30 minutos\n",
      "\tis_in_staging:  True\n",
      "\tis_partition:  False\n",
      "\n",
      "-\n",
      "\tname:  CMATQ30\n",
      "\tdescription:  Proporção de empregos pelo match do quintil de renda acessíveis em até 30 minutos\n",
      "\tis_in_staging:  True\n",
      "\tis_partition:  False\n",
      "\n",
      "-\n",
      "\tname:  CMATD30\n",
      "\tdescription:  Proporção de empregos pelo match do decil de renda acessíveis em até 30 minutos\n",
      "\tis_in_staging:  True\n",
      "\tis_partition:  False\n",
      "\n",
      "-\n",
      "\tname:  CMAST30\n",
      "\tdescription:  Proporção de estabelecimentos de saúde acessíveis em até 30 minutos\n",
      "\tis_in_staging:  True\n",
      "\tis_partition:  False\n",
      "\n",
      "-\n",
      "\tname:  CMASB30\n",
      "\tdescription:  Proporção de estabelecimentos de sáude de baixa complexidade acessíveis em até 30 minutos\n",
      "\tis_in_staging:  True\n",
      "\tis_partition:  False\n",
      "\n",
      "-\n",
      "\tname:  CMASM30\n",
      "\tdescription:  Proporção de estabelecimentos de sáude de media complexidade acessíveis em até 30 minutos\n",
      "\tis_in_staging:  True\n",
      "\tis_partition:  False\n",
      "\n",
      "-\n",
      "\tname:  CMASA30\n",
      "\tdescription:  Proporção de estabelecimentos de sáude de alta complexidade acessíveis em até 30 minutos\n",
      "\tis_in_staging:  True\n",
      "\tis_partition:  False\n",
      "\n",
      "-\n",
      "\tname:  CMAET30\n",
      "\tdescription:  Proporção de estabelecimentos de educação acessíveis em até 30 minutos\n",
      "\tis_in_staging:  True\n",
      "\tis_partition:  False\n",
      "\n",
      "-\n",
      "\tname:  CMAEI30\n",
      "\tdescription:  Proporção de estabelecimentos de educação infantil acessíveis em até 30 minutos\n",
      "\tis_in_staging:  True\n",
      "\tis_partition:  False\n",
      "\n",
      "-\n",
      "\tname:  CMAEF30\n",
      "\tdescription:  Proporção de estabelecimentos de educação fundamental acessíveis em até 30 minutos\n",
      "\tis_in_staging:  True\n",
      "\tis_partition:  False\n",
      "\n",
      "-\n",
      "\tname:  CMAEM30\n",
      "\tdescription:  Proporção de estabelecimentos de educação média acessíveis em até 30 minutos\n",
      "\tis_in_staging:  True\n",
      "\tis_partition:  False\n",
      "\n",
      "-\n",
      "\tname:  CMATT45\n",
      "\tdescription:  Proporção de empregos acessíveis em até 45 minutos\n",
      "\tis_in_staging:  True\n",
      "\tis_partition:  False\n",
      "\n",
      "-\n",
      "\tname:  CMATQ45\n",
      "\tdescription:  Proporção de empregos pelo match do quintil de renda acessíveis em até 45 minutos\n",
      "\tis_in_staging:  True\n",
      "\tis_partition:  False\n",
      "\n",
      "-\n",
      "\tname:  CMATD45\n",
      "\tdescription:  Proporção de empregos pelo match do decil de renda acessíveis em até 45 minutos\n",
      "\tis_in_staging:  True\n",
      "\tis_partition:  False\n",
      "\n",
      "-\n",
      "\tname:  CMAST45\n",
      "\tdescription:  Proporção de estabelecimentos de saúde acessíveis em até 45 minutos\n",
      "\tis_in_staging:  True\n",
      "\tis_partition:  False\n",
      "\n",
      "-\n",
      "\tname:  CMASB45\n",
      "\tdescription:  Proporção de estabelecimentos de sáude de baixa complexidade acessíveis em até 45 minutos\n",
      "\tis_in_staging:  True\n",
      "\tis_partition:  False\n",
      "\n",
      "-\n",
      "\tname:  CMASM45\n",
      "\tdescription:  Proporção de estabelecimentos de sáude de media complexidade acessíveis em até 45 minutos\n",
      "\tis_in_staging:  True\n",
      "\tis_partition:  False\n",
      "\n",
      "-\n",
      "\tname:  CMASA45\n",
      "\tdescription:  Proporção de estabelecimentos de sáude de alta complexidade acessíveis em até 45 minutos\n",
      "\tis_in_staging:  True\n",
      "\tis_partition:  False\n",
      "\n",
      "-\n",
      "\tname:  CMAET45\n",
      "\tdescription:  Proporção de estabelecimentos de educação acessíveis em até 45 minutos\n",
      "\tis_in_staging:  True\n",
      "\tis_partition:  False\n",
      "\n",
      "-\n",
      "\tname:  CMAEI45\n",
      "\tdescription:  Proporção de estabelecimentos de educação infantil acessíveis em até 45 minutos\n",
      "\tis_in_staging:  True\n",
      "\tis_partition:  False\n",
      "\n",
      "-\n",
      "\tname:  CMAEF45\n",
      "\tdescription:  Proporção de estabelecimentos de educação fundamental acessíveis em até 45 minutos\n",
      "\tis_in_staging:  True\n",
      "\tis_partition:  False\n",
      "\n",
      "-\n",
      "\tname:  CMAEM45\n",
      "\tdescription:  Proporção de estabelecimentos de educação média acessíveis em até 45 minutos\n",
      "\tis_in_staging:  True\n",
      "\tis_partition:  False\n",
      "\n",
      "-\n",
      "\tname:  CMATT60\n",
      "\tdescription:  Proporção de empregos acessíveis em até 60 minutos\n",
      "\tis_in_staging:  True\n",
      "\tis_partition:  False\n",
      "\n",
      "-\n",
      "\tname:  CMATQ60\n",
      "\tdescription:  Proporção de empregos pelo match do quintil de renda acessíveis em até 60 minutos\n",
      "\tis_in_staging:  True\n",
      "\tis_partition:  False\n",
      "\n",
      "-\n",
      "\tname:  CMATD60\n",
      "\tdescription:  Proporção de empregos pelo match do decil de renda acessíveis em até 60 minutos\n",
      "\tis_in_staging:  True\n",
      "\tis_partition:  False\n",
      "\n",
      "-\n",
      "\tname:  CMAST60\n",
      "\tdescription:  Proporção de estabelecimentos de saúde acessíveis em até 60 minutos\n",
      "\tis_in_staging:  True\n",
      "\tis_partition:  False\n",
      "\n",
      "-\n",
      "\tname:  CMASB60\n",
      "\tdescription:  Proporção de estabelecimentos de sáude de baixa complexidade acessíveis em até 60 minutos\n",
      "\tis_in_staging:  True\n",
      "\tis_partition:  False\n",
      "\n",
      "-\n",
      "\tname:  CMASM60\n",
      "\tdescription:  Proporção de estabelecimentos de sáude de media complexidade acessíveis em até 60 minutos\n",
      "\tis_in_staging:  True\n",
      "\tis_partition:  False\n",
      "\n",
      "-\n",
      "\tname:  CMASA60\n",
      "\tdescription:  Proporção de estabelecimentos de sáude de alta complexidade acessíveis em até 60 minutos\n",
      "\tis_in_staging:  True\n",
      "\tis_partition:  False\n",
      "\n",
      "-\n",
      "\tname:  CMAET60\n",
      "\tdescription:  Proporção de estabelecimentos de educação acessíveis em até 60 minutos\n",
      "\tis_in_staging:  True\n",
      "\tis_partition:  False\n",
      "\n",
      "-\n",
      "\tname:  CMAEI60\n",
      "\tdescription:  Proporção de estabelecimentos de educação infantil acessíveis em até 60 minutos\n",
      "\tis_in_staging:  True\n",
      "\tis_partition:  False\n",
      "\n",
      "-\n",
      "\tname:  CMAEF60\n",
      "\tdescription:  Proporção de estabelecimentos de educação fundamental acessíveis em até 60 minutos\n",
      "\tis_in_staging:  True\n",
      "\tis_partition:  False\n",
      "\n",
      "-\n",
      "\tname:  CMAEM60\n",
      "\tdescription:  Proporção de estabelecimentos de educação média acessíveis em até 60 minutos\n",
      "\tis_in_staging:  True\n",
      "\tis_partition:  False\n",
      "\n",
      "-\n",
      "\tname:  CMATT90\n",
      "\tdescription:  Proporção de empregos acessíveis em até 90 minutos\n",
      "\tis_in_staging:  True\n",
      "\tis_partition:  False\n",
      "\n",
      "-\n",
      "\tname:  CMATQ90\n",
      "\tdescription:  Proporção de empregos pelo match do quintil de renda acessíveis em até 90 minutos\n",
      "\tis_in_staging:  True\n",
      "\tis_partition:  False\n",
      "\n",
      "-\n",
      "\tname:  CMATD90\n",
      "\tdescription:  Proporção de empregos pelo match do decil de renda acessíveis em até 90 minutos\n",
      "\tis_in_staging:  True\n",
      "\tis_partition:  False\n",
      "\n",
      "-\n",
      "\tname:  CMAST90\n",
      "\tdescription:  Proporção de estabelecimentos de saúde acessíveis em até 90 minutos\n",
      "\tis_in_staging:  True\n",
      "\tis_partition:  False\n",
      "\n",
      "-\n",
      "\tname:  CMASB90\n",
      "\tdescription:  Proporção de estabelecimentos de sáude de baixa complexidade acessíveis em até 90 minutos\n",
      "\tis_in_staging:  True\n",
      "\tis_partition:  False\n",
      "\n",
      "-\n",
      "\tname:  CMASM90\n",
      "\tdescription:  Proporção de estabelecimentos de sáude de media complexidade acessíveis em até 90 minutos\n",
      "\tis_in_staging:  True\n",
      "\tis_partition:  False\n",
      "\n",
      "-\n",
      "\tname:  CMASA90\n",
      "\tdescription:  Proporção de estabelecimentos de sáude de alta complexidade acessíveis em até 90 minutos\n",
      "\tis_in_staging:  True\n",
      "\tis_partition:  False\n",
      "\n",
      "-\n",
      "\tname:  CMAET90\n",
      "\tdescription:  Proporção de estabelecimentos de educação acessíveis em até 90 minutos\n",
      "\tis_in_staging:  True\n",
      "\tis_partition:  False\n",
      "\n",
      "-\n",
      "\tname:  CMAEI90\n",
      "\tdescription:  Proporção de estabelecimentos de educação infantil acessíveis em até 90 minutos\n",
      "\tis_in_staging:  True\n",
      "\tis_partition:  False\n",
      "\n",
      "-\n",
      "\tname:  CMAEF90\n",
      "\tdescription:  Proporção de estabelecimentos de educação fundamental acessíveis em até 90 minutos\n",
      "\tis_in_staging:  True\n",
      "\tis_partition:  False\n",
      "\n",
      "-\n",
      "\tname:  CMAEM90\n",
      "\tdescription:  Proporção de estabelecimentos de educação média acessíveis em até 90 minutos\n",
      "\tis_in_staging:  True\n",
      "\tis_partition:  False\n",
      "\n",
      "-\n",
      "\tname:  CMATT120\n",
      "\tdescription:  Proporção de empregos acessíveis em até 120 minutos\n",
      "\tis_in_staging:  True\n",
      "\tis_partition:  False\n",
      "\n",
      "-\n",
      "\tname:  CMATQ120\n",
      "\tdescription:  Proporção de empregos pelo match do quintil de renda acessíveis em até 120 minutos\n",
      "\tis_in_staging:  True\n",
      "\tis_partition:  False\n",
      "\n",
      "-\n",
      "\tname:  CMATD120\n",
      "\tdescription:  Proporção de empregos pelo match do decil de renda acessíveis em até 120 minutos\n"
     ]
    },
    {
     "name": "stdout",
     "output_type": "stream",
     "text": [
      "\tis_in_staging:  True\n",
      "\tis_partition:  False\n",
      "\n",
      "-\n",
      "\tname:  CMAST120\n",
      "\tdescription:  Proporção de estabelecimentos de saúde acessíveis em até 120 minutos\n",
      "\tis_in_staging:  True\n",
      "\tis_partition:  False\n",
      "\n",
      "-\n",
      "\tname:  CMASB120\n",
      "\tdescription:  Proporção de estabelecimentos de sáude de baixa complexidade acessíveis em até 120 minutos\n",
      "\tis_in_staging:  True\n",
      "\tis_partition:  False\n",
      "\n",
      "-\n",
      "\tname:  CMASM120\n",
      "\tdescription:  Proporção de estabelecimentos de sáude de media complexidade acessíveis em até 120 minutos\n",
      "\tis_in_staging:  True\n",
      "\tis_partition:  False\n",
      "\n",
      "-\n",
      "\tname:  CMASA120\n",
      "\tdescription:  Proporção de estabelecimentos de sáude de alta complexidade acessíveis em até 120 minutos\n",
      "\tis_in_staging:  True\n",
      "\tis_partition:  False\n",
      "\n",
      "-\n",
      "\tname:  CMAET120\n",
      "\tdescription:  Proporção de estabelecimentos de educação acessíveis em até 120 minutos\n",
      "\tis_in_staging:  True\n",
      "\tis_partition:  False\n",
      "\n",
      "-\n",
      "\tname:  CMAEI120\n",
      "\tdescription:  Proporção de estabelecimentos de educação infantil acessíveis em até 120 minutos\n",
      "\tis_in_staging:  True\n",
      "\tis_partition:  False\n",
      "\n",
      "-\n",
      "\tname:  CMAEF120\n",
      "\tdescription:  Proporção de estabelecimentos de educação fundamental acessíveis em até 120 minutos\n",
      "\tis_in_staging:  True\n",
      "\tis_partition:  False\n",
      "\n",
      "-\n",
      "\tname:  CMAEM120\n",
      "\tdescription:  Proporção de estabelecimentos de educação média acessíveis em até 120 minutos\n",
      "\tis_in_staging:  True\n",
      "\tis_partition:  False\n",
      "\n",
      "-\n",
      "\tname:  TMIST\n",
      "\tdescription:  Indicador de tempo mínimo até estabelecimentos de saúde mais próximo\n",
      "\tis_in_staging:  True\n",
      "\tis_partition:  False\n",
      "\n",
      "-\n",
      "\tname:  TMISB\n",
      "\tdescription:  Indicador de tempo mínimo até estabelecimentos de sáude de baixa complexidade mais próximo\n",
      "\tis_in_staging:  True\n",
      "\tis_partition:  False\n",
      "\n",
      "-\n",
      "\tname:  TMISM\n",
      "\tdescription:  Indicador de tempo mínimo até estabelecimentos de sáude de media complexidade mais próximo\n",
      "\tis_in_staging:  True\n",
      "\tis_partition:  False\n",
      "\n",
      "-\n",
      "\tname:  TMISA\n",
      "\tdescription:  Indicador de tempo mínimo até estabelecimentos de sáude de alta complexidade mais próximo\n",
      "\tis_in_staging:  True\n",
      "\tis_partition:  False\n",
      "\n",
      "-\n",
      "\tname:  TMIET\n",
      "\tdescription:  Indicador de tempo mínimo até estabelecimentos de educação mais próximo\n",
      "\tis_in_staging:  True\n",
      "\tis_partition:  False\n",
      "\n",
      "-\n",
      "\tname:  TMIEI\n",
      "\tdescription:  Indicador de tempo mínimo até estabelecimentos de educação infantil mais próximo\n",
      "\tis_in_staging:  True\n",
      "\tis_partition:  False\n",
      "\n",
      "-\n",
      "\tname:  TMIEF\n",
      "\tdescription:  Indicador de tempo mínimo até estabelecimentos de educação fundamental mais próximo\n",
      "\tis_in_staging:  True\n",
      "\tis_partition:  False\n",
      "\n",
      "-\n",
      "\tname:  TMIEM\n",
      "\tdescription:  Indicador de tempo mínimo até estabelecimentos de educação média mais próximo\n",
      "\tis_in_staging:  True\n",
      "\tis_partition:  False\n"
     ]
    }
   ],
   "source": [
    "for col in config['columns']:\n",
    "        \n",
    "    col['description'] = descs.get(col['name'], col['description'])\n",
    "    print('\\n-')\n",
    "    print('\\tname: ', col['name'])\n",
    "    print('\\tdescription: ', col['description'])\n",
    "    print('\\tis_in_staging: ', col['is_in_staging'])\n",
    "    print('\\tis_partition: ', col['is_partition'])"
   ]
  },
  {
   "cell_type": "code",
   "execution_count": null,
   "metadata": {
    "collapsed": true
   },
   "outputs": [],
   "source": [
    "# Table Publish"
   ]
  },
  {
   "cell_type": "code",
   "execution_count": 127,
   "metadata": {
    "ExecuteTime": {
     "end_time": "2021-03-23T23:20:55.598967Z",
     "start_time": "2021-03-23T23:20:52.919260Z"
    },
    "collapsed": true
   },
   "outputs": [],
   "source": []
  },
  {
   "cell_type": "code",
   "execution_count": null,
   "metadata": {
    "collapsed": true
   },
   "outputs": [],
   "source": []
  }
 ],
 "metadata": {
  "kernelspec": {
   "display_name": "analises",
   "language": "python",
   "name": "analises"
  },
  "language_info": {
   "codemirror_mode": {
    "name": "ipython",
    "version": 3
   },
   "file_extension": ".py",
   "mimetype": "text/x-python",
   "name": "python",
   "nbconvert_exporter": "python",
   "pygments_lexer": "ipython3",
   "version": "3.9.2"
  },
  "toc": {
   "nav_menu": {},
   "number_sections": true,
   "sideBar": true,
   "skip_h1_title": false,
   "toc_cell": true,
   "toc_position": {},
   "toc_section_display": "block",
   "toc_window_display": false
  },
  "varInspector": {
   "cols": {
    "lenName": 16,
    "lenType": 16,
    "lenVar": 40
   },
   "kernels_config": {
    "python": {
     "delete_cmd_postfix": "",
     "delete_cmd_prefix": "del ",
     "library": "var_list.py",
     "varRefreshCmd": "print(var_dic_list())"
    },
    "r": {
     "delete_cmd_postfix": ") ",
     "delete_cmd_prefix": "rm(",
     "library": "var_list.r",
     "varRefreshCmd": "cat(var_dic_list()) "
    }
   },
   "types_to_exclude": [
    "module",
    "function",
    "builtin_function_or_method",
    "instance",
    "_Feature"
   ],
   "window_display": false
  }
 },
 "nbformat": 4,
 "nbformat_minor": 2
}
