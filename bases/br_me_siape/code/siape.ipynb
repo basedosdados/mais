{
  "nbformat": 4,
  "nbformat_minor": 0,
  "metadata": {
    "colab": {
      "provenance": []
    },
    "kernelspec": {
      "name": "python3",
      "display_name": "Python 3"
    },
    "language_info": {
      "name": "python"
    }
  },
  "cells": [
    {
      "cell_type": "code",
      "execution_count": 7,
      "metadata": {
        "id": "24VfajQqB-z9"
      },
      "outputs": [],
      "source": [
        "import pandas as pd\n",
        "from zipfile import ZipFile\n",
        "import zipfile"
      ]
    },
    {
      "cell_type": "code",
      "source": [
        "#link dos dados: https://drive.google.com/file/d/1R1KHVqvGZXCtDZU3GU3yNnkCQev03mhb/view\n",
        "\n",
        "with zipfile.ZipFile(\"/content/MicrodadosSIAPE.zip\",\"r\") as zip_ref:\n",
        "  zip_ref.extractall(\"br_me_siape\")\n",
        "\n",
        "rename = {'no_orgao_vinculacao':'orgao_superior', 'NO_ORGAO':'orgao', 'CO_SEXO':'sexo',\n",
        "          'NO_COR_ORIGEM_ETNICA':'raca_cor', 'NO_SIT_SERV':'situacao_vinculo',\n",
        "          'SG_FUNCAO':'funcao', 'SG_NIV_FUN':'nivel_funcao', 'NO_ATIVIDADE':'atividade', \n",
        "          'DT_ADMISSAO':'data_admissao'}\n",
        "          \n",
        "df = pd.read_csv('/content/br_me_siape/MicrodadosSIAPE.csv', sep=';', encoding='latin-1', dtype=str)\n",
        "df.drop_duplicates(inplace=True)\n",
        "df.rename(columns=rename, inplace=True)\n",
        "df['data_admissao'] =  pd.to_datetime(df1['data_admissao'], infer_datetime_format=True)\n",
        "df.to_csv('microdados_siape.csv', na_rep='', index=False))"
      ],
      "metadata": {
        "id": "JsnLJ82WFcUa"
      },
      "execution_count": 9,
      "outputs": []
    }
  ]
}