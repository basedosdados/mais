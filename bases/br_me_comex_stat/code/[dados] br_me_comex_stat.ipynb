{
  "nbformat": 4,
  "nbformat_minor": 0,
  "metadata": {
    "colab": {
      "name": "[dados] br_me_comex_stat",
      "provenance": []
    },
    "kernelspec": {
      "name": "python3",
      "display_name": "Python 3"
    },
    "language_info": {
      "name": "python"
    }
  },
  "cells": [
    {
      "cell_type": "code",
      "metadata": {
        "id": "NePPrl-9A7y0"
      },
      "source": [
        "from google.colab import drive\n",
        "drive.mount('/content/drive')"
      ],
      "execution_count": null,
      "outputs": []
    },
    {
      "cell_type": "code",
      "metadata": {
        "id": "F5-qj2F1_SXO"
      },
      "source": [
        "import pandas as pd\n",
        "import numpy as np\n",
        "import os\n",
        "import zipfile\n",
        "from zipfile import ZipFile"
      ],
      "execution_count": 1,
      "outputs": []
    },
    {
      "cell_type": "code",
      "metadata": {
        "id": "7PmFT--Fa_cn"
      },
      "source": [
        "#ncm_exportacao\n",
        "for ano in [*range(1997, 2022)]:\n",
        "  for mes in [*range(1, 13)]:\n",
        "    directory = '/content/drive/MyDrive/br_me_comex_stat/output/ncm_exportacao/ano={}/mes={}'.format(ano, mes)\n",
        "    if not os.path.exists(directory):\n",
        "      os.makedirs(directory)\n",
        "\n",
        "#ncm_importacao\n",
        "for ano in [*range(1997, 2022)]:\n",
        "  for mes in [*range(1, 13)]:\n",
        "    directory = '/content/drive/MyDrive/br_me_comex_stat/output/ncm_importacao/ano={}/mes={}'.format(ano, mes)\n",
        "    if not os.path.exists(directory):\n",
        "      os.makedirs(directory)\n",
        "\n",
        "#municipio_exportacao\n",
        "for ano in [*range(1997, 2022)]:\n",
        "  for mes in [*range(1, 13)]:\n",
        "    directory = '/content/drive/MyDrive/br_me_comex_stat/output/municipio_exportacao/ano={}/mes={}'.format(ano, mes)\n",
        "    if not os.path.exists(directory):\n",
        "      os.makedirs(directory)\n",
        "      \n",
        "#municipio_importacao\n",
        "for ano in [*range(1997, 2022)]:\n",
        "  for mes in [*range(1, 13)]:\n",
        "    directory = '/content/drive/MyDrive/br_me_comex_stat/output/municipio_importacao/ano={}/mes={}'.format(ano, mes)\n",
        "    if not os.path.exists(directory):\n",
        "      os.makedirs(directory)"
      ],
      "execution_count": null,
      "outputs": []
    },
    {
      "cell_type": "code",
      "metadata": {
        "id": "fXziwACM-pIQ"
      },
      "source": [
        "#ncm_exportacao\n",
        "!wget --no-check-certificate https://balanca.economia.gov.br/balanca/bd/comexstat-bd/ncm/EXP_COMPLETA.zip"
      ],
      "execution_count": null,
      "outputs": []
    },
    {
      "cell_type": "code",
      "metadata": {
        "id": "BGY1KxJsABEI"
      },
      "source": [
        "ncm_exp = os.path.join('/content/EXP_COMPLETA.zip')\n",
        "with ZipFile(ncm_exp) as z:\n",
        "  with z.open(f'EXP_COMPLETA.csv') as f:\n",
        "    ncm_expo = pd.read_csv(f,sep=';')\n",
        "\n",
        "rename_ncm = {'CO_ANO':'ano', 'CO_MES':'mes', 'CO_NCM':'id_ncm', 'CO_UNID':'id_unidade', 'CO_PAIS':'id_pais', 'SG_UF_NCM':'sigla_uf_ncm', 'CO_VIA':'id_via', \n",
        "              'CO_URF':'id_urf', 'QT_ESTAT':'quantidade_estatistica', 'KG_LIQUIDO':'peso_liquido_kg', 'VL_FOB':'valor_fob_dolar'}\n",
        "ncm_expo.rename(columns=rename_ncm, inplace=True)\n",
        "for ano in [*range(1997, 2022)]:\n",
        "  for mes in [*range(1, 13)]:\n",
        "    print(\"Particionando mês {} de {}\".format(str(mes), str(ano)))\n",
        "    ncm_ano = ncm_expo[ncm_expo['ano'] == ano]\n",
        "    ncm_ano_mes = ncm_ano[ncm_ano['mes'] == mes]\n",
        "    ncm_ano_mes.drop(['ano', 'mes'], axis=1, inplace=True)\n",
        "    exec(\"ncm_ano_mes.to_csv('/content/drive/MyDrive/br_me_comex_stat/output/ncm_exportacao/ano={}/mes={}/ncm_exportacao.csv', index=False, encoding='utf-8', na_rep='')\".format(ano, mes))\n",
        "del ncm_expo, ncm_ano, ncm_ano_mes"
      ],
      "execution_count": null,
      "outputs": []
    },
    {
      "cell_type": "code",
      "metadata": {
        "id": "USe9u8hQaDg2"
      },
      "source": [
        "#ncm_importacao\n",
        "!wget --no-check-certificate https://balanca.economia.gov.br/balanca/bd/comexstat-bd/ncm/IMP_COMPLETA.zip"
      ],
      "execution_count": null,
      "outputs": []
    },
    {
      "cell_type": "code",
      "metadata": {
        "id": "8LOae5fBfHeG"
      },
      "source": [
        "ncm_imp = os.path.join('/content/IMP_COMPLETA.zip')\n",
        "with ZipFile(ncm_imp) as z:\n",
        "  with z.open(f'IMP_COMPLETA.csv') as f:\n",
        "    ncm_impo = pd.read_csv(f,sep=';')\n",
        "\n",
        "ncm_impo.rename(columns=rename_ncm, inplace=True)\n",
        "\n",
        "for ano in [*range(1997, 2022)]:\n",
        "  for mes in [*range(1, 13)]:\n",
        "    print(\"Particionando mês {} de {}\".format(str(mes), str(ano)))\n",
        "    ncm_ano = ncm_impo[ncm_impo['ano'] == ano]\n",
        "    ncm_ano_mes = ncm_ano[ncm_ano['mes'] == mes]\n",
        "    ncm_ano_mes.drop(['ano', 'mes'], axis=1, inplace=True)\n",
        "    exec(\"ncm_ano_mes.to_csv('/content/drive/MyDrive/br_me_comex_stat/output/ncm_importacao/ano={}/mes={}/ncm_importacao.csv', index=False, encoding='utf-8', na_rep='')\".format(ano, mes))\n",
        "del ncm_impo, ncm_ano, ncm_ano_mes"
      ],
      "execution_count": null,
      "outputs": []
    },
    {
      "cell_type": "code",
      "metadata": {
        "id": "pwarYY5RsTmk"
      },
      "source": [
        "#municipio_exportacao\n",
        "!wget --no-check-certificate https://balanca.economia.gov.br/balanca/bd/comexstat-bd/mun/EXP_COMPLETA_MUN.zip"
      ],
      "execution_count": null,
      "outputs": []
    },
    {
      "cell_type": "code",
      "metadata": {
        "id": "nhFQVVrQtxXj"
      },
      "source": [
        "id_mun = pd.read_csv('/content/drive/MyDrive/br_ms_sinasc/id_mun.csv')\n",
        "id_mun.drop(['regiao', 'id_municipio_6'], axis=1, inplace=True)"
      ],
      "execution_count": 2,
      "outputs": []
    },
    {
      "cell_type": "code",
      "metadata": {
        "id": "ecAfaa6DspdO"
      },
      "source": [
        "municipio_exp = os.path.join('/content/EXP_COMPLETA_MUN.zip')\n",
        "with ZipFile(municipio_exp) as z:\n",
        "  with z.open(f'EXP_COMPLETA_MUN.csv') as f:\n",
        "    mun_exp = pd.read_csv(f,sep=';')\n",
        "\n",
        "rename_mun = {'CO_ANO':'ano', 'CO_MES':'mes', 'SH4':'id_sh4', 'CO_PAIS':'id_pais', 'SG_UF_MUN':'sigla_uf', 'CO_MUN':'id_municipio', \n",
        "              'KG_LIQUIDO':'peso_liquido_kg', 'VL_FOB':'valor_fob_dolar'}\n",
        "mun_exp.rename(columns=rename_mun, inplace=True)\n",
        "\n",
        "condicao = [\n",
        "            ((mun_imp['sigla_uf'] == \"SP\") & (mun_imp['id_municipio'] < 3500000)), \n",
        "            ((mun_imp['sigla_uf'] == \"MS\") & (mun_imp['id_municipio'] > 5000000)),\n",
        "            ((mun_imp['sigla_uf'] == \"GO\") & (mun_imp['id_municipio'] > 5200000)),\n",
        "            ((mun_imp['sigla_uf'] == \"DF\") & (mun_imp['id_municipio'] > 5300000))\n",
        "]\n",
        "valores = [\n",
        "           mun_exp['id_municipio'] + 100000,\n",
        "           mun_exp['id_municipio'] - 200000,\n",
        "           mun_exp['id_municipio'] - 100000,\n",
        "           mun_exp['id_municipio'] - 100000\n",
        "]\n",
        "mun_exp['id_municipio'] = np.select(condicao, valores, default=mun_exp['id_municipio'])\n",
        "\n",
        "for ano in [*range(1997, 2022)]:\n",
        "  for mes in [*range(1, 13)]:\n",
        "    print(\"Particionando mês {} de {}\".format(str(mes), str(ano)))\n",
        "    mun_ano = mun_exp[mun_exp['ano'] == ano]\n",
        "    mun_ano_mes = mun_ano[mun_ano['mes'] == mes]\n",
        "    mun_ano_mes.drop(['ano', 'mes'], axis=1, inplace=True)\n",
        "    exec(\"mun_ano_mes.to_csv('/content/drive/MyDrive/br_me_comex_stat/output/municipio_exportacao/ano={}/mes={}/municipio_exportacao.csv', index=False, encoding='utf-8', na_rep='')\".format(ano, mes))\n",
        "del mun_exp, mun_ano, mun_ano_mes"
      ],
      "execution_count": null,
      "outputs": []
    },
    {
      "cell_type": "code",
      "metadata": {
        "id": "LTtUtuF98SnA"
      },
      "source": [
        "#municipio_importacao\n",
        "!wget --no-check-certificate https://balanca.economia.gov.br/balanca/bd/comexstat-bd/mun/IMP_COMPLETA_MUN.zip"
      ],
      "execution_count": null,
      "outputs": []
    },
    {
      "cell_type": "code",
      "metadata": {
        "id": "weBeLVvg8ljP"
      },
      "source": [
        "municipio_imp = os.path.join('/content/IMP_COMPLETA_MUN.zip')\n",
        "with ZipFile(municipio_imp) as z:\n",
        "  with z.open(f'IMP_COMPLETA_MUN.csv') as f:\n",
        "    mun_imp = pd.read_csv(f,sep=';')\n",
        "\n",
        "rename_mun = {'CO_ANO':'ano', 'CO_MES':'mes', 'SH4':'id_sh4', 'CO_PAIS':'id_pais', 'SG_UF_MUN':'sigla_uf', 'CO_MUN':'id_municipio', \n",
        "              'KG_LIQUIDO':'peso_liquido_kg', 'VL_FOB':'valor_fob_dolar'}\n",
        "mun_imp.rename(columns=rename_mun, inplace=True)\n",
        "\n",
        "condicao = [\n",
        "            ((mun_imp['sigla_uf'] == \"SP\") & (mun_imp['id_municipio'] < 3500000)), \n",
        "            ((mun_imp['sigla_uf'] == \"MS\") & (mun_imp['id_municipio'] > 5000000)),\n",
        "            ((mun_imp['sigla_uf'] == \"GO\") & (mun_imp['id_municipio'] > 5200000)),\n",
        "            ((mun_imp['sigla_uf'] == \"DF\") & (mun_imp['id_municipio'] > 5300000))\n",
        "]\n",
        "valores = [\n",
        "           mun_imp['id_municipio'] + 100000,\n",
        "           mun_imp['id_municipio'] - 200000,\n",
        "           mun_imp['id_municipio'] - 100000,\n",
        "           mun_imp['id_municipio'] - 100000\n",
        "]\n",
        "mun_imp['id_municipio'] = np.select(condicao, valores, default=mun_imp['id_municipio'])\n",
        "\n",
        "for ano in [*range(1997, 2022)]:\n",
        "  for mes in [*range(1, 13)]:\n",
        "    print(\"Particionando mês {} de {}\".format(str(mes), str(ano)))\n",
        "    mun_ano = mun_imp[mun_imp['ano'] == ano]\n",
        "    mun_ano_mes = mun_ano[mun_ano['mes'] == mes]\n",
        "    mun_ano_mes.drop(['ano', 'mes'], axis=1, inplace=True)\n",
        "    exec(\"mun_ano_mes.to_csv('/content/drive/MyDrive/br_me_comex_stat/output/municipio_importacao/ano={}/mes={}/municipio_importacao.csv', index=False, encoding='utf-8', na_rep='')\".format(ano, mes))\n",
        "del mun_imp, mun_ano, mun_ano_mes"
      ],
      "execution_count": null,
      "outputs": []
    }
  ]
}