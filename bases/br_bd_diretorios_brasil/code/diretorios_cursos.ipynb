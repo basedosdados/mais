{
 "cells": [
  {
   "cell_type": "code",
   "execution_count": 21,
   "metadata": {},
   "outputs": [],
   "source": [
    "import pandas as pd\n",
    "import os\n",
    "import numpy as np"
   ]
  },
  {
   "cell_type": "code",
   "execution_count": 17,
   "metadata": {},
   "outputs": [],
   "source": [
    "os.chdir(\"/home/matheus/Documentos/bdmais\")"
   ]
  },
  {
   "cell_type": "markdown",
   "metadata": {},
   "source": [
    "diretorio de curso superior e areas de ensino superior"
   ]
  },
  {
   "cell_type": "code",
   "execution_count": 6,
   "metadata": {},
   "outputs": [],
   "source": [
    "curso = pd.read_csv(\"bases_cruas/DIRETORIO_cursos.csv\", dtype=str)\n",
    "curso.columns = [\"id_area\", 'nome_area', \"id_curso\", \"nome_curso\", \"grau_academico\"]"
   ]
  },
  {
   "cell_type": "code",
   "execution_count": 7,
   "metadata": {},
   "outputs": [],
   "source": [
    "curso = curso.fillna(method='ffill')"
   ]
  },
  {
   "cell_type": "code",
   "execution_count": 8,
   "metadata": {},
   "outputs": [],
   "source": [
    "curso = curso.drop(labels=255,axis=0)\n",
    "#curso = curso[curso.columns]"
   ]
  },
  {
   "cell_type": "code",
   "execution_count": 9,
   "metadata": {},
   "outputs": [],
   "source": [
    "curso.to_csv('bases_prontas/diretorios/dir_curso.csv', index=False, sep= \",\")"
   ]
  },
  {
   "cell_type": "code",
   "execution_count": 15,
   "metadata": {},
   "outputs": [
    {
     "data": {
      "text/html": [
       "<div>\n",
       "<style scoped>\n",
       "    .dataframe tbody tr th:only-of-type {\n",
       "        vertical-align: middle;\n",
       "    }\n",
       "\n",
       "    .dataframe tbody tr th {\n",
       "        vertical-align: top;\n",
       "    }\n",
       "\n",
       "    .dataframe thead th {\n",
       "        text-align: right;\n",
       "    }\n",
       "</style>\n",
       "<table border=\"1\" class=\"dataframe\">\n",
       "  <thead>\n",
       "    <tr style=\"text-align: right;\">\n",
       "      <th></th>\n",
       "      <th>id_area</th>\n",
       "      <th>nome_area</th>\n",
       "      <th>id_curso</th>\n",
       "      <th>nome_curso</th>\n",
       "      <th>grau_academico</th>\n",
       "    </tr>\n",
       "  </thead>\n",
       "  <tbody>\n",
       "    <tr>\n",
       "      <th>0</th>\n",
       "      <td>1</td>\n",
       "      <td>Educação</td>\n",
       "      <td>142A01</td>\n",
       "      <td>Processos Escolares - Tecnológico</td>\n",
       "      <td>Tecnológico</td>\n",
       "    </tr>\n",
       "    <tr>\n",
       "      <th>1</th>\n",
       "      <td>1</td>\n",
       "      <td>Educação</td>\n",
       "      <td>142C01</td>\n",
       "      <td>Pedagogia (Ciências da Educação) - Bacharelado</td>\n",
       "      <td>Bacharelado</td>\n",
       "    </tr>\n",
       "    <tr>\n",
       "      <th>2</th>\n",
       "      <td>1</td>\n",
       "      <td>Educação</td>\n",
       "      <td>142P01</td>\n",
       "      <td>Pedagogia - Licenciatura</td>\n",
       "      <td>Licenciatura</td>\n",
       "    </tr>\n",
       "    <tr>\n",
       "      <th>3</th>\n",
       "      <td>1</td>\n",
       "      <td>Educação</td>\n",
       "      <td>144F12</td>\n",
       "      <td>Licenciatura Interdisciplinar em Ciências Huma...</td>\n",
       "      <td>Licenciatura</td>\n",
       "    </tr>\n",
       "    <tr>\n",
       "      <th>4</th>\n",
       "      <td>1</td>\n",
       "      <td>Educação</td>\n",
       "      <td>144F13</td>\n",
       "      <td>Licenciatura Intercultural Indígena - Licencia...</td>\n",
       "      <td>Licenciatura</td>\n",
       "    </tr>\n",
       "    <tr>\n",
       "      <th>...</th>\n",
       "      <td>...</td>\n",
       "      <td>...</td>\n",
       "      <td>...</td>\n",
       "      <td>...</td>\n",
       "      <td>...</td>\n",
       "    </tr>\n",
       "    <tr>\n",
       "      <th>250</th>\n",
       "      <td>8</td>\n",
       "      <td>Serviços</td>\n",
       "      <td>863C02</td>\n",
       "      <td>Ciências da Logística - Bacharelado*</td>\n",
       "      <td>Bacharelado</td>\n",
       "    </tr>\n",
       "    <tr>\n",
       "      <th>251</th>\n",
       "      <td>8</td>\n",
       "      <td>Serviços</td>\n",
       "      <td>863F01</td>\n",
       "      <td>Formação Militar - Bacharelado*</td>\n",
       "      <td>Bacharelado</td>\n",
       "    </tr>\n",
       "    <tr>\n",
       "      <th>252</th>\n",
       "      <td>9</td>\n",
       "      <td>Outros</td>\n",
       "      <td>999990</td>\n",
       "      <td>Outro curso de formação superior - Licenciatura</td>\n",
       "      <td>Licenciatura</td>\n",
       "    </tr>\n",
       "    <tr>\n",
       "      <th>253</th>\n",
       "      <td>9</td>\n",
       "      <td>Outros</td>\n",
       "      <td>999991</td>\n",
       "      <td>Outro curso de formação superior - Bacharelado</td>\n",
       "      <td>Bacharelado</td>\n",
       "    </tr>\n",
       "    <tr>\n",
       "      <th>254</th>\n",
       "      <td>9</td>\n",
       "      <td>Outros</td>\n",
       "      <td>999992</td>\n",
       "      <td>Outro curso de formação superior - Tecnológico</td>\n",
       "      <td>Tecnológico</td>\n",
       "    </tr>\n",
       "  </tbody>\n",
       "</table>\n",
       "<p>255 rows × 5 columns</p>\n",
       "</div>"
      ],
      "text/plain": [
       "    id_area nome_area id_curso  \\\n",
       "0         1  Educação   142A01   \n",
       "1         1  Educação   142C01   \n",
       "2         1  Educação   142P01   \n",
       "3         1  Educação   144F12   \n",
       "4         1  Educação   144F13   \n",
       "..      ...       ...      ...   \n",
       "250       8  Serviços   863C02   \n",
       "251       8  Serviços   863F01   \n",
       "252       9    Outros   999990   \n",
       "253       9    Outros   999991   \n",
       "254       9    Outros   999992   \n",
       "\n",
       "                                            nome_curso grau_academico  \n",
       "0                    Processos Escolares - Tecnológico    Tecnológico  \n",
       "1       Pedagogia (Ciências da Educação) - Bacharelado    Bacharelado  \n",
       "2                             Pedagogia - Licenciatura   Licenciatura  \n",
       "3    Licenciatura Interdisciplinar em Ciências Huma...   Licenciatura  \n",
       "4    Licenciatura Intercultural Indígena - Licencia...   Licenciatura  \n",
       "..                                                 ...            ...  \n",
       "250               Ciências da Logística - Bacharelado*    Bacharelado  \n",
       "251                    Formação Militar - Bacharelado*    Bacharelado  \n",
       "252    Outro curso de formação superior - Licenciatura   Licenciatura  \n",
       "253     Outro curso de formação superior - Bacharelado    Bacharelado  \n",
       "254     Outro curso de formação superior - Tecnológico    Tecnológico  \n",
       "\n",
       "[255 rows x 5 columns]"
      ]
     },
     "execution_count": 15,
     "metadata": {},
     "output_type": "execute_result"
    }
   ],
   "source": [
    "curso"
   ]
  }
 ],
 "metadata": {
  "kernelspec": {
   "display_name": "Python 3",
   "language": "python",
   "name": "python3"
  },
  "language_info": {
   "codemirror_mode": {
    "name": "ipython",
    "version": 3
   },
   "file_extension": ".py",
   "mimetype": "text/x-python",
   "name": "python",
   "nbconvert_exporter": "python",
   "pygments_lexer": "ipython3",
   "version": "3.8.5"
  }
 },
 "nbformat": 4,
 "nbformat_minor": 2
}
