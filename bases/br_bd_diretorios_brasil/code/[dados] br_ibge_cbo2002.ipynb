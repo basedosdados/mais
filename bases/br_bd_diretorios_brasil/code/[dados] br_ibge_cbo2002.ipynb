{
  "nbformat": 4,
  "nbformat_minor": 0,
  "metadata": {
    "colab": {
      "name": "[dados] br_ibge_cbo2002",
      "provenance": []
    },
    "kernelspec": {
      "name": "python3",
      "display_name": "Python 3"
    },
    "language_info": {
      "name": "python"
    }
  },
  "cells": [
    {
      "cell_type": "code",
      "metadata": {
        "colab": {
          "base_uri": "https://localhost:8080/"
        },
        "id": "FQ9brZu34UAc",
        "outputId": "471f3206-c7a3-4b39-ecb3-81f31201ae6d"
      },
      "source": [
        "from google.colab import drive\n",
        "drive.mount('/content/drive')"
      ],
      "execution_count": 59,
      "outputs": [
        {
          "output_type": "stream",
          "name": "stdout",
          "text": [
            "Drive already mounted at /content/drive; to attempt to forcibly remount, call drive.mount(\"/content/drive\", force_remount=True).\n"
          ]
        }
      ]
    },
    {
      "cell_type": "code",
      "metadata": {
        "id": "YwAW6zvQ4aEh"
      },
      "source": [
        "import pandas as pd"
      ],
      "execution_count": 60,
      "outputs": []
    },
    {
      "cell_type": "code",
      "metadata": {
        "id": "OSlJBMKoH8XZ"
      },
      "source": [
        "ocupacao = pd.read_csv('/content/drive/MyDrive/br_ibge_cbo2002/CBO2002 - Ocupacao.csv', sep=';', encoding='iso-8859-1', dtype='string')\n",
        "ocupacao.rename(columns={'CODIGO':'cbo_2002', 'TITULO':'descricao'}, inplace=True)\n",
        "ocupacao['familia'] = ocupacao['cbo_2002'].str[:4]\n",
        "ocupacao['subgrupo'] = ocupacao['cbo_2002'].str[:3]\n",
        "ocupacao['subgrupo_principal'] = ocupacao['cbo_2002'].str[:2]\n",
        "ocupacao['grande_grupo'] = ocupacao['cbo_2002'].str[:1]"
      ],
      "execution_count": 61,
      "outputs": []
    },
    {
      "cell_type": "code",
      "metadata": {
        "id": "RjOVTr5u4bdT"
      },
      "source": [
        "familia = pd.read_csv('/content/drive/MyDrive/br_ibge_cbo2002/CBO2002 - Familia.csv', sep=';', encoding='iso-8859-1', dtype='string')\n",
        "familia.rename(columns={'CODIGO':'familia', 'TITULO':'descricao_familia'}, inplace=True)\n",
        "subgrupo = pd.read_csv('/content/drive/MyDrive/br_ibge_cbo2002/CBO2002 - SubGrupo.csv', sep=';', encoding='iso-8859-1', dtype='string')\n",
        "subgrupo.rename(columns={'CODIGO':'subgrupo', 'TITULO':'descricao_subgrupo'}, inplace=True)\n",
        "subgrupo['descricao_subgrupo'] = subgrupo['descricao_subgrupo'].str.capitalize()\n",
        "subgrupo_principal = pd.read_csv('/content/drive/MyDrive/br_ibge_cbo2002/CBO2002 - SubGrupo Principal.csv', sep=';', encoding='iso-8859-1', dtype='string')\n",
        "subgrupo_principal.rename(columns={'CODIGO':'subgrupo_principal', 'TITULO':'descricao_subgrupo_principal'}, inplace=True)\n",
        "subgrupo_principal['descricao_subgrupo_principal'] = subgrupo_principal['descricao_subgrupo_principal'].str.capitalize()\n",
        "grande_grupo = pd.read_csv('/content/drive/MyDrive/br_ibge_cbo2002/CBO2002 - Grande Grupo.csv', sep=';', encoding='iso-8859-1', dtype='string')\n",
        "grande_grupo.rename(columns={'CODIGO':'grande_grupo', 'TITULO':'descricao_grande_grupo'}, inplace=True)\n",
        "grande_grupo['descricao_grande_grupo'] = grande_grupo['descricao_grande_grupo'].str.capitalize()\n",
        "\n",
        "#perfil = pd.read_csv('/content/drive/MyDrive/br_ibge_cbo2002/CBO2002 - PerfilOcupacional.csv', sep=';', encoding='iso-8859-1', error_bad_lines=False, dtype='string')\n",
        "#sinonimo = pd.read_csv('/content/drive/MyDrive/br_ibge_cbo2002/CBO2002 - Sinonimo.csv', sep=';', encoding='iso-8859-1', dtype='string')"
      ],
      "execution_count": 62,
      "outputs": []
    },
    {
      "cell_type": "code",
      "metadata": {
        "id": "xGi66H3HnS9a"
      },
      "source": [
        "pt1 = pd.merge(ocupacao, familia, how='left', left_on=['familia'], right_on=['familia'])\n",
        "pt2 = pd.merge(pt1, subgrupo, how='left', left_on=['subgrupo'], right_on=['subgrupo'])\n",
        "pt3 = pd.merge(pt2, subgrupo_principal, how='left', left_on=['subgrupo_principal'], right_on=['subgrupo_principal'])\n",
        "cbo_2002 = pd.merge(pt3, grande_grupo, how='left', left_on=['grande_grupo'], right_on=['grande_grupo'])\n",
        "\n",
        "ordem = ['cbo_2002', 'descricao', 'familia', 'descricao_familia', 'subgrupo', 'descricao_subgrupo',\n",
        "         'subgrupo_principal', 'descricao_subgrupo_principal', 'grande_grupo', 'descricao_grande_grupo']\n",
        "cbo_2002 = cbo_2002[ordem]"
      ],
      "execution_count": 63,
      "outputs": []
    },
    {
      "cell_type": "code",
      "metadata": {
        "id": "yhyDjxVTAbiC"
      },
      "source": [
        "df = pd.DataFrame({'cbo_2002': ['422215', '354110', '373205', '373210', '342525', '314605', '342520', '261720', '373115', '373215',\n",
        "                                '514210', '373125', '253105', '324210', '373110', '373120', '991405', '223115'],\n",
        "                  'descricao': ['Monitor de teleatendimento', \n",
        "                                'Especialistas em promoção de produtos e vendas', \n",
        "                                'Técnico em operação de equipamentos de produção para televisão e produtoras de vídeo',\n",
        "                                'Técnico em operação de equipamento de exibição de televisão', \n",
        "                                'Gerente de empresa aérea em aeroportos', \n",
        "                                'Inspetor de soldagem', \n",
        "                                'Gerente da administração de aeroportos',\n",
        "                                'Locutor publicitário de rádio e televisão', \n",
        "                                'Operador de externa (rádio)', \n",
        "                                'Técnico em operação de equipamentos de transmissão/recepção de televisão',\n",
        "                                'Auxiliar de manutenção predial', \n",
        "                                'Operador de transmissor de rádio',\n",
        "                                'Relações públicas', \n",
        "                                'Auxiliar técnico em patologia clínica', \n",
        "                                'Operador de central de rádio',\n",
        "                                'Operador de gravação de rádio', \n",
        "                                'Trabalhador da manutenção de edificações', \n",
        "                                'Médico clínico'],\n",
        "                  'familia': ['4222', '3541', '3732', '3732', '3425', '3146', '3425', '2617', '3731', '3732', \n",
        "                              '5142', '3731', '2531', '3242', '3731', '3731', '9914', '2231'],\n",
        "                  'descricao_familia': ['Operadores de telefonia', \n",
        "                                        'Especialistas em promoção de produtos e vendas', \n",
        "                                        'Técnicos em operação de sistemas de televisão e de produtoras de vídeo',\n",
        "                                        'Técnicos em operação de sistemas de televisão e de produtoras de vídeo',\n",
        "                                        'Técnicos em transportes aéreos', \n",
        "                                        'Técnicos em metalurgia (estruturas metálicas)',\n",
        "                                        'Técnicos em transportes aéreos', \n",
        "                                        'Locutores, comentaristas e repórteres de rádio e televisão', \n",
        "                                        'Técnicos de operação de emissoras de rádio',\n",
        "                                        'Técnicos em operação de sistemas de televisão e de produtoras de vídeo', \n",
        "                                        'Trabalhadores nos serviços de coleta de resíduos, de limpeza e conservação de áreas públicas',\n",
        "                                        'Técnicos de operação de emissoras de rádio',\n",
        "                                        'Profissionais de publicidade', \n",
        "                                        'Técnicos de laboratórios de saúde e bancos de sangue', \n",
        "                                        'Técnicos de operação de emissoras de rádio',\n",
        "                                        'Técnicos de operação de emissoras de rádio', \n",
        "                                        'Mantenedores de edificações', \n",
        "                                        'Médicos'],\n",
        "                    'subgrupo': ['422', '354', '373', '373', '342', '314', '342', '261', '373', '373', '514', '373', '253', '324', '373', '373', '991', '223'],\n",
        "                    'descricao_subgrupo': ['Trabalhadores de informações ao público', \n",
        "                                        'Técnicos de nivel médio em operações comerciais', \n",
        "                                        'Técnicos em operação de emissoras de rádio, sistemas de televisão e de produtoras de vídeo',\n",
        "                                        'Técnicos em operação de emissoras de rádio, sistemas de televisão e de produtoras de vídeo', \n",
        "                                        'Técnicos em transportes (logística)', \n",
        "                                        'Técnicos em metalmecânica',\n",
        "                                        'Técnicos em transportes (logística)', \n",
        "                                        'Profissionais da comunicação e da informação', \n",
        "                                        'Técnicos em operação de emissoras de rádio, sistemas de televisão e de produtoras de vídeo',\n",
        "                                        'Técnicos em operação de emissoras de rádio, sistemas de televisão e de produtoras de vídeo', \n",
        "                                        'Trabalhadores nos serviços de administração, conservação e manutenção de edifícios e logradouros',\n",
        "                                        'Técnicos em operação de emissoras de rádio, sistemas de televisão e de produtoras de vídeo', \n",
        "                                        'Profissionais de relações públicas, publicidade, marketing e comercialização',\n",
        "                                        'Técnicos em operação de equipamentos e instrumentos de diagnóstico',\n",
        "                                        'Técnicos em operação de emissoras de rádio, sistemas de televisão e de produtoras de vídeo', \n",
        "                                        'Técnicos em operação de emissoras de rádio, sistemas de televisão e de produtoras de vídeo',\n",
        "                                        'Mecânicos de manutenção veicular', \n",
        "                                        'Profissionais da medicina, saúde e afins'],\n",
        "                    'subgrupo_principal': ['42', '35', '37', '37', '34', '31', '34', '26', '37', '37', '51', '37', '25', '32', '37', '37', '99', '22'],                             \n",
        "                    'descricao_subgrupo_principal': ['Trabalhadores de atendimento ao público', \n",
        "                                                  'Técnicos de nivel médio nas ciências administrativas', \n",
        "                                                  'Técnicos em nivel médio dos serviços culturais, das comunicações e dos desportos',\n",
        "                                                  'Técnicos em nivel médio dos serviços culturais, das comunicações e dos desportos',\n",
        "                                                  'Técnicos de nível médio em serviços de transportes', \n",
        "                                                  'Técnicos de nível médio das ciências físicas, químicas, engenharia e afins', \n",
        "                                                  'Técnicos de nível médio em serviços de transportes',\n",
        "                                                  'Comunicadores, artistas e religiosos',\n",
        "                                                  'Técnicos em nivel médio dos serviços culturais, das comunicações e dos desportos', \n",
        "                                                  'Técnicos em nivel médio dos serviços culturais, das comunicações e dos desportos',\n",
        "                                                  'Trabalhadores dos serviços', \n",
        "                                                  'Técnicos em nivel médio dos serviços culturais, das comunicações e dos desportos', \n",
        "                                                  'Profissionais das ciências sociais e humanas',\n",
        "                                                  'Técnicos de nível médio das ciências biológicas, bioquímicas, da saúde e afins',\n",
        "                                                  'Técnicos em nivel médio dos serviços culturais, das comunicações e dos desportos', \n",
        "                                                  'Técnicos em nivel médio dos serviços culturais, das comunicações e dos desportos',\n",
        "                                                  'Trabalhadores em serviços de reparação e manutenção mecânica', \n",
        "                                                  'Profissionais das ciências biológicas, da saúde e afins'],\n",
        "                    'grande_grupo': ['4', '3', '3', '3', '3', '3', '3', '2', '3', '3', '5', '3', '2', '3', '3', '3', '9', '2'],\n",
        "                    'descricao_grande_grupo': ['Trabalhadores de serviços administrativos', \n",
        "                                            'Técnicos de nível médio', \n",
        "                                            'Técnicos de nível médio', \n",
        "                                            'Técnicos de nível médio', \n",
        "                                            'Técnicos de nível médio',\n",
        "                                            'Técnicos de nível médio', \n",
        "                                            'Técnicos de nível médio', \n",
        "                                            'Profissionais das ciências e das artes', \n",
        "                                            'Técnicos de nível médio', \n",
        "                                            'Técnicos de nível médio',\n",
        "                                            'Trabalhadores dos serviços, vendedores do comércio em lojas e mercados', \n",
        "                                            'Técnicos de nível médio', \n",
        "                                            'Profissionais das ciências e das artes',\n",
        "                                            'Técnicos de nível médio', \n",
        "                                            'Técnicos de nível médio', \n",
        "                                            'Técnicos de nível médio', \n",
        "                                            'Trabalhadores em serviços de reparação e manutenção', \n",
        "                                            'Profissionais das ciências e das artes']})"
      ],
      "execution_count": 64,
      "outputs": []
    },
    {
      "cell_type": "code",
      "metadata": {
        "id": "PuL4Pxa3URHZ"
      },
      "source": [
        "cbo_2002 = cbo_2002.append(df, ignore_index=True)\n",
        "cbo_2002.sort_values('cbo_2002', inplace=True)\n",
        "cbo_2002.to_csv('/content/cbo_2002_atualizado.csv', index=False, na_rep='')"
      ],
      "execution_count": 70,
      "outputs": []
    },
    {
      "cell_type": "code",
      "metadata": {
        "colab": {
          "base_uri": "https://localhost:8080/",
          "height": 932
        },
        "id": "INIkzI6UmeTM",
        "outputId": "55589d0c-7f76-4bf3-af60-679afca98c99"
      },
      "source": [
        "cbo_2002"
      ],
      "execution_count": 68,
      "outputs": [
        {
          "output_type": "execute_result",
          "data": {
            "text/html": [
              "<div>\n",
              "<style scoped>\n",
              "    .dataframe tbody tr th:only-of-type {\n",
              "        vertical-align: middle;\n",
              "    }\n",
              "\n",
              "    .dataframe tbody tr th {\n",
              "        vertical-align: top;\n",
              "    }\n",
              "\n",
              "    .dataframe thead th {\n",
              "        text-align: right;\n",
              "    }\n",
              "</style>\n",
              "<table border=\"1\" class=\"dataframe\">\n",
              "  <thead>\n",
              "    <tr style=\"text-align: right;\">\n",
              "      <th></th>\n",
              "      <th>cbo_2002</th>\n",
              "      <th>descricao</th>\n",
              "      <th>familia</th>\n",
              "      <th>descricao_familia</th>\n",
              "      <th>subgrupo</th>\n",
              "      <th>descricao_subgrupo</th>\n",
              "      <th>subgrupo_principal</th>\n",
              "      <th>descricao_subgrupo_principal</th>\n",
              "      <th>grande_grupo</th>\n",
              "      <th>descricao_grande_grupo</th>\n",
              "    </tr>\n",
              "  </thead>\n",
              "  <tbody>\n",
              "    <tr>\n",
              "      <th>0</th>\n",
              "      <td>010105</td>\n",
              "      <td>Oficial general da aeronáutica</td>\n",
              "      <td>0101</td>\n",
              "      <td>Oficiais generais das forças armadas</td>\n",
              "      <td>010</td>\n",
              "      <td>Membros das forças armadas                    ...</td>\n",
              "      <td>01</td>\n",
              "      <td>Membros das forças armadas                    ...</td>\n",
              "      <td>0</td>\n",
              "      <td>Membros das forças armadas, policiais e bombei...</td>\n",
              "    </tr>\n",
              "    <tr>\n",
              "      <th>1</th>\n",
              "      <td>010110</td>\n",
              "      <td>Oficial general do exército</td>\n",
              "      <td>0101</td>\n",
              "      <td>Oficiais generais das forças armadas</td>\n",
              "      <td>010</td>\n",
              "      <td>Membros das forças armadas                    ...</td>\n",
              "      <td>01</td>\n",
              "      <td>Membros das forças armadas                    ...</td>\n",
              "      <td>0</td>\n",
              "      <td>Membros das forças armadas, policiais e bombei...</td>\n",
              "    </tr>\n",
              "    <tr>\n",
              "      <th>2</th>\n",
              "      <td>010115</td>\n",
              "      <td>Oficial general da marinha</td>\n",
              "      <td>0101</td>\n",
              "      <td>Oficiais generais das forças armadas</td>\n",
              "      <td>010</td>\n",
              "      <td>Membros das forças armadas                    ...</td>\n",
              "      <td>01</td>\n",
              "      <td>Membros das forças armadas                    ...</td>\n",
              "      <td>0</td>\n",
              "      <td>Membros das forças armadas, policiais e bombei...</td>\n",
              "    </tr>\n",
              "    <tr>\n",
              "      <th>3</th>\n",
              "      <td>010205</td>\n",
              "      <td>Oficial da aeronáutica</td>\n",
              "      <td>0102</td>\n",
              "      <td>Oficiais das forças armadas</td>\n",
              "      <td>010</td>\n",
              "      <td>Membros das forças armadas                    ...</td>\n",
              "      <td>01</td>\n",
              "      <td>Membros das forças armadas                    ...</td>\n",
              "      <td>0</td>\n",
              "      <td>Membros das forças armadas, policiais e bombei...</td>\n",
              "    </tr>\n",
              "    <tr>\n",
              "      <th>4</th>\n",
              "      <td>010210</td>\n",
              "      <td>Oficial do exército</td>\n",
              "      <td>0102</td>\n",
              "      <td>Oficiais das forças armadas</td>\n",
              "      <td>010</td>\n",
              "      <td>Membros das forças armadas                    ...</td>\n",
              "      <td>01</td>\n",
              "      <td>Membros das forças armadas                    ...</td>\n",
              "      <td>0</td>\n",
              "      <td>Membros das forças armadas, policiais e bombei...</td>\n",
              "    </tr>\n",
              "    <tr>\n",
              "      <th>...</th>\n",
              "      <td>...</td>\n",
              "      <td>...</td>\n",
              "      <td>...</td>\n",
              "      <td>...</td>\n",
              "      <td>...</td>\n",
              "      <td>...</td>\n",
              "      <td>...</td>\n",
              "      <td>...</td>\n",
              "      <td>...</td>\n",
              "      <td>...</td>\n",
              "    </tr>\n",
              "    <tr>\n",
              "      <th>2661</th>\n",
              "      <td>992205</td>\n",
              "      <td>Encarregado geral de operações de conservação ...</td>\n",
              "      <td>9922</td>\n",
              "      <td>Trabalhadores operacionais de conservação de v...</td>\n",
              "      <td>992</td>\n",
              "      <td>Trabalhadores elementares da manutenção       ...</td>\n",
              "      <td>99</td>\n",
              "      <td>Outros trabalhadores da conservação, manutençã...</td>\n",
              "      <td>9</td>\n",
              "      <td>Trabalhadores em serviços de reparação e manut...</td>\n",
              "    </tr>\n",
              "    <tr>\n",
              "      <th>2662</th>\n",
              "      <td>992210</td>\n",
              "      <td>Encarregado de equipe de conservação de vias p...</td>\n",
              "      <td>9922</td>\n",
              "      <td>Trabalhadores operacionais de conservação de v...</td>\n",
              "      <td>992</td>\n",
              "      <td>Trabalhadores elementares da manutenção       ...</td>\n",
              "      <td>99</td>\n",
              "      <td>Outros trabalhadores da conservação, manutençã...</td>\n",
              "      <td>9</td>\n",
              "      <td>Trabalhadores em serviços de reparação e manut...</td>\n",
              "    </tr>\n",
              "    <tr>\n",
              "      <th>2663</th>\n",
              "      <td>992215</td>\n",
              "      <td>Operador de ceifadeira na conservação de vias ...</td>\n",
              "      <td>9922</td>\n",
              "      <td>Trabalhadores operacionais de conservação de v...</td>\n",
              "      <td>992</td>\n",
              "      <td>Trabalhadores elementares da manutenção       ...</td>\n",
              "      <td>99</td>\n",
              "      <td>Outros trabalhadores da conservação, manutençã...</td>\n",
              "      <td>9</td>\n",
              "      <td>Trabalhadores em serviços de reparação e manut...</td>\n",
              "    </tr>\n",
              "    <tr>\n",
              "      <th>2664</th>\n",
              "      <td>992220</td>\n",
              "      <td>Pedreiro de conservação de vias permanentes (e...</td>\n",
              "      <td>9922</td>\n",
              "      <td>Trabalhadores operacionais de conservação de v...</td>\n",
              "      <td>992</td>\n",
              "      <td>Trabalhadores elementares da manutenção       ...</td>\n",
              "      <td>99</td>\n",
              "      <td>Outros trabalhadores da conservação, manutençã...</td>\n",
              "      <td>9</td>\n",
              "      <td>Trabalhadores em serviços de reparação e manut...</td>\n",
              "    </tr>\n",
              "    <tr>\n",
              "      <th>2665</th>\n",
              "      <td>992225</td>\n",
              "      <td>Auxiliar geral de conservação de vias permanen...</td>\n",
              "      <td>9922</td>\n",
              "      <td>Trabalhadores operacionais de conservação de v...</td>\n",
              "      <td>992</td>\n",
              "      <td>Trabalhadores elementares da manutenção       ...</td>\n",
              "      <td>99</td>\n",
              "      <td>Outros trabalhadores da conservação, manutençã...</td>\n",
              "      <td>9</td>\n",
              "      <td>Trabalhadores em serviços de reparação e manut...</td>\n",
              "    </tr>\n",
              "  </tbody>\n",
              "</table>\n",
              "<p>2684 rows × 10 columns</p>\n",
              "</div>"
            ],
            "text/plain": [
              "     cbo_2002  ...                             descricao_grande_grupo\n",
              "0      010105  ...  Membros das forças armadas, policiais e bombei...\n",
              "1      010110  ...  Membros das forças armadas, policiais e bombei...\n",
              "2      010115  ...  Membros das forças armadas, policiais e bombei...\n",
              "3      010205  ...  Membros das forças armadas, policiais e bombei...\n",
              "4      010210  ...  Membros das forças armadas, policiais e bombei...\n",
              "...       ...  ...                                                ...\n",
              "2661   992205  ...  Trabalhadores em serviços de reparação e manut...\n",
              "2662   992210  ...  Trabalhadores em serviços de reparação e manut...\n",
              "2663   992215  ...  Trabalhadores em serviços de reparação e manut...\n",
              "2664   992220  ...  Trabalhadores em serviços de reparação e manut...\n",
              "2665   992225  ...  Trabalhadores em serviços de reparação e manut...\n",
              "\n",
              "[2684 rows x 10 columns]"
            ]
          },
          "metadata": {},
          "execution_count": 68
        }
      ]
    },
    {
      "cell_type": "code",
      "metadata": {
        "colab": {
          "base_uri": "https://localhost:8080/",
          "height": 35
        },
        "id": "7LgWjJbN_vtC",
        "outputId": "3767ae65-7463-4d61-b1f6-37ee4e97a3c1"
      },
      "source": [
        "frase = 'TÉCNICOS DE NÍVEL MÉDIO DAS CIÊNCIAS BIOLÓGICAS, BIOQUÍMICAS, DA SAÚDE E AFINS'\n",
        "frase = frase.capitalize()\n",
        "frase"
      ],
      "execution_count": null,
      "outputs": [
        {
          "output_type": "execute_result",
          "data": {
            "application/vnd.google.colaboratory.intrinsic+json": {
              "type": "string"
            },
            "text/plain": [
              "'Técnicos de nível médio das ciências biológicas, bioquímicas, da saúde e afins'"
            ]
          },
          "metadata": {},
          "execution_count": 36
        }
      ]
    }
  ]
}