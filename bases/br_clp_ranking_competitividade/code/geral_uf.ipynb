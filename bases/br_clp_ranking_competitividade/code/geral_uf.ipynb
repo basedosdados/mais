{
 "cells": [
  {
   "cell_type": "code",
   "execution_count": 1,
   "id": "7f096e07",
   "metadata": {},
   "outputs": [],
   "source": [
    "import basedosdados\n",
    "import pandas as pd\n",
    "import os"
   ]
  },
  {
   "cell_type": "code",
   "execution_count": 2,
   "id": "b6bc7e5e",
   "metadata": {},
   "outputs": [],
   "source": [
    "path = os.path.abspath(os.path.join('..', 'input'))"
   ]
  },
  {
   "cell_type": "code",
   "execution_count": 3,
   "id": "a0efc0ab",
   "metadata": {},
   "outputs": [],
   "source": [
    "path_uf = os.path.join(path, 'clp_posicao_uf.csv')\n",
    "posicao_uf = pd.read_csv(path_uf)"
   ]
  },
  {
   "cell_type": "code",
   "execution_count": 4,
   "id": "433498c8",
   "metadata": {},
   "outputs": [],
   "source": [
    "path_uf = os.path.join(path, 'clp_nota_uf.csv')\n",
    "nota_uf = pd.read_csv(path_uf)"
   ]
  },
  {
   "cell_type": "code",
   "execution_count": 5,
   "id": "34a4fbb3",
   "metadata": {},
   "outputs": [],
   "source": [
    "rank = pd.merge(posicao_uf,nota_uf,how = 'outer', on = ['sigla_uf', 'pilar'])"
   ]
  },
  {
   "cell_type": "code",
   "execution_count": 6,
   "id": "e7c49c6b",
   "metadata": {},
   "outputs": [
    {
     "data": {
      "text/html": [
       "<div>\n",
       "<style scoped>\n",
       "    .dataframe tbody tr th:only-of-type {\n",
       "        vertical-align: middle;\n",
       "    }\n",
       "\n",
       "    .dataframe tbody tr th {\n",
       "        vertical-align: top;\n",
       "    }\n",
       "\n",
       "    .dataframe thead th {\n",
       "        text-align: right;\n",
       "    }\n",
       "</style>\n",
       "<table border=\"1\" class=\"dataframe\">\n",
       "  <thead>\n",
       "    <tr style=\"text-align: right;\">\n",
       "      <th></th>\n",
       "      <th>sigla_uf</th>\n",
       "      <th>pilar</th>\n",
       "      <th>nota_geral</th>\n",
       "      <th>colocacao</th>\n",
       "      <th>ano</th>\n",
       "    </tr>\n",
       "  </thead>\n",
       "  <tbody>\n",
       "    <tr>\n",
       "      <th>0</th>\n",
       "      <td>AC</td>\n",
       "      <td>Ranking Geral</td>\n",
       "      <td>34,4</td>\n",
       "      <td>26</td>\n",
       "      <td>2015</td>\n",
       "    </tr>\n",
       "    <tr>\n",
       "      <th>1</th>\n",
       "      <td>AL</td>\n",
       "      <td>Ranking Geral</td>\n",
       "      <td>23,4</td>\n",
       "      <td>27</td>\n",
       "      <td>2015</td>\n",
       "    </tr>\n",
       "    <tr>\n",
       "      <th>2</th>\n",
       "      <td>AM</td>\n",
       "      <td>Ranking Geral</td>\n",
       "      <td>47,9</td>\n",
       "      <td>17</td>\n",
       "      <td>2015</td>\n",
       "    </tr>\n",
       "    <tr>\n",
       "      <th>3</th>\n",
       "      <td>AP</td>\n",
       "      <td>Ranking Geral</td>\n",
       "      <td>35,0</td>\n",
       "      <td>25</td>\n",
       "      <td>2015</td>\n",
       "    </tr>\n",
       "    <tr>\n",
       "      <th>4</th>\n",
       "      <td>BA</td>\n",
       "      <td>Ranking Geral</td>\n",
       "      <td>50,6</td>\n",
       "      <td>14</td>\n",
       "      <td>2015</td>\n",
       "    </tr>\n",
       "    <tr>\n",
       "      <th>...</th>\n",
       "      <td>...</td>\n",
       "      <td>...</td>\n",
       "      <td>...</td>\n",
       "      <td>...</td>\n",
       "      <td>...</td>\n",
       "    </tr>\n",
       "    <tr>\n",
       "      <th>2371</th>\n",
       "      <td>RS</td>\n",
       "      <td>Sustentabilidade Ambiental</td>\n",
       "      <td>69,1</td>\n",
       "      <td>6</td>\n",
       "      <td>2022</td>\n",
       "    </tr>\n",
       "    <tr>\n",
       "      <th>2372</th>\n",
       "      <td>SC</td>\n",
       "      <td>Sustentabilidade Ambiental</td>\n",
       "      <td>80,7</td>\n",
       "      <td>4</td>\n",
       "      <td>2022</td>\n",
       "    </tr>\n",
       "    <tr>\n",
       "      <th>2373</th>\n",
       "      <td>SE</td>\n",
       "      <td>Sustentabilidade Ambiental</td>\n",
       "      <td>31,1</td>\n",
       "      <td>20</td>\n",
       "      <td>2022</td>\n",
       "    </tr>\n",
       "    <tr>\n",
       "      <th>2374</th>\n",
       "      <td>SP</td>\n",
       "      <td>Sustentabilidade Ambiental</td>\n",
       "      <td>97,9</td>\n",
       "      <td>2</td>\n",
       "      <td>2022</td>\n",
       "    </tr>\n",
       "    <tr>\n",
       "      <th>2375</th>\n",
       "      <td>TO</td>\n",
       "      <td>Sustentabilidade Ambiental</td>\n",
       "      <td>30,3</td>\n",
       "      <td>21</td>\n",
       "      <td>2022</td>\n",
       "    </tr>\n",
       "  </tbody>\n",
       "</table>\n",
       "<p>2376 rows × 5 columns</p>\n",
       "</div>"
      ],
      "text/plain": [
       "     sigla_uf                       pilar nota_geral colocacao   ano\n",
       "0          AC               Ranking Geral       34,4        26  2015\n",
       "1          AL               Ranking Geral       23,4        27  2015\n",
       "2          AM               Ranking Geral       47,9        17  2015\n",
       "3          AP               Ranking Geral       35,0        25  2015\n",
       "4          BA               Ranking Geral       50,6        14  2015\n",
       "...       ...                         ...        ...       ...   ...\n",
       "2371       RS  Sustentabilidade Ambiental       69,1         6  2022\n",
       "2372       SC  Sustentabilidade Ambiental       80,7         4  2022\n",
       "2373       SE  Sustentabilidade Ambiental       31,1        20  2022\n",
       "2374       SP  Sustentabilidade Ambiental       97,9         2  2022\n",
       "2375       TO  Sustentabilidade Ambiental       30,3        21  2022\n",
       "\n",
       "[2376 rows x 5 columns]"
      ]
     },
     "execution_count": 6,
     "metadata": {},
     "output_type": "execute_result"
    }
   ],
   "source": [
    "rank_uf = pd.DataFrame()\n",
    "for i in ['15','16','17','18','19','20','21','22']:\n",
    "    lista = rank[[ 'sigla_uf', 'pilar', '20'+i+'_y','20'+i+'_x']].values\n",
    "    lista = pd.DataFrame(lista)\n",
    "    lista['ano'] = '20'+i\n",
    "    lista.rename(columns = {0:'sigla_uf', 1:'pilar', 2:'nota_geral',3:'colocacao'}, inplace = True)\n",
    "    rank_uf = rank_uf.append(lista).reset_index(drop=True)\n",
    "rank_uf"
   ]
  },
  {
   "cell_type": "code",
   "execution_count": 8,
   "id": "36173fcc",
   "metadata": {},
   "outputs": [],
   "source": [
    "geral_uf = rank_uf[['ano', 'sigla_uf','pilar','nota_geral', 'colocacao']]\n",
    "geral_uf['ano'] = geral_uf['ano'].astype(int)\n",
    "geral_uf['colocacao'] = geral_uf['colocacao'].astype(int)\n",
    "geral_uf['nota_geral'] = geral_uf['nota_geral'].str.replace(',', \".\")\n",
    "geral_uf['nota_geral'] = geral_uf['nota_geral'].astype('float')"
   ]
  },
  {
   "cell_type": "code",
   "execution_count": 9,
   "id": "61df9349",
   "metadata": {},
   "outputs": [],
   "source": [
    "path = os.path.abspath(os.path.join('..', 'output'))\n",
    "path_df = os.path.join(path, 'geral_uf.csv')\n",
    "geral_uf.to_csv(path_df, index=False)"
   ]
  }
 ],
 "metadata": {
  "kernelspec": {
   "display_name": "Python 3",
   "language": "python",
   "name": "python3"
  },
  "language_info": {
   "codemirror_mode": {
    "name": "ipython",
    "version": 3
   },
   "file_extension": ".py",
   "mimetype": "text/x-python",
   "name": "python",
   "nbconvert_exporter": "python",
   "pygments_lexer": "ipython3",
   "version": "3.9.12"
  }
 },
 "nbformat": 4,
 "nbformat_minor": 5
}
