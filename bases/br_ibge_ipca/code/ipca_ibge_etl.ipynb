{
  "nbformat": 4,
  "nbformat_minor": 0,
  "metadata": {
    "colab": {
      "name": "ipca_ibge_etl.ipynb",
      "provenance": []
    },
    "kernelspec": {
      "name": "python3",
      "display_name": "Python 3"
    },
    "language_info": {
      "name": "python"
    }
  },
  "cells": [
    {
      "cell_type": "code",
      "metadata": {
        "id": "xDyW1whjd8t6"
      },
      "source": [
        "!pip install wget\n",
        "import pandas as pd\n",
        "import numpy as np\n",
        "import os\n",
        "import glob\n",
        "import wget"
      ],
      "execution_count": null,
      "outputs": []
    },
    {
      "cell_type": "code",
      "metadata": {
        "id": "TLGmg5B5eB6e"
      },
      "source": [
        "from google.colab import drive\n",
        "global path_credenciais\n",
        "\n",
        "drive.mount('/content/gdrive')\n",
        "\n",
        "path = \"/content/gdrive/MyDrive/Dados/\" #gustavo\n",
        "\n",
        "path_credenciais = path + \"Credenciais/basedosdados-colab/\"\n",
        "\n",
        "!cp -r \"{path_credenciais}\" \"/root/.basedosdados/\""
      ],
      "execution_count": null,
      "outputs": []
    },
    {
      "cell_type": "markdown",
      "metadata": {
        "id": "qv3BJpuOdmWd"
      },
      "source": [
        "#### Baixa e lista arquivos INPUT"
      ]
    },
    {
      "cell_type": "code",
      "metadata": {
        "id": "Ayav1bAtESXG"
      },
      "source": [
        "#pastas\n",
        "!mkdir -p \"/content/data\"\n",
        "!mkdir -p \"/content/data/input\"\n",
        "!mkdir -p \"/content/data/input/br\"\n",
        "!mkdir -p \"/content/data/input/rm\"\n",
        "!mkdir -p \"/content/data/input/mun\"\n",
        "!mkdir -p \"/content/data/input/mes\"\n",
        "!mkdir -p \"/content/data/output\"\n",
        "\n",
        "link = {\"br/grupo\":\"https://sidra.ibge.gov.br/geratabela?format=br.csv&name=tabela7060.csv&terr=NC&rank=-&query=t/7060/n1/all/v/all/p/all/c315/7170,7445,7486,7558,7625,7660,7712,7766,7786/d/v63%202,v66%204,v69%202,v2265%202/l/,v,t%2Bp%2Bc315\",\n",
        "        \"br/subgrupo\":\"https://sidra.ibge.gov.br/geratabela?format=br.csv&name=tabela7060.csv&terr=NC&rank=-&query=t/7060/n1/all/v/all/p/all/c315/7171,7432,7446,7479,7487,7521,7548,7559,7604,7615,7620,7626,7661,7683,7697,7713,7767,7787,47656/d/v63%202,v66%204,v69%202,v2265%202/l/,v,t%2Bp%2Bc315\",\n",
        "        \"br/item\":\"https://sidra.ibge.gov.br/geratabela?format=br.csv&name=tabela7060.csv&terr=NC&rank=-&query=t/7060/n1/all/v/all/p/all/c315/7172,7184,7200,7219,7241,7254,7283,7303,7335,7349,7356,7372,7384,7389,7401,7415,7433,7447,7454,7461,7480,7484,7488,7495,7517,7522,7541,7549,7560,7572,7587,7605,7616,7621,7627,7640,7656,7662,7684,7690,7695,7698,7714,7730,7758,7777,7782,7788,12427,107678,109464/d/v63%202,v66%204,v69%202,v2265%202/l/,v,t%2Bp%2Bc315\",\n",
        "        \"br/subitem\":\"https://sidra.ibge.gov.br/geratabela/DownloadSelecaoComplexa/947075621\",\n",
        "        \"br/geral\":\"https://sidra.ibge.gov.br/geratabela?format=br.csv&name=tabela7060.csv&terr=NC&rank=-&query=t/7060/n1/all/v/all/p/all/c315/7169/d/v63%202,v66%204,v69%202,v2265%202/l/,v,t%2Bp%2Bc315\",\n",
        "        \"rm/grupo\":\"https://sidra.ibge.gov.br/geratabela?format=br.csv&name=tabela7060.csv&terr=NC&rank=-&query=t/7060/n7/all/v/all/p/all/c315/7170,7445,7486,7558,7625,7660,7712,7766,7786/d/v63%202,v66%204,v69%202,v2265%202/l/,v,t%2Bp%2Bc315\",\n",
        "        \"rm/subgrupo\":\"https://sidra.ibge.gov.br/geratabela?format=br.csv&name=tabela7060.csv&terr=NC&rank=-&query=t/7060/n7/all/v/all/p/all/c315/7171,7432,7446,7479,7487,7521,7548,7559,7604,7615,7620,7626,7661,7683,7697,7713,7767,7787,47656/d/v63%202,v66%204,v69%202,v2265%202/l/,v,t%2Bp%2Bc315\",\n",
        "        \"rm/item\":\"https://sidra.ibge.gov.br/geratabela?format=br.csv&name=tabela7060.csv&terr=NC&rank=-&query=t/7060/n7/all/v/all/p/all/c315/7172,7184,7200,7219,7241,7254,7283,7303,7335,7349,7356,7372,7384,7389,7401,7415,7433,7447,7454,7461,7480,7484,7488,7495,7517,7522,7541,7549,7560,7572,7587,7605,7616,7621,7627,7640,7656,7662,7684,7690,7695,7698,7714,7730,7758,7777,7782,7788,12427,107678,109464/d/v63%202,v66%204,v69%202,v2265%202/l/,v,t%2Bp%2Bc315\",\n",
        "        \"rm/subitem_1\":\"https://sidra.ibge.gov.br/geratabela/DownloadSelecaoComplexa/947075621\",\n",
        "        \"rm/subitem_2\":\"https://sidra.ibge.gov.br/geratabela/DownloadSelecaoComplexa/847634158\",\n",
        "        \"rm/geral\":\"https://sidra.ibge.gov.br/geratabela?format=br.csv&name=tabela7060.csv&terr=NC&rank=-&query=t/7060/n7/all/v/all/p/all/c315/7169/d/v63%202,v66%204,v69%202,v2265%202/l/,v,t%2Bp%2Bc315\",\n",
        "        \"mun/grupo\":\"https://sidra.ibge.gov.br/geratabela?format=br.csv&name=tabela7060.csv&terr=NC&rank=-&query=t/7060/n6/all/v/all/p/all/c315/7170,7445,7486,7558,7625,7660,7712,7766,7786/d/v63%202,v66%204,v69%202,v2265%202/l/,v,t%2Bp%2Bc315\",\n",
        "        \"mun/subgrupo\":\"https://sidra.ibge.gov.br/geratabela?format=br.csv&name=tabela7060.csv&terr=NC&rank=-&query=t/7060/n6/all/v/all/p/all/c315/7171,7432,7446,7479,7487,7521,7548,7559,7604,7615,7620,7626,7661,7683,7697,7713,7767,7787,47656/d/v63%202,v66%204,v69%202,v2265%202/l/,v,t%2Bp%2Bc315\",\n",
        "        \"mun/item\":\"https://sidra.ibge.gov.br/geratabela?format=br.csv&name=tabela7060.csv&terr=NC&rank=-&query=t/7060/n6/all/v/all/p/all/c315/7172,7184,7200,7219,7241,7254,7283,7303,7335,7349,7356,7372,7384,7389,7401,7415,7433,7447,7454,7461,7480,7484,7488,7495,7517,7522,7541,7549,7560,7572,7587,7605,7616,7621,7627,7640,7656,7662,7684,7690,7695,7698,7714,7730,7758,7777,7782,7788,12427,107678,109464/d/v63%202,v66%204,v69%202,v2265%202/l/,v,t%2Bp%2Bc315\",\n",
        "        \"mun/subitem_1\":\"https://sidra.ibge.gov.br/geratabela/DownloadSelecaoComplexa/866963382\",\n",
        "        \"mun/subitem_2\":\"https://sidra.ibge.gov.br/geratabela/DownloadSelecaoComplexa/-113176757\",\n",
        "        \"mun/geral\":\"https://sidra.ibge.gov.br/geratabela?format=br.csv&name=tabela7060.csv&terr=NC&rank=-&query=t/7060/n6/all/v/all/p/all/c315/7169/d/v63%202,v66%204,v69%202,v2265%202/l/,v,t%2Bp%2Bc315\",\n",
        "        \"mes/geral\":\"https://sidra.ibge.gov.br/geratabela?format=br.csv&name=tabela1737.csv&terr=N&rank=-&query=t/1737/n1/all/v/all/p/all/d/v63%202,v69%202,v2263%202,v2264%202,v2265%202,v2266%2013/l/,v,t%2Bp&abreviarRotulos=True&exibirNotas=False\"\n",
        "        }\n",
        "\n",
        "for key in link:\n",
        "  wget.download(link[key],\n",
        "                out=\"/content/data/input/\"+ key +\".csv\")\n",
        "  print(\"Baixado\", key)\n",
        "\n",
        "arq_br = [arquivo for arquivo in glob.iglob('data/input/br/*')]\n",
        "\n",
        "arq_rm = [arquivo for arquivo in glob.iglob('data/input/rm/*')]\n",
        "\n",
        "arq_mun = [arquivo for arquivo in glob.iglob('data/input/mun/*')]\n",
        "\n",
        "arq_mes = [arquivo for arquivo in glob.iglob('data/input/mes/*')]"
      ],
      "execution_count": null,
      "outputs": []
    },
    {
      "cell_type": "markdown",
      "metadata": {
        "id": "8U0IgYkUdfP5"
      },
      "source": [
        "#### País"
      ]
    },
    {
      "cell_type": "code",
      "metadata": {
        "colab": {
          "base_uri": "https://localhost:8080/"
        },
        "id": "pgmuoh75ddaA",
        "outputId": "e3cbcaee-ff1e-4d9f-eed5-cf89fec678e9"
      },
      "source": [
        "rename = {\"Cód.\":\"id_pais\",\n",
        "               \"Unnamed: 1\":\"pais\",\n",
        "               \"Mês\":\"ano\", \n",
        "               \"Geral, grupo, subgrupo, item e subitem\":\"categoria\",\n",
        "               \"IPCA - Variação mensal (%)\":\"variacao_mensal\",\n",
        "               \"IPCA - Variação acumulada no ano (%)\":\"variacao_anual\",\n",
        "               \"IPCA - Variação acumulada em 12 meses (%)\":\"variacao_doze_meses\",\n",
        "               \"IPCA - Peso mensal (%)\":\"peso_mensal\"\n",
        "               }\n",
        "\n",
        "ordem = [\"ano\",\"mes\",\"id_pais\",\"id_categoria\",\"id_categoria_bd\",\"categoria\",\"peso_mensal\",\n",
        "         \"variacao_mensal\",\"variacao_anual\",\"variacao_doze_meses\"\n",
        "         ]\n",
        "\n",
        "n_mes = {'janeiro':'1',\n",
        "        'fevereiro':'2',\n",
        "        'março':'3',\n",
        "        'abril':'4',\n",
        "        'maio':'5',\n",
        "        'junho':'6',\n",
        "        'julho':'7',\n",
        "        'agosto':'8',\n",
        "        'setembro':'9',\n",
        "        'outubro':'10',\n",
        "        'novembro':'11',\n",
        "        'dezembro':'12'\n",
        "        }\n",
        "\n",
        "for arq in arq_br:\n",
        "  df = pd.read_csv(arq, skipfooter=14, skiprows=2, sep=';', dtype=\"str\")\n",
        "  #renomear colunas\n",
        "  df.rename(columns=rename,inplace=True)\n",
        "  #substituir \"...\" por vazio\n",
        "  df  = df.replace(\"...\",\"\")\n",
        "  #Alterando código pais\n",
        "  df['id_pais']  = df['id_pais'].replace(\"1\",\"50\")\n",
        "  #Normalizando float\n",
        "  df = df.replace(',','.',regex=True)\n",
        "  \n",
        "  #Split coluna data e substituir mes\n",
        "  df[['mes','ano']] = df['ano'].str.split(' ',1,expand=True)\n",
        "  df['mes'] = df['mes'].map(n_mes)\n",
        "\n",
        "  #Split coluna categoria e add id_categoria_bd\n",
        "  if arq[14:-4] != \"geral\":\n",
        "    df[['id_categoria','categoria']] = df['categoria'].str.split('.',1,expand=True)\n",
        "\n",
        "  if arq[14:-4] == \"grupo\":\n",
        "    df['id_categoria_bd']  = df['id_categoria'].apply(lambda x: x+\".0.00.000\")\n",
        "    df = df[ordem]\n",
        "    grupo = pd.DataFrame(df)\n",
        "  elif arq[14:-4] == \"subgrupo\":\n",
        "    df['id_categoria_bd'] = df['id_categoria'].apply(lambda x: x[0] + \".\"+ x[1]+ \".00.000\")\n",
        "    df = df[ordem]\n",
        "    subgrupo = pd.DataFrame(df)\n",
        "  elif arq[14:-4] == \"item\":\n",
        "    df['id_categoria_bd'] = df['id_categoria'].apply(lambda x: x[0] + \".\"+ x[1]+ \".\" + x[2:4]+ \".000\")\n",
        "    df = df[ordem]\n",
        "    item = pd.DataFrame(df)\n",
        "  elif arq[14:-4] == \"subitem\":\n",
        "    df['id_categoria_bd'] = df['id_categoria'].apply(lambda x: x[0] + \".\"+ x[1]+ \".\" + x[2:4] +\".\"+x[4:7])\n",
        "    df = df[ordem]\n",
        "    subitem = pd.DataFrame(df)\n",
        "  elif arq[14:-4] == \"geral\":\n",
        "    df['id_categoria'] = \"\"\n",
        "    df['id_categoria_bd'] = \"0.0.00.000\"\n",
        "    df = df[ordem]\n",
        "    geral = pd.DataFrame(df)\n",
        "\n",
        "df\n",
        "df = pd.concat([grupo,subgrupo,item,subitem,geral])\n",
        "df.to_csv('/content/data/output/categoria_brasil.csv',index=False)\n",
        "del df\n",
        "del item\n",
        "del subitem\n",
        "del geral\n",
        "del grupo\n",
        "del subgrupo"
      ],
      "execution_count": null,
      "outputs": [
        {
          "output_type": "stream",
          "name": "stderr",
          "text": [
            "/usr/local/lib/python3.7/dist-packages/ipykernel_launcher.py:30: ParserWarning: Falling back to the 'python' engine because the 'c' engine does not support skipfooter; you can avoid this warning by specifying engine='python'.\n"
          ]
        }
      ]
    },
    {
      "cell_type": "markdown",
      "metadata": {
        "id": "xS_qxVNTePWm"
      },
      "source": [
        "#### RM"
      ]
    },
    {
      "cell_type": "code",
      "metadata": {
        "colab": {
          "base_uri": "https://localhost:8080/"
        },
        "id": "4kLcmLIbePWn",
        "outputId": "7309bdfc-6ed1-4fa6-a884-b7be73b5f74b"
      },
      "source": [
        "rename = {\"Cód.\":\"id_regiao_metropolitana\",\n",
        "               \"Unnamed: 1\":\"rm\",\n",
        "               \"Mês\":\"ano\", \n",
        "               \"Geral, grupo, subgrupo, item e subitem\":\"categoria\",\n",
        "               \"IPCA - Variação mensal (%)\":\"variacao_mensal\",\n",
        "               \"IPCA - Variação acumulada no ano (%)\":\"variacao_anual\",\n",
        "               \"IPCA - Variação acumulada em 12 meses (%)\":\"variacao_doze_meses\",\n",
        "               \"IPCA - Peso mensal (%)\":\"peso_mensal\"\n",
        "               }\n",
        "\n",
        "ordem = [\"ano\",\"mes\",\"id_regiao_metropolitana\",\"id_categoria\",\"id_categoria_bd\",\"categoria\",\n",
        "         \"peso_mensal\",\"variacao_mensal\",\"variacao_anual\",\"variacao_doze_meses\"\n",
        "         ]\n",
        "\n",
        "n_mes = {'janeiro':'1',\n",
        "        'fevereiro':'2',\n",
        "        'março':'3',\n",
        "        'abril':'4',\n",
        "        'maio':'5',\n",
        "        'junho':'6',\n",
        "        'julho':'7',\n",
        "        'agosto':'8',\n",
        "        'setembro':'9',\n",
        "        'outubro':'10',\n",
        "        'novembro':'11',\n",
        "        'dezembro':'12'\n",
        "        }\n",
        "\n",
        "for arq in arq_rm:\n",
        "  df = pd.read_csv(arq, skipfooter=14, skiprows=2, sep=';', dtype=\"str\")\n",
        "  #renomear colunas\n",
        "  df.rename(columns=rename,inplace=True)\n",
        "  #substituir \"...\" por vazio\n",
        "  df  = df.replace(\"...\",\"\")\n",
        "\n",
        "  #Normalizando float\n",
        "  df = df.replace(',','.',regex=True)\n",
        "  \n",
        "  #Split coluna data e substituir mes\n",
        "  df[['mes','ano']] = df['ano'].str.split(' ',1,expand=True)\n",
        "  df['mes'] = df['mes'].map(n_mes)\n",
        "\n",
        "  #Split coluna categoria e add id_categoria_bd\n",
        "  if arq[14:-4] != \"geral\":\n",
        "    df[['id_categoria','categoria']] = df['categoria'].str.split('.',1,expand=True)\n",
        "\n",
        "  if arq[14:-4] == \"grupo\":\n",
        "    df['id_categoria_bd']  = df['id_categoria'].apply(lambda x: x+\".0.00.000\")\n",
        "    df = df[ordem]\n",
        "    grupo = pd.DataFrame(df)\n",
        "  elif arq[14:-4] == \"subgrupo\":\n",
        "    df['id_categoria_bd'] = df['id_categoria'].apply(lambda x: x[0] + \".\"+ x[1]+ \".00.000\")\n",
        "    df = df[ordem]\n",
        "    subgrupo = pd.DataFrame(df)\n",
        "  elif arq[14:-4] == \"item\":\n",
        "    df['id_categoria_bd'] = df['id_categoria'].apply(lambda x: x[0] + \".\"+ x[1]+ \".\" + x[2:4]+ \".000\")\n",
        "    df = df[ordem]\n",
        "    item = pd.DataFrame(df)\n",
        "  elif arq[14:-4] == \"subitem_1\":\n",
        "    df['id_categoria_bd'] = df['id_categoria'].apply(lambda x: x[0] + \".\"+ x[1]+ \".\" + x[2:4] +\".\"+x[4:7])\n",
        "    df = df[ordem]\n",
        "    subitem_1 = pd.DataFrame(df)\n",
        "  elif arq[14:-4] == \"subitem_2\":\n",
        "    df['id_categoria_bd'] = df['id_categoria'].apply(lambda x: x[0] + \".\"+ x[1]+ \".\" + x[2:4] +\".\"+x[4:7])\n",
        "    df = df[ordem]\n",
        "    subitem_2 = pd.DataFrame(df)\n",
        "  elif arq[14:-4] == \"geral\":\n",
        "    df['id_categoria'] = \"\"\n",
        "    df['id_categoria_bd'] = \"0.0.00.000\"\n",
        "    df = df[ordem]\n",
        "    geral = pd.DataFrame(df)\n",
        "df\n",
        "df = pd.concat([grupo,subgrupo,item,subitem_1,subitem_2,geral])\n",
        "df.to_csv('/content/data/output/categoria_rm.csv',index=False)\n",
        "del item\n",
        "del subitem_1\n",
        "del subitem_2\n",
        "del geral\n",
        "del grupo\n",
        "del subgrupo"
      ],
      "execution_count": null,
      "outputs": [
        {
          "output_type": "stream",
          "name": "stderr",
          "text": [
            "/usr/local/lib/python3.7/dist-packages/ipykernel_launcher.py:30: ParserWarning: Falling back to the 'python' engine because the 'c' engine does not support skipfooter; you can avoid this warning by specifying engine='python'.\n"
          ]
        }
      ]
    },
    {
      "cell_type": "markdown",
      "metadata": {
        "id": "ANGel4CVeQeO"
      },
      "source": [
        "#### MUN"
      ]
    },
    {
      "cell_type": "code",
      "metadata": {
        "colab": {
          "base_uri": "https://localhost:8080/"
        },
        "id": "6RqtalV9eQeO",
        "outputId": "f2c17894-253d-436c-81a9-09d8ed710b87"
      },
      "source": [
        "rename = {\"Cód.\":\"id_municipio\",\n",
        "               \"Unnamed: 1\":\"municipio\",\n",
        "               \"Mês\":\"ano\", \n",
        "               \"Geral, grupo, subgrupo, item e subitem\":\"categoria\",\n",
        "               \"IPCA - Variação mensal (%)\":\"variacao_mensal\",\n",
        "               \"IPCA - Variação acumulada no ano (%)\":\"variacao_anual\",\n",
        "               \"IPCA - Variação acumulada em 12 meses (%)\":\"variacao_doze_meses\",\n",
        "               \"IPCA - Peso mensal (%)\":\"peso_mensal\"\n",
        "               }\n",
        "\n",
        "ordem = [\"ano\",\"mes\",\"id_municipio\",\"id_categoria\",\"id_categoria_bd\",\"categoria\",\"peso_mensal\",\n",
        "         \"variacao_mensal\",\"variacao_anual\",\"variacao_doze_meses\"\n",
        "         ]\n",
        "\n",
        "n_mes = {'janeiro':'1',\n",
        "        'fevereiro':'2',\n",
        "        'março':'3',\n",
        "        'abril':'4',\n",
        "        'maio':'5',\n",
        "        'junho':'6',\n",
        "        'julho':'7',\n",
        "        'agosto':'8',\n",
        "        'setembro':'9',\n",
        "        'outubro':'10',\n",
        "        'novembro':'11',\n",
        "        'dezembro':'12'\n",
        "        }\n",
        "\n",
        "for arq in arq_mun:\n",
        "  df = pd.read_csv(arq, skipfooter=14, skiprows=2, sep=';', dtype=\"str\")\n",
        "  #renomear colunas\n",
        "  df.rename(columns=rename,inplace=True)\n",
        "  #substituir \"...\" por vazio\n",
        "  df  = df.replace(\"...\",\"\")\n",
        "\n",
        "  #Normalizando float\n",
        "  df = df.replace(',','.',regex=True)\n",
        "  \n",
        "  #Split coluna data e substituir mes\n",
        "  df[['mes','ano']] = df['ano'].str.split(' ',1,expand=True)\n",
        "  df['mes'] = df['mes'].map(n_mes)\n",
        "\n",
        "  #Split coluna categoria e add id_categoria_bd\n",
        "  if arq[15:-4] != \"geral\":\n",
        "    df[['id_categoria','categoria']] = df['categoria'].str.split('.',1,expand=True)\n",
        "\n",
        "  if arq[15:-4] == \"grupo\":\n",
        "    df['id_categoria_bd']  = df['id_categoria'].apply(lambda x: x+\".0.00.000\")\n",
        "    df = df[ordem]\n",
        "    grupo = pd.DataFrame(df)\n",
        "  elif arq[15:-4] == \"subgrupo\":\n",
        "    df['id_categoria_bd'] = df['id_categoria'].apply(lambda x: x[0] + \".\"+ x[1]+ \".00.000\")\n",
        "    df = df[ordem]\n",
        "    subgrupo = pd.DataFrame(df)\n",
        "  elif arq[15:-4] == \"item\":\n",
        "    df['id_categoria_bd'] = df['id_categoria'].apply(lambda x: x[0] + \".\"+ x[1]+ \".\" + x[2:4]+ \".000\")\n",
        "    df = df[ordem]\n",
        "    item = pd.DataFrame(df)\n",
        "  elif arq[15:-4] == \"subitem_1\":\n",
        "    df['id_categoria_bd'] = df['id_categoria'].apply(lambda x: x[0] + \".\"+ x[1]+ \".\" + x[2:4] +\".\"+x[4:7])\n",
        "    df = df[ordem]\n",
        "    subitem_1 = pd.DataFrame(df)\n",
        "  elif arq[15:-4] == \"subitem_2\":\n",
        "    df['id_categoria_bd'] = df['id_categoria'].apply(lambda x: x[0] + \".\"+ x[1]+ \".\" + x[2:4] +\".\"+x[4:7])\n",
        "    df = df[ordem]\n",
        "    subitem_2 = pd.DataFrame(df)\n",
        "  elif arq[15:-4] == \"geral\":\n",
        "    df['id_categoria'] = \"\"\n",
        "    df['id_categoria_bd'] = \"0.0.00.000\"\n",
        "    df = df[ordem]\n",
        "    geral = pd.DataFrame(df)\n",
        "df\n",
        "df = pd.concat([grupo,subgrupo,item,subitem_1,subitem_2,geral])\n",
        "df.to_csv('/content/data/output/categoria_municipio.csv',index=False)\n",
        "del df\n",
        "del item\n",
        "del subitem_1\n",
        "del subitem_2\n",
        "del geral\n",
        "del grupo\n",
        "del subgrupo"
      ],
      "execution_count": null,
      "outputs": [
        {
          "output_type": "stream",
          "name": "stderr",
          "text": [
            "/usr/local/lib/python3.7/dist-packages/ipykernel_launcher.py:30: ParserWarning: Falling back to the 'python' engine because the 'c' engine does not support skipfooter; you can avoid this warning by specifying engine='python'.\n"
          ]
        }
      ]
    },
    {
      "cell_type": "markdown",
      "metadata": {
        "id": "JImNtvxegJf7"
      },
      "source": [
        "#### MES TOTAL"
      ]
    },
    {
      "cell_type": "code",
      "metadata": {
        "colab": {
          "base_uri": "https://localhost:8080/"
        },
        "id": "KXHvMkhTgJgC",
        "outputId": "785b43b4-1404-4e98-dc03-90dc9fc27140"
      },
      "source": [
        "rename = {'IPCA - Número-índice (base: dezembro de 1993 = 100) (Número-índice)':'indice',\n",
        "              'IPCA - Variação mensal (%)':'variacao_mensal',\n",
        "              'IPCA - Variação acumulada em 3 meses (%)':'variacao_tres_meses',\n",
        "              'IPCA - Variação acumulada em 6 meses (%)':'variacao_semestral',\n",
        "              'IPCA - Variação acumulada no ano (%)':'variacao_anual',\n",
        "              'IPCA - Variação acumulada em 12 meses (%)':'variacao_doze_meses'}\n",
        "\n",
        "ordem = ['ano','mes','indice','variacao_mensal','variacao_tres_meses','variacao_semestral',\n",
        "         'variacao_anual','variacao_doze_meses']\n",
        "\n",
        "n_mes = {'janeiro':'1',\n",
        "        'fevereiro':'2',\n",
        "        'março':'3',\n",
        "        'abril':'4',\n",
        "        'maio':'5',\n",
        "        'junho':'6',\n",
        "        'julho':'7',\n",
        "        'agosto':'8',\n",
        "        'setembro':'9',\n",
        "        'outubro':'10',\n",
        "        'novembro':'11',\n",
        "        'dezembro':'12'\n",
        "        }\n",
        "\n",
        "for arq in arq_mes:\n",
        "  df = pd.read_csv(arq,skiprows=2,skipfooter=13,sep=';')\n",
        "  \n",
        "  df['mes'] , df['ano'] = df['Mês'].str.split(' ',1).str\n",
        "\n",
        "  df['mes'] = df['mes'].map(n_mes)\n",
        "  \n",
        "  #renomear colunas\n",
        "  df.rename(columns=rename_pais,inplace=True)\n",
        "  df  = df.replace(\"...\",\"\")\n",
        "\n",
        "  #Normalizando float\n",
        "  df = df.replace(',','.',regex=True)\n",
        "  \n",
        "  #Renomeando colunas e ordenando\n",
        "  df.rename(columns=rename, inplace=True)\n",
        "  df = df[ordem]\n",
        "\n",
        "df.to_csv('/content/data/output/mes_geral.csv',index=False)\n",
        "del df"
      ],
      "execution_count": null,
      "outputs": [
        {
          "output_type": "stream",
          "name": "stderr",
          "text": [
            "/usr/local/lib/python3.7/dist-packages/ipykernel_launcher.py:26: ParserWarning: Falling back to the 'python' engine because the 'c' engine does not support skipfooter; you can avoid this warning by specifying engine='python'.\n",
            "/usr/local/lib/python3.7/dist-packages/ipykernel_launcher.py:28: FutureWarning: Columnar iteration over characters will be deprecated in future releases.\n"
          ]
        }
      ]
    },
    {
      "cell_type": "markdown",
      "metadata": {
        "id": "Uvi9M8byr7z6"
      },
      "source": [
        "####BQ [EM CONSTRUÇÃO]"
      ]
    },
    {
      "cell_type": "code",
      "metadata": {
        "id": "EG-deeGur-MP"
      },
      "source": [
        "!pip install basedosdados\n",
        "import basedosdados as bd\n",
        "\n",
        "\n",
        "\n",
        "table_ids = ['categoria_brasil',\n",
        "              'categoria_municipio',\n",
        "              'categoria_rm']\n",
        "\n",
        "\n",
        "for table_id in table_ids:\n",
        "\n",
        "  tb = bd.Table(dataset_id='br_ibge_ipca', table_id=table_id)\n",
        "  tb.create('content/data/output/{}'.format(table_id),\n",
        "            if_storage_data_exists='replace',\n",
        "            if_table_config_exists='replace',\n",
        "            if_table_exists='replace')"
      ],
      "execution_count": null,
      "outputs": []
    }
  ]
}