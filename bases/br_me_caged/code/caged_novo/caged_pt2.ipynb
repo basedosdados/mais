{
 "cells": [
  {
   "cell_type": "code",
   "execution_count": 13,
   "metadata": {},
   "outputs": [],
   "source": [
    "## caged_brach\n",
    "%reload_ext autoreload\n",
    "%autoreload 2\n",
    "\n",
    "import pandas as pd\n",
    "import numpy as np\n",
    "from datetime import datetime\n",
    "\n",
    "pd.options.display.max_columns = 999\n",
    "pd.options.display.max_rows = 1999\n",
    "pd.options.display.max_colwidth = 200\n",
    "\n",
    "from paths import *\n",
    "from scpts import manipulation\n",
    "from scpts import io\n",
    "from scpts import caged_novo\n",
    "\n",
    "from basedosdados import Storage, Table, Dataset\n",
    "import basedosdados as bd\n",
    "\n",
    "import glob\n",
    "import shutil\n"
   ]
  },
  {
   "cell_type": "markdown",
   "metadata": {},
   "source": [
    "### Download Dados\n",
    " - ftp://ftp.mtps.gov.br/pdet/microdados/CAGED/\n",
    " - ftp://ftp.mtps.gov.br/pdet/microdados/CAGED_AJUSTES/\n",
    " - ftp://ftp.mtps.gov.br/pdet/microdados/NOVO%20CAGED/"
   ]
  },
  {
   "cell_type": "code",
   "execution_count": null,
   "metadata": {},
   "outputs": [],
   "source": []
  },
  {
   "cell_type": "markdown",
   "metadata": {},
   "source": [
    "### Get Urls"
   ]
  },
  {
   "cell_type": "code",
   "execution_count": 7,
   "metadata": {},
   "outputs": [
    {
     "name": "stdout",
     "output_type": "stream",
     "text": [
      "estabelecimentos\n",
      "movimentacoes\n"
     ]
    }
   ],
   "source": [
    "download_dict = caged_novo.get_download_links()"
   ]
  },
  {
   "cell_type": "markdown",
   "metadata": {},
   "source": [
    "### DOWNLOAD E TRATAMENTO\n",
    "\n",
    "- download\n",
    "- extrair\n",
    "- load\n",
    "- padroniza nome das colunas\n",
    "- limpa\n",
    "- salva, formato ano=xxxx/mes=xx/sigla_uf=XX\n",
    "- upload bd\n",
    "- deleta arquivos"
   ]
  },
  {
   "cell_type": "code",
   "execution_count": 15,
   "metadata": {},
   "outputs": [
    {
     "name": "stdout",
     "output_type": "stream",
     "text": [
      "======  2021-10-05  ======\n"
     ]
    },
    {
     "name": "stderr",
     "output_type": "stream",
     "text": [
      "Downloading: 100%|█████████████████████████████████████████████████████████████████████████████████████████████████████████████████████████████████████████████████| 5570/5570 [00:00<00:00, 9711.31rows/s]"
     ]
    },
    {
     "name": "stdout",
     "output_type": "stream",
     "text": [
      "\n",
      "\n"
     ]
    },
    {
     "name": "stderr",
     "output_type": "stream",
     "text": [
      "\n"
     ]
    }
   ],
   "source": [
    "today = datetime.strftime(datetime.today(), \"%Y-%m-%d\")\n",
    "\n",
    "\n",
    "RAW_PATH = \"../data/caged_novo/raw/\"\n",
    "CLEAN_PATH = \"../data/caged_novo/clean/\"\n",
    "\n",
    "# GET MUNICIPIOS FROM BD\n",
    "print(\"====== \", today, \" ======\")\n",
    "query = \"\"\"\n",
    "SELECT \n",
    "    sigla_uf,\n",
    "    id_municipio,\n",
    "    id_municipio_6\n",
    "FROM `basedosdados.br_bd_diretorios_brasil.municipio` \n",
    "\"\"\"\n",
    "\n",
    "municipios = bd.read_sql(query, billing_project_id=\"basedosdados-dev\")\n",
    "print(\"\\n\")"
   ]
  },
  {
   "cell_type": "code",
   "execution_count": 30,
   "metadata": {},
   "outputs": [],
   "source": [
    "def upload_to_raw(tipo, save_raw_path):\n",
    "    if tipo == \"estabelecimentos\":\n",
    "        st = bd.Storage(table_id=\"microdados_estabelecimentos\", dataset_id=\"br_me_caged\")\n",
    "    else:\n",
    "        st = bd.Storage(table_id=\"microdados_movimentacoes\", dataset_id=\"br_me_caged\")\n",
    "        \n",
    "    st.upload(\n",
    "        path=save_raw_path,\n",
    "        mode='raw',\n",
    "        if_exists='replace'\n",
    "    )"
   ]
  },
  {
   "cell_type": "code",
   "execution_count": 34,
   "metadata": {
    "scrolled": true,
    "tags": []
   },
   "outputs": [
    {
     "name": "stdout",
     "output_type": "stream",
     "text": [
      "Get download links\n",
      "estabelecimentos\n",
      "movimentacoes\n",
      "\n",
      "\n",
      "Filter download links estabelecimentos\n",
      "nothing to download\n",
      "\n",
      "\n",
      "Filter download links movimentacoes\n",
      "Downloading missing file\n",
      "movimentacoes :  2020/1/\n",
      "\n",
      "\n"
     ]
    }
   ],
   "source": [
    "# deleta pasta\n",
    "if os.path.isdir(CLEAN_PATH):\n",
    "    shutil.rmtree(CLEAN_PATH)\n",
    "if os.path.isdir(RAW_PATH):\n",
    "    shutil.rmtree(RAW_PATH)\n",
    "\n",
    "print(\"Get download links\")\n",
    "download_dict = caged_novo.get_download_links()\n",
    "print(\"\\n\")\n",
    "\n",
    "for tipo in list(download_dict.keys()):\n",
    "\n",
    "    download_opt = caged_novo.get_filtered_download_dict(\n",
    "        tipo=tipo, download_dict=download_dict, bucket_name=\"basedosdados-dev\"\n",
    "    )\n",
    "\n",
    "    print(f\"Filter download links {tipo}\")\n",
    "\n",
    "    trigger, download_opt = caged_novo.get_trigger_and_download_opt(download_opt, tipo)\n",
    "\n",
    "    if trigger:\n",
    "        for year_month_path in list(download_opt.keys()):\n",
    "            print(tipo, \": \", year_month_path)\n",
    "            ## download data\n",
    "            save_path = RAW_PATH + f\"{tipo}/\" + year_month_path\n",
    "            caged_novo.download_data(save_path, download_opt[year_month_path])\n",
    "            \n",
    "            #create some vars\n",
    "            file_name = download_opt[year_month_path].split(\"/\")[-1].split(\".\")[0]\n",
    "            file_path = RAW_PATH + f\"{tipo}/\" + year_month_path\n",
    "            \n",
    "#             caged_novo.upload_to_raw(tipo=tipo, save_raw_path=f\"{save_path}{file_name}.7z\")\n",
    "\n",
    "\n",
    "            # extrai arquivo\n",
    "            caged_novo.extract_file(file_path, file_name, save_rows=None)\n",
    "\n",
    "            # load e organiza os dados\n",
    "            df = caged_novo.rename_add_orginaze_columns(file_path, file_name, tipo, municipios)\n",
    "\n",
    "            # salva no formato de particao\n",
    "            save_clean_path = CLEAN_PATH + f\"{tipo}/\"\n",
    "            caged_novo.creat_partition(df, save_clean_path, year_month_path)\n",
    "\n",
    "            # upload basedosdados\n",
    "#             caged_novo.upload_to_bd(tipo, save_clean_path)\n",
    "\n",
    "            # deleta pasta\n",
    "#             shutil.rmtree(CLEAN_PATH + f\"{tipo}/\")\n",
    "#             shutil.rmtree(RAW_PATH + f\"{tipo}/\")\n",
    "\n",
    "    print(\"\\n\")\n"
   ]
  },
  {
   "cell_type": "code",
   "execution_count": null,
   "metadata": {},
   "outputs": [],
   "source": []
  },
  {
   "cell_type": "code",
   "execution_count": 303,
   "metadata": {},
   "outputs": [
    {
     "name": "stderr",
     "output_type": "stream",
     "text": [
      "Downloading: 100%|██████████████████████| 5570/5570 [00:00<00:00, 9060.92rows/s]\n"
     ]
    },
    {
     "data": {
      "text/html": [
       "<div>\n",
       "<style scoped>\n",
       "    .dataframe tbody tr th:only-of-type {\n",
       "        vertical-align: middle;\n",
       "    }\n",
       "\n",
       "    .dataframe tbody tr th {\n",
       "        vertical-align: top;\n",
       "    }\n",
       "\n",
       "    .dataframe thead th {\n",
       "        text-align: right;\n",
       "    }\n",
       "</style>\n",
       "<table border=\"1\" class=\"dataframe\">\n",
       "  <thead>\n",
       "    <tr style=\"text-align: right;\">\n",
       "      <th></th>\n",
       "      <th>sigla_uf</th>\n",
       "      <th>id_municipio</th>\n",
       "      <th>id_municipio_6</th>\n",
       "    </tr>\n",
       "  </thead>\n",
       "  <tbody>\n",
       "    <tr>\n",
       "      <th>0</th>\n",
       "      <td>RO</td>\n",
       "      <td>1100015</td>\n",
       "      <td>110001</td>\n",
       "    </tr>\n",
       "    <tr>\n",
       "      <th>1</th>\n",
       "      <td>RO</td>\n",
       "      <td>1100023</td>\n",
       "      <td>110002</td>\n",
       "    </tr>\n",
       "    <tr>\n",
       "      <th>2</th>\n",
       "      <td>RO</td>\n",
       "      <td>1100031</td>\n",
       "      <td>110003</td>\n",
       "    </tr>\n",
       "    <tr>\n",
       "      <th>3</th>\n",
       "      <td>RO</td>\n",
       "      <td>1100049</td>\n",
       "      <td>110004</td>\n",
       "    </tr>\n",
       "    <tr>\n",
       "      <th>4</th>\n",
       "      <td>RO</td>\n",
       "      <td>1100056</td>\n",
       "      <td>110005</td>\n",
       "    </tr>\n",
       "    <tr>\n",
       "      <th>...</th>\n",
       "      <td>...</td>\n",
       "      <td>...</td>\n",
       "      <td>...</td>\n",
       "    </tr>\n",
       "    <tr>\n",
       "      <th>5565</th>\n",
       "      <td>GO</td>\n",
       "      <td>5222005</td>\n",
       "      <td>522200</td>\n",
       "    </tr>\n",
       "    <tr>\n",
       "      <th>5566</th>\n",
       "      <td>GO</td>\n",
       "      <td>5222054</td>\n",
       "      <td>522205</td>\n",
       "    </tr>\n",
       "    <tr>\n",
       "      <th>5567</th>\n",
       "      <td>GO</td>\n",
       "      <td>5222203</td>\n",
       "      <td>522220</td>\n",
       "    </tr>\n",
       "    <tr>\n",
       "      <th>5568</th>\n",
       "      <td>GO</td>\n",
       "      <td>5222302</td>\n",
       "      <td>522230</td>\n",
       "    </tr>\n",
       "    <tr>\n",
       "      <th>5569</th>\n",
       "      <td>DF</td>\n",
       "      <td>5300108</td>\n",
       "      <td>530010</td>\n",
       "    </tr>\n",
       "  </tbody>\n",
       "</table>\n",
       "<p>5570 rows × 3 columns</p>\n",
       "</div>"
      ],
      "text/plain": [
       "     sigla_uf id_municipio id_municipio_6\n",
       "0          RO      1100015         110001\n",
       "1          RO      1100023         110002\n",
       "2          RO      1100031         110003\n",
       "3          RO      1100049         110004\n",
       "4          RO      1100056         110005\n",
       "...       ...          ...            ...\n",
       "5565       GO      5222005         522200\n",
       "5566       GO      5222054         522205\n",
       "5567       GO      5222203         522220\n",
       "5568       GO      5222302         522230\n",
       "5569       DF      5300108         530010\n",
       "\n",
       "[5570 rows x 3 columns]"
      ]
     },
     "execution_count": 303,
     "metadata": {},
     "output_type": "execute_result"
    }
   ],
   "source": [
    "\n"
   ]
  },
  {
   "cell_type": "code",
   "execution_count": null,
   "metadata": {},
   "outputs": [],
   "source": []
  },
  {
   "cell_type": "markdown",
   "metadata": {},
   "source": [
    "### Create table and fill metadata"
   ]
  },
  {
   "cell_type": "code",
   "execution_count": 35,
   "metadata": {},
   "outputs": [
    {
     "name": "stderr",
     "output_type": "stream",
     "text": [
      "Uploading files: 100%|█████████████████████████████████████████████████████████████████████████████████████████████████████████████████████████████████████████████████████| 27/27 [00:51<00:00,  1.91s/it]\n"
     ]
    }
   ],
   "source": [
    "tb = bd.Table(table_id = 'microdados_movimentacoes',dataset_id = 'br_me_caged')\n",
    "# st = bd.Storage('br_me_caged','microdados_movimentacoes',)\n",
    "# st.delete_table(bucket_name='basedosdados-dev')\n",
    "tb.create(path='../data/caged_novo/clean/movimentacoes/',\n",
    "          if_table_config_exists='pass',\n",
    "          if_storage_data_exists='replace',\n",
    "          if_table_exists='replace'\n",
    "         )\n",
    "\n",
    "# tb.update_columns('https://docs.google.com/spreadsheets/d/1ihyOCSkaarmR3uMHj8bmP9tv-OChVeL2LkEWaGqxp7w/edit#gid=787251136')\n",
    "\n",
    "tb.publish(if_exists='replace')"
   ]
  },
  {
   "cell_type": "code",
   "execution_count": null,
   "metadata": {},
   "outputs": [],
   "source": []
  },
  {
   "cell_type": "code",
   "execution_count": 54,
   "metadata": {},
   "outputs": [],
   "source": [
    "tb = bd.Table(table_id = 'microdados_estabelecimentos',dataset_id = 'br_me_caged')\n",
    "st = bd.Storage('br_me_caged','microdados_estabelecimentos',)\n",
    "st.delete_table(bucket_name='basedosdados-dev')\n",
    "# tb.create(path='../data/caged_novo/clean/estabelecimentos/', \n",
    "#           if_table_config_exists='pass',\n",
    "#           if_storage_data_exists='replace',\n",
    "#           if_table_exists='replace' \n",
    "#          )\n",
    "\n",
    "# tb.update_columns('https://docs.google.com/spreadsheets/d/1-XQM9mhlJ3-t10c7cPpwOOK24hKz0u3qR6m04I1PoR4/edit#gid=1885260190')\n",
    "\n",
    "# tb.publish(if_exists='replace')"
   ]
  },
  {
   "cell_type": "code",
   "execution_count": 55,
   "metadata": {},
   "outputs": [],
   "source": [
    "## fill columns description\n"
   ]
  },
  {
   "cell_type": "code",
   "execution_count": null,
   "metadata": {},
   "outputs": [],
   "source": []
  },
  {
   "cell_type": "code",
   "execution_count": 46,
   "metadata": {},
   "outputs": [],
   "source": [
    "### SQL"
   ]
  },
  {
   "cell_type": "code",
   "execution_count": 3,
   "metadata": {},
   "outputs": [
    {
     "name": "stderr",
     "output_type": "stream",
     "text": [
      "Uploading files: 100%|███████████████████████████████████████████████████████████████████████████████████████████████████████████████████████████████████████████████████████| 1/1 [00:00<00:00,  1.23it/s]\n"
     ]
    }
   ],
   "source": [
    "tb = bd.Table(table_id='dicionario',dataset_id='br_me_caged')\n",
    "tb.create(path='/Users/m/Downloads/dicionario.csv',\n",
    "          if_table_config_exists='replace',\n",
    "          if_storage_data_exists='replace',\n",
    "          if_table_exists='replace'\n",
    "         )"
   ]
  },
  {
   "cell_type": "code",
   "execution_count": 4,
   "metadata": {},
   "outputs": [],
   "source": [
    "tb.publish()"
   ]
  },
  {
   "cell_type": "code",
   "execution_count": null,
   "metadata": {},
   "outputs": [],
   "source": []
  }
 ],
 "metadata": {
  "kernelspec": {
   "display_name": "Python 3 (ipykernel)",
   "language": "python",
   "name": "python3"
  },
  "language_info": {
   "codemirror_mode": {
    "name": "ipython",
    "version": 3
   },
   "file_extension": ".py",
   "mimetype": "text/x-python",
   "name": "python",
   "nbconvert_exporter": "python",
   "pygments_lexer": "ipython3",
   "version": "3.9.1"
  }
 },
 "nbformat": 4,
 "nbformat_minor": 4
}
