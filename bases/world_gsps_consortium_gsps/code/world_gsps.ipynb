{
  "nbformat": 4,
  "nbformat_minor": 0,
  "metadata": {
    "colab": {
      "provenance": []
    },
    "kernelspec": {
      "name": "python3",
      "display_name": "Python 3"
    },
    "language_info": {
      "name": "python"
    }
  },
  "cells": [
    {
      "cell_type": "code",
      "execution_count": null,
      "metadata": {
        "id": "XSOKQmv3es7o",
        "colab": {
          "base_uri": "https://localhost:8080/"
        },
        "outputId": "f50067d9-923e-4095-a790-5751f398bd0b"
      },
      "outputs": [
        {
          "output_type": "stream",
          "name": "stdout",
          "text": [
            "Mounted at /content/drive\n"
          ]
        }
      ],
      "source": [
        "# Conectando o Colab ao Google Drive\n",
        "from google.colab import drive\n",
        "drive.mount('/content/drive')\n",
        "\n",
        "# Importando as bibliotecas\n",
        "import pandas as pd\n",
        "import numpy as np\n",
        "\n",
        "# importando a base de dados a partir do drive\n",
        "df = pd.read_csv('/content/drive/MyDrive/basedosdados/Template Dados - gsps/input/Global Survey of Public Servants_All Indicators_v1.csv', dtype=str, encoding = 'latin1')"
      ]
    },
    {
      "cell_type": "code",
      "source": [
        "df = df.rename(columns={'Country' : 'country',\n",
        "                   'Year' : 'year',\n",
        "                   'Mode' : 'mode',\n",
        "                   'Respondents' : 'respondents',\n",
        "                   'Response_rate' : 'response_rate',\n",
        "                   'Institutions_number' : 'institutions_number',\n",
        "                   'Source' : 'source',\n",
        "                   'Section_org' : 'section_org',\n",
        "                   'Topic' : 'topic',\n",
        "                   'Indicator' : 'indicator',\n",
        "                   'Question_var' : 'question_var',\n",
        "                   'Question_text' : 'question_text',\n",
        "                   'Harmonize' : 'harmonize',\n",
        "                   'Scale' : 'scale',\n",
        "                   'Group' : 'group',\n",
        "                   'Category' : 'category',\n",
        "                   'Mean' : 'mean',\n",
        "                   'Lower_ci' : 'lower_ci',\n",
        "                   'Upper_ci' : 'upper_ci'\n",
        "                   })\n",
        "\n",
        "df['response_rate'] = df['response_rate'].replace('%', '')\n",
        "\n",
        "df = df[['year',\n",
        "         'country',\n",
        "         'institutions_number',\n",
        "         'respondents',\n",
        "         'response_rate',\n",
        "         'section_org',\n",
        "         'topic',\n",
        "         'indicator',\n",
        "         'group',\n",
        "         'category',\n",
        "         'mode',\n",
        "         'question_text',\n",
        "         'harmonize',\n",
        "         'scale',\n",
        "         'mean',\n",
        "         'lower_ci',\n",
        "         'upper_ci',\n",
        "         'source']]\n",
        "\n",
        "df['harmonize'] = df['harmonize'].replace(np.nan, 0)\n",
        "\n",
        "df.to_csv('/content/drive/MyDrive/basedosdados/Template Dados - gsps/output/df.csv', index=False, na_rep='')"
      ],
      "metadata": {
        "id": "T_XEzYWTsL0d"
      },
      "execution_count": null,
      "outputs": []
    }
  ]
}