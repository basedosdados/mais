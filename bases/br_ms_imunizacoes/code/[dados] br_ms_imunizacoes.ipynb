{
  "nbformat": 4,
  "nbformat_minor": 0,
  "metadata": {
    "colab": {
      "name": "[dados] br_ms_imunizacoes",
      "provenance": []
    },
    "kernelspec": {
      "name": "python3",
      "display_name": "Python 3"
    },
    "language_info": {
      "name": "python"
    }
  },
  "cells": [
    {
      "cell_type": "code",
      "metadata": {
        "colab": {
          "base_uri": "https://localhost:8080/"
        },
        "id": "67_UKsyzEc3n",
        "outputId": "e3835833-9403-4fa0-b98c-5b0d117d922d"
      },
      "source": [
        "from google.colab import drive\n",
        "drive.mount('/content/drive', force_remount=True)"
      ],
      "execution_count": null,
      "outputs": [
        {
          "output_type": "stream",
          "name": "stdout",
          "text": [
            "Mounted at /content/drive\n"
          ]
        }
      ]
    },
    {
      "cell_type": "code",
      "metadata": {
        "id": "33GPNIo0EqcG"
      },
      "source": [
        "import pandas as pd\n",
        "import numpy as np\n",
        "import os\n",
        "import glob"
      ],
      "execution_count": null,
      "outputs": []
    },
    {
      "cell_type": "code",
      "metadata": {
        "id": "HwDoR2qHw7Y4"
      },
      "source": [
        "path_file = '/content/drive/MyDrive/br_ms_imunizacao/'\n",
        "id_mun = pd.read_csv('/content/drive/MyDrive/br_ms_sinasc/id_mun.csv',dtype='string')  "
      ],
      "execution_count": null,
      "outputs": []
    },
    {
      "cell_type": "code",
      "metadata": {
        "id": "ww1K5oIAW21B"
      },
      "source": [
        "ufs = ['AC', 'AL', 'AM', 'AP', 'BA', 'CE', 'DF', 'ES', 'GO', 'MA', 'MG', 'MS', 'MT', \n",
        "       'PA', 'PB', 'PE', 'PI', 'PR', 'RJ', 'RN', 'RO', 'RR', 'RS', 'SC', 'SE', 'SP', 'TO'] "
      ],
      "execution_count": null,
      "outputs": []
    },
    {
      "cell_type": "code",
      "metadata": {
        "id": "u2E7ItGHXDyi"
      },
      "source": [
        "for i in [*range(1994, 2022)]:\n",
        "  for uf in ufs:\n",
        "    \n",
        "    directory = path_file + 'output/ano={}/sigla_uf={}'.format(i, uf)\n",
        "    if not os.path.exists(directory):\n",
        "      os.makedirs(directory)"
      ],
      "execution_count": null,
      "outputs": []
    },
    {
      "cell_type": "code",
      "metadata": {
        "id": "8dHDpsmqIv46"
      },
      "source": [
        "rename_dose = {'BCG':'doses_bcg', 'Hepatite B':'doses_hepatite_b', 'Poliomielite':'doses_poliomielite', 'Poliomielite 4 anos':'doses_poliomielite_4anos', 'Febre Amarela':'doses_febre_amarela',\n",
        "               'DTP':'doses_dtp', 'Sarampo':'doses_sarampo', 'Haemophilus influenzae b':'doses_haemophilus_influenza_b', 'Poliomielite(1º ref)':'doses_poliomielite_ref1',\n",
        "               'Tríplice Viral  D1':'doses_triplice_viral_d1', 'Rotavírus Humano':'doses_rotavirus', 'Tetravalente (DTP/Hib) (TETRA)':'doses_tetravalente',\n",
        "               'Meningococo C':'doses_meningococo', 'Pneumocócica':'doses_pneumococica', 'Penta':'doses_penta', 'Tetra Viral(SRC+VZ)':'doses_tetra_viral',\n",
        "               'dTpa gestante':'doses_dtpa_gestante', 'Dupla adulto e tríplice acelular gestante':'doses_duplo_adulto_dtpa_gestante', 'Meningococo C (1º ref)':'doses_meningococo_ref1',\n",
        "               'Tríplice Bacteriana(DTP)(1º ref)':'doses_triplice_bacteriana', 'Tríplice Viral  D2':'doses_triplice_viral_d2', 'DTP REF (4 e 6 anos)': 'doses_dtp_ref',\n",
        "               'Hepatite A':'doses_hepatite_a', 'Hepatite B  em crianças até 30 dias': 'doses_hepatite_b_rn', 'Pneumocócica(1º ref)': 'doses_pneumococica_ref1',\n",
        "               'Ignorado':'doses_ignorado', ' Total':'doses_total'}\n",
        "\n",
        "rename_cobertura = {'BCG':'cobertura_bcg', 'Hepatite B':'cobertura_hepatite_b', 'Poliomielite':'cobertura_poliomielite', 'Febre Amarela':'cobertura_febre_amarela', 'Poliomielite(1º ref)':'cobertura_poliomielite_ref1',\n",
        "                    'DTP':'cobertura_dtp', 'Sarampo':'cobertura_sarampo', 'Haemophilus influenzae b':'cobertura_haemophilus_influenza_b', 'Poliomielite 4 anos':'cobertura_poliomielite_4anos',\n",
        "                    'Tríplice Viral  D1':'cobertura_triplice_viral_d1', 'Rotavírus Humano':'cobertura_rotavirus', 'Tetravalente (DTP/Hib) (TETRA)':'cobertura_tetravalente',\n",
        "                    'Meningococo C':'cobertura_meningococo', 'Pneumocócica':'cobertura_pneumococica', 'Penta':'cobertura_penta', 'Tetra Viral(SRC+VZ)':'cobertura_tetra_viral',\n",
        "                    'dTpa gestante':'cobertura_dtpa_gestante', 'Dupla adulto e tríplice acelular gestante':'cobertura_duplo_adulto_dtpa_gestante', 'Meningococo C (1º ref)':'cobertura_meningococo_ref1',\n",
        "                    'Tríplice Bacteriana(DTP)(1º ref)':'cobertura_triplice_bacteriana', 'Tríplice Viral  D2':'cobertura_triplice_viral_d2', 'DTP REF (4 e 6 anos)': 'cobertura_dtp_ref',\n",
        "                    'Hepatite A':'cobertura_hepatite_a', 'Hepatite B  em crianças até 30 dias': 'cobertura_hepatite_b_rn', 'Pneumocócica(1º ref)': 'cobertura_pneumococica_ref1',\n",
        "                    'Ignorado':'cobertura_ignorado', ' Total':'cobertura_total'}\n",
        "\n",
        "df = pd.DataFrame(columns=['ano',\t'sigla_uf',\t'id_municipio', 'doses_total',\t'cobertura_total',\t'doses_bcg',\t'cobertura_bcg',\t'doses_dtp',\t'cobertura_dtp',\n",
        "                          'doses_dtp_ref',\t'cobertura_dtp_ref',\t'doses_dtpa_gestante',\t'cobertura_dtpa_gestante',\t'doses_duplo_adulto_dtpa_gestante',\t\n",
        "                          'cobertura_duplo_adulto_dtpa_gestante',\t'doses_febre_amarela',\t'cobertura_febre_amarela',\t'doses_haemophilus_influenza_b',\t\n",
        "                          'cobertura_haemophilus_influenza_b',\t'doses_hepatite_a',\t'cobertura_hepatite_a',\t'doses_hepatite_b',\t'cobertura_hepatite_b',\t\n",
        "                          'doses_hepatite_b_rn',\t'cobertura_hepatite_b_rn',\t'doses_meningococo',\t'cobertura_meningococo',\t'doses_meningococo_ref1',\t\n",
        "                          'cobertura_meningococo_ref1',\t'doses_penta',\t'cobertura_penta',\t'doses_pneumococica',\t'cobertura_pneumococica',\t'doses_pneumococica_ref1',\n",
        "                          'cobertura_pneumococica_ref1',\t'doses_poliomielite',\t'cobertura_poliomielite',\t'doses_poliomielite_4anos',\t'cobertura_poliomielite_4anos',\t\n",
        "                          'doses_poliomielite_ref1',\t'cobertura_poliomielite_ref1',\t'doses_rotavirus',\t'cobertura_rotavirus',\t'doses_sarampo',\t'cobertura_sarampo',\t\n",
        "                          'doses_tetra_viral',\t'cobertura_tetra_viral',\t'doses_tetravalente',\t'cobertura_tetravalente',\t'doses_triplice_bacteriana',\t\n",
        "                          'cobertura_triplice_bacteriana',\t'doses_triplice_viral_d1',\t'cobertura_triplice_viral_d1',\t'doses_triplice_viral_d2',\t'cobertura_triplice_viral_d2',\n",
        "                          'doses_ignorado',\t'cobertura_ignorado'])\n",
        "\n",
        "ordem = ['ano',\t'sigla_uf',\t'id_municipio', 'doses_total',\t'cobertura_total',\t'doses_bcg',\t'cobertura_bcg',\t'doses_dtp',\t'cobertura_dtp',\n",
        "         'doses_dtp_ref',\t'cobertura_dtp_ref',\t'doses_dtpa_gestante',\t'cobertura_dtpa_gestante',\t'doses_duplo_adulto_dtpa_gestante',\t\n",
        "         'cobertura_duplo_adulto_dtpa_gestante',\t'doses_febre_amarela',\t'cobertura_febre_amarela',\t'doses_haemophilus_influenza_b',\t\n",
        "         'cobertura_haemophilus_influenza_b',\t'doses_hepatite_a',\t'cobertura_hepatite_a',\t'doses_hepatite_b',\t'cobertura_hepatite_b',\t\n",
        "         'doses_hepatite_b_rn',\t'cobertura_hepatite_b_rn',\t'doses_meningococo',\t'cobertura_meningococo',\t'doses_meningococo_ref1',\t\n",
        "         'cobertura_meningococo_ref1',\t'doses_penta',\t'cobertura_penta',\t'doses_pneumococica',\t'cobertura_pneumococica',\t'doses_pneumococica_ref1',\n",
        "         'cobertura_pneumococica_ref1',\t'doses_poliomielite',\t'cobertura_poliomielite',\t'doses_poliomielite_4anos',\t'cobertura_poliomielite_4anos',\t\n",
        "         'doses_poliomielite_ref1',\t'cobertura_poliomielite_ref1',\t'doses_rotavirus',\t'cobertura_rotavirus',\t'doses_sarampo',\t'cobertura_sarampo',\t\n",
        "         'doses_tetra_viral',\t'cobertura_tetra_viral',\t'doses_tetravalente',\t'cobertura_tetravalente',\t'doses_triplice_bacteriana',\t\n",
        "         'cobertura_triplice_bacteriana',\t'doses_triplice_viral_d1',\t'cobertura_triplice_viral_d1',\t'doses_triplice_viral_d2',\t'cobertura_triplice_viral_d2',\n",
        "         'doses_ignorado',\t'cobertura_ignorado']"
      ],
      "execution_count": null,
      "outputs": []
    },
    {
      "cell_type": "code",
      "metadata": {
        "id": "O4oVmB2GTIjf"
      },
      "source": [
        "  for i in [*range(1994, 2022)]:\n",
        "    if i >= 2000:\n",
        "      exec(\"dose{} = pd.read_csv(path_file+'input/doses_{}.csv', sep=';', skipfooter=1, dtype='string', encoding='iso-8859-1', engine='python')\".format(i, i))\n",
        "      exec(\"cober{} = pd.read_csv(path_file+'input/cobertura_vacinal_{}.csv', sep=';', skipfooter=1, dtype='string', encoding='iso-8859-1', engine='python')\".format(i, i))\n",
        "\n",
        "      exec(\"dose{}['id_municipio_6'] = dose{}['Município'].astype(str).str[0:6]\".format(i, i))\n",
        "      exec(\"dose{}.drop('Município', axis=1, inplace=True)\".format(i))\n",
        "      exec(\"dose{}.rename(columns=rename_dose, inplace=True)\".format(i))\n",
        "      exec(\"dose{}['ano'] = i\".format(i))\n",
        "\n",
        "      exec(\"cober{}['id_municipio_6'] = cober{}['Município'].astype(str).str[0:6]\".format(i, i))\n",
        "      exec(\"cober{} = cober{}.apply(lambda x: x.str.replace(',','.'))\".format(i, i))\n",
        "      exec(\"cober{}.drop('Município', axis=1, inplace=True)\".format(i))\n",
        "      exec(\"cober{}.rename(columns=rename_cobertura, inplace=True)\".format(i))\n",
        "      exec(\"cober{}['ano'] = i\".format(i))\n",
        "\n",
        "      exec(\"imuni{} = pd.merge(dose{}, cober{}, how='left', left_on=['ano', 'id_municipio_6'], right_on=['ano', 'id_municipio_6'])\".format(i, i, i))\n",
        "      exec(\"imuni{} = pd.merge(imuni{}, id_mun, how='left', left_on=['id_municipio_6'], right_on=['id_municipio_6'])\".format(i, i))\n",
        "      exec(\"imuni{} = pd.concat([imuni{}, df])\".format(i, i))\n",
        "      exec(\"imuni{} = imuni{}[ordem]\".format(i, i))\n",
        "\n",
        "      for uf in ufs:\n",
        "          exec(\"imuni{}_{} = imuni{}[imuni{}['sigla_uf']== uf]\".format(i, uf, i, i))\n",
        "          exec(\"imuni{}_{}.drop(['ano', 'sigla_uf'], axis=1, inplace=True)\".format(i, uf))\n",
        "          print(\"Particionando {} de {}\".format(uf, i))\n",
        "          exec(\"imuni{}_{}.to_csv(path_file+'output/ano={}/sigla_uf={}/microdados.csv', index=False, encoding='utf-8', na_rep='')\".format(i, uf, i, uf))\n",
        "\n",
        "      exec(\"del dose{}, cober{}, imuni{}\".format(i, i, i))"
      ],
      "execution_count": null,
      "outputs": []
    }
  ]
}