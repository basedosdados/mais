{
 "cells": [
  {
   "cell_type": "markdown",
   "metadata": {},
   "source": [
    "### Setup: Acessando Inputs\n",
    "* df_pais: database original da BD desatualizada\n",
    "* df_iso: database com códigos iso"
   ]
  },
  {
   "cell_type": "code",
   "execution_count": null,
   "metadata": {},
   "outputs": [],
   "source": [
    "import pandas as pd\n",
    "import numpy as np\n",
    "import warnings\n",
    "warnings.simplefilter(\"ignore\")\n",
    "\n",
    "path = os.path.abspath(os.path.join('..', 'input'))\n",
    "path_data_base = os.path.join(path, 'pais_old.csv')\n",
    "df_pais = pd.read_csv(path_data_base)"
   ]
  },
  {
   "cell_type": "code",
   "execution_count": null,
   "metadata": {},
   "outputs": [],
   "source": [
    "path_data_iso = os.path.join(path, 'iso.csv')\n",
    "df_iso = pd.read_csv(path_data_iso, na_filter=False)\n",
    "df_iso = df_iso.drop(['Numeric'], axis=1)"
   ]
  },
  {
   "cell_type": "markdown",
   "metadata": {},
   "source": [
    "### Tratamento e Output"
   ]
  },
  {
   "cell_type": "code",
   "execution_count": null,
   "metadata": {},
   "outputs": [],
   "source": [
    "df = df_pais.merge(df_iso, how='outer', left_on='sigla_iso3',\n",
    "                   right_on='Alpha-3 code')\n",
    "df['nome_en'] = df['English short name']\n",
    "df['sigla_iso2'] = df['Alpha-2 code']\n",
    "df['sigla_iso3'] = df['Alpha-3 code']\n",
    "df = df.drop(['Alpha-2 code', 'Alpha-3 code', 'English short name'], axis=1)\n",
    "df['nome_en'] = df['nome_en'].str.replace(\"*\", \"\", regex=False)"
   ]
  },
  {
   "cell_type": "code",
   "execution_count": null,
   "metadata": {},
   "outputs": [],
   "source": [
    "#adicionando continentes\n",
    "path_data_owd = os.path.join(path, 'ourworldindata.csv')\n",
    "df_owd = pd.read_csv(path_data_owd, na_filter=False)\n",
    "df_owd.drop(columns=['Entity', 'Year'], inplace=True)"
   ]
  },
  {
   "cell_type": "code",
   "execution_count": null,
   "metadata": {},
   "outputs": [],
   "source": [
    "#merge entre as duas bases\n",
    "df = df.merge(df_owd, how='inner', left_on='sigla_iso3',\n",
    "              right_on='Code')\n",
    "df_owd.drop(columns=['Code'], inplace=True)"
   ]
  },
  {
   "cell_type": "code",
   "execution_count": null,
   "metadata": {},
   "outputs": [],
   "source": [
    "#código no padrão BD\n",
    "path_data_continente = os.path.join(path, 'continente.csv')\n",
    "df_continente = pd.read_csv(path_data_continente, na_filter=False)"
   ]
  },
  {
   "cell_type": "code",
   "execution_count": null,
   "metadata": {},
   "outputs": [],
   "source": [
    "df = df.merge(df_continente, how='inner', left_on='Continent',\n",
    "              right_on='nome_en', suffixes=('', '_cont'))\n",
    "df.sigla_continente = df.sigla\n",
    "df.drop(columns=['Code', 'Continent', 'nome_pt_cont',\n",
    "        'nome_en_cont', 'sigla'], inplace=True)"
   ]
  },
  {
   "cell_type": "code",
   "execution_count": null,
   "metadata": {},
   "outputs": [],
   "source": [
    "#adicionando códigos que faltam\n",
    "path_data_codes = os.path.join(path, 'fao.xlsx')\n",
    "df_codes = pd.read_excel(path_data_codes, sheet_name='Codes', na_filter=False)\n",
    "df_english = pd.read_excel(\n",
    "    path_data_codes, sheet_name='English', na_filter=False)"
   ]
  },
  {
   "cell_type": "code",
   "execution_count": null,
   "metadata": {},
   "outputs": [],
   "source": [
    "#merge entre bases da FAO\n",
    "df_code_missing = df_codes.merge(df_english, on='ID')\n",
    "df_code_missing = df_code_missing[[\n",
    "    'ISO3', 'FAOSTAT', 'GAULCODE', 'UNDP', 'ADJECTIVE/INHABITANT', 'FULL NAME', 'M49']]"
   ]
  },
  {
   "cell_type": "code",
   "execution_count": null,
   "metadata": {},
   "outputs": [],
   "source": [
    "#merge com df\n",
    "df = df.merge(df_code_missing, how='inner', left_on='sigla_iso3',\n",
    "              right_on='ISO3')\n",
    "df['id_pais_fao'] = df['FAOSTAT']\n",
    "df['id_pais_gaul'] = df['GAULCODE']\n",
    "df['sigla_pnud'] = df['UNDP']\n",
    "df['nome_oficial_en'] = df['FULL NAME']\n",
    "df['nacionalidade_en'] = df['ADJECTIVE/INHABITANT']\n",
    "df['id_pais_ocde'] = df['M49']\n",
    "df.rename(columns={'id_pais_ocde': 'id_pais_m49'}, inplace=True)\n",
    "df = df.drop(['FAOSTAT', 'GAULCODE', 'UNDP', 'FULL NAME',\n",
    "             'ADJECTIVE/INHABITANT', 'ISO3', 'M49'], axis=1)"
   ]
  },
  {
   "cell_type": "code",
   "execution_count": null,
   "metadata": {},
   "outputs": [],
   "source": [
    "#transformar coluna em string\n",
    "def change_format_str(item):\n",
    "    my_formatter = \"{0:0>2d}\"\n",
    "    new = int(item)\n",
    "    my_formatter.format(new)\n",
    "    return str(new)\n",
    "df['id_pais_m49'] = df['id_pais_m49'].apply(lambda x: change_format_str(x))"
   ]
  },
  {
   "cell_type": "code",
   "execution_count": null,
   "metadata": {},
   "outputs": [],
   "source": [
    "#nome_pt\n",
    "nome_pt_dict = {'Gibraltar': 'Gibraltar',\n",
    "                'Guernsey': 'Guernsey',\n",
    "                'Holy See (the)': 'Vaticano',\n",
    "                'Isle of Man': 'Ilha de Man',\n",
    "                'Jersey': 'Jersey',\n",
    "                'Liechtenstein': 'Liechtenstein',\n",
    "                'Svalbard and Jan Mayen': 'Svalbard e Jan Mayen',\n",
    "                'Åland Islands': 'Ilhas Åland',\n",
    "                'Mayotte': 'Mayotte',\n",
    "                'Réunion': 'Ilha da Reunião',\n",
    "                'Saint Helena, Ascension and Tristan da Cunha': 'Santa Helena, Ascensão e Tristão da Cunha',\n",
    "                'Western Sahara': 'Saara Ocidental',\n",
    "                'Anguilla': 'Anguila',\n",
    "                'Aruba': 'Aruba',\n",
    "                'Bermuda': 'Bermudas',\n",
    "                'Bonaire, Sint Eustatius and Saba': 'Países Baixos Caribenhos',\n",
    "                'Cayman Islands (the)': 'Ilhas Cayman',\n",
    "                'Curaçao': 'Curaçao',\n",
    "                'Greenland': 'Groenlândia',\n",
    "                'Guadeloupe': 'Guadalupe',\n",
    "                'Martinique': 'Martinica',\n",
    "                'Montserrat': 'Monserrate',\n",
    "                'Puerto Rico': 'Porto Rico',\n",
    "                'Saint Barthélemy': 'São Bartolomeu',\n",
    "                'Saint Martin (French part)': 'São Martinho (França)',\n",
    "                'Saint Pierre and Miquelon': 'São Pedro e Miquelon',\n",
    "                'Sint Maarten (Dutch part)': 'São Martinho (Países Baixos)',\n",
    "                'Turks and Caicos Islands (the)': 'Ilhas Turcas e Caicos',\n",
    "                'Virgin Islands (British)': 'Ilhas Virgens Britânicas',\n",
    "                'Virgin Islands (U.S.)': 'Ilhas Virgens Americanas',\n",
    "                'Falkland Islands (the) [Malvinas]': 'Ilhas Falkland (Ilhas Malvinas)',\n",
    "                'French Guiana': 'Guiana Francesa',\n",
    "                'South Georgia and the South Sandwich Islands': 'Ilhas Geórgia do Sul e Sandwich do Sul',\n",
    "                'Afghanistan': 'Afeganistão',\n",
    "                'British Indian Ocean Territory (the)': 'Território do Oceano Índico Britânico',\n",
    "                'Christmas Island': 'Ilha Christmas',\n",
    "                'Cocos (Keeling) Islands (the)': 'Ilhas Cocos',\n",
    "                'Hong Kong': 'Hong Kong',\n",
    "                'Macao': 'Macau',\n",
    "                'Palestine, State of': 'Palestina',\n",
    "                'Taiwan (Province of China)': 'Taiwan',\n",
    "                'American Samoa': 'Samoa Americana',\n",
    "                'French Polynesia': 'Polinésia Francesa',\n",
    "                'Guam': 'Guam',\n",
    "                'New Caledonia': 'Nova Caledônia',\n",
    "                'Norfolk Island': 'Ilha Norfolk',\n",
    "                'Northern Mariana Islands (the)': 'Ilhas Marianas do Norte',\n",
    "                'Pitcairn': 'Pitcairn',\n",
    "                'United States Minor Outlying Islands (the)': 'Ilhas Menores Distantes dos Estados Unidos',\n",
    "                'Wallis and Futuna': 'Wallis e Futuna',\n",
    "                'Antarctica': 'Antártica',\n",
    "                'Bouvet Island': 'Ilha Bouvet',\n",
    "                'French Southern Territories (the)': 'Territórios Franceses do Sul',\n",
    "                'Heard Island and McDonald Islands': 'Ilha Heard e Ilhas McDonald'}\n"
   ]
  },
  {
   "cell_type": "code",
   "execution_count": null,
   "metadata": {},
   "outputs": [],
   "source": [
    "df.nome_pt = df.nome_pt.fillna(df.nome_en.map(nome_pt_dict))"
   ]
  },
  {
   "cell_type": "code",
   "execution_count": null,
   "metadata": {},
   "outputs": [],
   "source": [
    "#nacionalidade\n",
    "nacionalidade_dict = {'Ilhas Feroe': 'Feroesa',\n",
    "                      'Gibraltar': 'Gibraltar; de Gibraltar',\n",
    "                      'Guernsey': 'Guernesiana',\n",
    "                      'Vaticano': 'da Santa Sé',\n",
    "                      'Ilha de Man': 'Manesa',\n",
    "                      'Jersey': 'Jersiana',\n",
    "                      'Liechtenstein': 'Liechtensteinense',\n",
    "                      'Ilhas Åland': 'Alandesa',\n",
    "                      'Seicheles': 'Seichelense',\n",
    "                      'Sudão Do Sul': 'Sul-Sudanesa',\n",
    "                      'Mayotte': 'Maiotense',\n",
    "                      'Ilha da Reunião': 'Reunionense',\n",
    "                      'Santa Helena, Ascensão e Tristão da Cunha': 'de Santa Helena, Ascensão e Tristão da Cunha',\n",
    "                      'Saara Ocidental': 'Saaráui',\n",
    "                      'São Cristóvão e Nevis': 'de São Cristóvão e Nevis',\n",
    "                      'São Vicente e Granadinas': 'de São Vicente e Granadinas',\n",
    "                      'Anguila': 'Anguilana',\n",
    "                      'Aruba': 'Arubana',\n",
    "                      'Bermudas': 'Bermudense',\n",
    "                      'Países Baixos Caribenhos': 'de Bonaire, Santo Eustáquio e Saba',\n",
    "                      'Ilhas Cayman': 'Caimanesa',\n",
    "                      'Curaçao': 'Curaçauense',\n",
    "                      'Groenlândia': 'Groenlandesa',\n",
    "                      'Guadalupe': 'Guadalupense',\n",
    "                      'Martinica': 'Martinicana',\n",
    "                      'Monserrate': 'Monserratense',\n",
    "                      'Porto Rico': 'Porto-Riquenho',\n",
    "                      'São Bartolomeu': 'São-Bartolomeense',\n",
    "                      'São Martinho (França)': 'São-Martinhense (França)',\n",
    "                      'São Pedro e Miquelon': 'de São Pedro e Miquelon',\n",
    "                      'São Martinho (Países Baixos)': 'São-Martinhense (Países Baixos)',\n",
    "                      'Ilhas Turcas e Caicos': 'das Ilhas Turcas e Caicos',\n",
    "                      'Ilhas Virgens Britânicas': 'Virginense (Britânica)',\n",
    "                      'Ilhas Virgens Americanas': 'Virginense (Americana)',\n",
    "                      'Ilhas Falkland (Ilhas Malvinas)': 'Malvinense',\n",
    "                      'Guiana Francesa': 'da Guiana Francesa',\n",
    "                      'Ilhas Geórgia do Sul e Sandwich do Sul': 'Sul-Georgiana',\n",
    "                      'Afeganistão': 'Afegã',\n",
    "                      'Ilha Christmas': 'da Ilha Christmas',\n",
    "                      'Ilhas Cocos': 'das Ilhas Cocos',\n",
    "                      'Hong Kong': 'Honconguesa',\n",
    "                      'Macau': 'Macaense',\n",
    "                      'Palestina': 'Palestina',\n",
    "                      'Taiwan': 'Taiwanesa',\n",
    "                      'Tokelau': 'de Tokelau',\n",
    "                      'Samoa Americana': 'Samoana',\n",
    "                      'Polinésia Francesa': 'Polinésia',\n",
    "                      'Guam': 'Guamesa',\n",
    "                      'Nova Caledônia': 'Neocaledônia',\n",
    "                      'Ilha Norfolk': 'Norfolquina',\n",
    "                      'Pitcairn': 'Pitcairnesa',\n",
    "                      'Ilhas Marianas do Norte': 'Norte-Marianense',\n",
    "                      'Wallis e Futuna': 'de Wallis e Futuna',\n",
    "                      'Antártica': 'Antártica',\n",
    "                      'Territórios Franceses do Sul': 'dos Territórios Franceses do Sul'}\n"
   ]
  },
  {
   "cell_type": "code",
   "execution_count": null,
   "metadata": {},
   "outputs": [],
   "source": [
    "df.nacionalidade = df.nacionalidade.fillna(df.nome_pt.map(nacionalidade_dict))\n",
    "df.drop(columns=['nacionalidade_en'], inplace=True)"
   ]
  },
  {
   "cell_type": "markdown",
   "metadata": {},
   "source": [
    "Mais alguns tratamentos finais e output"
   ]
  },
  {
   "cell_type": "code",
   "execution_count": null,
   "metadata": {},
   "outputs": [],
   "source": [
    "df = df.replace(r'^\\s*$', np.NaN, regex=True)"
   ]
  },
  {
   "cell_type": "code",
   "execution_count": null,
   "metadata": {},
   "outputs": [],
   "source": [
    "df = df.rename(columns={'sigla_iso3': 'sigla_pais_iso3', 'sigla_iso2': 'sigla_pais_iso2',\n",
    "                        'sigla_pnud': 'sigla_pais_pnud', 'nome_pt': 'nome', 'nome_en': 'nome_ingles', \n",
    "                        'nome_oficial_en': 'nome_oficial_ingles'})\n"
   ]
  },
  {
   "cell_type": "code",
   "execution_count": null,
   "metadata": {},
   "outputs": [],
   "source": [
    "path_out = os.path.abspath(os.path.join('..', 'output'))\n",
    "path_data_out = os.path.join(path_out, 'pais.csv')\n",
    "if (not os.path.isdir(path_out)):\n",
    "    os.mkdir(path_out)\n",
    "df.to_csv(path_data_out, index=False, encoding='utf-8', na_rep='')"
   ]
  }
 ],
 "metadata": {
  "interpreter": {
   "hash": "29e8e3d70374d27df78fb9609457c2c82228d15717167c1624bb079fc9cac605"
  },
  "kernelspec": {
   "display_name": "Python 3.8.8 ('base')",
   "language": "python",
   "name": "python3"
  },
  "language_info": {
   "codemirror_mode": {
    "name": "ipython",
    "version": 3
   },
   "file_extension": ".py",
   "mimetype": "text/x-python",
   "name": "python",
   "nbconvert_exporter": "python",
   "pygments_lexer": "ipython3",
   "version": "3.8.8"
  },
  "orig_nbformat": 4
 },
 "nbformat": 4,
 "nbformat_minor": 2
}
