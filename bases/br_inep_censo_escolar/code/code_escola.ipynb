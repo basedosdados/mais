{
 "cells": [
  {
   "cell_type": "code",
   "execution_count": 2,
   "metadata": {},
   "outputs": [],
   "source": [
    "import pandas as pd\n",
    "import numpy as np\n",
    "import os"
   ]
  },
  {
   "cell_type": "markdown",
   "metadata": {},
   "source": [
    "Definições Iniciais"
   ]
  },
  {
   "cell_type": "code",
   "execution_count": 3,
   "metadata": {},
   "outputs": [],
   "source": [
    "#path dos arquivos\n",
    "years = [2007, 2008, 2009, 2010, 2011, 2012, 2013, 2014, 2015, 2016, 2017, 2018, 2019, 2020, 2021]\n",
    "path_option = {}\n",
    "for j in years:\n",
    "    var = 'input/' + str(j) + '/dados/'\n",
    "    data = 'microdados_ed_basica_' + str(j) + '.csv'\n",
    "    path = os.path.abspath(os.path.join('..', var))\n",
    "    path_option[j] = os.path.join(path, data)"
   ]
  },
  {
   "cell_type": "code",
   "execution_count": 4,
   "metadata": {},
   "outputs": [],
   "source": [
    "#variáveis do dicionário que não vão ser adicionadas agora\n",
    "variable_exclude = ['etapa_ensino_creche_comum',\n",
    "'etapa_ensino_pre_escola_comum',\n",
    "'etapa_ensino_fundamental_anos_iniciais_comum',\n",
    "'etapa_ensino_fundamental_anos_finais_comum',\n",
    "'etapa_ensino_medio_comum',\n",
    "'etapa_ensino_medio_integrado_comum',\n",
    "'etapa_ensino_medio_normal_comum',\n",
    "'etapa_ensino_profissional_comum',\n",
    "'etapa_ensino_eja_fundamental_comum',\n",
    "'etapa_ensino_eja_medio_comum',\n",
    "'etapa_ensino_eja_profissional_comum',\n",
    "'etapa_ensino_creche_especial_exclusiva',\n",
    "'etapa_ensino_pre_escola_especial_exclusiva',\n",
    "'etapa_ensino_fundamental_anos_iniciais_especial_exclusiva',\n",
    "'etapa_ensino_fundamental_anos_finais_especial_exclusiva',\n",
    "'etapa_ensino_medio_especial_exclusiva',\n",
    "'etapa_ensino_medio_integrado_especial_exclusiva',\n",
    "'etapa_ensino_medio_normal_especial_exclusiva',\n",
    "'etapa_ensino_profissional_especial_exclusiva',\n",
    "'etapa_ensino_eja_fundamental_especial_exclusiva',\n",
    "'etapa_ensino_eja_medio_especial_exclusiva']"
   ]
  },
  {
   "cell_type": "code",
   "execution_count": 5,
   "metadata": {},
   "outputs": [],
   "source": [
    "#variáveis tipo bool, tirar 9\n",
    "treat_variable_bool = ['tratamento_lixo_separacao',\n",
    "'tratamento_lixo_reutilizacao',\n",
    "'tratamento_lixo_reciclagem',\n",
    "'tratamento_lixo_inexistente',\n",
    "'acesso_internet_computador',\n",
    "'acesso_internet_dispositivo_pessoal',\n",
    "'organizacao_serie_ano',\n",
    "'organizacao_semestre',\n",
    "'organizacao_fundamental_ciclo',\n",
    "'organizacao_grupo_nao_seriado',\n",
    "'organizacao_modulo',\n",
    "'organizacao_alternancia',\n",
    "'exame_selecao',\n",
    "'redes_sociais',\n",
    "'espaco_atividade_comunidade',\n",
    "'espaco_equipamento_alunos']"
   ]
  },
  {
   "cell_type": "code",
   "execution_count": 6,
   "metadata": {},
   "outputs": [],
   "source": [
    "#variáveis tipo date: formatar data\n",
    "treat_variable_date = ['data_ano_letivo_inicio', 'data_ano_letivo_termino']"
   ]
  },
  {
   "cell_type": "code",
   "execution_count": 7,
   "metadata": {},
   "outputs": [],
   "source": [
    "#dicionário para corrigir data\n",
    "month_inep_number = {'JAN': '01', 'FEB':'02', 'MAR': '03', 'APR': '04', 'MAY': '05', 'JUN': '06', \n",
    "'JUL': '07', 'AUG': '08', 'SEP': '09', 'OCT': '10', 'NOV': '11', 'DEC': '12'}"
   ]
  },
  {
   "cell_type": "code",
   "execution_count": 8,
   "metadata": {},
   "outputs": [],
   "source": [
    "#arquitetura: renomear e ordernar\n",
    "arquitetura = pd.read_csv(r'C:\\Users\\ingri\\OneDrive - 033ms\\workspace\\br_inep_censo_escolar\\extra\\architecture\\escola\\arquitetura.csv', nrows=373, na_filter = False)\n",
    "original_name_variable = arquitetura.original_name_2021.tolist() #variáveis no novo censo escolar\n",
    "original_name_variable = list(filter(None, original_name_variable))\n",
    "new_name_variable_aux = arquitetura.name.tolist()\n",
    "new_name_variable = [ele for ele in new_name_variable_aux if ele not in variable_exclude]\n",
    "rename = dict(zip(original_name_variable, new_name_variable))\n",
    "order = new_name_variable"
   ]
  },
  {
   "cell_type": "markdown",
   "metadata": {},
   "source": [
    "Tratamento"
   ]
  },
  {
   "cell_type": "code",
   "execution_count": null,
   "metadata": {},
   "outputs": [],
   "source": [
    "#tratamento inicial\n",
    "list_df = []\n",
    "for i in range(len(years)):\n",
    "    df_aux = pd.DataFrame()\n",
    "    ch = 0 \n",
    "    for chunk in pd.read_csv(path_option[years[i]], chunksize = 20000, na_filter = False, sep = ';', usecols = original_name_variable, engine = 'python', dtype='string'):\n",
    "        ch = ch + 1\n",
    "        print(\"fazendo chunck {} de {} \".format(ch,years[i]))\n",
    "        chunk.rename(columns = rename, inplace = True)\n",
    "        chunk = chunk[order]\n",
    "        for j in treat_variable_date:\n",
    "            aux = chunk[j]\n",
    "            chunk[j] = aux.str[5:9] + '-' + aux.str[2:5] + '-' + aux.str[:2]\n",
    "            chunk[j].replace({'--':''}, inplace = True)\n",
    "            chunk[j] = chunk[j].str.replace('|'.join(month_inep_number), lambda string: month_inep_number[string.group()])\n",
    "            for f in treat_variable_bool:\n",
    "                chunk[f].replace({'9':''}, inplace = True)\n",
    "        df_aux = pd.concat([df_aux, chunk])\n",
    "    list_df.append(df_aux)"
   ]
  },
  {
   "cell_type": "markdown",
   "metadata": {},
   "source": [
    "Output"
   ]
  },
  {
   "cell_type": "code",
   "execution_count": 19,
   "metadata": {},
   "outputs": [],
   "source": [
    "def path_out ():\n",
    "    partic = 'output\\escola'\n",
    "    partic_aux = \"\\\\ano={}\\\\sigla_uf={}\"\n",
    "    partic = os.path.abspath(os.path.join('..', partic))\n",
    "    if (not os.path.isdir(partic)):\n",
    "        os.mkdir(partic)\n",
    "    path= os.path.join(partic + partic_aux)\n",
    "    return path"
   ]
  },
  {
   "cell_type": "code",
   "execution_count": 20,
   "metadata": {},
   "outputs": [],
   "source": [
    "base = list_df.copy()\n",
    "ufs = list(base[0]['sigla_uf'].unique())\n",
    "for i in range(len(years)):\n",
    "    mg_a = base[i]\n",
    "    for uf in ufs:\n",
    "        path_i = path_out().format(years[i], uf)\n",
    "        if (not os.path.isdir(path_i)):\n",
    "            os.makedirs(path_i)\n",
    "        mg_auf = mg_a[mg_a['sigla_uf'] == uf]\n",
    "        mg_auf.drop(['ano','sigla_uf'], axis=1, inplace=True)\n",
    "        mg_auf.to_csv(path_i + '\\escola.csv', index = False)\n",
    "        del path_i"
   ]
  }
 ],
 "metadata": {
  "kernelspec": {
   "display_name": "Python 3.8.8 ('base')",
   "language": "python",
   "name": "python3"
  },
  "language_info": {
   "codemirror_mode": {
    "name": "ipython",
    "version": 3
   },
   "file_extension": ".py",
   "mimetype": "text/x-python",
   "name": "python",
   "nbconvert_exporter": "python",
   "pygments_lexer": "ipython3",
   "version": "3.8.8"
  },
  "orig_nbformat": 4,
  "vscode": {
   "interpreter": {
    "hash": "1f122d081a05e76c3263d01b7932491ca2c89e4eccc09732a95a3372e488ad5a"
   }
  }
 },
 "nbformat": 4,
 "nbformat_minor": 2
}
