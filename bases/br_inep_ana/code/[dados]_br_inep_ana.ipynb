{
  "nbformat": 4,
  "nbformat_minor": 0,
  "metadata": {
    "colab": {
      "name": "[dados] br_inep_ana",
      "provenance": []
    },
    "kernelspec": {
      "name": "python3",
      "display_name": "Python 3"
    },
    "language_info": {
      "name": "python"
    }
  },
  "cells": [
    {
      "cell_type": "code",
      "metadata": {
        "colab": {
          "base_uri": "https://localhost:8080/"
        },
        "id": "YiOn80qbgkM4",
        "outputId": "8dcd73bd-bf4a-46bf-f0ee-fb815a2e2508"
      },
      "source": [
        "from google.colab import drive\n",
        "drive.mount('/content/gdrive')"
      ],
      "execution_count": 1,
      "outputs": [
        {
          "output_type": "stream",
          "text": [
            "Mounted at /content/gdrive\n"
          ],
          "name": "stdout"
        }
      ]
    },
    {
      "cell_type": "code",
      "metadata": {
        "id": "esczI1VBhtvv"
      },
      "source": [
        "import pandas as pd\n",
        "import numpy as np\n",
        "import glob"
      ],
      "execution_count": 2,
      "outputs": []
    },
    {
      "cell_type": "markdown",
      "metadata": {
        "id": "USIcq6WWL8A9"
      },
      "source": [
        "#### **Aluno**"
      ]
    },
    {
      "cell_type": "code",
      "metadata": {
        "colab": {
          "base_uri": "https://localhost:8080/"
        },
        "id": "Ht4qmJaIMEBp",
        "outputId": "bae77696-5710-4c04-b199-da653dde3c9c"
      },
      "source": [
        "file = []\n",
        "for filepath in glob.iglob(r'/content/gdrive/MyDrive/br_inep_ana/input/aluno/*.csv'):\n",
        "    file.append(filepath)\n",
        "\n",
        "ano=[]\n",
        "for i in range(len(file)) : ano.append(int(file[i][-8:-4]))\n",
        "\n",
        "dict_ano = dict(zip(ano, file))\n",
        "dict_ano"
      ],
      "execution_count": 28,
      "outputs": [
        {
          "output_type": "execute_result",
          "data": {
            "text/plain": [
              "{2014: '/content/gdrive/MyDrive/br_inep_ana/input/aluno/br_inep_ana_alunos_2014.csv',\n",
              " 2016: '/content/gdrive/MyDrive/br_inep_ana/input/aluno/br_inep_ana_alunos_2016.csv'}"
            ]
          },
          "metadata": {},
          "execution_count": 28
        }
      ]
    },
    {
      "cell_type": "code",
      "metadata": {
        "id": "X_3cBJ9uOE1j"
      },
      "source": [
        "rename = {'ID_EXAME_ANA':'ano',\t'ID_REGIAO':'id_regiao',\t'ID_UF':'id_uf',\t'ID_MUNICIPIO':'id_municipio',\t'ID_AREA':'tipo_area',\t'ID_ESCOLA':'id_escola',\t\n",
        "          'ID_DEPENDENCIA_ADM':'rede',\t'ID_LOCALIZACAO':'tipo_localizacao',\t'ID_TURMA':'id_turma',\t'ID_TURNO':'turno',\t'ID_SERIE':'serie',\t'ID_ALUNO':'id_aluno',\t\n",
        "          'IN_SITUACAO_CENSO':'situacao_censo',\t'IN_PREENCHIMENTO_LP':'preenchimento_prova_lp',\t'IN_PREENCHIMENTO_MT':'preenchimento_prova_mt',\t\n",
        "          'IN_PRESENCA_LP':'presenca_prova_lp',\t'IN_PRESENCA_MT':'presenca_prova_mt',\t'TP_SITUACAO_PRESENCA_LP':'tipo_presenca_prova_lp', \n",
        "          'TP_SITUACAO_PRESENCA_MT':'tipo_presenca_prova_mt', 'IN_SALA_SEPARADA_LP':'sala_separada_lp', 'IN_SALA_SEPARADA_MT':'sala_separada_mt', \n",
        "          'IN_REC_ESC1':'solicitacao_escola_auxilio_leitura', 'IN_REC_ESC2':'solicitacao_escola_auxilio_transcricao', 'IN_REC_ESC3':'solicitacao_escola_interprete_libras',\n",
        "          'IN_REC_ESC5':'solicitacao_escola_guia_interprete', 'IN_REC_ESC6':'solicitacao_escola_nenhuma', 'IN_REC_ESC12':'solicitacao_escola_aparelho_cd',\n",
        "          'IN_REC_ESC13':'solicitacao_escola_aparelho_dvd', 'IN_REC_ESC14':'solicitacao_escola_computador', 'IN_REC_ESC15':'solicitacao_escola_maquina_escrever',\n",
        "          'IN_REC_ESC16':'solicitacao_escola_monitor_tv', 'IN_REC_ESC17':'solicitacao_escola_puncao', 'IN_REC_ESC18':'solicitacao_escola_reglete',\n",
        "          'IN_REC_ESC19':'solicitacao_escola_sorabam', 'IN_REC_ESC20':'solicitacao_escola_software_tela', 'IN_REC_INEP1':'solicitacao_inep_auxilio_leitura',\n",
        "          'IN_REC_INEP2':'solicitacao_inep_auxilio_transcricao', 'IN_REC_INEP3':'solicitacao_inep_interprete_libras', 'IN_REC_INEP4':'solicitacao_inep_leitor_labial',\n",
        "          'IN_REC_INEP5':'solicitacao_inep_guia_interprete', 'IN_REC_INEP6':'solicitacao_inep_nenhuma', 'IN_REC_INEP7':'solicitacao_inep_aplicador_extra',\n",
        "          'IN_REC_INEP8':'solicitacao_inep_prova_adaptada', 'IN_REC_INEP9':'solicitacao_inep_prova_ampliada', 'IN_REC_INEP10':'solicitacao_inep_prova_superampliada',\n",
        "          'IN_REC_INEP11':'solicitacao_inep_prova_braile', 'CO_CADERNO_PROVA_LP':'caderno_lp', 'CO_CADERNO_PROVA_LPO':'caderno_lp_leitura',\t'CO_CADERNO_PROVA_LPD':'caderno_lp_escrita',\n",
        "          'CO_CADERNO_PROVA_MT':'caderno_mt',\t'TX_RESPOSTA_LP':'respostas_lp',\t'TX_RESPOSTA_MT':'respostas_mt',\t'CONCEITO_Q1':'conceito_questao_1',\t'CONCEITO_Q2':'conceito_questao_2',\n",
        "          'CONCEITO_Q3_ORTOGRAFIA':'conceito_questao_3_ortografia',\t'CONCEITO_Q3_COESAO':'conceito_questao_3_coesao',\t'CONCEITO_Q3_SEGMENTACAO':'conceito_questao_3_segmentacao',\n",
        "          'CONCEITO_Q3_PONTUACAO':'conceito_questao_3_pontuacao',\t'CONCEITO_Q3_PROGRESSAO_TEMATICA':'conceito_questao_3_progressao_tematica',\t'CONCEITO_Q3_ELEMENTOS_NARRATIVA':'conceito_questao_3_elementos_narrativa',\n",
        "          'PESO_ALUNO_LP':'peso_aluno_lp', 'PESO_ALUNO_LPO':'peso_aluno_lp_leitura', 'NIVEL_LPO':'nivel_lp_leitura','PROFICIENCIA_LPO':'proficiencia_lp_leitura',\t'ERRO_PADRAO_LPO':'erro_padrao_lp_leitura', 'DESVIO_PADRAO_LPO':'erro_padrao_lp_leitura',\t\n",
        "          'PROFICIENCIA_LPO_ANA':'proficiencia_leitura_ana',\t'ERRO_PADRAO_LPO_ANA':'erro_padrao_leitura_ana', 'DESVIO_PADRAO_LPO_ANA':'erro_padrao_leitura_ana', 'PESO_ALUNO_LPD':'peso_aluno_lp_escrita',\t\n",
        "          'NIVEL_LPD':'nivel_lp_escrita',\t'PROFICIENCIA_LPD':'proficiencia_lp_escrita',\t'ERRO_PADRAO_LPD':'erro_padrao_lp_escrita',\t'DESVIO_PADRAO_LPD':'erro_padrao_lp_escrita', 'PROFICIENCIA_LPD_ANA':'proficiencia_escrita_ana',\n",
        "          'ERRO_PADRAO_LPD_ANA':'erro_padrao_escrita_ana',\t'DESVIO_PADRAO_LPD_ANA':'erro_padrao_escrita_ana', 'PESO_ALUNO_MT':'peso_aluno_mt',\t'NIVEL_MT':'nivel_mt',\t'PROFICIENCIA_MT':'proficiencia_mt',\n",
        "          'ERRO_PADRAO_MT':'erro_padrao_mt',\t'DESVIO_PADRAO_MT':'erro_padrao_mt', 'PROFICIENCIA_MT_ANA':'proficiencia_mt_ana',\t'ERRO_PADRAO_MT_ANA':'erro_padrao_mt_ana', 'DESVIO_PADRAO_MT_ANA':'erro_padrao_mt_ana'}"
      ],
      "execution_count": 29,
      "outputs": []
    },
    {
      "cell_type": "code",
      "metadata": {
        "id": "2iDMLM2zN3kd"
      },
      "source": [
        "add_14 = pd.DataFrame(columns=['tipo_presenca_prova_lp',\t'tipo_presenca_prova_mt',\t'sala_separada_lp',\t'sala_separada_mt',\t'solicitacao_escola_auxilio_leitura',\n",
        "                               'solicitacao_escola_auxilio_transcricao',\t'solicitacao_escola_interprete_libras',\t'solicitacao_escola_guia_interprete',\t\n",
        "                               'solicitacao_escola_nenhuma',\t'solicitacao_escola_aparelho_cd',\t'solicitacao_escola_aparelho_dvd',\t'solicitacao_escola_computador',\n",
        "                               'solicitacao_escola_maquina_escrever',\t'solicitacao_escola_monitor_tv',\t'solicitacao_escola_puncao',\t'solicitacao_escola_reglete',\t\n",
        "                               'solicitacao_escola_sorabam',\t'solicitacao_escola_software_tela',\t'solicitacao_inep_auxilio_leitura',\t'solicitacao_inep_auxilio_transcricao',\n",
        "                               'solicitacao_inep_interprete_libras',\t'solicitacao_inep_leitor_labial',\t'solicitacao_inep_guia_interprete',\t'solicitacao_inep_nenhuma',\n",
        "                               'solicitacao_inep_aplicador_extra',\t'solicitacao_inep_prova_adaptada',\t'solicitacao_inep_prova_ampliada',\t'solicitacao_inep_prova_superampliada',\t\n",
        "                               'solicitacao_inep_prova_braile',\t'caderno_lp_leitura',\t'caderno_lp_escrita',\t'peso_aluno_lp_leitura',\t'peso_aluno_lp_escrita'])"
      ],
      "execution_count": 30,
      "outputs": []
    },
    {
      "cell_type": "code",
      "metadata": {
        "id": "IceILiZ_aFbO"
      },
      "source": [
        "add_16 = pd.DataFrame(columns=['caderno_lp', 'peso_aluno_lp'])"
      ],
      "execution_count": 31,
      "outputs": []
    },
    {
      "cell_type": "code",
      "metadata": {
        "id": "rvihHtJLMPxX"
      },
      "source": [
        "ordem = ['id_regiao',\t'id_uf',\t'id_municipio',\t'tipo_area',\t'rede', 'id_escola',\t'tipo_localizacao', 'id_turma',\t'turno',\t'serie',\t'id_aluno',\t\n",
        "         'situacao_censo',\t'preenchimento_prova_lp',\t'preenchimento_prova_mt',\t'presenca_prova_lp',\t'presenca_prova_mt',\t'tipo_presenca_prova_lp',\t\n",
        "         'tipo_presenca_prova_mt',\t'sala_separada_lp',\t'sala_separada_mt',\t'solicitacao_escola_auxilio_leitura',\t'solicitacao_escola_auxilio_transcricao',\t\n",
        "         'solicitacao_escola_interprete_libras',\t'solicitacao_escola_guia_interprete',\t'solicitacao_escola_aparelho_cd',\t'solicitacao_escola_aparelho_dvd',\t\n",
        "         'solicitacao_escola_computador',\t'solicitacao_escola_maquina_escrever',\t'solicitacao_escola_monitor_tv', 'solicitacao_escola_puncao',\t\n",
        "         'solicitacao_escola_reglete',\t'solicitacao_escola_sorabam',\t'solicitacao_escola_software_tela',\t'solicitacao_escola_nenhuma', 'solicitacao_inep_auxilio_leitura',\t\n",
        "         'solicitacao_inep_auxilio_transcricao',\t'solicitacao_inep_interprete_libras',\t'solicitacao_inep_leitor_labial',\t'solicitacao_inep_guia_interprete',\t\n",
        "         'solicitacao_inep_aplicador_extra',\t'solicitacao_inep_prova_adaptada',\t'solicitacao_inep_prova_ampliada', 'solicitacao_inep_prova_superampliada',\t\n",
        "         'solicitacao_inep_prova_braile',\t'solicitacao_inep_nenhuma',\t'caderno_lp',\t'caderno_lp_leitura',\t'caderno_lp_escrita',\t'caderno_mt',\t\n",
        "         'respostas_lp',\t'respostas_mt',\t'conceito_questao_1',\t'conceito_questao_2',\t'conceito_questao_3_ortografia',\t'conceito_questao_3_coesao',\t'conceito_questao_3_segmentacao',\n",
        "         'conceito_questao_3_pontuacao',\t'conceito_questao_3_progressao_tematica',\t'conceito_questao_3_elementos_narrativa',\t'peso_aluno_lp',\t'peso_aluno_lp_leitura',\n",
        "         'nivel_lp_leitura',\t'proficiencia_lp_leitura',\t'erro_padrao_lp_leitura',\t'proficiencia_leitura_ana',\t'erro_padrao_leitura_ana',\t'peso_aluno_lp_escrita',\n",
        "         'nivel_lp_escrita',\t'proficiencia_lp_escrita',\t'erro_padrao_lp_escrita',\t'proficiencia_escrita_ana',\t'erro_padrao_escrita_ana',\t'peso_aluno_mt',\t'nivel_mt',\n",
        "         'proficiencia_mt',\t'erro_padrao_mt', 'proficiencia_mt_ana',\t'erro_padrao_mt_ana']"
      ],
      "execution_count": 32,
      "outputs": []
    },
    {
      "cell_type": "code",
      "metadata": {
        "colab": {
          "base_uri": "https://localhost:8080/"
        },
        "id": "x2msOLpJZAki",
        "outputId": "d49525d4-004d-407c-f827-ee14655fb0f7"
      },
      "source": [
        "for i in ano:\n",
        "    if  i <= 2016:\n",
        "        exec('{} = pd.DataFrame()'.format('br_inep_ana_alunos_' + str(i)))\n",
        "        ch=0\n",
        "        for chunk in pd.read_csv(dict_ano[i],sep=',',chunksize = 100000, dtype='string'):\n",
        "            ch = ch + 1\n",
        "            print(\"fazendo chunck {} de {} \".format(ch,i))\n",
        "            chunk.rename(columns=rename, inplace=True)\n",
        "            if i == 2014:\n",
        "                chunk = pd.concat([chunk,add_14])\n",
        "            elif i == 2016:\n",
        "                chunk = pd.concat([chunk, add_16])\n",
        "            chunk = chunk[ordem]\n",
        "            exec('{} = {}.append(chunk)'.format('br_inep_ana_alunos_' + str(i), 'br_inep_ana_alunos_' + str(i)))\n",
        "        exec('{}.to_csv(\"/content/gdrive/MyDrive/br_inep_ana/output/{}.csv\",index=False, encoding=\"utf-8\", na_rep=\"\")'.format('br_inep_ana_alunos_' + str(i), 'br_inep_ana_alunos_' + str(i)))\n",
        "        exec('del {}'.format('br_inep_ana_alunos_' + str(i)))"
      ],
      "execution_count": 33,
      "outputs": [
        {
          "output_type": "stream",
          "text": [
            "fazendo chunck 1 de 2014 \n",
            "fazendo chunck 2 de 2014 \n",
            "fazendo chunck 3 de 2014 \n",
            "fazendo chunck 4 de 2014 \n",
            "fazendo chunck 5 de 2014 \n",
            "fazendo chunck 6 de 2014 \n",
            "fazendo chunck 7 de 2014 \n",
            "fazendo chunck 8 de 2014 \n",
            "fazendo chunck 9 de 2014 \n",
            "fazendo chunck 10 de 2014 \n",
            "fazendo chunck 11 de 2014 \n",
            "fazendo chunck 12 de 2014 \n",
            "fazendo chunck 13 de 2014 \n",
            "fazendo chunck 14 de 2014 \n",
            "fazendo chunck 15 de 2014 \n",
            "fazendo chunck 16 de 2014 \n",
            "fazendo chunck 17 de 2014 \n",
            "fazendo chunck 18 de 2014 \n",
            "fazendo chunck 19 de 2014 \n",
            "fazendo chunck 20 de 2014 \n",
            "fazendo chunck 21 de 2014 \n",
            "fazendo chunck 22 de 2014 \n",
            "fazendo chunck 23 de 2014 \n",
            "fazendo chunck 24 de 2014 \n",
            "fazendo chunck 25 de 2014 \n",
            "fazendo chunck 26 de 2014 \n",
            "fazendo chunck 27 de 2014 \n",
            "fazendo chunck 28 de 2014 \n",
            "fazendo chunck 1 de 2016 \n",
            "fazendo chunck 2 de 2016 \n",
            "fazendo chunck 3 de 2016 \n",
            "fazendo chunck 4 de 2016 \n",
            "fazendo chunck 5 de 2016 \n",
            "fazendo chunck 6 de 2016 \n",
            "fazendo chunck 7 de 2016 \n",
            "fazendo chunck 8 de 2016 \n",
            "fazendo chunck 9 de 2016 \n",
            "fazendo chunck 10 de 2016 \n",
            "fazendo chunck 11 de 2016 \n",
            "fazendo chunck 12 de 2016 \n",
            "fazendo chunck 13 de 2016 \n",
            "fazendo chunck 14 de 2016 \n",
            "fazendo chunck 15 de 2016 \n",
            "fazendo chunck 16 de 2016 \n",
            "fazendo chunck 17 de 2016 \n",
            "fazendo chunck 18 de 2016 \n",
            "fazendo chunck 19 de 2016 \n",
            "fazendo chunck 20 de 2016 \n",
            "fazendo chunck 21 de 2016 \n",
            "fazendo chunck 22 de 2016 \n",
            "fazendo chunck 23 de 2016 \n",
            "fazendo chunck 24 de 2016 \n",
            "fazendo chunck 25 de 2016 \n",
            "fazendo chunck 26 de 2016 \n",
            "fazendo chunck 27 de 2016 \n",
            "fazendo chunck 28 de 2016 \n"
          ],
          "name": "stdout"
        }
      ]
    },
    {
      "cell_type": "markdown",
      "metadata": {
        "id": "9Rp-fLNrhCDU"
      },
      "source": [
        "#### **Escola**"
      ]
    },
    {
      "cell_type": "code",
      "metadata": {
        "colab": {
          "base_uri": "https://localhost:8080/"
        },
        "id": "ey7Y6yl6gtAI",
        "outputId": "7b713b48-7fcc-420f-d536-a666aba3a01a"
      },
      "source": [
        "file = []\n",
        "for filepath in glob.iglob(r'/content/gdrive/MyDrive/br_inep_ana/input/escola/*.csv'):\n",
        "    file.append(filepath)\n",
        "\n",
        "ano=[]\n",
        "for i in range(len(file)) : ano.append(int(file[i][-8:-4]))\n",
        "\n",
        "dict_ano_escola = dict(zip(ano, file))\n",
        "dict_ano_escola"
      ],
      "execution_count": 34,
      "outputs": [
        {
          "output_type": "execute_result",
          "data": {
            "text/plain": [
              "{2014: '/content/gdrive/MyDrive/br_inep_ana/input/escola/br_inep_ana_escola_2014.csv',\n",
              " 2016: '/content/gdrive/MyDrive/br_inep_ana/input/escola/br_inep_ana_escola_2016.csv'}"
            ]
          },
          "metadata": {},
          "execution_count": 34
        }
      ]
    },
    {
      "cell_type": "code",
      "metadata": {
        "id": "TgV7ur6ZlTEi"
      },
      "source": [
        "rename = {'ID_EXAME_ANA':'ano', 'ID_REGIAO':'id_regiao', 'ID_UF':'id_uf', 'ID_MUNICIPIO':'id_municipio', 'ID_AREA':'tipo_area', 'ID_ESCOLA':'id_escola',\n",
        "          'ID_DEPENDENCIA_ADM':'rede', 'ID_LOCALIZACAO':'tipo_localizacao', 'PC_FORMACAO_DOCENTE':'formacao_docente_ef_anos_iniciais', 'NIVEL_SOCIO_ECONOMICO':'nivel_socio_economico',\n",
        "          'NU_MATRICULADOS_CENSO':'numero_matriculados_censo', 'NU_PRESENTES_LP':'numero_presentes_lp', 'NU_VALIDOS_LP':'numero_validos_lp', 'TAXA_PARTICIPACAO_LP':'taxa_participacao_lp',\n",
        "          'MEDIA_LPO':'media_lp_leitura', 'Nivel_1_LPO':'nivel_1_lp_leitura', 'Nivel_2_LPO':'nivel_2_lp_leitura', 'Nivel_3_LPO':'nivel_3_lp_leitura', 'Nivel_4_LPO':'nivel_4_lp_leitura',\n",
        "          'ESC_SIM_N1_LPO':'escola_similar_nivel_1_lp_leitura', 'ESC_SIM_N2_LPO':'escola_similar_nivel_2_lp_leitura', 'ESC_SIM_N3_LPO':'escola_similar_nivel_3_lp_leitura',\n",
        "          'ESC_SIM_N4_LPO':'escola_similar_nivel_4_lp_leitura', 'MEDIA_LPD':'media_lp_escrita', 'Nivel_1_LPD':'nivel_1_lp_escrita', 'Nivel_2_LPD':'nivel_2_lp_escrita',\n",
        "          'Nivel_3_LPD':'nivel_3_lp_escrita', 'Nivel_4_LPD':'nivel_4_lp_escrita', 'Nivel_5_LPD':'nivel_5_lp_escrita', 'ESC_SIM_N1_LPD':'escola_similar_nivel_1_lp_escrita',\n",
        "          'ESC_SIM_N2_LPD':'escola_similar_nivel_2_lp_escrita', 'ESC_SIM_N3_LPD': 'escola_similar_nivel_3_lp_escrita', 'ESC_SIM_N4_LPD':'escola_similar_nivel_4_lp_escrita',\n",
        "          'ESC_SIM_N5_LPD':'escola_similar_nivel_5_lp_escrita', 'NU_PRESENTES_MT':'numero_presentes_mt', 'NU_VALIDOS_MT':'numero_validos_mt', 'TAXA_PARTICIPACAO_MT':'taxa_participacao_mt',\n",
        "          'MEDIA_MT':'media_mt', 'Nivel_1_MT':'nivel_1_mt', 'Nivel_2_MT':'nivel_2_mt', 'Nivel_3_MT':'nivel_3_mt', 'Nivel_4_MT':'nivel_4_mt', 'ESC_SIM_N1_MT':'escola_similar_nivel_1_mt',\n",
        "          'ESC_SIM_N2_MT':'escola_similar_nivel_2_mt', 'ESC_SIM_N3_MT':'escola_similar_nivel_3_mt', 'ESC_SIM_N4_MT':'escola_similar_nivel_4_mt'}"
      ],
      "execution_count": 35,
      "outputs": []
    },
    {
      "cell_type": "code",
      "metadata": {
        "id": "_MQu4NUprRhq"
      },
      "source": [
        "ordem = ['id_regiao', 'id_uf', 'id_municipio', 'tipo_area', 'rede', 'id_escola', 'tipo_localizacao', 'nivel_socio_economico', 'formacao_docente_ef_anos_iniciais',\n",
        "         'numero_matriculados_censo', 'numero_presentes_lp', 'numero_validos_lp', 'taxa_participacao_lp', 'media_lp_leitura', 'nivel_1_lp_leitura', 'nivel_2_lp_leitura', \n",
        "         'nivel_3_lp_leitura', 'nivel_4_lp_leitura', 'escola_similar_nivel_1_lp_leitura', 'escola_similar_nivel_2_lp_leitura', 'escola_similar_nivel_3_lp_leitura',\n",
        "         'escola_similar_nivel_4_lp_leitura', 'media_lp_escrita', 'nivel_1_lp_escrita', 'nivel_2_lp_escrita', 'nivel_3_lp_escrita', 'nivel_4_lp_escrita', 'nivel_5_lp_escrita', \n",
        "         'escola_similar_nivel_1_lp_escrita', 'escola_similar_nivel_2_lp_escrita', 'escola_similar_nivel_3_lp_escrita', 'escola_similar_nivel_4_lp_escrita', \n",
        "         'escola_similar_nivel_5_lp_escrita', 'numero_presentes_mt', 'numero_validos_mt', 'taxa_participacao_mt', 'media_mt', 'nivel_1_mt', 'nivel_2_mt', 'nivel_3_mt', \n",
        "         'nivel_4_mt', 'escola_similar_nivel_1_mt', 'escola_similar_nivel_2_mt', 'escola_similar_nivel_3_mt', 'escola_similar_nivel_4_mt']"
      ],
      "execution_count": 36,
      "outputs": []
    },
    {
      "cell_type": "code",
      "metadata": {
        "colab": {
          "base_uri": "https://localhost:8080/"
        },
        "id": "6_NXenAPpevb",
        "outputId": "fbf3b8cc-dabb-48b5-9e61-0e20758aedb3"
      },
      "source": [
        "for i in ano:\n",
        "    if  i <= 2016:\n",
        "        exec('{} = pd.DataFrame()'.format('br_inep_ana_escola_' + str(i)))\n",
        "        ch=0\n",
        "        for chunk in pd.read_csv(dict_ano_escola[i],sep=',',chunksize = 100000, dtype='string'):\n",
        "            ch = ch + 1\n",
        "            print(\"fazendo chunck {} de {} \".format(ch,i))\n",
        "            chunk.rename(columns=rename, inplace=True)\n",
        "            chunk = chunk[ordem]\n",
        "            exec('{} = {}.append(chunk)'.format('br_inep_ana_escola_' + str(i), 'br_inep_ana_escola_' + str(i)))\n",
        "        exec('{}.to_csv(\"/content/gdrive/MyDrive/br_inep_ana/output/{}.csv\",index=False, encoding=\"utf-8\", na_rep=\"\")'.format('br_inep_ana_escola_' + str(i), 'br_inep_ana_escola_' + str(i)))\n",
        "        exec('del {}'.format('br_inep_ana_escola_' + str(i)))"
      ],
      "execution_count": 37,
      "outputs": [
        {
          "output_type": "stream",
          "text": [
            "fazendo chunck 1 de 2014 \n",
            "fazendo chunck 1 de 2016 \n"
          ],
          "name": "stdout"
        }
      ]
    },
    {
      "cell_type": "markdown",
      "metadata": {
        "id": "7dblpfF97h2t"
      },
      "source": [
        "#### **Item**"
      ]
    },
    {
      "cell_type": "code",
      "metadata": {
        "id": "WBduH2UcCP2P"
      },
      "source": [
        "rename = {'ID_SERIE':'serie',\t'TIPO_PROVA':'tipo_prova',\t'DISCIPLINA':'disciplina',\t'ID_BLOCO':'id_bloco',\t'ID_POSICAO':'id_posicao',\t\n",
        "          'ID_ITEM':'id_item',\t'ID_DESCRITOR':'id_descritor', 'DESCRITOR_HABILIDADE':'id_descritor',\t'GABARITO':'gabarito'}"
      ],
      "execution_count": 51,
      "outputs": []
    },
    {
      "cell_type": "code",
      "metadata": {
        "id": "-ydOEbJuGb8k"
      },
      "source": [
        "br_inep_prova_2014 = pd.read_csv('/content/gdrive/MyDrive/br_inep_ana/input/prova/br_inep_ana_prova_2014.csv', sep=';', dtype='string')\n",
        "br_inep_prova_2016 = pd.read_csv('/content/gdrive/MyDrive/br_inep_ana/input/prova/br_inep_ana_prova_2016.csv', sep=',', dtype='string')"
      ],
      "execution_count": 57,
      "outputs": []
    },
    {
      "cell_type": "code",
      "metadata": {
        "id": "YNfdoUrVHIpY"
      },
      "source": [
        "br_inep_prova_2014.rename(columns=rename, inplace=True)\n",
        "br_inep_prova_2016.rename(columns=rename, inplace=True)"
      ],
      "execution_count": 58,
      "outputs": []
    },
    {
      "cell_type": "code",
      "metadata": {
        "id": "SqI6be2MHY2x"
      },
      "source": [
        "br_inep_prova_2014.to_csv('/content/gdrive/MyDrive/br_inep_ana/output/br_inep_ana_prova_2014.csv', index=False, encoding=\"utf-8\", na_rep=\"\")\n",
        "br_inep_prova_2016.to_csv('/content/gdrive/MyDrive/br_inep_ana/output/br_inep_ana_prova_2016.csv', index=False, encoding=\"utf-8\", na_rep=\"\")"
      ],
      "execution_count": 61,
      "outputs": []
    }
  ]
}