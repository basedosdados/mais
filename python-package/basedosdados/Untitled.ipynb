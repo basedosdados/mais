{
 "cells": [
  {
   "cell_type": "code",
   "execution_count": 181,
   "id": "bd1572a2-9f4c-4b66-9bd7-9025e84fa713",
   "metadata": {},
   "outputs": [],
   "source": [
    "%reload_ext autoreload\n",
    "%autoreload 2\n",
    "\n",
    "import basedosdados as bd "
   ]
  },
  {
   "cell_type": "code",
   "execution_count": 182,
   "id": "b0d1b842-a4aa-4162-b571-b3663de6cd17",
   "metadata": {},
   "outputs": [],
   "source": [
    "tb = bd.Table(dataset_id=\"bla\", table_id=\"bla\")"
   ]
  },
  {
   "cell_type": "code",
   "execution_count": 183,
   "id": "2315ffc4-0ae6-4e4f-abb5-28d319015308",
   "metadata": {},
   "outputs": [
    {
     "name": "stderr",
     "output_type": "stream",
     "text": [
      "Uploading files: 100%|███████████████████████████| 1/1 [00:00<00:00,  1.19it/s]\n",
      "2022-01-31 10:23:43.323 | SUCCESS  | basedosdados.upload.table:create:673 - Success! The table was created.\n"
     ]
    }
   ],
   "source": [
    "tb.create(path=\"data.csv\",if_storage_data_exists=\"pass\",if_table_config_exists=\"pass\",if_table_exists=\"replace\")"
   ]
  },
  {
   "cell_type": "code",
   "execution_count": 184,
   "id": "146d7b5b-5f1a-457f-939f-d237ec8ac2b9",
   "metadata": {},
   "outputs": [],
   "source": [
    "tb.update(mode=\"staging\", not_found_ok=True)"
   ]
  },
  {
   "cell_type": "code",
   "execution_count": 185,
   "id": "464fd974-bf4d-47aa-ac3d-a34917367d3d",
   "metadata": {},
   "outputs": [
    {
     "name": "stderr",
     "output_type": "stream",
     "text": [
      "2022-01-31 10:23:52.974 | SUCCESS  | basedosdados.upload.table:publish:750 - Success! Table was published.\n"
     ]
    }
   ],
   "source": [
    "tb.publish(if_exists=\"replace\")"
   ]
  },
  {
   "cell_type": "code",
   "execution_count": 186,
   "id": "a1a07a5f-8042-4d1b-bc7f-8c42e2cfb5d8",
   "metadata": {},
   "outputs": [
    {
     "name": "stderr",
     "output_type": "stream",
     "text": [
      "2022-01-31 10:23:56.259 | INFO     | basedosdados.upload.table:delete:769 - The table was deleted.\n"
     ]
    }
   ],
   "source": [
    "tb.delete(mode=\"staging\")"
   ]
  },
  {
   "cell_type": "code",
   "execution_count": null,
   "id": "8e13860f-0b12-49df-8d7b-1ebe8a01aad3",
   "metadata": {},
   "outputs": [],
   "source": []
  },
  {
   "cell_type": "code",
   "execution_count": null,
   "id": "3b51b959-8cee-491b-bb82-0c1ce48807b1",
   "metadata": {},
   "outputs": [],
   "source": []
  },
  {
   "cell_type": "code",
   "execution_count": null,
   "id": "8e46020d-04af-4fc7-89d0-3e64dc847873",
   "metadata": {},
   "outputs": [],
   "source": []
  },
  {
   "cell_type": "code",
   "execution_count": null,
   "id": "b74d5323-0747-415d-bc4b-4dee862b30ed",
   "metadata": {},
   "outputs": [],
   "source": []
  },
  {
   "cell_type": "code",
   "execution_count": null,
   "id": "c17a8f8d-81a3-45dc-b19c-b99b1ee63855",
   "metadata": {},
   "outputs": [],
   "source": []
  }
 ],
 "metadata": {
  "kernelspec": {
   "display_name": "Python 3 (ipykernel)",
   "language": "python",
   "name": "python3"
  },
  "language_info": {
   "codemirror_mode": {
    "name": "ipython",
    "version": 3
   },
   "file_extension": ".py",
   "mimetype": "text/x-python",
   "name": "python",
   "nbconvert_exporter": "python",
   "pygments_lexer": "ipython3",
   "version": "3.10.0"
  }
 },
 "nbformat": 4,
 "nbformat_minor": 5
}
